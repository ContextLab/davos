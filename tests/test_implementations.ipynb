{
 "cells": [
  {
   "cell_type": "code",
   "execution_count": null,
   "metadata": {
    "ExecuteTime": {
     "end_time": "2021-08-10T20:10:23.874810Z",
     "start_time": "2021-08-10T20:10:23.866338Z"
    }
   },
   "outputs": [],
   "source": [
    "GITHUB_USERNAME = \"$GITHUB_USERNAME$\"\n",
    "GITHUB_REF = \"$GITHUB_REF$\"\n",
    "NOTEBOOK_TYPE = \"$NOTEBOOK_TYPE$\"\n",
    "PYTHON_VERSION = \"$PYTHON_VERSION$\"\n",
    "IPYTHON_VERSION = \"$IPYTHON_VERSION$\""
   ]
  },
  {
   "cell_type": "code",
   "execution_count": null,
   "metadata": {
    "ExecuteTime": {
     "end_time": "2021-08-10T20:10:23.945189Z",
     "start_time": "2021-08-10T20:10:23.877192Z"
    }
   },
   "outputs": [],
   "source": [
    "from pathlib import Path\n",
    "\n",
    "import requests\n",
    "\n",
    "\n",
    "if NOTEBOOK_TYPE == 'colab':\n",
    "    # utils module doesn't exist on colab VM, so get current version from GitHub\n",
    "    utils_module = Path('utils.py').resolve()\n",
    "    response = requests.get(f'https://raw.githubusercontent.com/{GITHUB_USERNAME}/davos/{GITHUB_REF}/tests/utils.py')\n",
    "    utils_module.write_text(response.text)\n",
    "    # also need to install davos locally\n",
    "    from utils import install_davos\n",
    "    install_davos(source='github', ref=GITHUB_REF, fork=GITHUB_USERNAME)"
   ]
  },
  {
   "cell_type": "code",
   "execution_count": null,
   "metadata": {
    "ExecuteTime": {
     "end_time": "2021-08-10T20:10:24.046197Z",
     "start_time": "2021-08-10T20:10:23.947588Z"
    }
   },
   "outputs": [],
   "source": [
    "import re\n",
    "\n",
    "import davos\n",
    "import IPython\n",
    "\n",
    "from utils import mark, raises, run_tests"
   ]
  },
  {
   "cell_type": "markdown",
   "metadata": {},
   "source": [
    "# tests for `davos.implementations` (`__init__.py`)\n",
    "**Notes**: \n",
    "- tests for whether correct implementation functions are imported are in the respective modules' test notebooks\n",
    "- `fget`/`fset` functions not tested here are tested in `test_config.ipynb`"
   ]
  },
  {
   "cell_type": "code",
   "execution_count": null,
   "metadata": {
    "ExecuteTime": {
     "end_time": "2021-08-10T20:10:24.051658Z",
     "start_time": "2021-08-10T20:10:24.048406Z"
    }
   },
   "outputs": [],
   "source": [
    " def test_conda_avail_fset_raises():\n",
    "    \"\"\"check that `conda_avail` config field is read-only\"\"\"\n",
    "    match = re.escape(\"'davos.config.conda_avail': field is read-only\")\n",
    "    with raises(davos.core.exceptions.DavosConfigError, match=match):\n",
    "        davos.config.conda_avail = True"
   ]
  },
  {
   "cell_type": "code",
   "execution_count": null,
   "metadata": {
    "ExecuteTime": {
     "end_time": "2021-08-10T20:10:24.056465Z",
     "start_time": "2021-08-10T20:10:24.053407Z"
    }
   },
   "outputs": [],
   "source": [
    "@mark.colab\n",
    "def test_conda_env_fset_raises_noconda():\n",
    "    \"\"\"\n",
    "    check that trying to set the `conda_env` config field raises an \n",
    "    error if the `conda` executable is not available\n",
    "    \n",
    "    test restricted to colab, where conda is not available\n",
    "    \"\"\"\n",
    "    match = re.escape(\n",
    "        \"'davos.config.conda_env': cannot set conda environment. No local \"\n",
    "        \"conda installation found\"\n",
    "    )\n",
    "    with raises(davos.core.exceptions.DavosConfigError, match=match):\n",
    "        davos.config.conda_env = 'arbitrary-environment-name'"
   ]
  },
  {
   "cell_type": "code",
   "execution_count": null,
   "metadata": {
    "ExecuteTime": {
     "end_time": "2021-08-10T20:10:24.062530Z",
     "start_time": "2021-08-10T20:10:24.058348Z"
    }
   },
   "outputs": [],
   "source": [
    "@mark.jupyter\n",
    "def test_conda_env_fset_raises_noenv():\n",
    "    \"\"\"\n",
    "    check that trying to set the `conda_env` config field to an \n",
    "    environment that does not exist raises an error\n",
    "    \"\"\"\n",
    "    local_envs = {\"', '\".join(davos.config.conda_envs_dirs.keys())}\n",
    "    match = re.escape(\n",
    "        \"'davos.config.conda_env': unrecognized environment name: \"\n",
    "        f\"'fake-env-name'. Local environments are:\\n\\t'{local_envs}'\"\n",
    "    )\n",
    "    with raises(davos.core.exceptions.DavosConfigError, match=match):\n",
    "        davos.config.conda_env = 'fake-env-name'"
   ]
  },
  {
   "cell_type": "code",
   "execution_count": null,
   "metadata": {
    "ExecuteTime": {
     "end_time": "2021-08-10T20:11:25.760713Z",
     "start_time": "2021-08-10T20:11:25.756907Z"
    }
   },
   "outputs": [],
   "source": [
    " def test_conda_envs_dirs_fset_raises():\n",
    "    \"\"\"check that `conda_envs_dirs` config field is read-only\"\"\"\n",
    "    match = re.escape(\"'davos.config.conda_envs_dirs': field is read-only\")\n",
    "    with raises(davos.core.exceptions.DavosConfigError, match=match):\n",
    "        davos.config.conda_envs_dirs = {'fake-foo': 'fake/path/to/fake-foo'}"
   ]
  },
  {
   "cell_type": "code",
   "execution_count": null,
   "metadata": {
    "ExecuteTime": {
     "end_time": "2021-08-10T20:11:25.875472Z",
     "start_time": "2021-08-10T20:11:25.868487Z"
    },
    "scrolled": true
   },
   "outputs": [],
   "source": [
    "run_tests()"
   ]
  }
 ],
 "metadata": {
  "kernelspec": {
   "display_name": "kernel-env",
   "language": "python",
   "name": "kernel-env"
  },
  "language_info": {
   "codemirror_mode": {
    "name": "ipython",
    "version": 3
   },
   "file_extension": ".py",
   "mimetype": "text/x-python",
   "name": "python",
   "nbconvert_exporter": "python",
   "pygments_lexer": "ipython3",
   "version": "3.8.10"
  }
 },
 "nbformat": 4,
 "nbformat_minor": 2
}
