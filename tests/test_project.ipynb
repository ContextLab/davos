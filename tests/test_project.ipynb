{
 "cells": [
  {
   "cell_type": "code",
   "execution_count": null,
   "id": "97027b0d",
   "metadata": {
    "ExecuteTime": {
     "end_time": "2023-07-11T23:38:14.160806Z",
     "start_time": "2023-07-11T23:38:14.157905Z"
    }
   },
   "outputs": [],
   "source": [
    "GITHUB_USERNAME = \"$GITHUB_USERNAME$\"\n",
    "GITHUB_REF = \"$GITHUB_REF$\"\n",
    "NOTEBOOK_TYPE = \"$NOTEBOOK_TYPE$\"\n",
    "PYTHON_VERSION = \"$PYTHON_VERSION$\"\n",
    "IPYTHON_VERSION = \"$IPYTHON_VERSION$\""
   ]
  },
  {
   "cell_type": "code",
   "execution_count": null,
   "id": "c8766232",
   "metadata": {
    "ExecuteTime": {
     "end_time": "2023-07-11T23:38:14.200543Z",
     "start_time": "2023-07-11T23:38:14.163052Z"
    }
   },
   "outputs": [],
   "source": [
    "import warnings\n",
    "from pathlib import Path\n",
    "\n",
    "import requests\n",
    "\n",
    "\n",
    "warnings.filterwarnings('error', module='davos')\n",
    "\n",
    "if NOTEBOOK_TYPE == 'colab':\n",
    "    # utils module doesn't exist on colab VM, so get current version from GitHub\n",
    "    utils_module = Path('utils.py').resolve()\n",
    "    response = requests.get(f'https://raw.githubusercontent.com/{GITHUB_USERNAME}/davos/{GITHUB_REF}/tests/utils.py')\n",
    "    utils_module.write_text(response.text)\n",
    "    # also need to install davos locally\n",
    "    from utils import install_davos\n",
    "    install_davos(source='github', ref=GITHUB_REF, fork=GITHUB_USERNAME)"
   ]
  },
  {
   "cell_type": "code",
   "execution_count": null,
   "id": "1a01e98a",
   "metadata": {
    "ExecuteTime": {
     "end_time": "2023-07-11T23:38:14.599181Z",
     "start_time": "2023-07-11T23:38:14.201653Z"
    }
   },
   "outputs": [],
   "source": [
    "import atexit\n",
    "import builtins\n",
    "import os\n",
    "import shutil\n",
    "import sys\n",
    "from os.path import abspath, expandvars\n",
    "\n",
    "import davos\n",
    "from davos.core.project import _get_project_name_type\n",
    "\n",
    "from utils import (\n",
    "    DavosAssertionError, \n",
    "    DavosTestingError, \n",
    "    mark, \n",
    "    raises, \n",
    "    run_tests\n",
    ")"
   ]
  },
  {
   "cell_type": "markdown",
   "id": "7f8685a5",
   "metadata": {},
   "source": [
    "# tests for `davos.core.project`"
   ]
  },
  {
   "cell_type": "code",
   "execution_count": null,
   "id": "a3571032",
   "metadata": {
    "ExecuteTime": {
     "end_time": "2023-07-11T23:38:14.606220Z",
     "start_time": "2023-07-11T23:38:14.601576Z"
    }
   },
   "outputs": [],
   "source": [
    "def test_project_registers_atexit_hook():\n",
    "    \"\"\"\n",
    "    When davos was imported and the default Project instance for this \n",
    "    notebook was created, a single `cleanup_project_dir_atexit` callback \n",
    "    should've been registered with atexit.\n",
    "    \"\"\"\n",
    "    class CompRecorder:\n",
    "        \"\"\"\n",
    "        The list of registered atexit callbacks can't be accessed \n",
    "        directly, but in order to *un*register a callback, \n",
    "        `atexit.unregister(<fn>)` compares <fn> to each function in the \n",
    "        list with `==`, and fails silently if <fn> isn't found. This \n",
    "        dummy class records each object it's compared to using `==`, so \n",
    "        passing it to `atexit.unregister()` will extrac te list of \n",
    "        currently registered functions.\n",
    "        \"\"\"\n",
    "        def __init__(self):\n",
    "            self.record = []\n",
    "\n",
    "        def __eq__(self, other):\n",
    "            self.record.append(other)\n",
    "            return False\n",
    "    \n",
    "    cb_recorder = CompRecorder()\n",
    "    atexit.unregister(cb_recorder)\n",
    "    registered_cbs = cb_recorder.record\n",
    "    target_cb = davos.core.project.cleanup_project_dir_atexit\n",
    "    # cleanup_project_dir_atexit should be the most recently registered \n",
    "    # callback\n",
    "    assert registered_cbs[-1] is target_cb, (\n",
    "        f\"Expected last registered callback to be {target_cb}, found {registered_cbs[-1]}\"\n",
    "    )\n",
    "    # there should be only one instance registered at this point\n",
    "    assert registered_cbs.count(davos.core.project.cleanup_project_dir_atexit) == 1, (\n",
    "        f\"Expected {target_cb} to be registered once. Current atexit \"\n",
    "        f\"callbacks:\\n{registered_cbs}\"\n",
    "    )"
   ]
  },
  {
   "cell_type": "code",
   "execution_count": null,
   "id": "86065278",
   "metadata": {
    "ExecuteTime": {
     "end_time": "2023-07-11T23:38:14.611381Z",
     "start_time": "2023-07-11T23:38:14.608116Z"
    }
   },
   "outputs": [],
   "source": [
    "def test_project_dir_safe_name_convention():\n",
    "    \"\"\"\n",
    "    directory names for notebook-specific projects should be the path \n",
    "    to the notebook with the extension removed and path separators \n",
    "    replaced with \"___\"\n",
    "    \"\"\"\n",
    "    nb_path = Path.cwd().joinpath('test_project.ipynb')\n",
    "    expected_proj_dirname = str(nb_path).rsplit('.ipynb', maxsplit=1)[0].replace(os.sep, '___')\n",
    "    \n",
    "    \n",
    "    # check that name was formatted properly in the object attribute\n",
    "    assert davos.project.safe_name == expected_proj_dirname, (\n",
    "        f\"Expected project directory to be named {expecrted_proj_dir}. Project \"\n",
    "        f\"object's `.safe_name` attribute is {davos.project.project_dir}\"\n",
    "    )\n",
    "    \n",
    "    expected_proj_dir = davos.DAVOS_PROJECT_DIR.joinpath(expected_proj_dirname)\n",
    "    _sep = '\\n  - '\n",
    "    # check that name was formatted properly on the file system\n",
    "    assert expected_proj_dir.is_dir(), (\n",
    "        f\"{expected_proj_dir} does not exist. Existing project directories are:\"\n",
    "        f\"{_sep}{_sep.join([str(d) for d in davos.DAVOS_PROJECT_DIR.iterdir() if d.is_dir()])}\"\n",
    "    )"
   ]
  },
  {
   "cell_type": "code",
   "execution_count": null,
   "id": "417dc540",
   "metadata": {
    "ExecuteTime": {
     "end_time": "2023-07-11T23:38:14.615790Z",
     "start_time": "2023-07-11T23:38:14.612632Z"
    }
   },
   "outputs": [],
   "source": [
    "def test_unused_project_dirs_removed_shutdown():\n",
    "    \"\"\"\n",
    "    Project directories created while running previous test notebooks\n",
    "    in which no packages were smuggled should have been removed when the \n",
    "    notebook kernel was shutdown.\n",
    "    Note: test files are collected and run in alphanumeric order\n",
    "    \"\"\"\n",
    "    no_smuggle_notebooks = [\n",
    "        \"test__environment_and_init.ipynb\",\n",
    "        \"test_config.ipynb\",\n",
    "        \"test_implementations.ipynb\",\n",
    "        \"test_ipython_common.ipynb\",\n",
    "        \"test_ipython_post7.ipynb\",\n",
    "        \"test_ipython_pre7.ipynb\",\n",
    "        \"test_parsers.ipynb\"\n",
    "    ]\n",
    "    dirs_exist = []\n",
    "    for nb_name in no_smuggle_notebooks:\n",
    "        safe_format_name = nb_name.rsplit('.ipynb', maxsplit=1)[0].replace(os.sep, '___')\n",
    "        project_dirpath = davos.DAVOS_PROJECT_DIR.joinpath(safe_format_name)\n",
    "        if project_dirpath.is_dir():\n",
    "            dirs_exist.append(project_dirpath)\n",
    "    \n",
    "    _sep = '\\n  - '\n",
    "    assert not dirs_exist, (\n",
    "        \"Expected the following directories from previously run test notebooks\"\n",
    "        f\"to have been removed on kernel shutdown, but they still exist:{_sep}\"\n",
    "        f\"{_sep.join(dirs_exist)}\"\n",
    "    )"
   ]
  },
  {
   "cell_type": "code",
   "execution_count": null,
   "id": "b3b188a3",
   "metadata": {
    "ExecuteTime": {
     "end_time": "2023-07-11T23:38:14.619934Z",
     "start_time": "2023-07-11T23:38:14.616829Z"
    }
   },
   "outputs": [],
   "source": [
    "def test_used_project_dirs_persist_shutdown():\n",
    "    \"\"\"\n",
    "    Project directories created while running previous test notebooks\n",
    "    in which packages *were* smuggled should still exist.\n",
    "    \"\"\"\n",
    "    smuggle_notebooks = [\"test_core.ipynb\"]\n",
    "    missing_dirs = []\n",
    "    for nb_name in smuggle_notebooks:\n",
    "        nb_path = Path.cwd().joinpath(nb_name)\n",
    "        safe_format_name = str(nb_path).rsplit('.ipynb', maxsplit=1)[0].replace(os.sep, '___')\n",
    "        project_dirpath = davos.DAVOS_PROJECT_DIR.joinpath(safe_format_name)\n",
    "        if not project_dirpath.is_dir():\n",
    "            missing_dirs.append(str(project_dirpath))\n",
    "                \n",
    "    _sep = '\\n  - '\n",
    "    assert not missing_dirs, (\n",
    "        \"Expected the following directories to remain after their associated \"\n",
    "        f\"notebook's kernel was shut down, but they do not exist:{_sep}\"\n",
    "        f\"{_sep.join(missing_dirs)}\"\n",
    "    )"
   ]
  },
  {
   "cell_type": "code",
   "execution_count": null,
   "id": "8d5d5e3b",
   "metadata": {
    "ExecuteTime": {
     "end_time": "2023-07-11T23:38:14.624364Z",
     "start_time": "2023-07-11T23:38:14.621104Z"
    }
   },
   "outputs": [],
   "source": [
    "def test_get_project_name_type_valid_abs():\n",
    "    \"\"\"\n",
    "    test passing `_get_project_name_type()` an absolute path to an \n",
    "    existing notebook file, as both a `str` and a `pathlib.Path`.\n",
    "    \"\"\"\n",
    "    path_input = Path('test_core.ipynb').resolve(strict=True)\n",
    "    str_input = str(path_input)\n",
    "    \n",
    "    expected_proj_name = str_input\n",
    "    expected_proj_type = davos.core.project.ConcreteProject\n",
    "    \n",
    "    # test passing as Path\n",
    "    proj_name_path, proj_type_path = _get_project_name_type(path_input)\n",
    "    assert proj_name_path == expected_proj_name, (\n",
    "        f\"Given input:\\n\\t{path_input!r}\\nExpected project name to be:\\n\\t\"\n",
    "        f\"{expected_proj_name!r}\\nGot:\\n\\t{proj_name_path!r}\"\n",
    "    )\n",
    "    assert proj_type_path is expected_proj_type, (\n",
    "        f\"Given input:\\n\\t{path_input!r}\\nExpected project type to be:\\n\\t\"\n",
    "        f\"{expected_proj_type!r}\\nGot:\\n\\t{proj_type_path!r}\"\n",
    "    )\n",
    "    \n",
    "    # test passing as str\n",
    "    proj_name_str, proj_type_str = _get_project_name_type(str_input)\n",
    "    assert proj_name_str == expected_proj_name, (\n",
    "        f\"Given input:\\n\\t{str_input!r}\\nExpected project name to be:\\n\\t\"\n",
    "        f\"{expected_proj_name!r}\\nGot:\\n\\t{proj_name_str!r}\"\n",
    "    )\n",
    "    assert proj_type_str is expected_proj_type, (\n",
    "        f\"Given input:\\n\\t{str_input!r}\\nExpected project type to be:\\n\\t\"\n",
    "        f\"{expected_proj_type!r}\\nGot:\\n\\t{proj_type_str!r}\"\n",
    "    )"
   ]
  },
  {
   "cell_type": "code",
   "execution_count": null,
   "id": "800d3624",
   "metadata": {
    "ExecuteTime": {
     "end_time": "2023-07-11T23:38:14.629178Z",
     "start_time": "2023-07-11T23:38:14.626172Z"
    }
   },
   "outputs": [],
   "source": [
    "def test_get_project_name_type_valid_rel():\n",
    "    \"\"\"\n",
    "    test passing `_get_project_name_type()` a relative path to an \n",
    "    existing notebook file in a different directory, as both a `str` and \n",
    "    a `pathlib.Path`.\n",
    "    \"\"\"\n",
    "    path_input = Path('../tmp-testing-notebook.ipynb')\n",
    "    str_input = str(path_input)\n",
    "    \n",
    "    expected_proj_name = abspath(str_input)\n",
    "    expected_proj_type = davos.core.project.ConcreteProject\n",
    "    \n",
    "    path_input.touch()\n",
    "    \n",
    "    try:\n",
    "        # test passing as Path\n",
    "        proj_name_path, proj_type_path = _get_project_name_type(path_input)\n",
    "        assert proj_name_path == expected_proj_name, (\n",
    "            f\"Given input:\\n\\t{path_input!r}\\nExpected project name to be:\\n\\t\"\n",
    "            f\"{expected_proj_name!r}\\nGot:\\n\\t{proj_name_path!r}\"\n",
    "        )\n",
    "        assert proj_type_path is expected_proj_type, (\n",
    "            f\"Given input:\\n\\t{path_input!r}\\nExpected project type to be:\\n\\t\"\n",
    "            f\"{expected_proj_type!r}\\nGot:\\n\\t{proj_type_path!r}\"\n",
    "        )\n",
    "\n",
    "        # test passing as str\n",
    "        proj_name_str, proj_type_str = _get_project_name_type(str_input)\n",
    "        assert proj_name_str == expected_proj_name, (\n",
    "            f\"Given input:\\n\\t{str_input!r}\\nExpected project name to be:\\n\\t\"\n",
    "            f\"{expected_proj_name!r}\\nGot:\\n\\t{proj_name_str!r}\"\n",
    "        )\n",
    "        assert proj_type_str is expected_proj_type, (\n",
    "            f\"Given input:\\n\\t{str_input!r}\\nExpected project type to be:\\n\\t\"\n",
    "            f\"{expected_proj_type!r}\\nGot:\\n\\t{proj_type_str!r}\"\n",
    "        )\n",
    "    finally:\n",
    "        # clean up regardless of test outcome\n",
    "        path_input.unlink()"
   ]
  },
  {
   "cell_type": "code",
   "execution_count": null,
   "id": "ffd988f8",
   "metadata": {
    "ExecuteTime": {
     "end_time": "2023-07-11T23:38:14.633429Z",
     "start_time": "2023-07-11T23:38:14.630776Z"
    }
   },
   "outputs": [],
   "source": [
    "def test_get_project_name_type_valid_cwd():\n",
    "    \"\"\"\n",
    "    test passing `_get_project_name_type()` just the name of an existing \n",
    "    notebook file in the current working directory, as both a `str` and \n",
    "    a `pathlib.Path`.\n",
    "    \"\"\"\n",
    "    path_input = Path('test_core.ipynb')\n",
    "    str_input = str(path_input)\n",
    "    \n",
    "    expected_proj_name = abspath(str_input)\n",
    "    expected_proj_type = davos.core.project.ConcreteProject\n",
    "        \n",
    "    # test passing as Path\n",
    "    proj_name_path, proj_type_path = _get_project_name_type(path_input)\n",
    "    assert proj_name_path == expected_proj_name, (\n",
    "        f\"Given input:\\n\\t{path_input!r}\\nExpected project name to be:\\n\\t\"\n",
    "        f\"{expected_proj_name!r}\\nGot:\\n\\t{proj_name_path!r}\"\n",
    "    )\n",
    "    assert proj_type_path is expected_proj_type, (\n",
    "        f\"Given input:\\n\\t{path_input!r}\\nExpected project type to be:\\n\\t\"\n",
    "        f\"{expected_proj_type!r}\\nGot:\\n\\t{proj_type_path!r}\"\n",
    "    )\n",
    "\n",
    "    # test passing as str\n",
    "    proj_name_str, proj_type_str = _get_project_name_type(str_input)\n",
    "    assert proj_name_str == expected_proj_name, (\n",
    "        f\"Given input:\\n\\t{str_input!r}\\nExpected project name to be:\\n\\t\"\n",
    "        f\"{expected_proj_name!r}\\nGot:\\n\\t{proj_name_str!r}\"\n",
    "    )\n",
    "    assert proj_type_str is expected_proj_type, (\n",
    "        f\"Given input:\\n\\t{str_input!r}\\nExpected project type to be:\\n\\t\"\n",
    "        f\"{expected_proj_type!r}\\nGot:\\n\\t{proj_type_str!r}\"\n",
    "    )"
   ]
  },
  {
   "cell_type": "code",
   "execution_count": null,
   "id": "9b3e00a2",
   "metadata": {
    "ExecuteTime": {
     "end_time": "2023-07-11T23:38:14.637076Z",
     "start_time": "2023-07-11T23:38:14.634206Z"
    }
   },
   "outputs": [],
   "source": [
    "def test_get_project_name_type_valid_env():\n",
    "    \"\"\"\n",
    "    test passing `_get_project_name_type()` a path to an existing\n",
    "    notebook file that contains an environment variable, as both a `str` \n",
    "    and a `pathlib.Path`.\n",
    "    \"\"\"\n",
    "    path_input = Path('$GITHUB_WORKSPACE/tmp-testing-notebook.ipynb')\n",
    "    str_input = str(path_input)\n",
    "    \n",
    "    expected_proj_name = expandvars(str_input)\n",
    "    expected_proj_type = davos.core.project.ConcreteProject\n",
    "    \n",
    "    Path(expected_proj_name).touch()\n",
    "    \n",
    "    try:\n",
    "        # test passing as Path\n",
    "        proj_name_path, proj_type_path = _get_project_name_type(path_input)\n",
    "        assert proj_name_path == expected_proj_name, (\n",
    "            f\"Given input:\\n\\t{path_input!r}\\nExpected project name to be:\\n\\t\"\n",
    "            f\"{expected_proj_name!r}\\nGot:\\n\\t{proj_name_path!r}\"\n",
    "        )\n",
    "        assert proj_type_path is expected_proj_type, (\n",
    "            f\"Given input:\\n\\t{path_input!r}\\nExpected project type to be:\\n\\t\"\n",
    "            f\"{expected_proj_type!r}\\nGot:\\n\\t{proj_type_path!r}\"\n",
    "        )\n",
    "\n",
    "        # test passing as str\n",
    "        proj_name_str, proj_type_str = _get_project_name_type(str_input)\n",
    "        assert proj_name_str == expected_proj_name, (\n",
    "            f\"Given input:\\n\\t{str_input!r}\\nExpected project name to be:\\n\\t\"\n",
    "            f\"{expected_proj_name!r}\\nGot:\\n\\t{proj_name_str!r}\"\n",
    "        )\n",
    "        assert proj_type_str is expected_proj_type, (\n",
    "            f\"Given input:\\n\\t{str_input!r}\\nExpected project type to be:\\n\\t\"\n",
    "            f\"{expected_proj_type!r}\\nGot:\\n\\t{proj_type_str!r}\"\n",
    "        )\n",
    "    finally:\n",
    "        Path(expected_proj_name).unlink()"
   ]
  },
  {
   "cell_type": "code",
   "execution_count": null,
   "id": "f681206d",
   "metadata": {
    "ExecuteTime": {
     "end_time": "2023-07-11T23:38:14.640991Z",
     "start_time": "2023-07-11T23:38:14.637822Z"
    }
   },
   "outputs": [],
   "source": [
    "def test_get_project_name_type_valid_tilde():\n",
    "    \"\"\"\n",
    "    test passing `_get_project_name_type()` a path to an existing\n",
    "    notebook file that contains the ~ (user home directory) construct, \n",
    "    as both a `str` and a `pathlib.Path`.\n",
    "    \"\"\"\n",
    "    path_input = Path('~/tmp-testing-notebook.ipynb')\n",
    "    str_input = str(path_input)\n",
    "    \n",
    "    expected_proj_name = str(path_input.expanduser())\n",
    "    expected_proj_type = davos.core.project.ConcreteProject\n",
    "    \n",
    "    Path(expected_proj_name).touch()\n",
    "    \n",
    "    try:\n",
    "        # test passing as Path\n",
    "        proj_name_path, proj_type_path = _get_project_name_type(path_input)\n",
    "        assert proj_name_path == expected_proj_name, (\n",
    "            f\"Given input:\\n\\t{path_input!r}\\nExpected project name to be:\\n\\t\"\n",
    "            f\"{expected_proj_name!r}\\nGot:\\n\\t{proj_name_path!r}\"\n",
    "        )\n",
    "        assert proj_type_path is expected_proj_type, (\n",
    "            f\"Given input:\\n\\t{path_input!r}\\nExpected project type to be:\\n\\t\"\n",
    "            f\"{expected_proj_type!r}\\nGot:\\n\\t{proj_type_path!r}\"\n",
    "        )\n",
    "\n",
    "        # test passing as str\n",
    "        proj_name_str, proj_type_str = _get_project_name_type(str_input)\n",
    "        assert proj_name_str == expected_proj_name, (\n",
    "            f\"Given input:\\n\\t{str_input!r}\\nExpected project name to be:\\n\\t\"\n",
    "            f\"{expected_proj_name!r}\\nGot:\\n\\t{proj_name_str!r}\"\n",
    "        )\n",
    "        assert proj_type_str is expected_proj_type, (\n",
    "            f\"Given input:\\n\\t{str_input!r}\\nExpected project type to be:\\n\\t\"\n",
    "            f\"{expected_proj_type!r}\\nGot:\\n\\t{proj_type_str!r}\"\n",
    "        )\n",
    "    finally:\n",
    "        Path(expected_proj_name).unlink()"
   ]
  },
  {
   "cell_type": "code",
   "execution_count": null,
   "id": "dfcfc365",
   "metadata": {
    "ExecuteTime": {
     "end_time": "2023-07-11T23:38:14.644434Z",
     "start_time": "2023-07-11T23:38:14.641877Z"
    }
   },
   "outputs": [],
   "source": [
    "def test_get_project_name_type_valid_abstract():\n",
    "    \"\"\"\n",
    "    test passing `_get_project_name_type()` a theoretically valid path \n",
    "    to notebook file that doesn't currently exist (should create an \n",
    "    `AbstractProject`), as both a `str` and a `pathlib.Path`.\n",
    "    \"\"\"\n",
    "    path_input = Path('non-existent-notebook.ipynb').resolve(strict=False)\n",
    "    str_input = str(path_input)\n",
    "    \n",
    "    expected_proj_name = str_input\n",
    "    expected_proj_type = davos.core.project.AbstractProject\n",
    "    \n",
    "    # test passing as Path\n",
    "    proj_name_path, proj_type_path = _get_project_name_type(path_input)\n",
    "    assert proj_name_path == expected_proj_name, (\n",
    "        f\"Given input:\\n\\t{path_input!r}\\nExpected project name to be:\\n\\t\"\n",
    "        f\"{expected_proj_name!r}\\nGot:\\n\\t{proj_name_path!r}\"\n",
    "    )\n",
    "    assert proj_type_path is expected_proj_type, (\n",
    "        f\"Given input:\\n\\t{path_input!r}\\nExpected project type to be:\\n\\t\"\n",
    "        f\"{expected_proj_type!r}\\nGot:\\n\\t{proj_type_path!r}\"\n",
    "    )\n",
    "    \n",
    "    # test passing as str\n",
    "    proj_name_str, proj_type_str = _get_project_name_type(str_input)\n",
    "    assert proj_name_str == expected_proj_name, (\n",
    "        f\"Given input:\\n\\t{str_input!r}\\nExpected project name to be:\\n\\t\"\n",
    "        f\"{expected_proj_name!r}\\nGot:\\n\\t{proj_name_str!r}\"\n",
    "    )\n",
    "    assert proj_type_str is expected_proj_type, (\n",
    "        f\"Given input:\\n\\t{str_input!r}\\nExpected project type to be:\\n\\t\"\n",
    "        f\"{expected_proj_type!r}\\nGot:\\n\\t{proj_type_str!r}\"\n",
    "    )"
   ]
  },
  {
   "cell_type": "code",
   "execution_count": null,
   "id": "e4cd2e61",
   "metadata": {
    "ExecuteTime": {
     "end_time": "2023-07-11T23:38:14.647021Z",
     "start_time": "2023-07-11T23:38:14.645169Z"
    }
   },
   "outputs": [],
   "source": [
    "def test_get_project_name_type_valid_simple():\n",
    "    \"\"\"\n",
    "    test passing `_get_project_name_type()` a \"simple\" \n",
    "    (non-path/non-notebook-specific) name.\n",
    "    \"\"\"\n",
    "    str_input = 'test-project'\n",
    "    \n",
    "    expected_proj_name = str_input\n",
    "    expected_proj_type = davos.core.project.ConcreteProject\n",
    "\n",
    "    proj_name, proj_type = _get_project_name_type(str_input)\n",
    "    assert proj_name == expected_proj_name, (\n",
    "        f\"Given input:\\n\\t{str_input!r}\\nExpected project name to be:\\n\\t\"\n",
    "        f\"{expected_proj_name!r}\\nGot:\\n\\t{proj_name!r}\"\n",
    "    )\n",
    "    assert proj_type is expected_proj_type, (\n",
    "        f\"Given input:\\n\\t{str_input!r}\\nExpected project type to be:\\n\\t\"\n",
    "        f\"{expected_proj_type!r}\\nGot:\\n\\t{proj_type!r}\"\n",
    "    )"
   ]
  },
  {
   "cell_type": "code",
   "execution_count": null,
   "id": "31ee0c68",
   "metadata": {
    "ExecuteTime": {
     "end_time": "2023-07-11T23:38:14.649962Z",
     "start_time": "2023-07-11T23:38:14.647733Z"
    }
   },
   "outputs": [],
   "source": [
    "def test_get_project_name_type_valid_safe_concrete():\n",
    "    \"\"\"\n",
    "    test passing `_get_project_name_type()` a project name in the \"safe\"\n",
    "    format for directory names in `davos.core.project.DAVOS_PROJECT_DIR`\n",
    "    (non-path/non-notebook-specific) name. The safe-format project name \n",
    "    corresponds to an existing notebook file (should create a \n",
    "    `ConcreteProject`). \n",
    "    \"\"\"\n",
    "    # use safe-formatted path to current notebook\n",
    "    nb_path = Path.cwd().joinpath('test_project.ipynb')\n",
    "    str_input = str(nb_path).rsplit('.ipynb', maxsplit=1)[0].replace(os.sep, '___')\n",
    "    \n",
    "    expected_proj_name = str(nb_path)\n",
    "    expected_proj_type = davos.core.project.ConcreteProject\n",
    "\n",
    "    proj_name, proj_type = _get_project_name_type(str_input)\n",
    "    assert proj_name == expected_proj_name, (\n",
    "        f\"Given input:\\n\\t{str_input!r}\\nExpected project name to be:\\n\\t\"\n",
    "        f\"{expected_proj_name!r}\\nGot:\\n\\t{proj_name!r}\"\n",
    "    )\n",
    "    assert proj_type is expected_proj_type, (\n",
    "        f\"Given input:\\n\\t{str_input!r}\\nExpected project type to be:\\n\\t\"\n",
    "        f\"{expected_proj_type!r}\\nGot:\\n\\t{proj_type!r}\"\n",
    "    )"
   ]
  },
  {
   "cell_type": "code",
   "execution_count": null,
   "id": "aed25178",
   "metadata": {
    "ExecuteTime": {
     "end_time": "2023-07-11T23:51:09.623228Z",
     "start_time": "2023-07-11T23:51:09.603780Z"
    }
   },
   "outputs": [],
   "source": [
    "def test_get_project_name_type_valid_safe_abstract():\n",
    "    \"\"\"\n",
    "    test passing `_get_project_name_type()` a project name in the \"safe\"\n",
    "    format for directory names in `davos.core.project.DAVOS_PROJECT_DIR`\n",
    "    (non-path/non-notebook-specific) name. The safe-format project name \n",
    "    corresponds to a notebook file that does not currently exist (should \n",
    "    create an `AbstractProject`). \n",
    "    \"\"\"\n",
    "    str_input = '___path___to___notebook___file'\n",
    "    \n",
    "    expected_proj_name = f\"{str_input.replace('___', '/')}.ipynb\"\n",
    "    expected_proj_type = davos.core.project.AbstractProject\n",
    "\n",
    "    proj_name, proj_type = _get_project_name_type(str_input)\n",
    "    assert proj_name == expected_proj_name, (\n",
    "        f\"Given input:\\n\\t{str_input!r}\\nExpected project name to be:\\n\\t\"\n",
    "        f\"{expected_proj_name!r}\\nGot:\\n\\t{proj_name!r}\"\n",
    "    )\n",
    "    assert proj_type is expected_proj_type, (\n",
    "        f\"Given input:\\n\\t{str_input!r}\\nExpected project type to be:\\n\\t\"\n",
    "        f\"{expected_proj_type!r}\\nGot:\\n\\t{proj_type!r}\"\n",
    "    )"
   ]
  },
  {
   "cell_type": "code",
   "execution_count": null,
   "id": "415ec473",
   "metadata": {
    "ExecuteTime": {
     "end_time": "2023-07-11T23:38:14.656150Z",
     "start_time": "2023-07-11T23:38:14.653384Z"
    }
   },
   "outputs": [],
   "source": [
    "def test_get_project_name_type_invalid_names():\n",
    "    \"\"\"\n",
    "    test passing `_get_project_name_type()` various names that \n",
    "    would not be valid for a Jupyter notebook file, as both a `str` and \n",
    "    a `pathlib.Path`.\n",
    "    \"\"\"\n",
    "    invalid_names = [\n",
    "        '',                  # denotes CWD (Path('') == Path('.'))\n",
    "        '.ipynb',            # notebook file names must contain at least one character (check CWD)\n",
    "        '../.ipynb',         # notebook file names must contain at least one character (check rel path)\n",
    "        'foo/bar/.ipynb'     # notebook file names must contain at least one character (check abs path)\n",
    "        'foo:bar.ipynb',     # notebook file names may not contain colons\n",
    "        'foo\\\\bar.ipynb',    # notebook file names may not contain backslashes\n",
    "    ]\n",
    "    \n",
    "    didnt_fail = []\n",
    "    for name in invalid_names:\n",
    "        # test passing as Path\n",
    "        try:\n",
    "            with raises(davos.core.exceptions.DavosProjectError):\n",
    "                _get_project_name_type(name)\n",
    "        except DavosAssertionError:\n",
    "            didnt_fail.append(name)\n",
    "        # test passing as str\n",
    "        try:\n",
    "            with raises(davos.core.exceptions.DavosProjectError):\n",
    "                _get_project_name_type(Path(name))\n",
    "        except DavosAssertionError:\n",
    "            didnt_fail.append(Path(name))\n",
    "            \n",
    "    if any(didnt_fail):\n",
    "        _sep = '\\n\\t- '\n",
    "        raise DavosTestingError(\n",
    "            \"The following project names should've been considered invalid \"\n",
    "            f\"but weren't:{_sep}{_sep.join(map(repr, didnt_fail))}\"\n",
    "        )"
   ]
  },
  {
   "cell_type": "code",
   "execution_count": null,
   "id": "ae72dd4e",
   "metadata": {
    "ExecuteTime": {
     "end_time": "2023-07-11T23:38:14.658886Z",
     "start_time": "2023-07-11T23:38:14.656865Z"
    }
   },
   "outputs": [],
   "source": [
    "def test_get_project_name_type_invalid_dirpath():\n",
    "    \"\"\"\n",
    "    test passing `_get_project_name_type()` a path to a  directory \n",
    "    (which should fail), as both a `str` and a `pathlib.Path`.\n",
    "    \"\"\"\n",
    "    path_input = Path('tmp-testing-dir').resolve()\n",
    "    str_input = str(path_input)\n",
    "    \n",
    "    path_input.mkdir()\n",
    "    \n",
    "    try:\n",
    "        # test passing as Path\n",
    "        with raises(davos.core.exceptions.DavosProjectError):\n",
    "            _get_project_name_type(path_input)\n",
    "        # test passing as str\n",
    "        with raises(davos.core.exceptions.DavosProjectError):\n",
    "            _get_project_name_type(str_input)\n",
    "    finally:\n",
    "        path_input.rmdir()"
   ]
  },
  {
   "cell_type": "code",
   "execution_count": null,
   "id": "bee1d54d",
   "metadata": {
    "ExecuteTime": {
     "end_time": "2023-07-11T23:38:14.661584Z",
     "start_time": "2023-07-11T23:38:14.659577Z"
    }
   },
   "outputs": [],
   "source": [
    "def test_get_project_name_type_invalid_nonnotebook():\n",
    "    \"\"\"\n",
    "    test passing `_get_project_name_type()` a path to an existing\n",
    "    non-notebook file (which should fail), as both a `str` and a \n",
    "    `pathlib.Path`.\n",
    "    \"\"\"\n",
    "    path_input = Path('tmp-testing-file.txt').resolve()\n",
    "    str_input = str(path_input)\n",
    "    \n",
    "    path_input.touch()\n",
    "    \n",
    "    try:\n",
    "        # test passing as Path\n",
    "        with raises(davos.core.exceptions.DavosProjectError):\n",
    "            _get_project_name_type(path_input)\n",
    "        # test passing as str\n",
    "        with raises(davos.core.exceptions.DavosProjectError):\n",
    "            _get_project_name_type(str_input)\n",
    "    finally:\n",
    "        path_input.unlink()"
   ]
  },
  {
   "cell_type": "code",
   "execution_count": null,
   "id": "73c9cd64",
   "metadata": {
    "ExecuteTime": {
     "end_time": "2023-07-11T23:56:10.645258Z",
     "start_time": "2023-07-11T23:56:10.631675Z"
    }
   },
   "outputs": [],
   "source": [
    "def test_refresh_installed_pkgs():\n",
    "    \"\"\"Test `davos.core.project.Project._refresh_installed_pkgs`\"\"\"\n",
    "    # create site-packages dir if it doesn't exist yet\n",
    "    davos.project.site_packages_dir.mkdir(parents=True)\n",
    "    \n",
    "    # call function upfront to set `._site_packages_mtime`\n",
    "    davos.project._refresh_installed_pkgs()\n",
    "    initial_site_pkgs_mtime = davos.project._site_packages_mtime\n",
    "    \n",
    "    # function shouldn't update stored value if dir hasn't been modified\n",
    "    davos.project._refresh_installed_pkgs()\n",
    "    new_site_pkgs_mtime = davos.project._site_packages_mtime\n",
    "    assert new_site_pkgs_mtime  == initial_site_pkgs_mtime, (\n",
    "        f'Expected mtime of {davos.project.site_packages_dir} to be '\n",
    "        f'unchanged, went from {initial_site_pkgs_mtime} to {new_site_pkgs_mtime}'\n",
    "    )\n",
    "    \n",
    "    tmp_filepath = davos.project.site_packages_dir.joinpath('tmp-file.txt')\n",
    "    tmp_filepath.touch()\n",
    "    # function should update stored value if dir has been modified\n",
    "    try:\n",
    "        davos.project._refresh_installed_pkgs()\n",
    "        new_site_pkgs_mtime = davos.project._site_packages_mtime\n",
    "        assert new_site_pkgs_mtime  != initial_site_pkgs_mtime, (\n",
    "            f'Expected mtime of {davos.project.site_packages_dir} to be '\n",
    "            f'updated, but no change (mtime: {initial_site_pkgs_mtime})'\n",
    "        )\n",
    "    finally:\n",
    "        tmp_filepath.unlink()"
   ]
  },
  {
   "cell_type": "code",
   "execution_count": null,
   "id": "deb7dd89",
   "metadata": {
    "ExecuteTime": {
     "end_time": "2023-07-11T23:38:14.670109Z",
     "start_time": "2023-07-11T23:38:14.666464Z"
    },
    "scrolled": true
   },
   "outputs": [],
   "source": [
    "@mark.skipif(sys.version_info < (3, 7), reason='Runs on Python >= 3.7')\n",
    "def test_installed_packages():\n",
    "    \"\"\"Test `davos.core.project.Project.installed_packages`\"\"\"\n",
    "    initial_installed_pkgs = davos.project.installed_packages\n",
    "    _sep = '\\n'\n",
    "    assert not any(initial_installed_pkgs), (\n",
    "        'Expected no packages to be initially installed in project. Found:\\n'\n",
    "        f'{_sep.join(initial_installed_pkgs)}'\n",
    "    )\n",
    "    # v4.64.1 was the last version to support Python 3.6\n",
    "    # pass --ignore-installed to ensure packge gets installed in project \n",
    "    # rather than using version in notebook kernel environment, just in \n",
    "    # case the exact requested version is installed there\n",
    "    smuggle tqdm    # pip: tqdm==4.64.1 --ignore-installed\n",
    "    new_installed_pkgs = davos.project.installed_packages\n",
    "    assert new_installed_pkgs == [('tqdm', '4.64.1')], (\n",
    "        \"Expected installed_packages to be:\\n[('tqdm', '4.64.1')]\\nFound:\\n\"\n",
    "        f\"{new_installed_pkgs}\"\n",
    "    )"
   ]
  },
  {
   "cell_type": "code",
   "execution_count": null,
   "id": "21a13fd1",
   "metadata": {
    "ExecuteTime": {
     "end_time": "2023-07-11T23:38:14.674865Z",
     "start_time": "2023-07-11T23:38:14.671522Z"
    }
   },
   "outputs": [],
   "source": [
    "@mark.skipif(sys.version_info < (3, 7), reason='Runs on Python >= 3.7')\n",
    "def test_freeze():\n",
    "    \"\"\"Test `davos.core.project.Project.freeze`\"\"\"\n",
    "    # smuggle exact versions of two projects with no dependencies so we \n",
    "    # know exactly what the output should look like\n",
    "    smuggle tqdm    # pip: tqdm==4.64.1\n",
    "    smuggle fastdtw    # pip: fastdtw==0.3.2\n",
    "    \n",
    "    expected_output = 'fastdtw==0.3.2\\ntqdm==4.64.1'\n",
    "    output = davos.project.freeze()\n",
    "    \n",
    "    assert output == expected_output, (\n",
    "        f'Expected output:\\n{expected_output}\\n=====Observed output:\\n{output}'\n",
    "    )"
   ]
  },
  {
   "cell_type": "code",
   "execution_count": null,
   "id": "6fced61b",
   "metadata": {
    "ExecuteTime": {
     "end_time": "2023-07-11T23:38:14.678659Z",
     "start_time": "2023-07-11T23:38:14.675781Z"
    }
   },
   "outputs": [],
   "source": [
    "@mark.timeout(30)\n",
    "def test_remove_current_project():\n",
    "    \"\"\"\n",
    "    Test `davos.core.project.Project.remove` on the currently active \n",
    "    project. Should remove all packages but leave the project directory.\n",
    "    \"\"\"\n",
    "    # create & switch to temporary project (copy of main project) for test\n",
    "    initial_project = davos.project\n",
    "    tmp_proj_name = 'tmp-project'\n",
    "    tmp_proj_dirpath = davos.DAVOS_PROJECT_DIR.joinpath(tmp_proj_name)\n",
    "    shutil.copytree(davos.project.project_dir, tmp_proj_dirpath)\n",
    "    try:\n",
    "        davos.project = davos.core.project.ConcreteProject(tmp_proj_name)\n",
    "        assert davos.project.project_dir == tmp_proj_dirpath\n",
    "        \n",
    "        davos.project.remove(yes=True)\n",
    "        \n",
    "        assert tmp_proj_dirpath.is_dir(), (\n",
    "            f'Expected project directory ({tmp_proj_dirpath}) to still exist '\n",
    "            'after removal (currently active project)'\n",
    "        )\n",
    "        \n",
    "        assert not any(tmp_proj_dirpath.iterdir()), (\n",
    "            f'Expected project directory to be empty after removal but found '\n",
    "            f'the following items:\\n{list(tmp_proj_dirpath.iterdir())}'\n",
    "        )\n",
    "    finally:\n",
    "        davos.project = initial_project\n",
    "        if tmp_proj_dirpath.is_dir():\n",
    "            shutil.rmtree(tmp_proj_dirpath)"
   ]
  },
  {
   "cell_type": "code",
   "execution_count": null,
   "id": "27ac5998",
   "metadata": {
    "ExecuteTime": {
     "end_time": "2023-07-11T23:38:14.681643Z",
     "start_time": "2023-07-11T23:38:14.679380Z"
    }
   },
   "outputs": [],
   "source": [
    "@mark.timeout(30)\n",
    "def test_remove_noncurrent_project():\n",
    "    \"\"\"\n",
    "    Test `davos.core.project.Project.remove` on a project that is not \n",
    "    currently in use. Should remove all packages and the project \n",
    "    directory.\n",
    "    \"\"\"\n",
    "    # create temporary project directory (copy of main project) for test\n",
    "    tmp_proj_name = 'tmp-project'\n",
    "    tmp_proj_dirpath = davos.DAVOS_PROJECT_DIR.joinpath(tmp_proj_name)\n",
    "    shutil.copytree(davos.project.project_dir, tmp_proj_dirpath)\n",
    "    \n",
    "    tmp_project = davos.core.project.ConcreteProject(tmp_proj_name)\n",
    "    \n",
    "    try:\n",
    "        tmp_project.remove(yes=True)\n",
    "        assert not tmp_proj_dirpath.is_dir(), (\n",
    "            f'Expected project directory ({tmp_proj_dirpath}) not to exist '\n",
    "            'after removal (not currently active project)'\n",
    "        )\n",
    "    except:\n",
    "        shutil.rmtree(tmp_proj_dirpath)\n",
    "        raise"
   ]
  },
  {
   "cell_type": "code",
   "execution_count": null,
   "id": "92e0ced7",
   "metadata": {
    "ExecuteTime": {
     "end_time": "2023-07-11T23:38:14.684512Z",
     "start_time": "2023-07-11T23:38:14.682339Z"
    }
   },
   "outputs": [],
   "source": [
    "@mark.timeout(30)\n",
    "def test_remove_fails_noconfirm_noninteractive():\n",
    "    \"\"\"\n",
    "    Test that `davos.core.project.Project.remove` fails when \n",
    "    non-interactive mode is enabled and `yes=True` is not explicitly \n",
    "    passed.\n",
    "    \"\"\"\n",
    "    # test on a temporary random project in case .remove()` somehow \n",
    "    # succeeds (test fails)\n",
    "    tmp_project = davos.core.project.ConcreteProject('tmp-project')\n",
    "    # get project dir to remove after test passes\n",
    "    tmp_project_dir = tmp_project.project_dir\n",
    "    \n",
    "    davos.config.noninteractive = True\n",
    "    try:\n",
    "        with raises(davos.core.exceptions.DavosProjectError):\n",
    "            tmp_project.remove()\n",
    "    except DavosAssertionError:\n",
    "        raise\n",
    "    else:\n",
    "        # if test passes (fails to remove project), clean up project dir\n",
    "        tmp_project_dir.rmdir()\n",
    "    finally:\n",
    "        davos.config.noninteractive = False"
   ]
  },
  {
   "cell_type": "code",
   "execution_count": null,
   "id": "cbd67c6c",
   "metadata": {
    "ExecuteTime": {
     "end_time": "2023-07-11T23:38:14.687529Z",
     "start_time": "2023-07-11T23:38:14.685149Z"
    }
   },
   "outputs": [],
   "source": [
    "@mark.timeout(30)\n",
    "def test_remove_user_cancels():\n",
    "    \"\"\"\n",
    "    Test that `davos.core.project.Project.remove` takes no action if\n",
    "    the user declines to remove the project when prompted for \n",
    "    confirmation.\n",
    "    \"\"\"\n",
    "    def _mock_input_no(prompt=None):\n",
    "        # mock user input of \"n\" (for \"no\")\n",
    "        return 'n'\n",
    "    \n",
    "    \n",
    "    # test on a temporary random project in case .remove()` somehow \n",
    "    # succeeds (test fails)\n",
    "    tmp_project = davos.core.project.ConcreteProject('tmp-project')\n",
    "    tmp_project_dir = tmp_project.project_dir\n",
    "    # make sure the project directory was created \n",
    "    assert tmp_project_dir.is_dir(), (\n",
    "        f'Expected {tmp_project_dir} to exist at start of test'\n",
    "    )\n",
    "    \n",
    "    davos.core.core.input = _mock_input_no\n",
    "    try:\n",
    "        tmp_project.remove()\n",
    "        assert tmp_project_dir.is_dir(), (\n",
    "            f'Expected {tmp_project_dir} to exist after responding \"n\" to '\n",
    "            'user confirmation prompt.'\n",
    "        )\n",
    "    except:\n",
    "        raise\n",
    "    else:\n",
    "        tmp_project_dir.rmdir()\n",
    "    finally:\n",
    "        davos.core.core.input = builtins.input"
   ]
  },
  {
   "cell_type": "code",
   "execution_count": null,
   "id": "946ee265",
   "metadata": {
    "ExecuteTime": {
     "end_time": "2023-07-11T23:38:14.690994Z",
     "start_time": "2023-07-11T23:38:14.688225Z"
    }
   },
   "outputs": [],
   "source": [
    "def test_rename_updates_dirname():\n",
    "    \"\"\"\n",
    "    Test that `davos.core.project.Project.rename` updates the name of \n",
    "    the project directory in `davos.core.project.DAVOS_PROJECT_DIR`.\n",
    "    \n",
    "    Initial and new project names are both \"simple\" names.\n",
    "    \"\"\"\n",
    "    # create temporary project directory (copy of main project) for test\n",
    "    tmp_proj_name_initial = 'tmp-project-initial'\n",
    "    tmp_proj_dirpath_initial = davos.DAVOS_PROJECT_DIR.joinpath(tmp_proj_name_initial)\n",
    "    shutil.copytree(davos.project.project_dir, tmp_proj_dirpath_initial)\n",
    "    tmp_project = davos.core.project.ConcreteProject(tmp_proj_name_initial)\n",
    "    \n",
    "    tmp_proj_name_new = 'tmp-project-new'\n",
    "    tmp_proj_dirpath_new = davos.DAVOS_PROJECT_DIR.joinpath(tmp_proj_name_new)\n",
    "    \n",
    "    try:\n",
    "        tmp_project.rename(tmp_proj_name_new)\n",
    "        assert tmp_proj_dirpath_new.is_dir(), (\n",
    "            f'Expected directory with new project name ({tmp_proj_name_new}) '\n",
    "            'to exist after renaming project'\n",
    "        )\n",
    "        assert not tmp_proj_dirpath_initial.is_dir(), (\n",
    "            'Expected directory with initial project name '\n",
    "            f'({tmp_proj_name_new}) to not exist after renaming project'\n",
    "        )\n",
    "    finally:\n",
    "        if tmp_proj_dirpath_new.is_dir():\n",
    "            shutil.rmtree(tmp_proj_dirpath_new)\n",
    "        if tmp_proj_dirpath_initial.is_dir():\n",
    "            shutil.rmtree(tmp_proj_dirpath_initial)"
   ]
  },
  {
   "cell_type": "code",
   "execution_count": null,
   "id": "45a1fca2",
   "metadata": {
    "ExecuteTime": {
     "end_time": "2023-07-11T23:57:48.300514Z",
     "start_time": "2023-07-11T23:57:48.286074Z"
    }
   },
   "outputs": [],
   "source": [
    "def test_rename_updates_attrs():\n",
    "    \"\"\"\n",
    "    Test that `davos.core.project.Project.rename` updates all relevant \n",
    "    attributes of the existing Project object with the new name. Also \n",
    "    check that the renamed project is still a \n",
    "    `davos.core.project.ConcreteProject`.\n",
    "    \n",
    "    Initial and new project names are both \"simple\" names.\n",
    "    \"\"\"\n",
    "    # create temporary project directory (copy of main project) for test\n",
    "    tmp_proj_name_initial = 'tmp-project-initial'\n",
    "    tmp_proj_dirpath_initial = davos.DAVOS_PROJECT_DIR.joinpath(tmp_proj_name_initial)\n",
    "    shutil.copytree(davos.project.project_dir, tmp_proj_dirpath_initial)\n",
    "    tmp_project = davos.core.project.ConcreteProject(tmp_proj_name_initial)\n",
    "    \n",
    "    tmp_proj_name_new = 'tmp-project-new'\n",
    "    tmp_proj_dirpath_new = davos.DAVOS_PROJECT_DIR.joinpath(tmp_proj_name_new)\n",
    "    \n",
    "    expected_attrs_values = [\n",
    "        ('name', tmp_proj_name_new),\n",
    "        ('safe_name', tmp_proj_name_new),\n",
    "        ('project_dir', tmp_proj_dirpath_new),\n",
    "        ('site_packages_dir', tmp_proj_dirpath_new.joinpath(\n",
    "            'lib', \n",
    "            f'python{sys.version_info.major}.{sys.version_info.minor}', \n",
    "            'site-packages'\n",
    "        ))\n",
    "    ]\n",
    "    \n",
    "    try:\n",
    "        tmp_project.rename(tmp_proj_name_new)\n",
    "        \n",
    "        for (attr, expected_val) in expected_attrs_values:\n",
    "            observed_val = getattr(tmp_project, attr)\n",
    "            assert observed_val == expected_val, (\n",
    "                f'Expected value of tmp_project.{attr} to be:\\n\\t'\n",
    "                f'{expected_val}\\nValue is:\\n\\t{observed_val}'\n",
    "            )\n",
    "    finally:\n",
    "        if tmp_proj_dirpath_new.is_dir():\n",
    "            shutil.rmtree(tmp_proj_dirpath_new)\n",
    "        if tmp_proj_dirpath_initial.is_dir():\n",
    "            shutil.rmtree(tmp_proj_dirpath_initial)"
   ]
  },
  {
   "cell_type": "code",
   "execution_count": null,
   "id": "6703f90f",
   "metadata": {
    "ExecuteTime": {
     "end_time": "2023-07-11T23:38:14.698949Z",
     "start_time": "2023-07-11T23:38:14.695610Z"
    }
   },
   "outputs": [],
   "source": [
    "def test_rename_concrete_abstract():\n",
    "    \"\"\"\n",
    "    Test renaming a project with a notebook-specific/path-based name \n",
    "    from an existing notebook path to one that doesn't exist. Project \n",
    "    object should be converted from a \n",
    "    `davos.core.project.ConcreteProject` to a \n",
    "    `davos.core.project.AbstractProject`.\n",
    "    \"\"\"\n",
    "    tmp_notebook_name_initial = 'tmp-notebook-exists.ipynb'\n",
    "    tmp_notebook_name_new = 'tmp-notebook-nonexistent.ipynb'\n",
    "    \n",
    "    # set up temporary resources for test:\n",
    "    \n",
    "    # - notebook file\n",
    "    tmp_notebook_path_initial = Path.cwd().joinpath(tmp_notebook_name_initial)\n",
    "    tmp_notebook_path_new = tmp_notebook_path_initial.with_name(tmp_notebook_name_new)\n",
    "    tmp_notebook_path_initial.touch()\n",
    "    \n",
    "    # - project directory (copy of main project)\n",
    "    tmp_project_safename_initial = (str(tmp_notebook_path_initial)\n",
    "                                    .rsplit('.ipynb', maxsplit=1)[0]\n",
    "                                    .replace(os.sep, '___'))\n",
    "    tmp_project_dirpath_initial = davos.DAVOS_PROJECT_DIR.joinpath(tmp_project_safename_initial)\n",
    "    shutil.copytree(davos.project.project_dir, tmp_project_dirpath_initial)\n",
    "    \n",
    "    # - project object\n",
    "    tmp_project = davos.core.project.ConcreteProject(tmp_notebook_path_initial)\n",
    "    \n",
    "    try:\n",
    "        tmp_project.rename(tmp_notebook_name_new)\n",
    "        assert isinstance(tmp_project, davos.core.project.AbstractProject), (\n",
    "            'Expected project object type to be '\n",
    "            f'{davos.core.project.AbstractProject} after renaming. Type is '\n",
    "            f'{type(tmp_project)}'\n",
    "        )\n",
    "    finally:\n",
    "        # clean up temporary resources\n",
    "        tmp_project_safename_new = (str(tmp_notebook_path_new)\n",
    "                                    .rsplit('.ipynb', maxsplit=1)[0]\n",
    "                                    .replace(os.sep, '___'))\n",
    "        tmp_project_dirpath_new = tmp_project_dirpath_initial.with_name(tmp_project_safename_new)\n",
    "        if tmp_project_dirpath_new.is_dir():\n",
    "            shutil.rmtree(tmp_project_dirpath_new)\n",
    "        if tmp_project_dirpath_initial.is_dir():\n",
    "            shutil.rmtree(tmp_project_dirpath_initial)\n",
    "        tmp_notebook_path_initial.unlink()"
   ]
  },
  {
   "cell_type": "code",
   "execution_count": null,
   "id": "eb369bea",
   "metadata": {
    "ExecuteTime": {
     "end_time": "2023-07-11T23:38:14.703057Z",
     "start_time": "2023-07-11T23:38:14.699628Z"
    }
   },
   "outputs": [],
   "source": [
    "def test_rename_abstract_concrete():\n",
    "    \"\"\"\n",
    "    Test renaming a project with a notebook-specific/path-based name \n",
    "    from a notebook path that doesn't exist to one that does. Project \n",
    "    object should be converted from a \n",
    "    `davos.core.project.AbstractProject` to a \n",
    "    `davos.core.project.ConcreteProject`.\n",
    "    \"\"\"\n",
    "    tmp_notebook_name_initial = 'tmp-notebook-nonexistent.ipynb'\n",
    "    tmp_notebook_name_new = 'tmp-notebook-exists.ipynb'\n",
    "    \n",
    "    # set up temporary resources for test:\n",
    "    \n",
    "    # - notebook file\n",
    "    tmp_notebook_path_initial = Path.cwd().joinpath(tmp_notebook_name_initial)\n",
    "    tmp_notebook_path_new = tmp_notebook_path_initial.with_name(tmp_notebook_name_new)\n",
    "    tmp_notebook_path_new.touch()\n",
    "    \n",
    "    # - project directory (copy of main project)\n",
    "    tmp_project_safename_initial = (str(tmp_notebook_path_initial)\n",
    "                                    .rsplit('.ipynb', maxsplit=1)[0]\n",
    "                                    .replace(os.sep, '___'))\n",
    "    tmp_project_dirpath_initial = davos.DAVOS_PROJECT_DIR.joinpath(tmp_project_safename_initial)\n",
    "    shutil.copytree(davos.project.project_dir, tmp_project_dirpath_initial)\n",
    "    \n",
    "    # - project object\n",
    "    tmp_project = davos.core.project.AbstractProject(tmp_notebook_path_initial)\n",
    "    \n",
    "    try:\n",
    "        tmp_project.rename(tmp_notebook_name_new)\n",
    "        assert isinstance(tmp_project, davos.core.project.ConcreteProject), (\n",
    "            'Expected project object type to be '\n",
    "            f'{davos.core.project.ConcreteProject} after renaming. Type is '\n",
    "            f'{type(tmp_project)}'\n",
    "        )\n",
    "    finally:\n",
    "        # clean up temporary resources\n",
    "        tmp_project_safename_new = (str(tmp_notebook_path_new)\n",
    "                                    .rsplit('.ipynb', maxsplit=1)[0]\n",
    "                                    .replace(os.sep, '___'))\n",
    "        tmp_project_dirpath_new = tmp_project_dirpath_initial.with_name(tmp_project_safename_new)\n",
    "        if tmp_project_dirpath_new.is_dir():\n",
    "            shutil.rmtree(tmp_project_dirpath_new)\n",
    "        if tmp_project_dirpath_initial.is_dir():\n",
    "            shutil.rmtree(tmp_project_dirpath_initial)\n",
    "        tmp_notebook_path_new.unlink()"
   ]
  },
  {
   "cell_type": "code",
   "execution_count": null,
   "id": "0b4ccf5b",
   "metadata": {
    "ExecuteTime": {
     "end_time": "2023-07-11T23:38:14.706302Z",
     "start_time": "2023-07-11T23:38:14.703691Z"
    }
   },
   "outputs": [],
   "source": [
    "def test_rename_fails_name_inuse():\n",
    "    \"\"\"\n",
    "    Test that `davos.core.project.Project.rename` fails if the specified \n",
    "    new name is already being used by another project in which any \n",
    "    packages have been installed.\n",
    "    \n",
    "    Initial and new project names are both \"simple\" names.\n",
    "    \"\"\"\n",
    "    # create temporary project directory (copy of main project) for test\n",
    "    tmp_proj_name_initial = 'tmp-project-initial'\n",
    "    tmp_proj_dirpath_initial = davos.DAVOS_PROJECT_DIR.joinpath(tmp_proj_name_initial)\n",
    "    shutil.copytree(davos.project.project_dir, tmp_proj_dirpath_initial)\n",
    "    \n",
    "    tmp_proj_name_new = 'tmp-project-new'\n",
    "    tmp_proj_dirpath_new = davos.DAVOS_PROJECT_DIR.joinpath(tmp_proj_name_new)\n",
    "    shutil.copytree(davos.project.project_dir, tmp_proj_dirpath_new)\n",
    "    \n",
    "    tmp_project = davos.core.project.ConcreteProject(tmp_proj_name_initial)\n",
    "    \n",
    "    try:\n",
    "        with raises(davos.core.exceptions.DavosProjectError):\n",
    "            tmp_project.rename(tmp_proj_name_new)\n",
    "    finally:\n",
    "        if tmp_proj_dirpath_new.is_dir():\n",
    "            shutil.rmtree(tmp_proj_dirpath_new)\n",
    "        if tmp_proj_dirpath_initial.is_dir():\n",
    "            shutil.rmtree(tmp_proj_dirpath_initial)"
   ]
  },
  {
   "cell_type": "code",
   "execution_count": null,
   "id": "f7ec3df5",
   "metadata": {
    "ExecuteTime": {
     "end_time": "2023-07-11T23:38:14.709272Z",
     "start_time": "2023-07-11T23:38:14.707125Z"
    }
   },
   "outputs": [],
   "source": [
    "def test_dir_is_empty():\n",
    "    \"\"\"Test `davos.core.project._dir_is_empty`\"\"\"\n",
    "    test_dir = Path('tmp-testing-dir').resolve()\n",
    "    test_dir.mkdir()\n",
    "    try:\n",
    "        assert davos.core.project._dir_is_empty(test_dir)\n",
    "        test_dir.joinpath('.DS_Store').touch()\n",
    "        assert davos.core.project._dir_is_empty(test_dir)\n",
    "        test_dir.joinpath('foo.txt').touch()\n",
    "        assert not davos.core.project._dir_is_empty(test_dir)\n",
    "    finally:\n",
    "        shutil.rmtree(test_dir)"
   ]
  },
  {
   "cell_type": "code",
   "execution_count": null,
   "id": "41cf8601",
   "metadata": {
    "ExecuteTime": {
     "end_time": "2023-07-11T23:38:14.711682Z",
     "start_time": "2023-07-11T23:38:14.709962Z"
    }
   },
   "outputs": [],
   "source": [
    "def test_get_notebook_path():\n",
    "    \"\"\"Test `davos.core.project.get_notebook_path`\"\"\"\n",
    "    expected_nbpath = str(Path.cwd().joinpath('test_project.ipynb'))\n",
    "    computed_nbpath = davos.core.project.get_notebook_path()\n",
    "    assert computed_nbpath == expected_nbpath, (\n",
    "        '`davos.core.project.get_notebook_path()` returned an incorrect path '\n",
    "        f'for the current notebook.Expected:\\n\\t{expected_nbpath}\\nGot:'\n",
    "        f'{computed_nbpath}'\n",
    "    )"
   ]
  },
  {
   "cell_type": "code",
   "execution_count": null,
   "id": "a541187c",
   "metadata": {
    "ExecuteTime": {
     "end_time": "2023-07-11T23:38:14.714425Z",
     "start_time": "2023-07-11T23:38:14.712317Z"
    }
   },
   "outputs": [],
   "source": [
    "def test_use_default_project():\n",
    "    \"\"\"Test `davos.core.project.use_default_project`\"\"\"\n",
    "    curr_notebook_path = Path.cwd().joinpath('test_project.ipynb')\n",
    "    expected_default_project = davos.core.project.ConcreteProject(curr_notebook_path)\n",
    "    \n",
    "    try:\n",
    "        # should start the test using the default project\n",
    "        assert davos.project == expected_default_project, (\n",
    "            'Expected the initially active project to be the default project:\\n\\t'\n",
    "            f'{expected_default_project}\\nActive project is:\\n\\t{davos.project}'\n",
    "        )\n",
    "        \n",
    "        # temporarily switch to a different project\n",
    "        davos.project = davos.core.project.ConcreteProject('tmp-project')\n",
    "        assert davos.project != expected_default_project, (\n",
    "            'Expected the active project to no longer be the default'\n",
    "        )\n",
    "        \n",
    "        # switch back to the default with `use_default_project()`\n",
    "        davos.use_default_project()\n",
    "        assert davos.project == expected_default_project, (\n",
    "            'Expected the active project to be the default project:\\n\\t'\n",
    "            f'{expected_default_project}\\nActive project is:\\n\\t{davos.project}'\n",
    "        )\n",
    "    finally:\n",
    "        davos.project = expected_default_project"
   ]
  },
  {
   "cell_type": "code",
   "execution_count": null,
   "id": "6df5963e",
   "metadata": {
    "ExecuteTime": {
     "end_time": "2023-07-11T23:38:14.716246Z",
     "start_time": "2023-07-11T23:38:14.715153Z"
    }
   },
   "outputs": [],
   "source": [
    "run_tests()"
   ]
  }
 ],
 "metadata": {
  "kernelspec": {
   "display_name": "kernel-env",
   "language": "python",
   "name": "kernel-env"
  },
  "language_info": {
   "codemirror_mode": {
    "name": "ipython",
    "version": 3
   },
   "file_extension": ".py",
   "mimetype": "text/x-python",
   "name": "python",
   "nbconvert_exporter": "python",
   "pygments_lexer": "ipython3",
   "version": "3.9.16"
  }
 },
 "nbformat": 4,
 "nbformat_minor": 5
}
