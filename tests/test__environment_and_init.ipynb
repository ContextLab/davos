{
 "cells": [
  {
   "cell_type": "code",
   "execution_count": null,
   "metadata": {
    "ExecuteTime": {
     "end_time": "2021-07-06T01:39:18.077407Z",
     "start_time": "2021-07-06T01:39:18.069414Z"
    }
   },
   "outputs": [],
   "source": [
    "GITHUB_USERNAME = \"$GITHUB_USERNAME$\"\n",
    "GITHUB_REF = \"$GITHUB_REF$\"\n",
    "NOTEBOOK_TYPE = \"$NOTEBOOK_TYPE$\"\n",
    "PYTHON_VERSION = \"$PYTHON_VERSION$\"\n",
    "IPYTHON_VERSION = \"$IPYTHON_VERSION$\""
   ]
  },
  {
   "cell_type": "code",
   "execution_count": null,
   "metadata": {
    "ExecuteTime": {
     "end_time": "2021-07-06T01:42:49.171770Z",
     "start_time": "2021-07-06T01:42:49.036805Z"
    }
   },
   "outputs": [],
   "source": [
    "from pathlib import Path\n",
    "\n",
    "import requests\n",
    "\n",
    "\n",
    "if NOTEBOOK_TYPE == 'colab':\n",
    "    # utils module doesn't exist on colab VM, so get current version from GitHub\n",
    "    utils_module = Path('utils.py').resolve()\n",
    "    response = requests.get(f'https://raw.githubusercontent.com/{GITHUB_USERNAME}/davos/{GITHUB_REF}/tests/utils.py')\n",
    "    utils_module.write_text(response.text)\n",
    "    # also need to install davos locally\n",
    "    from utils import install_davos\n",
    "    install_davos(source='github', ref=GITHUB_REF, fork=GITHUB_USERNAME)"
   ]
  },
  {
   "cell_type": "code",
   "execution_count": null,
   "metadata": {
    "ExecuteTime": {
     "end_time": "2021-07-06T02:12:59.681734Z",
     "start_time": "2021-07-06T02:12:59.679070Z"
    }
   },
   "outputs": [],
   "source": [
    "import json\n",
    "import subprocess\n",
    "import sys\n",
    "\n",
    "import pkg_resources\n",
    "\n",
    "from utils import mark, raises, run_tests, TestingEnvironmentError"
   ]
  },
  {
   "cell_type": "code",
   "execution_count": null,
   "metadata": {},
   "outputs": [],
   "source": [
    "IPYTHON_SHELL = get_ipython()"
   ]
  },
  {
   "cell_type": "markdown",
   "metadata": {},
   "source": [
    "# tests for general testing environment & package initialization\n",
    "tests GitHub runner itself, as well as contents of `__init__.py` & `implementations.__init__.py`"
   ]
  },
  {
   "cell_type": "code",
   "execution_count": 5,
   "metadata": {
    "ExecuteTime": {
     "end_time": "2021-07-06T03:20:05.668719Z",
     "start_time": "2021-07-06T03:20:05.666297Z"
    }
   },
   "outputs": [],
   "source": [
    "def test_import_davos():\n",
    "    global davos\n",
    "    import davos"
   ]
  },
  {
   "cell_type": "code",
   "execution_count": null,
   "metadata": {},
   "outputs": [],
   "source": [
    "def test_expected_python_version():\n",
    "    installed_version = '.'.join(map(str, sys.version_info[:2]))\n",
    "    expected_version = PYTHON_VERSION\n",
    "    if installed_version != expected_version:\n",
    "        raise TestingEnvironmentError(\n",
    "            f\"Test environment has Python {sys.version.split()[0]}, expected \"\n",
    "            \"{PYTHON_VERSION}\"\n",
    "        )"
   ]
  },
  {
   "cell_type": "code",
   "execution_count": null,
   "metadata": {},
   "outputs": [],
   "source": [
    "@mark.jupyter\n",
    "def test_notebook_using_kernel_python():\n",
    "    if not sys.executable.endswith('envs/kernel-env/bin/python'):\n",
    "        raise TestingEnvironmentError(\n",
    "            \"Notebook does not appear to be using the correct python \"\n",
    "            \"executable. Expected a path ending in \"\n",
    "            f\"'envs/kernel-env/bin/python', found {sys.executable}\"\n",
    "        )"
   ]
  },
  {
   "cell_type": "code",
   "execution_count": null,
   "metadata": {},
   "outputs": [],
   "source": [
    "@mark.skipif(IPYTHON_VERSION == 'latest', reason=\"runs when IPYTHON_VERSION != 'latest'\")\n",
    "def test_expected_ipython_version():\n",
    "    try:\n",
    "        pkg_resources.get_distribution(f\"IPython=={IPYTHON_VERSION}\")\n",
    "    except pkg_resources.VersionConflict as e:\n",
    "        raise TestingEnvironmentError(\n",
    "            f\"Test environment has IPython=={IPython.__version__}, expected \"\n",
    "            f\"{IPYTHON_VERSION}\") from e"
   ]
  },
  {
   "cell_type": "code",
   "execution_count": null,
   "metadata": {},
   "outputs": [],
   "source": [
    "@mark.skipif(IPYTHON_VERSION != 'latest', reason=\"runs when IPYTHON_VERSION == 'latest'\")\n",
    "def test_latest_ipython_version():\n",
    "    pip_exe = davos.config.pip_executable\n",
    "    outdated_pkgs = subprocess.check_output(\n",
    "            [pip_exe, 'list', '--outdated', '--format', 'json'], encoding='utf-8'\n",
    "        )\n",
    "    outdated_pkgs_json = json.loads(outdated_pkgs)\n",
    "    for pkg in outdated_pkgs_json:\n",
    "        if pkg['name'] == 'ipython':\n",
    "            raise TestingEnvironmentError(\n",
    "                f\"Test environment has IPython=={pkg['version']}, expected \"\n",
    "                f\"latest version (IPython=={pkg['latest_version']})\"\n",
    "            )"
   ]
  },
  {
   "cell_type": "code",
   "execution_count": null,
   "metadata": {
    "ExecuteTime": {
     "end_time": "2021-07-06T02:22:04.281204Z",
     "start_time": "2021-07-06T02:22:04.277000Z"
    }
   },
   "outputs": [],
   "source": [
    "@mark.colab\n",
    "def test_ipython_shell_is_colab_shell():\n",
    "    if not isinstance(IPYTHON_SHELL, google.colab._shell.Shell):\n",
    "        google_version = pkg_resources.get_distribution('google').version\n",
    "        raise TestingEnvironmentError(\n",
    "            \"Qualified name for Colab interactive shell class has changed \"\n",
    "            \"(google module may have been recently updated).\\n\\tShell type:\\t\"\n",
    "            f\"{type(IPYTHON_SHELL)}\\n\\tgoogle version:\\t{google_version}\"\n",
    "        )"
   ]
  },
  {
   "cell_type": "code",
   "execution_count": null,
   "metadata": {},
   "outputs": [],
   "source": [
    "def test_smuggle_in_namespace():\n",
    "    assert 'smuggle' in globals()\n",
    "    assert 'smuggle' in IPYTHON_SHELL.user_ns\n",
    "    assert globals()['smuggle'] is IPYTHON_SHELL.user_ns['smuggle']"
   ]
  },
  {
   "cell_type": "code",
   "execution_count": null,
   "metadata": {},
   "outputs": [],
   "source": [
    "def test_activated_on_import():\n",
    "    assert davos.is_active()"
   ]
  },
  {
   "cell_type": "code",
   "execution_count": null,
   "metadata": {},
   "outputs": [],
   "source": [
    "def test_deactivate_reactivate_toplevel():\n",
    "    assert davos.is_active()\n",
    "    \n",
    "    davos.deactivate()\n",
    "    assert not davos.is_active()\n",
    "    \n",
    "    with raises(NameError, match=\"name 'smuggle' is not defined\"):\n",
    "        smuggle ast\n",
    "        \n",
    "    davos.activate()\n",
    "    assert davos.is_active()"
   ]
  },
  {
   "cell_type": "code",
   "execution_count": null,
   "metadata": {},
   "outputs": [],
   "source": [
    "def test_all_configurable_fields_settable_via_configure():\n",
    "    all_properties = []\n",
    "    for name, val in davos.core.config.DavosConfig.__dict__.items():\n",
    "        if isinstance(val, property):\n",
    "            all_properties.append(name)\n",
    "    read_only_fields = {\n",
    "        'conda_avail', \n",
    "        'conda_envs_dirs', \n",
    "        'environment', \n",
    "        'ipython_shell', \n",
    "        'smuggled'\n",
    "    }\n",
    "    configurable_fields = set(all_properties) - read_only_fields\n",
    "    configure_func_kwargs = set(inspect.signature(davos.configure).parameters)\n",
    "    assert not configurable_fields.symmetric_difference(\n",
    "        configure_func_kwargs\n",
    "    ), (\n",
    "        f\"configurable fields: {configurable_fields}\\ndavos.configure kwargs: \"\n",
    "        f\"{configure_func_kwargs}\"\n",
    "    )"
   ]
  },
  {
   "cell_type": "code",
   "execution_count": null,
   "metadata": {},
   "outputs": [],
   "source": [
    "def test_configure_resets_fields_on_fail():\n",
    "    active_before = davos.config.active\n",
    "    confirm_install_before = davos.config.confirm_install\n",
    "    with raises(davos.core.exceptions.DavosConfigError):\n",
    "        davos.configure(\n",
    "            active=False, \n",
    "            confirm_install=True, \n",
    "            suppress_stdout='BAD VALUE'\n",
    "        )\n",
    "    assert davos.config.active is active_before\n",
    "    assert davos.config.confirm_install is confirm_install_before"
   ]
  },
  {
   "cell_type": "code",
   "execution_count": null,
   "metadata": {
    "ExecuteTime": {
     "end_time": "2021-07-06T04:57:22.834023Z",
     "start_time": "2021-07-06T04:57:22.830261Z"
    }
   },
   "outputs": [],
   "source": []
  },
  {
   "cell_type": "code",
   "execution_count": null,
   "metadata": {
    "ExecuteTime": {
     "end_time": "2021-07-06T04:57:35.929028Z",
     "start_time": "2021-07-06T04:57:35.924895Z"
    }
   },
   "outputs": [],
   "source": []
  },
  {
   "cell_type": "code",
   "execution_count": null,
   "metadata": {},
   "outputs": [],
   "source": []
  },
  {
   "cell_type": "code",
   "execution_count": null,
   "metadata": {},
   "outputs": [],
   "source": []
  },
  {
   "cell_type": "code",
   "execution_count": null,
   "metadata": {},
   "outputs": [],
   "source": [
    "run_tests()"
   ]
  }
 ],
 "metadata": {
  "kernelspec": {
   "display_name": "davos",
   "language": "python",
   "name": "davos"
  },
  "language_info": {
   "codemirror_mode": {
    "name": "ipython",
    "version": 3
   },
   "file_extension": ".py",
   "mimetype": "text/x-python",
   "name": "python",
   "nbconvert_exporter": "python",
   "pygments_lexer": "ipython3",
   "version": "3.9.2"
  }
 },
 "nbformat": 4,
 "nbformat_minor": 2
}
