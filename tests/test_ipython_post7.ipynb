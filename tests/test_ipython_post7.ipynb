{
 "cells": [
  {
   "cell_type": "code",
   "execution_count": null,
   "metadata": {
    "ExecuteTime": {
     "end_time": "2021-08-10T22:48:40.722242Z",
     "start_time": "2021-08-10T22:48:40.713820Z"
    }
   },
   "outputs": [],
   "source": [
    "GITHUB_USERNAME = \"$GITHUB_USERNAME$\"\n",
    "GITHUB_REF = \"$GITHUB_REF$\"\n",
    "NOTEBOOK_TYPE = \"jupyter\" #\"$NOTEBOOK_TYPE$\"\n",
    "PYTHON_VERSION = \"3.8\" #\"$PYTHON_VERSION$\"\n",
    "IPYTHON_VERSION = \"7.3.0\" #\"$IPYTHON_VERSION$\""
   ]
  },
  {
   "cell_type": "code",
   "execution_count": null,
   "metadata": {
    "ExecuteTime": {
     "end_time": "2021-08-10T22:48:40.798817Z",
     "start_time": "2021-08-10T22:48:40.724793Z"
    }
   },
   "outputs": [],
   "source": [
    "from pathlib import Path\n",
    "\n",
    "import requests\n",
    "\n",
    "\n",
    "if NOTEBOOK_TYPE == 'colab':\n",
    "    # utils module doesn't exist on colab VM, so get current version from GitHub\n",
    "    utils_module = Path('utils.py').resolve()\n",
    "    response = requests.get(f'https://raw.githubusercontent.com/{GITHUB_USERNAME}/davos/{GITHUB_REF}/tests/utils.py')\n",
    "    utils_module.write_text(response.text)\n",
    "    # also need to install davos locally\n",
    "    from utils import install_davos\n",
    "    install_davos(source='github', ref=GITHUB_REF, fork=GITHUB_USERNAME)"
   ]
  },
  {
   "cell_type": "code",
   "execution_count": null,
   "metadata": {
    "ExecuteTime": {
     "end_time": "2021-08-10T22:48:40.987589Z",
     "start_time": "2021-08-10T22:48:40.801961Z"
    }
   },
   "outputs": [],
   "source": [
    "import davos\n",
    "\n",
    "from utils import mark, raises, run_tests"
   ]
  },
  {
   "cell_type": "code",
   "execution_count": null,
   "metadata": {
    "ExecuteTime": {
     "end_time": "2021-08-10T22:48:40.993032Z",
     "start_time": "2021-08-10T22:48:40.990142Z"
    }
   },
   "outputs": [],
   "source": [
    "IPYTHON_SHELL = get_ipython()"
   ]
  },
  {
   "cell_type": "markdown",
   "metadata": {},
   "source": [
    "# tests for `davos.implementations.ipython_post7`\n",
    "**Note**: this test notebook is only run for jobs where `IPython>=7.0`"
   ]
  },
  {
   "cell_type": "code",
   "execution_count": null,
   "metadata": {
    "ExecuteTime": {
     "end_time": "2021-08-10T22:48:40.999538Z",
     "start_time": "2021-08-10T22:48:40.995238Z"
    }
   },
   "outputs": [],
   "source": [
    "def test_ipython_post7_imports():\n",
    "    \"\"\"\n",
    "    check that functions that should've been imported from the \n",
    "    ipython_post7 module came from the right place\n",
    "    \"\"\"\n",
    "    ipy_post7_funcs = (\n",
    "        '_activate_helper', \n",
    "        '_deactivate_helper',\n",
    "        'generate_parser_func'\n",
    "    )\n",
    "    for func_name in ipy_post7_funcs:\n",
    "        func_obj = getattr(davos.implementations, func_name)\n",
    "        func_module = getattr(func_obj, '__module__')\n",
    "        assert func_module == 'davos.implementations.ipython_post7', (\n",
    "            f\"davos.implementations.{func_name} is {func_module}.{func_name}. \"\n",
    "            f\"Expected davos.implementations.ipython_post7.{func_name}\"\n",
    "        )"
   ]
  },
  {
   "cell_type": "code",
   "execution_count": null,
   "metadata": {
    "ExecuteTime": {
     "end_time": "2021-08-10T22:48:41.005649Z",
     "start_time": "2021-08-10T22:48:41.002104Z"
    }
   },
   "outputs": [],
   "source": [
    "def test_activate_helper_registers_parser():\n",
    "    \"\"\"\n",
    "    check that the `davos` parser was added to `input_transformers_post` \n",
    "    when `davos` was imported above\n",
    "    \"\"\"\n",
    "    davos_parser = davos.implementations.full_parser\n",
    "    transformers_list = IPYTHON_SHELL.input_transformers_post\n",
    "    assert davos_parser in transformers_list, (\n",
    "        f\"{davos_parser} not in {transformers_list}\"\n",
    "    )"
   ]
  },
  {
   "cell_type": "code",
   "execution_count": null,
   "metadata": {
    "ExecuteTime": {
     "end_time": "2021-08-10T22:48:41.012185Z",
     "start_time": "2021-08-10T22:48:41.008515Z"
    }
   },
   "outputs": [],
   "source": [
    "def test_activate_helper_registers_parser_once():\n",
    "    \"\"\"\n",
    "    `_activate_helper` should not register multiple instances of the \n",
    "    `davos` parser if called multiple times (without deactivating)\n",
    "    \"\"\"\n",
    "    smuggle_func = davos.core.core.smuggle\n",
    "    davos_parser = davos.implementations.full_parser\n",
    "    transformers_list = IPYTHON_SHELL.input_transformers_post\n",
    "    \n",
    "    assert transformers_list.count(davos_parser) == 1\n",
    "    \n",
    "    for _ in range(5):\n",
    "        davos.implementations.ipython_post7._activate_helper(smuggle_func, \n",
    "                                                            davos_parser)\n",
    "    \n",
    "    assert transformers_list.count(davos_parser) == 1"
   ]
  },
  {
   "cell_type": "code",
   "execution_count": null,
   "metadata": {
    "ExecuteTime": {
     "end_time": "2021-08-10T22:48:41.021710Z",
     "start_time": "2021-08-10T22:48:41.015903Z"
    }
   },
   "outputs": [],
   "source": [
    "def test_activate_helper_adds_smuggle():\n",
    "    \"\"\"\n",
    "    `_activate_helper` should inject the `smuggle_func` it is passed \n",
    "    into the IPython user namespace as `\"smuggle\"`\n",
    "    \"\"\"    \n",
    "    real_smuggle_func = davos.core.core.smuggle\n",
    "    davos_parser = davos.implementations.full_parser\n",
    "    \n",
    "    def _fake_smuggle_func():\n",
    "        pass\n",
    "    \n",
    "    assert IPYTHON_SHELL.user_ns['smuggle'] is real_smuggle_func is smuggle\n",
    "    \n",
    "    try:\n",
    "        davos.implementations.ipython_post7._activate_helper(_fake_smuggle_func, \n",
    "                                                            davos_parser)\n",
    "        assert smuggle is IPYTHON_SHELL.user_ns['smuggle'] is _fake_smuggle_func\n",
    "    finally:\n",
    "        # regardless of test outcome, make sure original value of \n",
    "        # \"smuggle\" is restored\n",
    "        IPYTHON_SHELL.user_ns['smuggle'] = real_smuggle_func"
   ]
  },
  {
   "cell_type": "code",
   "execution_count": null,
   "metadata": {
    "ExecuteTime": {
     "end_time": "2021-08-10T22:48:41.028142Z",
     "start_time": "2021-08-10T22:48:41.024228Z"
    }
   },
   "outputs": [],
   "source": [
    "def test_deactivate_helper_removes_parser():\n",
    "    \"\"\"\n",
    "    `_deactivate_helper` should remove the `davos` parser from \n",
    "    `input_transformers_post`\n",
    "    \"\"\"\n",
    "    smuggle_func = davos.core.core.smuggle\n",
    "    davos_parser = davos.implementations.full_parser\n",
    "    # a reference\n",
    "    transformers_list = IPYTHON_SHELL.input_transformers_post\n",
    "    # a copy\n",
    "    old_transformers_list = IPYTHON_SHELL.input_transformers_post[:]\n",
    "    \n",
    "    assert davos_parser in transformers_list\n",
    "        \n",
    "    try:\n",
    "        davos.implementations.ipython_post7._deactivate_helper(smuggle_func, \n",
    "                                                               davos_parser)\n",
    "\n",
    "        assert davos_parser not in transformers_list, transformers_list\n",
    "    finally:\n",
    "        # regardless of test outcome, make sure original \n",
    "        # input_transformers_post list and value of \"smuggle\" are \n",
    "        # restored\n",
    "        IPYTHON_SHELL.input_transformers_post = old_transformers_list\n",
    "        IPYTHON_SHELL.user_ns['smuggle'] = smuggle_func"
   ]
  },
  {
   "cell_type": "code",
   "execution_count": null,
   "metadata": {
    "ExecuteTime": {
     "end_time": "2021-08-10T22:48:41.036307Z",
     "start_time": "2021-08-10T22:48:41.030001Z"
    }
   },
   "outputs": [],
   "source": [
    "def test_deactivate_helper_deletes_smuggle():\n",
    "    \"\"\"\n",
    "    `_deactivate_helper` should remove `\"smuggle\"` from the IPython user \n",
    "    namespace if it refers to `davos.core.core.smuggle`\n",
    "    \"\"\"\n",
    "    smuggle_func = davos.core.core.smuggle\n",
    "    davos_parser = davos.implementations.full_parser\n",
    "    old_transformers_list = IPYTHON_SHELL.input_transformers_post[:]\n",
    "    \n",
    "    assert smuggle is IPYTHON_SHELL.user_ns['smuggle'] is smuggle_func\n",
    "    \n",
    "    try:\n",
    "        davos.implementations.ipython_post7._deactivate_helper(smuggle_func, \n",
    "                                                               davos_parser)\n",
    "        assert 'smuggle' not in IPYTHON_SHELL.user_ns\n",
    "        with raises(NameError):\n",
    "            smuggle os\n",
    "\n",
    "    finally:\n",
    "        IPYTHON_SHELL.user_ns['smuggle'] = smuggle_func\n",
    "        IPYTHON_SHELL.input_transformers_post = old_transformers_list"
   ]
  },
  {
   "cell_type": "code",
   "execution_count": null,
   "metadata": {
    "ExecuteTime": {
     "end_time": "2021-08-10T22:48:41.045042Z",
     "start_time": "2021-08-10T22:48:41.038431Z"
    }
   },
   "outputs": [],
   "source": [
    "def test_deactivate_helper_leaves_smuggle():\n",
    "    \"\"\"\n",
    "    running `_deactivate_helper` should *not* delete `\"smuggle\"` from \n",
    "    the IPython user namespace if it refers to something other than \n",
    "    `davos.core.core.smuggle`\n",
    "    \"\"\"\n",
    "    global smuggle\n",
    "    \n",
    "    smuggle_func = davos.core.core.smuggle\n",
    "    davos_parser = davos.implementations.full_parser\n",
    "    old_transformers_list = IPYTHON_SHELL.input_transformers_post[:]\n",
    "    \n",
    "    smuggle = 'tmp-smuggle-val'\n",
    "    print(smuggle_func)\n",
    "    print(davos.config.ipython_shell.user_ns.get('smuggle'))\n",
    "    try:\n",
    "        davos.implementations.ipython_post7._deactivate_helper(smuggle_func, \n",
    "                                                               davos_parser)\n",
    "        assert 'smuggle' in IPYTHON_SHELL.user_ns\n",
    "        assert smuggle == 'tmp-smuggle-val'\n",
    "    finally:\n",
    "        IPYTHON_SHELL.user_ns['smuggle'] = smuggle_func\n",
    "        IPYTHON_SHELL.input_transformers_post = old_transformers_list"
   ]
  },
  {
   "cell_type": "code",
   "execution_count": null,
   "metadata": {
    "ExecuteTime": {
     "end_time": "2021-08-10T22:48:41.051294Z",
     "start_time": "2021-08-10T22:48:41.047396Z"
    }
   },
   "outputs": [],
   "source": [
    "def test_deactivate_helper_not_active():\n",
    "    \"\"\"\n",
    "    running `_deactivate_helper` shouldn't cause any problems if run \n",
    "    when the davos parser is already inactive\n",
    "    \"\"\"\n",
    "    smuggle_func = davos.core.core.smuggle\n",
    "    davos_parser = davos.implementations.full_parser\n",
    "    \n",
    "    davos.deactivate()\n",
    "\n",
    "    try:\n",
    "        for _ in range(5):\n",
    "            davos.implementations.ipython_post7._deactivate_helper(smuggle_func, \n",
    "                                                                   davos_parser)\n",
    "    finally:\n",
    "        davos.activate()"
   ]
  },
  {
   "cell_type": "code",
   "execution_count": null,
   "metadata": {
    "ExecuteTime": {
     "end_time": "2021-08-10T22:48:41.056140Z",
     "start_time": "2021-08-10T22:48:41.053162Z"
    }
   },
   "outputs": [],
   "source": [
    "def test_generate_parser_func_side_effects():\n",
    "    \"\"\"\n",
    "    The IPython >= 7.0 implementation of `generate_parser_func` should \n",
    "    set an attribute \"`has_side_effects`\" on the returned parser \n",
    "    function to `True`\n",
    "    \"\"\"\n",
    "    davos_parser = davos.implementations.full_parser\n",
    "    assert hasattr(davos_parser, 'has_side_effects')\n",
    "    assert davos_parser.has_side_effects is True"
   ]
  },
  {
   "cell_type": "code",
   "execution_count": null,
   "metadata": {
    "ExecuteTime": {
     "end_time": "2021-08-10T22:48:41.069903Z",
     "start_time": "2021-08-10T22:48:41.058543Z"
    }
   },
   "outputs": [],
   "source": [
    "run_tests()"
   ]
  }
 ],
 "metadata": {
  "kernelspec": {
   "display_name": "kernel-env",
   "language": "python",
   "name": "kernel-env"
  },
  "language_info": {
   "codemirror_mode": {
    "name": "ipython",
    "version": 3
   },
   "file_extension": ".py",
   "mimetype": "text/x-python",
   "name": "python",
   "nbconvert_exporter": "python",
   "pygments_lexer": "ipython3",
   "version": "3.8.10"
  }
 },
 "nbformat": 4,
 "nbformat_minor": 2
}
