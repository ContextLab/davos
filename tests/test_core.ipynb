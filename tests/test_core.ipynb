{
 "cells": [
  {
   "cell_type": "code",
   "execution_count": 1,
   "metadata": {
    "ExecuteTime": {
     "end_time": "2021-07-12T00:35:28.173921Z",
     "start_time": "2021-07-12T00:35:28.164741Z"
    }
   },
   "outputs": [],
   "source": [
    "GITHUB_USERNAME = \"paxtonfitzpatrick\"#\"$GITHUB_USERNAME$\"\n",
    "GITHUB_REF = \"62cba0f23e89e5cb838ac84cd8ed88939bc4d784\"#\"$GITHUB_REF$\"\n",
    "NOTEBOOK_TYPE = \"jupyter\"#\"$NOTEBOOK_TYPE$\"\n",
    "PYTHON_VERSION = \"3.8\"#\"$PYTHON_VERSION$\"\n",
    "IPYTHON_VERSION = \"latest\"#\"$IPYTHON_VERSION$\""
   ]
  },
  {
   "cell_type": "code",
   "execution_count": 2,
   "metadata": {
    "ExecuteTime": {
     "end_time": "2021-07-12T00:35:28.277729Z",
     "start_time": "2021-07-12T00:35:28.176451Z"
    }
   },
   "outputs": [],
   "source": [
    "import warnings\n",
    "from pathlib import Path\n",
    "\n",
    "import requests\n",
    "\n",
    "\n",
    "warnings.filterwarnings('error', module='davos')\n",
    "\n",
    "if NOTEBOOK_TYPE == 'colab':\n",
    "    # utils module doesn't exist on colab VM, so get current version from GitHub\n",
    "    utils_module = Path('utils.py').resolve()\n",
    "    response = requests.get(f'https://raw.githubusercontent.com/{GITHUB_USERNAME}/davos/{GITHUB_REF}/tests/utils.py')\n",
    "    utils_module.write_text(response.text)\n",
    "    # also need to install davos locally\n",
    "    from utils import install_davos\n",
    "    install_davos(source='github', ref=GITHUB_REF, fork=GITHUB_USERNAME)"
   ]
  },
  {
   "cell_type": "code",
   "execution_count": 3,
   "metadata": {
    "ExecuteTime": {
     "end_time": "2021-07-12T00:35:28.451898Z",
     "start_time": "2021-07-12T00:35:28.279978Z"
    }
   },
   "outputs": [],
   "source": [
    "import sys\n",
    "import types\n",
    "from contextlib import redirect_stdout\n",
    "from io import StringIO\n",
    "from pathlib import Path\n",
    "from textwrap import dedent\n",
    "\n",
    "import davos\n",
    "\n",
    "from utils import is_imported, mark, raises, run_tests"
   ]
  },
  {
   "cell_type": "code",
   "execution_count": 4,
   "metadata": {
    "ExecuteTime": {
     "end_time": "2021-07-12T00:35:28.456164Z",
     "start_time": "2021-07-12T00:35:28.453960Z"
    }
   },
   "outputs": [],
   "source": [
    "IPYTHON_SHELL = get_ipython()"
   ]
  },
  {
   "cell_type": "markdown",
   "metadata": {},
   "source": [
    "# tests for `davos.core.core`\n",
    "**Note**: regular expressions defined in `davos.core.regexps` but used in `davos.core.core` are tested in `test_regexps.ipynb`"
   ]
  },
  {
   "cell_type": "code",
   "execution_count": 5,
   "metadata": {
    "ExecuteTime": {
     "end_time": "2021-07-12T00:35:28.462789Z",
     "start_time": "2021-07-12T00:35:28.457922Z"
    }
   },
   "outputs": [],
   "source": [
    "def test_capture_stdout_multistream():\n",
    "    \"\"\"\n",
    "    should write correct output to stdout (captured for test), \n",
    "    in-memory object, and file streams simultaneously\n",
    "    \"\"\"\n",
    "    msg = (\"Strictly speaking, I didn't do the theiving. That would be the \"\n",
    "           \"pirates. I just moved what they stole from one place to another\")\n",
    "    tmpfile = Path('tmpfile.txt')\n",
    "    try:\n",
    "        with redirect_stdout(StringIO()) as mock_stdout:\n",
    "            with davos.core.core.capture_stdout(\n",
    "                StringIO(), tmpfile.open('w')\n",
    "            ) as (mem_stream, file_stream):\n",
    "                print(msg, end='')\n",
    "                in_mem = mem_stream.getvalue()\n",
    "            \n",
    "            in_stdout = mock_stdout.getvalue()\n",
    "        \n",
    "        in_file = tmpfile.read_text()\n",
    "        \n",
    "        assert mem_stream.closed, \"StringIO object was not closed\"\n",
    "        assert file_stream.closed, \"file stream was not closed\"\n",
    "\n",
    "        assert in_stdout == msg, (\n",
    "            \"content written to stdout doesn't match original. Expected:\\n\"\n",
    "            f\"\\\"{msg}\\\"\\n\\nFound:\\n\\\"{in_stdout}\\\"\"\n",
    "        )\n",
    "        assert in_mem == msg, (\n",
    "            \"content written to StringIO object doesn't match original. \"\n",
    "            f\"Expected:\\n\\\"{msg}\\\"\\n\\nFound:\\n\\\"{in_stdout}\\\"\"\n",
    "        )\n",
    "        assert in_file == msg, (\n",
    "            \"content written to file doesn't match original. Expected:\\n\"\n",
    "            f\"\\\"{msg}\\\"\\n\\nFound:\\n\\\"{in_file}\\\"\"\n",
    "        )\n",
    "    finally:\n",
    "        if not mem_stream.closed:\n",
    "            mem_stream.close()\n",
    "        if not file_stream.closed:\n",
    "            file_stream.close()\n",
    "        if tmpfile.is_file():\n",
    "            tmpfile.unlink()"
   ]
  },
  {
   "cell_type": "code",
   "execution_count": 6,
   "metadata": {
    "ExecuteTime": {
     "end_time": "2021-07-12T00:35:28.467670Z",
     "start_time": "2021-07-12T00:35:28.464425Z"
    }
   },
   "outputs": [],
   "source": [
    "def test_capture_stdout_not_closing():\n",
    "    \"\"\"\n",
    "    passing 'closing=True' should prevent streams from closing when \n",
    "    exiting context block\n",
    "    \"\"\"\n",
    "    msg = (\"Strictly speaking, I didn't do the theiving. That would be the \"\n",
    "           \"pirates. I just moved what they stole from one place to another\")\n",
    "    try:\n",
    "        with davos.core.core.capture_stdout(StringIO(), closing=False) as mem_stream:\n",
    "            print(msg, end='')\n",
    "                \n",
    "        assert not mem_stream.closed, (\n",
    "            \"StringIO stream was closed despite passing 'closing=False'\"\n",
    "        )\n",
    "    finally:\n",
    "        mem_stream.close()"
   ]
  },
  {
   "cell_type": "code",
   "execution_count": 7,
   "metadata": {
    "ExecuteTime": {
     "end_time": "2021-07-12T00:35:28.472540Z",
     "start_time": "2021-07-12T00:35:28.469369Z"
    }
   },
   "outputs": [],
   "source": [
    "@mark.ipython_pre7\n",
    "def test_check_conda_ipython_pre7():\n",
    "    \"\"\"\n",
    "    conda is not available on Google Colaboratory and not yet supported \n",
    "    for IPython<7.0.0\n",
    "    \"\"\"\n",
    "    davos.core.core.check_conda()\n",
    "    assert davos.config.conda_avail is False\n",
    "    assert davos.config.conda_env is None\n",
    "    assert davos.config.conda_envs_dirs is None"
   ]
  },
  {
   "cell_type": "code",
   "execution_count": 8,
   "metadata": {
    "ExecuteTime": {
     "end_time": "2021-07-12T00:35:28.479451Z",
     "start_time": "2021-07-12T00:35:28.476664Z"
    }
   },
   "outputs": [],
   "source": [
    "@mark.ipython_post7\n",
    "def test_check_conda_ipython_post7():\n",
    "    \"\"\"basic test for expected values\"\"\"\n",
    "    davos.core.core.check_conda()\n",
    "    assert davos.config.conda_avail is True\n",
    "    assert davos.config.conda_env == 'kernel-env'\n",
    "    assert isinstance(davos.config.conda_envs_dirs, dict)"
   ]
  },
  {
   "cell_type": "code",
   "execution_count": 9,
   "metadata": {
    "ExecuteTime": {
     "end_time": "2021-07-12T00:35:28.488116Z",
     "start_time": "2021-07-12T00:35:28.481627Z"
    }
   },
   "outputs": [],
   "source": [
    "def test_check_conda_stdout_parsing():\n",
    "    \"\"\"\n",
    "    check that 'conda_avail', 'conda_env', and 'conda_envs_dirs' config \n",
    "    fields are set correctly. Temporarily overloads \n",
    "    '_check_conda_avail_helper' and 'run_shell_command' functions with \n",
    "    functions defined below to compare expected values & results.\n",
    "    \"\"\"\n",
    "    old_conda_avail = davos.config._conda_avail\n",
    "    old_conda_env = davos.config._conda_env\n",
    "    old_conda_envs_dirs = davos.config._conda_envs_dirs\n",
    "    old__check_conda_avail_helper = davos.core.core._check_conda_avail_helper\n",
    "    old_run_shell_command = davos.core.core.run_shell_command\n",
    "    \n",
    "    mock_conda_list_output = dedent(\"\"\"\\\n",
    "    # packages in environment at /path/to/anaconda3/envs/mock-current-env:\n",
    "    #\n",
    "    # Name                    Version                   Build  Channel\n",
    "    ipython                   X.X.X                    YYYYYY    ZZZZ\n",
    "    etc...\"\"\")\n",
    "    mock_conda_info_output = dedent(\"\"\"\\\n",
    "    base /path/to/anaconda3\n",
    "    mock-current-env /path/to/anaconda3/envs/mock-current-env\n",
    "    mock-other-env /path/to/anaconda3/envs/mock-other-env\"\"\")\n",
    "    \n",
    "    expected_conda_envs_dirs = {\n",
    "        'base': '/path/to/anaconda3',\n",
    "        'mock-current-env': '/path/to/anaconda3/envs/mock-current-env',\n",
    "        'mock-other-env': '/path/to/anaconda3/envs/mock-other-env'\n",
    "    }\n",
    "    \n",
    "    def _mock_check_conda_avail_helper():\n",
    "        return mock_conda_list_output\n",
    "    \n",
    "    def _mock_run_shell_command(command, live_stdout=None):\n",
    "        if command == \"conda info --envs | grep -E '^\\w' | sed -E 's/ +\\*? +/ /g'\":\n",
    "            return mock_conda_info_output\n",
    "        else:\n",
    "            return old_run_shell_command(command, live_stdout=live_stdout)\n",
    "    \n",
    "    try:\n",
    "        davos.core.core._check_conda_avail_helper = _mock_check_conda_avail_helper\n",
    "        davos.core.core.run_shell_command = _mock_run_shell_command\n",
    "        \n",
    "        davos.core.core.check_conda()\n",
    "        \n",
    "        assert davos.config.conda_avail is True\n",
    "        assert davos.config.conda_env == 'mock-current-env', (\n",
    "            f\"Found: {davos.config.conda_env}\"\n",
    "        )\n",
    "        assert davos.config.conda_envs_dirs == expected_conda_envs_dirs, (\n",
    "            f\"Expected: {expected_conda_envs_dirs}\\nFound: \"\n",
    "            f\"{davos.config.conda_envs_dirs}\"\n",
    "        )\n",
    "    finally:\n",
    "        davos.config._conda_avail = old_conda_avail\n",
    "        davos.config._conda_env = old_conda_env\n",
    "        davos.config._conda_envs_dirs = old_conda_envs_dirs\n",
    "        davos.core.core._check_conda_avail_helper = old__check_conda_avail_helper\n",
    "        davos.core.core.run_shell_command = old_run_shell_command"
   ]
  },
  {
   "cell_type": "code",
   "execution_count": 10,
   "metadata": {
    "ExecuteTime": {
     "end_time": "2021-07-12T00:35:28.496427Z",
     "start_time": "2021-07-12T00:35:28.490767Z"
    }
   },
   "outputs": [],
   "source": [
    "def test_check_conda_bad_info_cmd():\n",
    "    \"\"\"\n",
    "    when parsing 'conda list ipython' output is successful but parsing \n",
    "    'conda info --envs' output fails, 'conda_avail' and 'conda_env' \n",
    "    config fields should still be assigned correctly, but \n",
    "    'conda_envs_dirs' field should be 'None'\n",
    "    \"\"\"\n",
    "    old_conda_avail = davos.config._conda_avail\n",
    "    old_conda_env = davos.config._conda_env\n",
    "    old_conda_envs_dirs = davos.config._conda_envs_dirs\n",
    "    old__check_conda_avail_helper = davos.core.core._check_conda_avail_helper\n",
    "    old_run_shell_command = davos.core.core.run_shell_command\n",
    "    \n",
    "    mock_conda_list_output = dedent(\"\"\"\\\n",
    "    # packages in environment at /path/to/anaconda3/envs/mock-current-env:\n",
    "    #\n",
    "    # Name                    Version                   Build  Channel\n",
    "    ipython                   X.X.X                    YYYYYY    ZZZZ\n",
    "    etc...\"\"\")\n",
    "    \n",
    "    def _mock_check_conda_avail_helper():\n",
    "        return mock_conda_list_output\n",
    "    \n",
    "    def _mock_run_shell_command(command, live_stdout=None):\n",
    "        if command == \"conda info --envs | grep -E '^\\w' | sed -E 's/ +\\*? +/ /g'\":\n",
    "            raise Exception\n",
    "        else:\n",
    "            return old_run_shell_command(command, live_stdout=live_stdout)\n",
    "    \n",
    "    try:\n",
    "        davos.core.core._check_conda_avail_helper = _mock_check_conda_avail_helper\n",
    "        davos.core.core.run_shell_command = _mock_run_shell_command\n",
    "        \n",
    "        davos.core.core.check_conda()\n",
    "        \n",
    "        assert davos.config.conda_avail is True\n",
    "        assert davos.config.conda_env == 'mock-current-env', (\n",
    "            f\"Found: {davos.config.conda_env}\"\n",
    "        )\n",
    "        assert davos.config.conda_envs_dirs is None\n",
    "    finally:\n",
    "        davos.config._conda_avail = old_conda_avail\n",
    "        davos.config._conda_env = old_conda_env\n",
    "        davos.config._conda_envs_dirs = old_conda_envs_dirs\n",
    "        davos.core.core._check_conda_avail_helper = old__check_conda_avail_helper\n",
    "        davos.core.core.run_shell_command = old_run_shell_command"
   ]
  },
  {
   "cell_type": "code",
   "execution_count": 11,
   "metadata": {
    "ExecuteTime": {
     "end_time": "2021-07-12T00:35:28.503371Z",
     "start_time": "2021-07-12T00:35:28.498136Z"
    }
   },
   "outputs": [],
   "source": [
    "def test_check_conda_bad_list_cmd_raises():\n",
    "    \"\"\"\n",
    "    when 'conda list ipython' output is parsed successfully, but yields \n",
    "    an environment name not in the dict parsed from the output of \n",
    "    'conda info --envs', 'check_conda' function should raise a \n",
    "    'DavosError'\n",
    "    \"\"\"\n",
    "    old_conda_avail = davos.config._conda_avail\n",
    "    old_conda_env = davos.config._conda_env\n",
    "    old_conda_envs_dirs = davos.config._conda_envs_dirs\n",
    "    old__check_conda_avail_helper = davos.core.core._check_conda_avail_helper\n",
    "    old_run_shell_command = davos.core.core.run_shell_command\n",
    "    \n",
    "    mock_conda_list_output = dedent(\"\"\"\\\n",
    "    # packages in environment at bad-env-path:\n",
    "    #\n",
    "    # Name                    Version                   Build  Channel\n",
    "    ipython                   X.X.X                    YYYYYY    ZZZZ\n",
    "    etc...\"\"\")\n",
    "    mock_conda_info_output = dedent(\"\"\"\\\n",
    "    base /path/to/anaconda3\n",
    "    mock-current-env /path/to/anaconda3/envs/mock-current-env\n",
    "    mock-other-env /path/to/anaconda3/envs/mock-other-env\"\"\")\n",
    "    \n",
    "    expected_conda_envs_dirs = {\n",
    "        'base': '/path/to/anaconda3',\n",
    "        'mock-current-env': '/path/to/anaconda3/envs/mock-current-env',\n",
    "        'mock-other-env': '/path/to/anaconda3/envs/mock-other-env'\n",
    "    }\n",
    "    \n",
    "    def _mock_check_conda_avail_helper():\n",
    "        return mock_conda_list_output\n",
    "    \n",
    "    def _mock_run_shell_command(command, live_stdout=None):\n",
    "        if command == \"conda info --envs | grep -E '^\\w' | sed -E 's/ +\\*? +/ /g'\":\n",
    "            return mock_conda_info_output\n",
    "        else:\n",
    "            return old_run_shell_command(command, live_stdout=live_stdout)\n",
    "    \n",
    "    try:\n",
    "        davos.core.core._check_conda_avail_helper = _mock_check_conda_avail_helper\n",
    "        davos.core.core.run_shell_command = _mock_run_shell_command\n",
    "        \n",
    "        with raises(davos.core.exceptions.DavosError):\n",
    "            davos.core.core.check_conda()\n",
    "\n",
    "    finally:\n",
    "        davos.config._conda_avail = old_conda_avail\n",
    "        davos.config._conda_env = old_conda_env\n",
    "        davos.config._conda_envs_dirs = old_conda_envs_dirs\n",
    "        davos.core.core._check_conda_avail_helper = old__check_conda_avail_helper\n",
    "        davos.core.core.run_shell_command = old_run_shell_command"
   ]
  },
  {
   "cell_type": "code",
   "execution_count": 12,
   "metadata": {
    "ExecuteTime": {
     "end_time": "2021-07-12T00:35:28.509446Z",
     "start_time": "2021-07-12T00:35:28.505349Z"
    }
   },
   "outputs": [],
   "source": [
    "def test_get_previously_imported_pkgs():\n",
    "    \"\"\"\n",
    "    should return names of packages imported during this interpreter \n",
    "    session, whether from within the current notebook (davos, requests)\n",
    "    or elsewhere (IPython, urllib3), but ignore all other names \n",
    "    (scikit-learn, selenium). Uses mock 'pip-install'-like output to set \n",
    "    up expected results. Tests against real output in \n",
    "    'test_regexps.ipynb'.\n",
    "    \"\"\"\n",
    "    mock_stdout = (\"Successfully installed davos-0.0.0 IPython-1.1.1 \"\n",
    "              \"requests-2.2.2 scikit-learn-3.3.3 selenium-4.4.4 urllib3-5.5.5\")\n",
    "    expected = ['davos', 'IPython', 'requests', 'urllib3']\n",
    "    result = davos.core.core.get_previously_imported_pkgs(mock_stdout, 'pip')\n",
    "    assert result == expected, f\"Expected:\\n'{expected}'\\nFound:\\n'{result}'\""
   ]
  },
  {
   "cell_type": "code",
   "execution_count": 13,
   "metadata": {
    "ExecuteTime": {
     "end_time": "2021-07-12T00:35:28.515317Z",
     "start_time": "2021-07-12T00:35:28.512440Z"
    }
   },
   "outputs": [],
   "source": [
    "def test_get_previously_imported_pkgs_conda_raises():\n",
    "    \"\"\"passing 'installer-\"conda\"' should raise 'NotImplementedError'\"\"\"\n",
    "    with raises(NotImplementedError):\n",
    "        davos.core.core.get_previously_imported_pkgs('', 'conda')"
   ]
  },
  {
   "cell_type": "code",
   "execution_count": 14,
   "metadata": {
    "ExecuteTime": {
     "end_time": "2021-07-12T00:35:28.522588Z",
     "start_time": "2021-07-12T00:35:28.518152Z"
    }
   },
   "outputs": [],
   "source": [
    "def test_import_name_pkg():\n",
    "    \"\"\"test importing a top-level package.\"\"\"\n",
    "    try:\n",
    "        assert not is_imported('scipy')\n",
    "        scipy = davos.core.core.import_name('scipy')\n",
    "        assert isinstance(scipy, types.ModuleType), (\n",
    "            f\"type(scipy): {type(scipy)}\\nMRO: {type(scipy).mro()}\"\n",
    "        )\n",
    "        assert not hasattr(scipy, 'stats'), (\n",
    "            \"scipy.stats submodule should not be loaded\"\n",
    "        )\n",
    "        assert 'scipy' in sys.modules\n",
    "    finally:\n",
    "        for mod_name in tuple(sys.modules.keys()):\n",
    "            if 'scipy' in mod_name:\n",
    "                sys.modules.pop(mod_name)"
   ]
  },
  {
   "cell_type": "code",
   "execution_count": 15,
   "metadata": {
    "ExecuteTime": {
     "end_time": "2021-07-12T00:35:28.530117Z",
     "start_time": "2021-07-12T00:35:28.524463Z"
    }
   },
   "outputs": [],
   "source": [
    "def test_import_name_module():\n",
    "    \"\"\"test importing a module from a package.\"\"\"\n",
    "    try:\n",
    "        assert not is_imported('scipy')\n",
    "        stats = davos.core.core.import_name('scipy.stats')\n",
    "        assert isinstance(stats, types.ModuleType), (\n",
    "            f\"type(stats): {type(stats)}\\nMRO: {type(stats).mro()}\"\n",
    "        )\n",
    "        assert not hasattr(stats, 'tests'), (\n",
    "            \"scipy.stats.tests submodule should not be loaded\"\n",
    "        )\n",
    "        assert 'scipy' in sys.modules\n",
    "        assert 'scipy.stats' in sys.modules\n",
    "    finally:\n",
    "        for mod_name in tuple(sys.modules.keys()):\n",
    "            if 'scipy' in mod_name:\n",
    "                sys.modules.pop(mod_name)"
   ]
  },
  {
   "cell_type": "code",
   "execution_count": 15,
   "metadata": {
    "ExecuteTime": {
     "end_time": "2021-07-12T00:35:28.530117Z",
     "start_time": "2021-07-12T00:35:28.524463Z"
    }
   },
   "outputs": [],
   "source": [
    "def test_import_name_function():\n",
    "    \"\"\"test importing a function by its qualified name\"\"\"\n",
    "    try:\n",
    "        assert not is_imported('scipy')\n",
    "        ttest_ind = davos.core.core.import_name('scipy.stats.ttest_ind')\n",
    "        assert isinstance(ttest_ind, types.FunctionType), (\n",
    "            f\"type(scipy): {type(ttest_ind)}\\nMRO: {type(ttest_ind).mro()}\"\n",
    "        )\n",
    "        assert ttest_ind.__module__ == 'scipy.stats.stats', (\n",
    "            f\"Expected: 'scipy.stats.stats'\\nFound: '{ttest_ind.__module__}'\"\n",
    "        )\n",
    "        assert 'scipy' in sys.modules\n",
    "        assert 'scipy.stats' in sys.modules\n",
    "        assert 'scipy.stats.stats' in sys.modules\n",
    "    finally:\n",
    "        for mod_name in tuple(sys.modules.keys()):\n",
    "            if 'scipy' in mod_name:\n",
    "                sys.modules.pop(mod_name)"
   ]
  },
  {
   "cell_type": "code",
   "execution_count": null,
   "metadata": {},
   "outputs": [],
   "source": [
    "run_tests()"
   ]
  }
 ],
 "metadata": {
  "kernelspec": {
   "display_name": "davos",
   "language": "python",
   "name": "davos"
  },
  "language_info": {
   "codemirror_mode": {
    "name": "ipython",
    "version": 3
   },
   "file_extension": ".py",
   "mimetype": "text/x-python",
   "name": "python",
   "nbconvert_exporter": "python",
   "pygments_lexer": "ipython3",
   "version": "3.9.2"
  }
 },
 "nbformat": 4,
 "nbformat_minor": 2
}
