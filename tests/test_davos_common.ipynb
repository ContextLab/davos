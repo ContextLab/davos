{
 "cells": [
  {
   "cell_type": "code",
   "execution_count": 1,
   "metadata": {
    "ExecuteTime": {
     "end_time": "2021-06-24T04:10:05.797157Z",
     "start_time": "2021-06-24T04:10:05.786793Z"
    }
   },
   "outputs": [],
   "source": [
    "GITHUB_USERNAME = \"$GITHUB_USERNAME\"\n",
    "GITHUB_REF = \"$GITHUB_REF\"\n",
    "IPYTHON_SHELL = get_ipython()"
   ]
  },
  {
   "cell_type": "code",
   "execution_count": 2,
   "metadata": {
    "ExecuteTime": {
     "end_time": "2021-06-24T04:10:07.951616Z",
     "start_time": "2021-06-24T04:10:07.847056Z"
    }
   },
   "outputs": [],
   "source": [
    "from pathlib import Path\n",
    "\n",
    "import requests\n",
    "\n",
    "\n",
    "utils_module = Path('utils.py').resolve()\n",
    "if not utils_module.is_file():\n",
    "    response = requests.get(f'https://raw.githubusercontent.com/{GITHUB_USERNAME}/davos/{GITHUB_REF}/tests/utils.py')\n",
    "    utils_module.write_text(response.text)"
   ]
  },
  {
   "cell_type": "code",
   "execution_count": 3,
   "metadata": {
    "ExecuteTime": {
     "end_time": "2021-06-24T04:10:11.645684Z",
     "start_time": "2021-06-24T04:10:11.469668Z"
    }
   },
   "outputs": [],
   "source": [
    "from utils import install_davos, is_installed, run_tests\n",
    "\n",
    "\n",
    "if not is_installed('davos'):\n",
    "    install_davos(source='github', ref=GITHUB_REF, fork=GITHUB_USERNAME)"
   ]
  },
  {
   "cell_type": "code",
   "execution_count": 4,
   "metadata": {
    "ExecuteTime": {
     "end_time": "2021-06-24T04:10:13.131910Z",
     "start_time": "2021-06-24T04:10:13.044811Z"
    }
   },
   "outputs": [],
   "source": [
    "import davos"
   ]
  },
  {
   "cell_type": "code",
   "execution_count": 5,
   "metadata": {
    "ExecuteTime": {
     "end_time": "2021-06-24T04:10:14.180254Z",
     "start_time": "2021-06-24T04:10:14.177344Z"
    }
   },
   "outputs": [],
   "source": [
    "def test_example():\n",
    "    assert True"
   ]
  },
  {
   "cell_type": "code",
   "execution_count": 6,
   "metadata": {
    "ExecuteTime": {
     "end_time": "2021-06-24T04:10:14.833895Z",
     "start_time": "2021-06-24T04:10:14.830230Z"
    }
   },
   "outputs": [
    {
     "name": "stdout",
     "output_type": "stream",
     "text": [
      "collected 1 items\n",
      "\n"
     ]
    },
    {
     "data": {
      "text/html": [
       "<div id='test_example_result' style=\"white-space:pre\">test_example                                                          PASSED</div>"
      ]
     },
     "metadata": {},
     "output_type": "display_data"
    }
   ],
   "source": [
    "run_tests()"
   ]
  }
 ],
 "metadata": {
  "kernelspec": {
   "display_name": "davos",
   "language": "python",
   "name": "davos"
  },
  "language_info": {
   "codemirror_mode": {
    "name": "ipython",
    "version": 3
   },
   "file_extension": ".py",
   "mimetype": "text/x-python",
   "name": "python",
   "nbconvert_exporter": "python",
   "pygments_lexer": "ipython3",
   "version": "3.9.2"
  }
 },
 "nbformat": 4,
 "nbformat_minor": 2
}
