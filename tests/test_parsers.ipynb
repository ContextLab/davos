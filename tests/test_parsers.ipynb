{
 "cells": [
  {
   "cell_type": "code",
   "execution_count": null,
   "metadata": {
    "ExecuteTime": {
     "end_time": "2021-08-07T20:25:39.008376Z",
     "start_time": "2021-08-07T20:25:38.999627Z"
    }
   },
   "outputs": [],
   "source": [
    "GITHUB_USERNAME = \"$GITHUB_USERNAME$\"\n",
    "GITHUB_REF = \"$GITHUB_REF$\"\n",
    "NOTEBOOK_TYPE = \"$NOTEBOOK_TYPE$\"\n",
    "PYTHON_VERSION = \"$PYTHON_VERSION$\"\n",
    "IPYTHON_VERSION = \"$IPYTHON_VERSION$\""
   ]
  },
  {
   "cell_type": "code",
   "execution_count": null,
   "metadata": {
    "ExecuteTime": {
     "end_time": "2021-08-07T20:25:39.584403Z",
     "start_time": "2021-08-07T20:25:39.455811Z"
    }
   },
   "outputs": [],
   "source": [
    "import warnings\n",
    "from pathlib import Path\n",
    "\n",
    "import requests\n",
    "\n",
    "\n",
    "warnings.filterwarnings('error', module='davos')\n",
    "\n",
    "if NOTEBOOK_TYPE == 'colab':\n",
    "    # utils module doesn't exist on colab VM, so get current version from GitHub\n",
    "    utils_module = Path('utils.py').resolve()\n",
    "    response = requests.get(f'https://raw.githubusercontent.com/{GITHUB_USERNAME}/davos/{GITHUB_REF}/tests/utils.py')\n",
    "    utils_module.write_text(response.text)\n",
    "    # also need to install davos locally\n",
    "    from utils import install_davos\n",
    "    install_davos(source='github', ref=GITHUB_REF, fork=GITHUB_USERNAME)"
   ]
  },
  {
   "cell_type": "code",
   "execution_count": null,
   "metadata": {
    "ExecuteTime": {
     "end_time": "2021-08-07T20:26:24.819430Z",
     "start_time": "2021-08-07T20:26:24.816360Z"
    }
   },
   "outputs": [],
   "source": [
    "import argparse\n",
    "\n",
    "import davos\n",
    "from davos.core.exceptions import OnionArgumentError\n",
    "from davos.core.parsers import pip_parser\n",
    "\n",
    "from utils import raises, run_tests"
   ]
  },
  {
   "cell_type": "code",
   "execution_count": null,
   "metadata": {
    "ExecuteTime": {
     "end_time": "2021-08-07T20:25:42.304857Z",
     "start_time": "2021-08-07T20:25:42.301966Z"
    }
   },
   "outputs": [],
   "source": [
    "IPYTHON_SHELL = get_ipython()"
   ]
  },
  {
   "cell_type": "markdown",
   "metadata": {},
   "source": [
    "# tests for `davos.core.parsers`"
   ]
  },
  {
   "cell_type": "code",
   "execution_count": null,
   "metadata": {
    "ExecuteTime": {
     "end_time": "2021-07-22T16:18:15.471809Z",
     "start_time": "2021-07-22T16:18:15.467555Z"
    }
   },
   "outputs": [],
   "source": [
    "def test_args_suppressed_by_default():\n",
    "    \"\"\"\n",
    "    arguments not explicitly passed should not appear in Namespace, \n",
    "    *except for \"editable\" value*. \n",
    "    \"\"\"\n",
    "    assert pip_parser.argument_default == argparse.SUPPRESS\n",
    "    \n",
    "    args = ['foo']\n",
    "    expected = {\n",
    "        'editable': False,\n",
    "        'spec': 'foo'\n",
    "    }\n",
    "    parsed_args = vars(pip_parser.parse_args(args))\n",
    "    assert parsed_args == expected, (\n",
    "        f\"Expected:\\n\\t{expected}\\nFound:\\n\\t{parsed_args}\"\n",
    "    )"
   ]
  },
  {
   "cell_type": "code",
   "execution_count": null,
   "metadata": {},
   "outputs": [],
   "source": [
    "def test_editable_action():\n",
    "    \"\"\"\n",
    "    Test for EditableAction class -- special Action subclass for \n",
    "    '-e/--editable <path/url>' argument that sets 'editable=True' and \n",
    "    'spec=<path/url>'.\n",
    "    \"\"\"\n",
    "    # package name should always be assigned to 'spec', 'editable' \n",
    "    # should be True/False\n",
    "    args_regular = ['foo']\n",
    "    expected_regular = {\n",
    "        'spec': 'foo',\n",
    "        'editable': False\n",
    "    }\n",
    "    parsed_args_regular = vars(pip_parser.parse_args(args_regular))\n",
    "    assert parsed_args_regular == expected_regular, (\n",
    "        f\"Result:\\n{parsed_args_regular}\\nExpected:\\n{expected_regular}\"\n",
    "    )\n",
    "    \n",
    "    args_editable = '-e bar'.split()\n",
    "    expected_editable = {\n",
    "        'spec': 'bar',\n",
    "        'editable': True\n",
    "    }\n",
    "    parsed_args_editable = vars(pip_parser.parse_args(args_editable))\n",
    "    assert parsed_args_editable == expected_editable, (\n",
    "        f\"Result:\\n{parsed_args_editable}\\nExpected:\\n{expected_editable}\"\n",
    "    )\n",
    "    \n",
    "    # one of the two is required...\n",
    "    args_both = ''.split()\n",
    "    match_str_both = \"Onion comment must specify a package name\"\n",
    "    with raises(OnionArgumentError, match=match_str_both):\n",
    "        vars(pip_parser.parse_args(args_both))\n",
    "        \n",
    "    # and the two are mutually exclusive\n",
    "    args_neither = 'foo -e bar'.split()\n",
    "    match_str_neither = \"argument -e/--editable: not allowed with argument spec\"\n",
    "    with raises(OnionArgumentError, match=match_str_neither):\n",
    "        vars(pip_parser.parse_args(args_neither))"
   ]
  },
  {
   "cell_type": "code",
   "execution_count": null,
   "metadata": {
    "ExecuteTime": {
     "end_time": "2021-07-22T15:50:33.917647Z",
     "start_time": "2021-07-22T15:50:33.909089Z"
    }
   },
   "outputs": [],
   "source": [
    "def test_parser_bad_arg_type_raises():\n",
    "    \"\"\"passing the wrong Python type for the argument raises an error\"\"\"\n",
    "    args = '--timeout false'.split()\n",
    "    match_str = \"argument --timeout: invalid float value: 'false'\"\n",
    "    with raises(OnionArgumentError, match=match_str):\n",
    "        pip_parser.parse_args(args)"
   ]
  },
  {
   "cell_type": "code",
   "execution_count": null,
   "metadata": {},
   "outputs": [],
   "source": [
    "def test_unsupported_args_raises():\n",
    "    \"\"\"\n",
    "    should raise an error that lists all unsupported arguments passed, \n",
    "    if any\n",
    "    \"\"\"\n",
    "    args = '--not-real -A --rguments 100 --verbose'.split()\n",
    "    match_str = \"argument --not-real: Unrecognized arguments: --not-real -A --rguments\"\n",
    "    with raises(OnionArgumentError, match=match_str):\n",
    "        pip_parser.parse_args(args)"
   ]
  },
  {
   "cell_type": "code",
   "execution_count": null,
   "metadata": {},
   "outputs": [],
   "source": [
    "run_tests()"
   ]
  }
 ],
 "metadata": {
  "kernelspec": {
   "display_name": "kernel-env",
   "language": "python",
   "name": "kernel-env"
  },
  "language_info": {
   "codemirror_mode": {
    "name": "ipython",
    "version": 3
   },
   "file_extension": ".py",
   "mimetype": "text/x-python",
   "name": "python",
   "nbconvert_exporter": "python",
   "pygments_lexer": "ipython3",
   "version": "3.8.10"
  }
 },
 "nbformat": 4,
 "nbformat_minor": 2
}
