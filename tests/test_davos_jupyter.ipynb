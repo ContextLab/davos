{
 "cells": [
  {
   "cell_type": "code",
   "execution_count": 1,
   "metadata": {
    "ExecuteTime": {
     "end_time": "2021-06-24T03:22:00.996199Z",
     "start_time": "2021-06-24T03:22:00.972905Z"
    }
   },
   "outputs": [],
   "source": [
    "GITHUB_USERNAME = \"$GITHUB_USERNAME\"\n",
    "GITHUB_REF = \"$GITHUB_REF\"\n",
    "IPYTHON_SHELL = get_ipython()"
   ]
  },
  {
   "cell_type": "code",
   "execution_count": 2,
   "metadata": {
    "ExecuteTime": {
     "end_time": "2021-06-24T03:22:01.247150Z",
     "start_time": "2021-06-24T03:22:01.008488Z"
    }
   },
   "outputs": [],
   "source": [
    "import davos\n",
    "\n",
    "from utils import run_tests"
   ]
  },
  {
   "cell_type": "code",
   "execution_count": 3,
   "metadata": {
    "ExecuteTime": {
     "end_time": "2021-06-24T03:22:01.252249Z",
     "start_time": "2021-06-24T03:22:01.249989Z"
    }
   },
   "outputs": [],
   "source": [
    "def test_example_pass():\n",
    "    assert True"
   ]
  },
  {
   "cell_type": "code",
   "execution_count": 4,
   "metadata": {
    "ExecuteTime": {
     "end_time": "2021-06-24T03:22:01.257078Z",
     "start_time": "2021-06-24T03:22:01.254370Z"
    }
   },
   "outputs": [],
   "source": [
    "def test_example_fail():\n",
    "    assert True"
   ]
  },
  {
   "cell_type": "code",
   "execution_count": 5,
   "metadata": {
    "ExecuteTime": {
     "end_time": "2021-06-24T03:22:01.269888Z",
     "start_time": "2021-06-24T03:22:01.261051Z"
    },
    "scrolled": false
   },
   "outputs": [
    {
     "name": "stdout",
     "output_type": "stream",
     "text": [
      "collected 2 items\n",
      "\n"
     ]
    },
    {
     "data": {
      "text/html": [
       "<div id='test_example_pass_result' style=\"white-space:pre\">test_example_pass                                                     PASSED</div>"
      ]
     },
     "metadata": {},
     "output_type": "display_data"
    },
    {
     "data": {
      "text/html": [
       "<div id='test_example_fail_result' style=\"white-space:pre\">test_example_fail                                                     PASSED</div>"
      ]
     },
     "metadata": {},
     "output_type": "display_data"
    }
   ],
   "source": [
    "run_tests()"
   ]
  }
 ],
 "metadata": {
  "kernelspec": {
   "display_name": "davos",
   "language": "python",
   "name": "davos"
  },
  "language_info": {
   "codemirror_mode": {
    "name": "ipython",
    "version": 3
   },
   "file_extension": ".py",
   "mimetype": "text/x-python",
   "name": "python",
   "nbconvert_exporter": "python",
   "pygments_lexer": "ipython3",
   "version": "3.9.2"
  }
 },
 "nbformat": 4,
 "nbformat_minor": 2
}
