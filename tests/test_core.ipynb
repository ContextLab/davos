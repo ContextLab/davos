{
 "cells": [
  {
   "cell_type": "code",
   "execution_count": null,
   "metadata": {
    "ExecuteTime": {
     "end_time": "2021-07-12T18:46:37.365926Z",
     "start_time": "2021-07-12T18:46:37.356717Z"
    }
   },
   "outputs": [],
   "source": [
    "GITHUB_USERNAME = \"paxtonfitzpatrick\"#\"$GITHUB_USERNAME$\"\n",
    "GITHUB_REF = \"62cba0f23e89e5cb838ac84cd8ed88939bc4d784\"#\"$GITHUB_REF$\"\n",
    "NOTEBOOK_TYPE = \"jupyter\"#\"$NOTEBOOK_TYPE$\"\n",
    "PYTHON_VERSION = \"3.8\"#\"$PYTHON_VERSION$\"\n",
    "IPYTHON_VERSION = \"latest\"#\"$IPYTHON_VERSION$\""
   ]
  },
  {
   "cell_type": "code",
   "execution_count": null,
   "metadata": {
    "ExecuteTime": {
     "end_time": "2021-07-12T18:46:37.486936Z",
     "start_time": "2021-07-12T18:46:37.368837Z"
    }
   },
   "outputs": [],
   "source": [
    "import warnings\n",
    "from pathlib import Path\n",
    "\n",
    "import requests\n",
    "\n",
    "\n",
    "warnings.filterwarnings('error', module='davos')\n",
    "\n",
    "if NOTEBOOK_TYPE == 'colab':\n",
    "    # utils module doesn't exist on colab VM, so get current version from GitHub\n",
    "    utils_module = Path('utils.py').resolve()\n",
    "    response = requests.get(f'https://raw.githubusercontent.com/{GITHUB_USERNAME}/davos/{GITHUB_REF}/tests/utils.py')\n",
    "    utils_module.write_text(response.text)\n",
    "    # also need to install davos locally\n",
    "    from utils import install_davos\n",
    "    install_davos(source='github', ref=GITHUB_REF, fork=GITHUB_USERNAME)"
   ]
  },
  {
   "cell_type": "code",
   "execution_count": null,
   "metadata": {
    "ExecuteTime": {
     "end_time": "2021-07-12T18:58:09.107373Z",
     "start_time": "2021-07-12T18:58:09.103054Z"
    }
   },
   "outputs": [],
   "source": [
    "import sys\n",
    "import types\n",
    "from contextlib import redirect_stdout\n",
    "from io import StringIO\n",
    "from pathlib import Path\n",
    "from subprocess import CalledProcessError\n",
    "from textwrap import dedent\n",
    "\n",
    "import davos\n",
    "import IPython\n",
    "\n",
    "from utils import (\n",
    "    expected_onion_parser_output, \n",
    "    is_imported, \n",
    "    mark, \n",
    "    raises, \n",
    "    run_tests\n",
    ")"
   ]
  },
  {
   "cell_type": "code",
   "execution_count": null,
   "metadata": {
    "ExecuteTime": {
     "end_time": "2021-07-12T18:46:37.723451Z",
     "start_time": "2021-07-12T18:46:37.720452Z"
    }
   },
   "outputs": [],
   "source": [
    "IPYTHON_SHELL = get_ipython()\n",
    "\n",
    "_parse_onion = davos.core.core.Onion.parse_onion\n",
    "\n",
    "\n",
    "def _parse_line(line):\n",
    "    if IPYTHON_VERSION == 'latest' or int(IPYTHON_VERSION.split('.')[0]) >= 7:\n",
    "        line = [f\"{line}\\n\"]\n",
    "    return davos.implementations.full_parser(line)"
   ]
  },
  {
   "cell_type": "markdown",
   "metadata": {},
   "source": [
    "# tests for `davos.core.core`\n",
    "**Note**: regular expressions defined in `davos.core.regexps` but used in `davos.core.core` are tested in `test_regexps.ipynb`"
   ]
  },
  {
   "cell_type": "code",
   "execution_count": null,
   "metadata": {
    "ExecuteTime": {
     "end_time": "2021-07-12T18:46:37.731555Z",
     "start_time": "2021-07-12T18:46:37.725560Z"
    }
   },
   "outputs": [],
   "source": [
    "def test_capture_stdout_multistream():\n",
    "    \"\"\"\n",
    "    should write correct output to stdout (captured for test), \n",
    "    in-memory object, and file streams simultaneously\n",
    "    \"\"\"\n",
    "    msg = (\"Strictly speaking, I didn't do the theiving. That would be the \"\n",
    "           \"pirates. I just moved what they stole from one place to another\")\n",
    "    tmpfile = Path('tmpfile.txt')\n",
    "    try:\n",
    "        with redirect_stdout(StringIO()) as mock_stdout:\n",
    "            with davos.core.core.capture_stdout(\n",
    "                StringIO(), tmpfile.open('w')\n",
    "            ) as (mem_stream, file_stream):\n",
    "                print(msg, end='')\n",
    "                in_mem = mem_stream.getvalue()\n",
    "            \n",
    "            in_stdout = mock_stdout.getvalue()\n",
    "        \n",
    "        in_file = tmpfile.read_text()\n",
    "        \n",
    "        assert mem_stream.closed, \"StringIO object was not closed\"\n",
    "        assert file_stream.closed, \"file stream was not closed\"\n",
    "\n",
    "        assert in_stdout == msg, (\n",
    "            \"content written to stdout doesn't match original. Expected:\\n\"\n",
    "            f\"\\\"{msg}\\\"\\n\\nFound:\\n\\\"{in_stdout}\\\"\"\n",
    "        )\n",
    "        assert in_mem == msg, (\n",
    "            \"content written to StringIO object doesn't match original. \"\n",
    "            f\"Expected:\\n\\\"{msg}\\\"\\n\\nFound:\\n\\\"{in_stdout}\\\"\"\n",
    "        )\n",
    "        assert in_file == msg, (\n",
    "            \"content written to file doesn't match original. Expected:\\n\"\n",
    "            f\"\\\"{msg}\\\"\\n\\nFound:\\n\\\"{in_file}\\\"\"\n",
    "        )\n",
    "    finally:\n",
    "        if not mem_stream.closed:\n",
    "            mem_stream.close()\n",
    "        if not file_stream.closed:\n",
    "            file_stream.close()\n",
    "        if tmpfile.is_file():\n",
    "            tmpfile.unlink()"
   ]
  },
  {
   "cell_type": "code",
   "execution_count": null,
   "metadata": {
    "ExecuteTime": {
     "end_time": "2021-07-12T18:46:37.738123Z",
     "start_time": "2021-07-12T18:46:37.733953Z"
    }
   },
   "outputs": [],
   "source": [
    "def test_capture_stdout_not_closing():\n",
    "    \"\"\"\n",
    "    passing 'closing=True' should prevent streams from closing when \n",
    "    exiting context block\n",
    "    \"\"\"\n",
    "    msg = (\"Strictly speaking, I didn't do the theiving. That would be the \"\n",
    "           \"pirates. I just moved what they stole from one place to another\")\n",
    "    try:\n",
    "        with davos.core.core.capture_stdout(StringIO(), closing=False) as mem_stream:\n",
    "            print(msg, end='')\n",
    "                \n",
    "        assert not mem_stream.closed, (\n",
    "            \"StringIO stream was closed despite passing 'closing=False'\"\n",
    "        )\n",
    "    finally:\n",
    "        mem_stream.close()"
   ]
  },
  {
   "cell_type": "code",
   "execution_count": null,
   "metadata": {
    "ExecuteTime": {
     "end_time": "2021-07-12T18:46:37.742431Z",
     "start_time": "2021-07-12T18:46:37.739748Z"
    }
   },
   "outputs": [],
   "source": [
    "@mark.ipython_pre7\n",
    "def test_check_conda_ipython_pre7():\n",
    "    \"\"\"\n",
    "    conda is not available on Google Colaboratory and not yet supported \n",
    "    for IPython<7.0.0\n",
    "    \"\"\"\n",
    "    davos.core.core.check_conda()\n",
    "    assert davos.config.conda_avail is False\n",
    "    assert davos.config.conda_env is None\n",
    "    assert davos.config.conda_envs_dirs is None"
   ]
  },
  {
   "cell_type": "code",
   "execution_count": null,
   "metadata": {
    "ExecuteTime": {
     "end_time": "2021-07-12T18:46:37.750176Z",
     "start_time": "2021-07-12T18:46:37.746904Z"
    }
   },
   "outputs": [],
   "source": [
    "@mark.ipython_post7\n",
    "def test_check_conda_ipython_post7():\n",
    "    \"\"\"basic test for expected values\"\"\"\n",
    "    davos.core.core.check_conda()\n",
    "    assert davos.config.conda_avail is True\n",
    "    assert davos.config.conda_env == 'kernel-env'\n",
    "    assert isinstance(davos.config.conda_envs_dirs, dict)"
   ]
  },
  {
   "cell_type": "code",
   "execution_count": null,
   "metadata": {
    "ExecuteTime": {
     "end_time": "2021-07-12T18:46:37.760540Z",
     "start_time": "2021-07-12T18:46:37.753732Z"
    }
   },
   "outputs": [],
   "source": [
    "def test_check_conda_stdout_parsing():\n",
    "    \"\"\"\n",
    "    check that 'conda_avail', 'conda_env', and 'conda_envs_dirs' config \n",
    "    fields are set correctly. Temporarily overloads \n",
    "    '_check_conda_avail_helper' and 'run_shell_command' functions with \n",
    "    functions defined below to compare expected values & results.\n",
    "    \"\"\"\n",
    "    old_conda_avail = davos.config._conda_avail\n",
    "    old_conda_env = davos.config._conda_env\n",
    "    old_conda_envs_dirs = davos.config._conda_envs_dirs\n",
    "    old__check_conda_avail_helper = davos.core.core._check_conda_avail_helper\n",
    "    old_run_shell_command = davos.core.core.run_shell_command\n",
    "    \n",
    "    mock_conda_list_output = dedent(\"\"\"\\\n",
    "    # packages in environment at /path/to/anaconda3/envs/mock-current-env:\n",
    "    #\n",
    "    # Name                    Version                   Build  Channel\n",
    "    ipython                   X.X.X                    YYYYYY    ZZZZ\n",
    "    etc...\"\"\")\n",
    "    mock_conda_info_output = dedent(\"\"\"\\\n",
    "    base /path/to/anaconda3\n",
    "    mock-current-env /path/to/anaconda3/envs/mock-current-env\n",
    "    mock-other-env /path/to/anaconda3/envs/mock-other-env\"\"\")\n",
    "    \n",
    "    expected_conda_envs_dirs = {\n",
    "        'base': '/path/to/anaconda3',\n",
    "        'mock-current-env': '/path/to/anaconda3/envs/mock-current-env',\n",
    "        'mock-other-env': '/path/to/anaconda3/envs/mock-other-env'\n",
    "    }\n",
    "    \n",
    "    def _mock_check_conda_avail_helper():\n",
    "        return mock_conda_list_output\n",
    "    \n",
    "    def _mock_run_shell_command(command, live_stdout=None):\n",
    "        if command == \"conda info --envs | grep -E '^\\w' | sed -E 's/ +\\*? +/ /g'\":\n",
    "            return mock_conda_info_output\n",
    "        else:\n",
    "            return old_run_shell_command(command, live_stdout=live_stdout)\n",
    "    \n",
    "    try:\n",
    "        davos.core.core._check_conda_avail_helper = _mock_check_conda_avail_helper\n",
    "        davos.core.core.run_shell_command = _mock_run_shell_command\n",
    "        \n",
    "        davos.core.core.check_conda()\n",
    "        \n",
    "        assert davos.config.conda_avail is True\n",
    "        assert davos.config.conda_env == 'mock-current-env', (\n",
    "            f\"Found: {davos.config.conda_env}\"\n",
    "        )\n",
    "        assert davos.config.conda_envs_dirs == expected_conda_envs_dirs, (\n",
    "            f\"Expected: {expected_conda_envs_dirs}\\nFound: \"\n",
    "            f\"{davos.config.conda_envs_dirs}\"\n",
    "        )\n",
    "    finally:\n",
    "        davos.config._conda_avail = old_conda_avail\n",
    "        davos.config._conda_env = old_conda_env\n",
    "        davos.config._conda_envs_dirs = old_conda_envs_dirs\n",
    "        davos.core.core._check_conda_avail_helper = old__check_conda_avail_helper\n",
    "        davos.core.core.run_shell_command = old_run_shell_command"
   ]
  },
  {
   "cell_type": "code",
   "execution_count": null,
   "metadata": {
    "ExecuteTime": {
     "end_time": "2021-07-12T18:46:37.768571Z",
     "start_time": "2021-07-12T18:46:37.762696Z"
    }
   },
   "outputs": [],
   "source": [
    "def test_check_conda_bad_info_cmd():\n",
    "    \"\"\"\n",
    "    when parsing 'conda list ipython' output is successful but parsing \n",
    "    'conda info --envs' output fails, 'conda_avail' and 'conda_env' \n",
    "    config fields should still be assigned correctly, but \n",
    "    'conda_envs_dirs' field should be 'None'\n",
    "    \"\"\"\n",
    "    old_conda_avail = davos.config._conda_avail\n",
    "    old_conda_env = davos.config._conda_env\n",
    "    old_conda_envs_dirs = davos.config._conda_envs_dirs\n",
    "    old__check_conda_avail_helper = davos.core.core._check_conda_avail_helper\n",
    "    old_run_shell_command = davos.core.core.run_shell_command\n",
    "    \n",
    "    mock_conda_list_output = dedent(\"\"\"\\\n",
    "    # packages in environment at /path/to/anaconda3/envs/mock-current-env:\n",
    "    #\n",
    "    # Name                    Version                   Build  Channel\n",
    "    ipython                   X.X.X                    YYYYYY    ZZZZ\n",
    "    etc...\"\"\")\n",
    "    \n",
    "    def _mock_check_conda_avail_helper():\n",
    "        return mock_conda_list_output\n",
    "    \n",
    "    def _mock_run_shell_command(command, live_stdout=None):\n",
    "        if command == \"conda info --envs | grep -E '^\\w' | sed -E 's/ +\\*? +/ /g'\":\n",
    "            raise Exception\n",
    "        else:\n",
    "            return old_run_shell_command(command, live_stdout=live_stdout)\n",
    "    \n",
    "    try:\n",
    "        davos.core.core._check_conda_avail_helper = _mock_check_conda_avail_helper\n",
    "        davos.core.core.run_shell_command = _mock_run_shell_command\n",
    "        \n",
    "        davos.core.core.check_conda()\n",
    "        \n",
    "        assert davos.config.conda_avail is True\n",
    "        assert davos.config.conda_env == 'mock-current-env', (\n",
    "            f\"Found: {davos.config.conda_env}\"\n",
    "        )\n",
    "        assert davos.config.conda_envs_dirs is None\n",
    "    finally:\n",
    "        davos.config._conda_avail = old_conda_avail\n",
    "        davos.config._conda_env = old_conda_env\n",
    "        davos.config._conda_envs_dirs = old_conda_envs_dirs\n",
    "        davos.core.core._check_conda_avail_helper = old__check_conda_avail_helper\n",
    "        davos.core.core.run_shell_command = old_run_shell_command"
   ]
  },
  {
   "cell_type": "code",
   "execution_count": null,
   "metadata": {
    "ExecuteTime": {
     "end_time": "2021-07-12T18:46:37.777622Z",
     "start_time": "2021-07-12T18:46:37.770807Z"
    }
   },
   "outputs": [],
   "source": [
    "def test_check_conda_bad_list_cmd_raises():\n",
    "    \"\"\"\n",
    "    when 'conda list ipython' output is parsed successfully, but yields \n",
    "    an environment name not in the dict parsed from the output of \n",
    "    'conda info --envs', 'check_conda' function should raise a \n",
    "    'DavosError'\n",
    "    \"\"\"\n",
    "    old_conda_avail = davos.config._conda_avail\n",
    "    old_conda_env = davos.config._conda_env\n",
    "    old_conda_envs_dirs = davos.config._conda_envs_dirs\n",
    "    old__check_conda_avail_helper = davos.core.core._check_conda_avail_helper\n",
    "    old_run_shell_command = davos.core.core.run_shell_command\n",
    "    \n",
    "    mock_conda_list_output = dedent(\"\"\"\\\n",
    "    # packages in environment at bad-env-path:\n",
    "    #\n",
    "    # Name                    Version                   Build  Channel\n",
    "    ipython                   X.X.X                    YYYYYY    ZZZZ\n",
    "    etc...\"\"\")\n",
    "    mock_conda_info_output = dedent(\"\"\"\\\n",
    "    base /path/to/anaconda3\n",
    "    mock-current-env /path/to/anaconda3/envs/mock-current-env\n",
    "    mock-other-env /path/to/anaconda3/envs/mock-other-env\"\"\")\n",
    "    \n",
    "    expected_conda_envs_dirs = {\n",
    "        'base': '/path/to/anaconda3',\n",
    "        'mock-current-env': '/path/to/anaconda3/envs/mock-current-env',\n",
    "        'mock-other-env': '/path/to/anaconda3/envs/mock-other-env'\n",
    "    }\n",
    "    \n",
    "    def _mock_check_conda_avail_helper():\n",
    "        return mock_conda_list_output\n",
    "    \n",
    "    def _mock_run_shell_command(command, live_stdout=None):\n",
    "        if command == \"conda info --envs | grep -E '^\\w' | sed -E 's/ +\\*? +/ /g'\":\n",
    "            return mock_conda_info_output\n",
    "        else:\n",
    "            return old_run_shell_command(command, live_stdout=live_stdout)\n",
    "    \n",
    "    try:\n",
    "        davos.core.core._check_conda_avail_helper = _mock_check_conda_avail_helper\n",
    "        davos.core.core.run_shell_command = _mock_run_shell_command\n",
    "        \n",
    "        with raises(davos.core.exceptions.DavosError):\n",
    "            davos.core.core.check_conda()\n",
    "\n",
    "    finally:\n",
    "        davos.config._conda_avail = old_conda_avail\n",
    "        davos.config._conda_env = old_conda_env\n",
    "        davos.config._conda_envs_dirs = old_conda_envs_dirs\n",
    "        davos.core.core._check_conda_avail_helper = old__check_conda_avail_helper\n",
    "        davos.core.core.run_shell_command = old_run_shell_command"
   ]
  },
  {
   "cell_type": "code",
   "execution_count": null,
   "metadata": {
    "ExecuteTime": {
     "end_time": "2021-07-12T18:46:37.782887Z",
     "start_time": "2021-07-12T18:46:37.779873Z"
    }
   },
   "outputs": [],
   "source": [
    "def test_get_previously_imported_pkgs():\n",
    "    \"\"\"\n",
    "    should return names of packages imported during this interpreter \n",
    "    session, whether from within the current notebook (davos, requests)\n",
    "    or elsewhere (IPython, urllib3), but ignore all other names \n",
    "    (scikit-learn, selenium). Uses mock 'pip-install'-like output to set \n",
    "    up expected results. Tests against real output in \n",
    "    'test_regexps.ipynb'.\n",
    "    \"\"\"\n",
    "    mock_stdout = (\"Successfully installed davos-0.0.0 IPython-1.1.1 \"\n",
    "              \"requests-2.2.2 scikit-learn-3.3.3 selenium-4.4.4 urllib3-5.5.5\")\n",
    "    expected = ['davos', 'IPython', 'requests', 'urllib3']\n",
    "    result = davos.core.core.get_previously_imported_pkgs(mock_stdout, 'pip')\n",
    "    assert result == expected, f\"Expected:\\n'{expected}'\\nFound:\\n'{result}'\""
   ]
  },
  {
   "cell_type": "code",
   "execution_count": null,
   "metadata": {
    "ExecuteTime": {
     "end_time": "2021-07-12T18:46:37.788088Z",
     "start_time": "2021-07-12T18:46:37.784788Z"
    }
   },
   "outputs": [],
   "source": [
    "def test_get_previously_imported_pkgs_conda_raises():\n",
    "    \"\"\"passing 'installer-\"conda\"' should raise 'NotImplementedError'\"\"\"\n",
    "    with raises(NotImplementedError):\n",
    "        davos.core.core.get_previously_imported_pkgs('', 'conda')"
   ]
  },
  {
   "cell_type": "code",
   "execution_count": null,
   "metadata": {
    "ExecuteTime": {
     "end_time": "2021-07-12T18:46:37.795211Z",
     "start_time": "2021-07-12T18:46:37.790923Z"
    }
   },
   "outputs": [],
   "source": [
    "def test_import_name_pkg():\n",
    "    \"\"\"test importing a top-level package.\"\"\"\n",
    "    try:\n",
    "        assert not is_imported('scipy')\n",
    "        scipy = davos.core.core.import_name('scipy')\n",
    "        assert isinstance(scipy, types.ModuleType), (\n",
    "            f\"type(scipy): {type(scipy)}\\nMRO: {type(scipy).mro()}\"\n",
    "        )\n",
    "        assert not hasattr(scipy, 'stats'), (\n",
    "            \"scipy.stats submodule should not be loaded\"\n",
    "        )\n",
    "        assert 'scipy' in sys.modules\n",
    "    finally:\n",
    "        for mod_name in tuple(sys.modules.keys()):\n",
    "            if 'scipy' in mod_name:\n",
    "                sys.modules.pop(mod_name)"
   ]
  },
  {
   "cell_type": "code",
   "execution_count": null,
   "metadata": {
    "ExecuteTime": {
     "end_time": "2021-07-12T18:46:37.802027Z",
     "start_time": "2021-07-12T18:46:37.797501Z"
    }
   },
   "outputs": [],
   "source": [
    "def test_import_name_module():\n",
    "    \"\"\"test importing a module from a package.\"\"\"\n",
    "    try:\n",
    "        assert not is_imported('scipy')\n",
    "        stats = davos.core.core.import_name('scipy.stats')\n",
    "        assert isinstance(stats, types.ModuleType), (\n",
    "            f\"type(stats): {type(stats)}\\nMRO: {type(stats).mro()}\"\n",
    "        )\n",
    "        assert not hasattr(stats, 'tests'), (\n",
    "            \"scipy.stats.tests submodule should not be loaded\"\n",
    "        )\n",
    "        assert 'scipy' in sys.modules\n",
    "        assert 'scipy.stats' in sys.modules\n",
    "    finally:\n",
    "        for mod_name in tuple(sys.modules.keys()):\n",
    "            if 'scipy' in mod_name:\n",
    "                sys.modules.pop(mod_name)"
   ]
  },
  {
   "cell_type": "code",
   "execution_count": null,
   "metadata": {
    "ExecuteTime": {
     "end_time": "2021-07-12T18:46:37.808343Z",
     "start_time": "2021-07-12T18:46:37.803974Z"
    }
   },
   "outputs": [],
   "source": [
    "def test_import_name_function():\n",
    "    \"\"\"test importing a function by its qualified name\"\"\"\n",
    "    try:\n",
    "        assert not is_imported('scipy')\n",
    "        ttest_ind = davos.core.core.import_name('scipy.stats.ttest_ind')\n",
    "        assert isinstance(ttest_ind, types.FunctionType), (\n",
    "            f\"type(scipy): {type(ttest_ind)}\\nMRO: {type(ttest_ind).mro()}\"\n",
    "        )\n",
    "        assert ttest_ind.__module__ == 'scipy.stats.stats', (\n",
    "            f\"Expected: 'scipy.stats.stats'\\nFound: '{ttest_ind.__module__}'\"\n",
    "        )\n",
    "        assert 'scipy' in sys.modules\n",
    "        assert 'scipy.stats' in sys.modules\n",
    "        assert 'scipy.stats.stats' in sys.modules\n",
    "    finally:\n",
    "        for mod_name in tuple(sys.modules.keys()):\n",
    "            if 'scipy' in mod_name:\n",
    "                sys.modules.pop(mod_name)"
   ]
  },
  {
   "cell_type": "code",
   "execution_count": null,
   "metadata": {
    "ExecuteTime": {
     "end_time": "2021-07-12T18:46:37.814298Z",
     "start_time": "2021-07-12T18:46:37.810441Z"
    }
   },
   "outputs": [],
   "source": [
    "def test_parse_onion_simple():\n",
    "    \"\"\"simplest case\"\"\"\n",
    "    onion = '# pip: foo==0.0.1'\n",
    "    expected = expected_onion_parser_output('foo==0.0.1')\n",
    "    result = _parse_onion(onion)\n",
    "    assert result == expected, f\"Expected:\\n{expected}\\nResult:\\n{result}\""
   ]
  },
  {
   "cell_type": "code",
   "execution_count": null,
   "metadata": {
    "ExecuteTime": {
     "end_time": "2021-07-12T18:46:37.819120Z",
     "start_time": "2021-07-12T18:46:37.816476Z"
    }
   },
   "outputs": [],
   "source": [
    "def test_parse_onion_conda_raises():\n",
    "    \"\"\"installing with conda is not yet supported\"\"\"\n",
    "    onion = '# conda: foo==0.0.1'\n",
    "    with raises(davos.core.exceptions.ParserNotImplementedError):\n",
    "        _parse_onion(onion)"
   ]
  },
  {
   "cell_type": "code",
   "execution_count": null,
   "metadata": {
    "ExecuteTime": {
     "end_time": "2021-07-12T18:46:37.824734Z",
     "start_time": "2021-07-12T18:46:37.821698Z"
    }
   },
   "outputs": [],
   "source": [
    "def test_parse_onion_bad_installer_raises():\n",
    "    \"\"\"should throw an error if an unrecognized installer is specified\"\"\"\n",
    "    onion = '# apt: foo==0.0.1'\n",
    "    with raises(davos.core.exceptions.OnionParserError):\n",
    "        _parse_onion(onion)"
   ]
  },
  {
   "cell_type": "code",
   "execution_count": null,
   "metadata": {
    "ExecuteTime": {
     "end_time": "2021-07-12T18:46:37.832162Z",
     "start_time": "2021-07-12T18:46:37.827673Z"
    }
   },
   "outputs": [],
   "source": [
    "def test_parse_onion_whitespace():\n",
    "    \"\"\"onion comment should be whitespace-insensitive\"\"\"\n",
    "    onion = '#             pip:            foo==0.0.1'\n",
    "    expected = expected_onion_parser_output('foo==0.0.1')\n",
    "    result = _parse_onion(onion)\n",
    "    assert result == expected, f\"Expected:\\n{expected}\\nResult:\\n{result}\""
   ]
  },
  {
   "cell_type": "code",
   "execution_count": null,
   "metadata": {
    "ExecuteTime": {
     "end_time": "2021-07-12T18:46:37.838703Z",
     "start_time": "2021-07-12T18:46:37.835280Z"
    }
   },
   "outputs": [],
   "source": [
    "def test_parse_onion_github():\n",
    "    \"\"\"test parsing a VCS (specifically GitHub) url\"\"\"\n",
    "    onion = '# pip: git+https://github.com/foo/bar.git@branch-name#egg=foo&subdirectory=baz'\n",
    "    expected = expected_onion_parser_output('git+https://github.com/foo/bar.git@branch-name#egg=foo&subdirectory=baz')\n",
    "    result = _parse_onion(onion)\n",
    "    assert result == expected, f\"Expected:\\n{expected}\\nResult:\\n{result}\""
   ]
  },
  {
   "cell_type": "code",
   "execution_count": null,
   "metadata": {
    "ExecuteTime": {
     "end_time": "2021-07-12T18:46:37.845343Z",
     "start_time": "2021-07-12T18:46:37.841167Z"
    }
   },
   "outputs": [],
   "source": [
    "def test_parse_onion_editable():\n",
    "    \"\"\"GitHub URL like above, but with the --editable flag supplied\"\"\"\n",
    "    onion = '# pip: --editable git+https://github.com/foo/bar.git'\n",
    "    expected = expected_onion_parser_output('--editable git+https://github.com/foo/bar.git', \n",
    "                                            editable=True, \n",
    "                                            spec='git+https://github.com/foo/bar.git')\n",
    "    result = _parse_onion(onion)\n",
    "    assert result == expected, f\"Expected:\\n{expected}\\nResult:\\n{result}\""
   ]
  },
  {
   "cell_type": "code",
   "execution_count": null,
   "metadata": {
    "ExecuteTime": {
     "end_time": "2021-07-12T18:46:37.858109Z",
     "start_time": "2021-07-12T18:46:37.854315Z"
    }
   },
   "outputs": [],
   "source": [
    "def test_parse_onion_joined_short_args():\n",
    "    onion = '# pip: -Ive git+https://github.com/foo/bar.git'\n",
    "    expected = expected_onion_parser_output('-Ive git+https://github.com/foo/bar.git', \n",
    "                                            editable=True, \n",
    "                                            ignore_installed=True, \n",
    "                                            verbosity=1,\n",
    "                                            spec='git+https://github.com/foo/bar.git')\n",
    "    result = _parse_onion(onion)\n",
    "    assert result == expected, f\"Expected:\\n{expected}\\nResult:\\n{result}\""
   ]
  },
  {
   "cell_type": "code",
   "execution_count": null,
   "metadata": {
    "ExecuteTime": {
     "end_time": "2021-07-12T18:46:37.874150Z",
     "start_time": "2021-07-12T18:46:37.863056Z"
    }
   },
   "outputs": [],
   "source": [
    "def test_onion_simple():\n",
    "    \"\"\"\n",
    "    simple Onion object created from 'smuggle' statement with no onion \n",
    "    comment.\n",
    "        `smuggle foo`\n",
    "    \"\"\"\n",
    "    onion = davos.core.core.Onion('foo', installer='pip', args_str=\"\"\"\"\"\")\n",
    "    assert onion.install_package == onion._pip_install_package, (\n",
    "        f\"Expected:\\n{onion._pip_install_package}\\nFound:\\n\"\n",
    "        f\"{onion.install_package}\"\n",
    "    )\n",
    "    assert onion.build is None, f\"Expected: None\\nFound: {onion.build}\"\n",
    "    assert onion.cache_key == 'pip;', (\n",
    "        f\"Expected:\\npip;\\nFound:\\n{onion.cache_key}\"\n",
    "    )\n",
    "    assert onion.verbosity == 0, f\"Expected: 0\\nFound: {onion.verbosity}\"\n",
    "    assert onion.install_name == 'foo', (\n",
    "        f\"Expected\\nfoo\\nFound:\\n{onion.install_name}\"\n",
    "    )\n",
    "    assert onion.version_spec == '', (\n",
    "        f\"Expected: ''\\nFound: {onion.version_spec}\"\n",
    "    )"
   ]
  },
  {
   "cell_type": "code",
   "execution_count": null,
   "metadata": {
    "ExecuteTime": {
     "end_time": "2021-07-12T18:46:37.886300Z",
     "start_time": "2021-07-12T18:46:37.876540Z"
    }
   },
   "outputs": [],
   "source": [
    "def test_onion_simple_onion():\n",
    "    \"\"\"\n",
    "    like above, but with a relatively simple onion comment\n",
    "        `smuggle foo    # pip: foo==0.0.1 -vv`\n",
    "    \"\"\"\n",
    "    installer_kwargs = {\n",
    "        'editable': False, \n",
    "        'spec': 'foo==0.0.1', \n",
    "        'verbosity': 2\n",
    "    }\n",
    "    onion = davos.core.core.Onion('foo', \n",
    "                                  installer='pip', \n",
    "                                  args_str=\"\"\"foo==0.0.1 -vv\"\"\", \n",
    "                                  **installer_kwargs)\n",
    "    assert onion.install_package == onion._pip_install_package, (\n",
    "        f\"Expected:\\n{onion._pip_install_package}\\nFound:\\n\"\n",
    "        f\"{onion.install_package}\"\n",
    "    )\n",
    "    assert onion.build is None, f\"Expected: None\\nFound: {onion.build}\"\n",
    "    assert onion.cache_key == 'pip;foo==0.0.1;-vv', (\n",
    "        f\"Expected:\\npip;foo==0.0.1;-vv\\nFound:\\n{onion.cache_key}\"\n",
    "    )\n",
    "    assert onion.verbosity == 2, f\"Expected: 2\\nFound: {onion.verbosity}\"\n",
    "    assert onion.install_name == 'foo', (\n",
    "        f\"Expected\\nfoo\\nFound:\\n{onion.install_name}\"\n",
    "    )\n",
    "    assert onion.version_spec == '==0.0.1', (\n",
    "        f\"Expected: '==0.0.1'\\nFound: {onion.version_spec}\"\n",
    "    )"
   ]
  },
  {
   "cell_type": "code",
   "execution_count": null,
   "metadata": {
    "ExecuteTime": {
     "end_time": "2021-07-12T18:46:37.898759Z",
     "start_time": "2021-07-12T18:46:37.889831Z"
    }
   },
   "outputs": [],
   "source": [
    "def test_onion_different_install_name():\n",
    "    \"\"\"\n",
    "    a package imported under a different name than is used to install it\n",
    "        `smuggle foo    # pip: --editable foo-pkg==0.0.1`\n",
    "    \"\"\"\n",
    "    installer_kwargs = {\n",
    "        'editable': True, \n",
    "        'spec': 'foo-pkg==0.0.1'\n",
    "    }\n",
    "    onion = davos.core.core.Onion('foo', \n",
    "                                  installer='pip', \n",
    "                                  args_str=\"\"\"--editable foo-pkg==0.0.1\"\"\", \n",
    "                                  **installer_kwrags)\n",
    "    assert onion.install_package == onion._pip_install_package, (\n",
    "        f\"Expected:\\n{onion._pip_install_package}\\nFound:\\n\"\n",
    "        f\"{onion.install_package}\"\n",
    "    )\n",
    "    assert onion.build is None, f\"Expected: None\\nFound: {onion.build}\"\n",
    "    assert onion.cache_key == 'pip;--editable;foo-pkg==0.0.1', (\n",
    "        f\"Expected:\\npip;--editable;foo==0.0.1\\nFound:\\n{onion.cache_key}\"\n",
    "    )\n",
    "    assert onion.verbosity == 0, f\"Expected: 2\\nFound: {onion.verbosity}\"\n",
    "    assert onion.install_name == 'foo-pkg', (\n",
    "        f\"Expected\\nfoo-pkg\\nFound:\\n{onion.install_name}\"\n",
    "    )\n",
    "    assert onion.version_spec == '==0.0.1', (\n",
    "        f\"Expected: '==0.0.1'\\nFound: {onion.version_spec}\"\n",
    "    )"
   ]
  },
  {
   "cell_type": "code",
   "execution_count": null,
   "metadata": {
    "ExecuteTime": {
     "end_time": "2021-07-12T18:46:37.904605Z",
     "start_time": "2021-07-12T18:46:37.901242Z"
    }
   },
   "outputs": [],
   "source": [
    "def test_onion_conda_raises():\n",
    "    \"\"\"passing 'installer=\"conda\"' should raise NotImplementedError\"\"\"\n",
    "    with raises(NotImplementedError):\n",
    "        onion = davos.core.core.Onion('foo', installer='conda', args_str=\"\"\"\"\"\")"
   ]
  },
  {
   "cell_type": "code",
   "execution_count": null,
   "metadata": {
    "ExecuteTime": {
     "end_time": "2021-07-12T18:46:37.910066Z",
     "start_time": "2021-07-12T18:46:37.907022Z"
    }
   },
   "outputs": [],
   "source": [
    "def test_onion_bad_installer_raises():\n",
    "    \"\"\"should throw an error if passed an unrecognized installer\"\"\"\n",
    "    with raises(davos.core.exceptions.InstallerError):\n",
    "        onion = davos.core.core.Onion('foo', installer='apt', args_str=\"\"\"\"\"\")"
   ]
  },
  {
   "cell_type": "code",
   "execution_count": null,
   "metadata": {
    "ExecuteTime": {
     "end_time": "2021-07-12T18:46:37.920133Z",
     "start_time": "2021-07-12T18:46:37.912052Z"
    }
   },
   "outputs": [],
   "source": [
    "def test_onion_vcs_simple():\n",
    "    \"\"\"\n",
    "    relatively simple VCS (GitHub) URL without modifiers\n",
    "        `smuggle bar    # pip: git+https://github.com/foo/bar.git`\n",
    "    \"\"\"\n",
    "    installer_kwargs = {\n",
    "        'editable': False,\n",
    "        'spec': 'git+https://github.com/foo/bar.git'\n",
    "    }\n",
    "    onion = davos.core.core.Onion('bar', \n",
    "                                  installer='pip', \n",
    "                                  args_str=\"\"\"git+https://github.com/foo/bar.git\"\"\", \n",
    "                                  **installer_kwargs)\n",
    "    assert onion.install_package == onion._pip_install_package, (\n",
    "        f\"Expected:\\n{onion._pip_install_package}\\nFound:\\n\"\n",
    "        f\"{onion.install_package}\"\n",
    "    )\n",
    "    assert onion.build is None, f\"Expected: None\\nFound: {onion.build}\"\n",
    "    assert onion.cache_key == 'pip;git+https://github.com/foo/bar.git', (\n",
    "        \"Expected:\\npip;git+https://github.com/foo/bar.git\\nFound:\\n\"\n",
    "        f\"{onion.cache_key}\"\n",
    "    )\n",
    "    assert onion.verbosity == 0, f\"Expected: 0\\nFound: {onion.verbosity}\"\n",
    "    assert onion.install_name == 'git+https://github.com/foo/bar.git', (\n",
    "        \"Expected\\ngit+https://github.com/foo/bar.git\\nFound:\\n\"\n",
    "        f\"{onion.install_name}\"\n",
    "    )\n",
    "    assert onion.version_spec == '', (\n",
    "        f\"Expected: ''\\nFound: {onion.version_spec}\"\n",
    "    )"
   ]
  },
  {
   "cell_type": "code",
   "execution_count": null,
   "metadata": {
    "ExecuteTime": {
     "end_time": "2021-07-12T18:46:37.931767Z",
     "start_time": "2021-07-12T18:46:37.922133Z"
    }
   },
   "outputs": [],
   "source": [
    "def test_onion_vcs_ref():\n",
    "    \"\"\"\n",
    "    same as above, but the GitHub URL contains a reference to a specific \n",
    "    revision (commit, branch, tag, etc.)\n",
    "        `smuggle bar    # pip: git+https://github.com/foo/bar.git@ref`\n",
    "    \"\"\"\n",
    "    installer_kwargs = {\n",
    "        'editable': False,\n",
    "        'spec': 'git+https://github.com/foo/bar.git@ref'\n",
    "    }\n",
    "    onion = davos.core.core.Onion('bar', \n",
    "                                  installer='pip', \n",
    "                                  args_str=\"\"\"git+https://github.com/foo/bar.git@ref\"\"\", \n",
    "                                  **installer_kwargs)\n",
    "    assert onion.install_package == onion._pip_install_package, (\n",
    "        f\"Expected:\\n{onion._pip_install_package}\\nFound:\\n\"\n",
    "        f\"{onion.install_package}\"\n",
    "    )\n",
    "    assert onion.build is None, f\"Expected: None\\nFound: {onion.build}\"\n",
    "    assert onion.cache_key == 'pip;git+https://github.com/foo/bar.git@ref', (\n",
    "        \"Expected:\\npip;git+https://github.com/foo/bar.git@ref\\nFound:\\n\"\n",
    "        f\"{onion.cache_key}\"\n",
    "    )\n",
    "    assert onion.verbosity == 0, f\"Expected: 0\\nFound: {onion.verbosity}\"\n",
    "    assert onion.install_name == 'git+https://github.com/foo/bar.git', (\n",
    "        \"Expected\\ngit+https://github.com/foo/bar.git\\nFound:\\n\"\n",
    "        f\"{onion.install_name}\"\n",
    "    )\n",
    "    assert onion.version_spec == '@ref', (\n",
    "        f\"Expected: '@ref'\\nFound: {onion.version_spec}\"\n",
    "    )"
   ]
  },
  {
   "cell_type": "code",
   "execution_count": null,
   "metadata": {
    "ExecuteTime": {
     "end_time": "2021-07-12T18:46:37.944156Z",
     "start_time": "2021-07-12T18:46:37.934548Z"
    }
   },
   "outputs": [],
   "source": [
    "def test_onion_vcs_ref_egg():\n",
    "    \"\"\"\n",
    "    same as above, but the GitHub URL also specifies the project name \n",
    "    via the '#egg=' component of the URL\n",
    "        `smuggle bar    # pip: git+https://github.com/foo/bar.git@ref#bar`\n",
    "    \"\"\"\n",
    "    installer_kwargs = {\n",
    "        'editable': False,\n",
    "        'spec': 'git+https://github.com/foo/bar.git@ref#bar'\n",
    "    }\n",
    "    onion = davos.core.core.Onion('bar', \n",
    "                                  installer='pip', \n",
    "                                  args_str=\"\"\"git+https://github.com/foo/bar.git@ref#bar\"\"\", \n",
    "                                  **installer_kwargs)\n",
    "    assert onion.install_package == onion._pip_install_package, (\n",
    "        f\"Expected:\\n{onion._pip_install_package}\\nFound:\\n\"\n",
    "        f\"{onion.install_package}\"\n",
    "    )\n",
    "    assert onion.build is None, f\"Expected: None\\nFound: {onion.build}\"\n",
    "    assert onion.cache_key == 'pip;git+https://github.com/foo/bar.git@ref#bar', (\n",
    "        \"Expected:\\npip;git+https://github.com/foo/bar.git@ref#bar\\nFound:\\n\"\n",
    "        f\"{onion.cache_key}\"\n",
    "    )\n",
    "    assert onion.verbosity == 0, f\"Expected: 0\\nFound: {onion.verbosity}\"\n",
    "    assert onion.install_name == 'git+https://github.com/foo/bar.git#bar', (\n",
    "        \"Expected\\ngit+https://github.com/foo/bar.git#bar\\nFound:\\n\"\n",
    "        f\"{onion.install_name}\"\n",
    "    )\n",
    "    assert onion.version_spec == '@ref', (\n",
    "        f\"Expected: '@ref'\\nFound: {onion.version_spec}\"\n",
    "    )"
   ]
  },
  {
   "cell_type": "code",
   "execution_count": null,
   "metadata": {
    "ExecuteTime": {
     "end_time": "2021-07-12T18:46:37.958975Z",
     "start_time": "2021-07-12T18:46:37.947923Z"
    }
   },
   "outputs": [],
   "source": [
    "def test_onion_vcs_ref_egg_subdir():\n",
    "    \"\"\"\n",
    "    same as above, but the GitHub URL also specifies the subdirectory \n",
    "    path of the package within the repository via the '&subdirectory=' \n",
    "    component of the URL\n",
    "        `smuggle bar    # pip: git+https://github.com/foo/bar.git@ref#bar&subdirectory=/baz/qux`\n",
    "    \"\"\"\n",
    "    installer_kwargs = {\n",
    "        'editable': False,\n",
    "        'spec': 'git+https://github.com/foo/bar.git@ref#bar'\n",
    "    }\n",
    "    onion = davos.core.core.Onion('bar', \n",
    "                                  installer='pip', \n",
    "                                  args_str=\"\"\"git+https://github.com/foo/bar.git@ref#bar\"\"\", \n",
    "                                  **installer_kwargs)\n",
    "    assert onion.install_package == onion._pip_install_package, (\n",
    "        f\"Expected:\\n{onion._pip_install_package}\\nFound:\\n\"\n",
    "        f\"{onion.install_package}\"\n",
    "    )\n",
    "    assert onion.build is None, f\"Expected: None\\nFound: {onion.build}\"\n",
    "    assert onion.cache_key == 'pip;git+https://github.com/foo/bar.git@ref#bar&subdirectory=/baz/qux', (\n",
    "        \"Expected:\\npip;git+https://github.com/foo/bar.git@ref#bar&subdirectory=/baz/qux\\nFound:\\n\"\n",
    "        f\"{onion.cache_key}\"\n",
    "    )\n",
    "    assert onion.verbosity == 0, f\"Expected: 0\\nFound: {onion.verbosity}\"\n",
    "    assert onion.install_name == 'git+https://github.com/foo/bar.git#bar&subdirectory=/baz/qux', (\n",
    "        \"Expected\\ngit+https://github.com/foo/bar.git#bar\\nFound:\\n\"\n",
    "        f\"{onion.install_name}\"\n",
    "    )\n",
    "    assert onion.version_spec == '@ref', (\n",
    "        f\"Expected: '@ref'\\nFound: {onion.version_spec}\"\n",
    "    )"
   ]
  },
  {
   "cell_type": "code",
   "execution_count": null,
   "metadata": {
    "ExecuteTime": {
     "end_time": "2021-07-12T18:46:37.973019Z",
     "start_time": "2021-07-12T18:46:37.962108Z"
    }
   },
   "outputs": [],
   "source": [
    "def test_onion_local():\n",
    "    \"\"\"\n",
    "    package installed (in editable mode) from a local directory\n",
    "        `smuggle foo    # pip: -e /path/to/foo`\n",
    "    \"\"\"\n",
    "    installer_kwargs = {\n",
    "        'editable': True,\n",
    "        'spec': '/path/to/foo'\n",
    "    }\n",
    "    onion = davos.core.core.Onion('foo', \n",
    "                                  installer='pip', \n",
    "                                  args_str=\"\"\"-e /path/to/foo\"\"\", \n",
    "                                  **installer_kwargs)\n",
    "    assert onion.install_package == onion._pip_install_package, (\n",
    "        f\"Expected:\\n{onion._pip_install_package}\\nFound:\\n\"\n",
    "        f\"{onion.install_package}\"\n",
    "    )\n",
    "    assert onion.build is None, f\"Expected: None\\nFound: {onion.build}\"\n",
    "    assert onion.cache_key == 'pip;-e;/path/to/foo', (\n",
    "        \"Expected:\\npip;-e;/path/to/foo\\nFound:\\n\"\n",
    "        f\"{onion.cache_key}\"\n",
    "    )\n",
    "    assert onion.verbosity == 0, f\"Expected: 0\\nFound: {onion.verbosity}\"\n",
    "    assert onion.install_name == '/path/to/foo', (\n",
    "        \"Expected\\n/path/to/foo\\nFound:\\n\"\n",
    "        f\"{onion.install_name}\"\n",
    "    )\n",
    "    assert onion.version_spec == '', (\n",
    "        f\"Expected: ''\\nFound: {onion.version_spec}\"\n",
    "    )"
   ]
  },
  {
   "cell_type": "code",
   "execution_count": null,
   "metadata": {
    "ExecuteTime": {
     "end_time": "2021-07-12T18:46:37.987848Z",
     "start_time": "2021-07-12T18:46:37.975529Z"
    }
   },
   "outputs": [],
   "source": [
    "def test_onion_pep440_direct_reference():\n",
    "    \"\"\"\n",
    "    package installed from a remote source archive file. See \n",
    "    https://www.python.org/dev/peps/pep-0440/\n",
    "        `smuggle foo    # pip: -v foo@https://bar.repo/foo-0.0.1-non-any.whl`\n",
    "    \"\"\"\n",
    "    installer_kwargs = {\n",
    "        'editable': False,\n",
    "        'spec': 'foo@https://bar.repo/foo-0.0.1-non-any.whl',\n",
    "        'verbosity': 1\n",
    "    }\n",
    "    onion = davos.core.core.Onion('foo', \n",
    "                                  installer='pip', \n",
    "                                  args_str=\"\"\"-v foo@https://bar.repo/foo-0.0.1-non-any.whl\"\"\", \n",
    "                                  **installer_kwargs)\n",
    "    assert onion.install_package == onion._pip_install_package, (\n",
    "        f\"Expected:\\n{onion._pip_install_package}\\nFound:\\n\"\n",
    "        f\"{onion.install_package}\"\n",
    "    )\n",
    "    assert onion.build is None, f\"Expected: None\\nFound: {onion.build}\"\n",
    "    assert onion.cache_key == 'pip;-v;foo@https://bar.repo/foo-0.0.1-non-any.whl', (\n",
    "        \"Expected:\\npip;-v;foo@https://bar.repo/foo-0.0.1-non-any.whl\\nFound:\\n\"\n",
    "        f\"{onion.cache_key}\"\n",
    "    )\n",
    "    assert onion.verbosity == 1, f\"Expected: 1\\nFound: {onion.verbosity}\"\n",
    "    assert onion.install_name == 'foo@https://bar.repo/foo-0.0.1-non-any.whl', (\n",
    "        \"Expected\\nfoo@https://bar.repo/foo-0.0.1-non-any.whl\\nFound:\\n{onion.install_name}\"\n",
    "    )\n",
    "    assert onion.version_spec == '', (\n",
    "        f\"Expected: ''\\nFound: {onion.version_spec}\"\n",
    "    )"
   ]
  },
  {
   "cell_type": "code",
   "execution_count": null,
   "metadata": {
    "ExecuteTime": {
     "end_time": "2021-07-12T18:46:38.007350Z",
     "start_time": "2021-07-12T18:46:37.991799Z"
    }
   },
   "outputs": [],
   "source": [
    "def test_onion_complex_version():\n",
    "    \"\"\"\n",
    "    onion comment that constrains the smuggled package version using \n",
    "    multiple specifiers. -v/--verbose are passed in a somewhat \n",
    "    unrealistic way, but it's meant to test isolating the version \n",
    "    specifier from other arugments both before and after it\n",
    "        `smuggle foo    # pip: -v foo-pkg>=1.0.1,<2 --verbose`\n",
    "    \"\"\"\n",
    "    installer_kwargs = {\n",
    "        'editable': False,\n",
    "        'spec': 'foo-pkg>=1.0.1,<2',\n",
    "        'verbosity': 2\n",
    "    }\n",
    "    onion = davos.core.core.Onion('foo', \n",
    "                                  installer='pip', \n",
    "                                  args_str=\"\"\"-v foo-pkg>=1.0.1,<2 --verbose\"\"\", \n",
    "                                  **installer_kwargs)\n",
    "    assert onion.install_package == onion._pip_install_package, (\n",
    "        f\"Expected:\\n{onion._pip_install_package}\\nFound:\\n\"\n",
    "        f\"{onion.install_package}\"\n",
    "    )\n",
    "    assert onion.build is None, f\"Expected: None\\nFound: {onion.build}\"\n",
    "    assert onion.cache_key == 'pip;foo-pkg>=1.0.1,<2;--verbose', (\n",
    "        \"Expected:\\npip;foo-pkg>=1.0.1,<2;--verbose\\nFound:\\n{onion.cache_key}\"\n",
    "    )\n",
    "    assert onion.verbosity == 1, f\"Expected: 1\\nFound: {onion.verbosity}\"\n",
    "    assert onion.install_name == 'foo-pkg', (\n",
    "        f\"Expected\\nfoo-pkg\\nFound:\\n{onion.install_name}\"\n",
    "    )\n",
    "    assert onion.version_spec == '>=1.0.1,<2', (\n",
    "        f\"Expected: '>=1.0.1,<2'\\nFound: {onion.version_spec}\"\n",
    "    )"
   ]
  },
  {
   "cell_type": "code",
   "execution_count": null,
   "metadata": {
    "ExecuteTime": {
     "end_time": "2021-07-12T18:46:38.017621Z",
     "start_time": "2021-07-12T18:46:38.011193Z"
    }
   },
   "outputs": [],
   "source": [
    "def test_onion_is_installed_stdlib():\n",
    "    \"\"\"\n",
    "    Onion.is_installed property should always return True for standard \n",
    "    library modules\n",
    "    \"\"\"\n",
    "    test_mods = ('ast', 'base64', 'collections', 'datetime', 'enum')\n",
    "    for mod in test_mods:\n",
    "        onion = davos.core.core.Onion(mod, installer='pip', args_str=\"\"\"\"\"\")\n",
    "        assert onion.is_installed, (\n",
    "            f\"Expected standard library module '{mod}' to be installed\"\n",
    "        )"
   ]
  },
  {
   "cell_type": "code",
   "execution_count": null,
   "metadata": {
    "ExecuteTime": {
     "end_time": "2021-07-12T18:46:38.025628Z",
     "start_time": "2021-07-12T18:46:38.020112Z"
    }
   },
   "outputs": [],
   "source": [
    "def test_onion_is_installed_args_false():\n",
    "    \"\"\"\n",
    "    Onion.is_installed property should always return False when these \n",
    "    arguments are supplied. Test using a package that is definitely \n",
    "    installed to make sure the presence of these arguments is actually \n",
    "    responsible for the False return value\n",
    "    \"\"\"\n",
    "    always_false_args = ('--force-reinstall', '--ignore-installed', '--upgrade')\n",
    "    for arg in always_false_args:\n",
    "        kwarg_form = arg.lstrip('-').replace('-', '_')\n",
    "        installer_kwargs = {\n",
    "            'editable': False, \n",
    "            kwarg_form: True, \n",
    "            'spec': 'IPython'\n",
    "        }\n",
    "        onion = davos.core.core.Onion('IPython', \n",
    "                                      installer='pip', \n",
    "                                      args_str=f\"\"\"{arg} IPython\"\"\", \n",
    "                                      **installer_kwargs)\n",
    "        assert not onion.is_installed, (\n",
    "            f\"Passing {arg} should cause onion.is_installed to return False\"\n",
    "        )"
   ]
  },
  {
   "cell_type": "code",
   "execution_count": null,
   "metadata": {
    "ExecuteTime": {
     "end_time": "2021-07-12T18:46:38.033577Z",
     "start_time": "2021-07-12T18:46:38.028489Z"
    }
   },
   "outputs": [],
   "source": [
    "def test_onion_is_installed_vcs_false():\n",
    "    \"\"\"\n",
    "    Onion.is_installed property should always return False when the \n",
    "    onion comment specifies a VCS URL, since there's no way to compare \n",
    "    the state of a local installation to the remote repository (e.g., by \n",
    "    commit hash). Like above, test using a package that's definitely \n",
    "    installed, for which onion.is_installed would otherwise be True.\n",
    "    \"\"\"\n",
    "    installer_kwargs = {\n",
    "        'editable': False,\n",
    "        'spec': 'git+https://github.com/ipython/ipython.git'\n",
    "    }\n",
    "    onion = davos.core.core.Onion('bar', \n",
    "                                  installer='pip', \n",
    "                                  args_str=\"\"\"git+https://github.com/ipython/ipython.git\"\"\", \n",
    "                                  **installer_kwargs)\n",
    "    \n",
    "    assert not onion.is_installed, (\n",
    "        \"specifying a VCS URL should always cause onion.is_installed to \"\n",
    "        \"return False\"\n",
    "    )"
   ]
  },
  {
   "cell_type": "code",
   "execution_count": null,
   "metadata": {
    "ExecuteTime": {
     "end_time": "2021-07-12T18:46:38.039555Z",
     "start_time": "2021-07-12T18:46:38.035601Z"
    }
   },
   "outputs": [],
   "source": [
    "def test_onion_is_installed_nonmatching_package():\n",
    "    \"\"\"\n",
    "    Test result of Onion.is_installed searching installed package \n",
    "    distributions for a package that *IS NOT* installed locally\n",
    "    \"\"\"\n",
    "    installer_kwargs = {\n",
    "        'editable': False,\n",
    "        'spec': 'FakePackage'\n",
    "    }\n",
    "    onion = davos.core.core.Onion('FakePackage', \n",
    "                                  installer='pip', \n",
    "                                  args_str=\"\"\"\"\"\", \n",
    "                                  **installer_kwargs)\n",
    "    \n",
    "    assert not onion.is_installed, (\n",
    "        \"Should not have found local installation of 'FakePackage'\"\n",
    "    )"
   ]
  },
  {
   "cell_type": "code",
   "execution_count": null,
   "metadata": {
    "ExecuteTime": {
     "end_time": "2021-07-12T18:46:38.046126Z",
     "start_time": "2021-07-12T18:46:38.041959Z"
    }
   },
   "outputs": [],
   "source": [
    "def test_onion_is_installed_matching_package():\n",
    "    \"\"\"\n",
    "    Test result of Onion.is_installed searching installed package \n",
    "    distributions for a package that *IS* installed locally, with no \n",
    "    version constraints\n",
    "    \"\"\"\n",
    "    installer_kwargs = {\n",
    "        'editable': False,\n",
    "        'spec': 'IPython'\n",
    "    }\n",
    "    onion = davos.core.core.Onion('IPython', \n",
    "                                  installer='pip', \n",
    "                                  args_str=\"\"\"IPython\"\"\", \n",
    "                                  **installer_kwargs)\n",
    "    \n",
    "    assert onion.is_installed, \"Failed to find local IPython installation\""
   ]
  },
  {
   "cell_type": "code",
   "execution_count": null,
   "metadata": {
    "ExecuteTime": {
     "end_time": "2021-07-12T18:46:38.052952Z",
     "start_time": "2021-07-12T18:46:38.048706Z"
    }
   },
   "outputs": [],
   "source": [
    "def test_onion_is_installed_nonmatching_version():\n",
    "    \"\"\"\n",
    "    Test result of Onion.is_installed searching installed package \n",
    "    distributions for a package that *IS* installed locally, but whose \n",
    "    local installation *DOES NOT* satisfy the requested version \n",
    "    constraint\n",
    "    \"\"\"\n",
    "    installer_kwargs = {\n",
    "        'editable': False,\n",
    "        'spec': 'IPython<=2.3.4'\n",
    "    }\n",
    "    onion = davos.core.core.Onion('IPython', \n",
    "                                  installer='pip', \n",
    "                                  args_str=\"\"\"IPython<=2.3.4\"\"\", \n",
    "                                  **installer_kwargs)\n",
    "    \n",
    "    assert not onion.is_installed, (\n",
    "        \"Should not have found local installation satisfying \"\n",
    "        f\"'IPython<=2.3.4'. Local version is '{IPython.__version__}'\"\n",
    "    )"
   ]
  },
  {
   "cell_type": "code",
   "execution_count": null,
   "metadata": {
    "ExecuteTime": {
     "end_time": "2021-07-12T18:46:38.060058Z",
     "start_time": "2021-07-12T18:46:38.055579Z"
    }
   },
   "outputs": [],
   "source": [
    "def test_onion_is_installed_matching_version():\n",
    "    \"\"\"\n",
    "    Test result of Onion.is_installed searching installed package \n",
    "    distributions for a package that *IS* installed locally, and whose \n",
    "    local installation *DOES* satisfy the requested version constraint\n",
    "    \"\"\"\n",
    "    \n",
    "    installer_kwargs = {\n",
    "        'editable': False,\n",
    "        'spec': f'IPython=={IPython.__version__}'\n",
    "    }\n",
    "    onion = davos.core.core.Onion('IPython', \n",
    "                                  installer='pip', \n",
    "                                  args_str=f\"\"\"IPython=={IPython.__version__}\"\"\", \n",
    "                                  **installer_kwargs)\n",
    "    \n",
    "    assert onion.is_installed, (\n",
    "        \"Failed to find local IPython installation matching locally \"\n",
    "        f\"installed version ({IPython.__version__})\"\n",
    "    )"
   ]
  },
  {
   "cell_type": "code",
   "execution_count": null,
   "metadata": {
    "ExecuteTime": {
     "end_time": "2021-07-12T18:46:40.539136Z",
     "start_time": "2021-07-12T18:46:40.536129Z"
    }
   },
   "outputs": [],
   "source": [
    "def test_pip_install_package_fail():\n",
    "    \"\"\"test handling of install shell command that fails\"\"\"\n",
    "    onion = davos.core.core.Onion('foo', installer='pip', args_str=\"\"\"\"\"\")\n",
    "    \n",
    "    expected_returncode = 1\n",
    "    expected_cmd = onion.install_cmd\n",
    "    expected_output = \"Expected stdout string\"\n",
    "    expected_stderr = \"Expected stderr string\"\n",
    "    \n",
    "    old_run_shell_command = davos.core.core.run_shell_command\n",
    "    \n",
    "    def _mock_run_shell_command(command, live_stdout=None):\n",
    "        if command == onion.install_cmd:\n",
    "            raise CalledProcessError(returncode=expected_returncode, \n",
    "                                     cmd=expected_cmd, \n",
    "                                     output=expected_output, \n",
    "                                     stderr=expected_stderr)\n",
    "        else:\n",
    "            return old_run_shell_command(command, live_stdout=live_stdout)\n",
    "        \n",
    "    try:\n",
    "        davos.core.core.run_shell_command = _mock_run_shell_command\n",
    "        with raises(davos.core.exceptions.InstallerError) as excinfo:\n",
    "            onion._pip_install_package\n",
    "        \n",
    "        exc_value = excinfo.value\n",
    "        result_returncode = exc_value.returncode\n",
    "        result_cmd = exc_value.cmd\n",
    "        result_output = exc_value.output\n",
    "        result_stderr = exc_value.stderr\n",
    "        \n",
    "        assert result_returncode == expected_returncode, result_returncode\n",
    "        assert result_cmd == expected_cmd, result_cmd\n",
    "        assert result_output == expected_output, result_output\n",
    "        assert result_stderr == expected_stderr, result_stderr\n",
    "        \n",
    "    finally:\n",
    "        davos.core.core.run_shell_command = old_run_shell_command"
   ]
  },
  {
   "cell_type": "code",
   "execution_count": null,
   "metadata": {
    "ExecuteTime": {
     "end_time": "2021-07-12T19:36:18.634055Z",
     "start_time": "2021-07-12T19:36:18.629394Z"
    }
   },
   "outputs": [],
   "source": [
    "def test_pip_install_package_target_prepend_syspath():\n",
    "    \"\"\"\n",
    "    when installing a package in a specified --target directory that is \n",
    "    not already in sys.path, the directory should be prepended to \n",
    "    sys.path\n",
    "    \"\"\"\n",
    "    old_run_shell_command = davos.core.core.run_shell_command\n",
    "    old_syspath = sys.path[:]\n",
    "    tmpdir = Path('tmpdir').resolve()\n",
    "    installer_kwargs = {\n",
    "        'editable': False,\n",
    "        'spec': 'foo',\n",
    "        'target': 'tmpdir'\n",
    "    }\n",
    "    onion = davos.core.core.Onion('foo', \n",
    "                                  installer='pip', \n",
    "                                  args_str=\"\"\"foo --target tmpdir\"\"\", \n",
    "                                  **installer_kwargs)\n",
    "    mock_stdout = \"stdout from pip-installing 'foo' in tmpdir/\"\n",
    "    \n",
    "    def _mock_run_shell_command(command, live_stdout=None):\n",
    "        if command == onion.install_cmd:\n",
    "            return mock_stdout\n",
    "        else:\n",
    "            return old_run_shell_command(command, live_stdout=live_stdout)\n",
    "\n",
    "    try:\n",
    "        tmpdir.mkdir()\n",
    "        assert str(tmpdir) not in sys.path, f\"{tmpdir} already in sys.path\"\n",
    "        onion._pip_install_package()\n",
    "        assert sys.path[0] == str(tmpdir), (\n",
    "            f\"{tmpdir} was not prepended to sys.path\\nsys.path:\\n{sys.path}\")\n",
    "        \n",
    "    finally:\n",
    "        davos.core.core.run_shell_command = old_run_shell_command\n",
    "        sys.path = old_syspath\n",
    "        if tmpdir.is_dir():\n",
    "            tmpdir.rmdir()"
   ]
  },
  {
   "cell_type": "code",
   "execution_count": null,
   "metadata": {},
   "outputs": [],
   "source": [
    "run_tests()"
   ]
  }
 ],
 "metadata": {
  "kernelspec": {
   "display_name": "davos",
   "language": "python",
   "name": "davos"
  },
  "language_info": {
   "codemirror_mode": {
    "name": "ipython",
    "version": 3
   },
   "file_extension": ".py",
   "mimetype": "text/x-python",
   "name": "python",
   "nbconvert_exporter": "python",
   "pygments_lexer": "ipython3",
   "version": "3.9.2"
  }
 },
 "nbformat": 4,
 "nbformat_minor": 2
}
