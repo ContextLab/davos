{
 "cells": [
  {
   "cell_type": "code",
   "execution_count": 1,
   "metadata": {
    "ExecuteTime": {
     "end_time": "2021-07-06T01:39:18.077407Z",
     "start_time": "2021-07-06T01:39:18.069414Z"
    }
   },
   "outputs": [],
   "source": [
    "GITHUB_USERNAME = \"$GITHUB_USERNAME$\"\n",
    "GITHUB_REF = \"$GITHUB_REF$\"\n",
    "NOTEBOOK_TYPE = \"$NOTEBOOK_TYPE$\"\n",
    "PYTHON_VERSION = \"$PYTHON_VERSION$\"\n",
    "IPYTHON_VERSION = \"$IPYTHON_VERSION$\""
   ]
  },
  {
   "cell_type": "code",
   "execution_count": 3,
   "metadata": {
    "ExecuteTime": {
     "end_time": "2021-07-06T01:42:49.171770Z",
     "start_time": "2021-07-06T01:42:49.036805Z"
    }
   },
   "outputs": [],
   "source": [
    "from pathlib import Path\n",
    "\n",
    "import requests\n",
    "\n",
    "\n",
    "if NOTEBOOK_TYPE == 'colab':\n",
    "    # utils module doesn't exist on colab VM, so get current version from GitHub\n",
    "    utils_module = Path('utils.py').resolve()\n",
    "    response = requests.get(f'https://raw.githubusercontent.com/{GITHUB_USERNAME}/davos/{GITHUB_REF}/tests/utils.py')\n",
    "    utils_module.write_text(response.text)\n",
    "    # also need to install davos locally\n",
    "    from utils import install_davos\n",
    "    install_davos(source='github', ref=GITHUB_REF, fork=GITHUB_USERNAME)"
   ]
  },
  {
   "cell_type": "code",
   "execution_count": 6,
   "metadata": {
    "ExecuteTime": {
     "end_time": "2021-07-06T02:12:59.681734Z",
     "start_time": "2021-07-06T02:12:59.679070Z"
    }
   },
   "outputs": [],
   "source": [
    "import json\n",
    "import subprocess\n",
    "import sys\n",
    "\n",
    "import davos\n",
    "import pkg_resources\n",
    "\n",
    "from utils import mark, run_tests, TestingEnvironmentError"
   ]
  },
  {
   "cell_type": "markdown",
   "metadata": {},
   "source": [
    "# tests for general testing environment"
   ]
  },
  {
   "cell_type": "code",
   "execution_count": null,
   "metadata": {},
   "outputs": [],
   "source": [
    "def test_expected_python_version():\n",
    "    installed_version = '.'.join(map(str, sys.version_info[:2]))\n",
    "    expected_version = PYTHON_VERSION\n",
    "    if installed_version != expected_version:\n",
    "        raise TestingEnvironmentError(\n",
    "            f\"Test environment has Python {sys.version.split()[0]}, expected \"\n",
    "            \"{PYTHON_VERSION}\"\n",
    "        )"
   ]
  },
  {
   "cell_type": "code",
   "execution_count": null,
   "metadata": {},
   "outputs": [],
   "source": [
    "@mark.jupyter\n",
    "def test_notebook_using_kernel_python():\n",
    "    if not sys.executable.endswith('envs/kernel-env/bin/python'):\n",
    "        raise TestingEnvironmentError(\n",
    "            \"Notebook does not appear to be using the correct python \"\n",
    "            \"executable. Expected a path ending in \"\n",
    "            f\"'envs/kernel-env/bin/python', found {sys.executable}\"\n",
    "        )"
   ]
  },
  {
   "cell_type": "code",
   "execution_count": null,
   "metadata": {},
   "outputs": [],
   "source": [
    "@mark.skipif(IPYTHON_VERSION == 'latest', reason=\"runs when IPYTHON_VERSION == 'latest'\")\n",
    "def test_expected_ipython_version():\n",
    "    try:\n",
    "        pkg_resources.get_distribution(f\"IPython=={IPYTHON_VERSION}\")\n",
    "    except pkg_resources.VersionConflict as e:\n",
    "        raise TestingEnvironmentError(\n",
    "            f\"Test environment has IPython=={IPython.__version__}, expected \"\n",
    "            f\"{IPYTHON_VERSION}\") from e"
   ]
  },
  {
   "cell_type": "code",
   "execution_count": null,
   "metadata": {},
   "outputs": [],
   "source": [
    "@mark.skipif(IPYTHON_VERSION != 'latest', reason=\"runs when IPYTHON_VERSION == 'latest'\")\n",
    "def test_latest_ipython_version():\n",
    "    pip_exe = davos.config.pip_executable\n",
    "    outdated_pkgs = subprocess.check_output(\n",
    "            [pip_exe, 'list', '--outdated', '--format', 'json'], encoding='utf-8'\n",
    "        )\n",
    "    outdated_pkgs_json = json.loads(outdated_pkgs)\n",
    "    for pkg in outdated_pkgs_json:\n",
    "        if pkg['name'] == 'ipython':\n",
    "            raise TestingEnvironmentError(\n",
    "                f\"Test environment has IPython=={pkg['version']}, expected \"\n",
    "                f\"latest version (IPython=={pkg['latest_version']})\"\n",
    "            )"
   ]
  },
  {
   "cell_type": "code",
   "execution_count": null,
   "metadata": {
    "ExecuteTime": {
     "end_time": "2021-07-06T02:22:04.281204Z",
     "start_time": "2021-07-06T02:22:04.277000Z"
    }
   },
   "outputs": [],
   "source": []
  },
  {
   "cell_type": "code",
   "execution_count": null,
   "metadata": {
    "ExecuteTime": {
     "end_time": "2021-07-06T02:31:44.956029Z",
     "start_time": "2021-07-06T02:31:44.951988Z"
    }
   },
   "outputs": [],
   "source": []
  },
  {
   "cell_type": "code",
   "execution_count": null,
   "metadata": {
    "ExecuteTime": {
     "end_time": "2021-07-06T02:34:35.103495Z",
     "start_time": "2021-07-06T02:34:35.099514Z"
    }
   },
   "outputs": [],
   "source": []
  },
  {
   "cell_type": "code",
   "execution_count": null,
   "metadata": {
    "ExecuteTime": {
     "end_time": "2021-07-06T02:38:06.955330Z",
     "start_time": "2021-07-06T02:38:06.827800Z"
    }
   },
   "outputs": [],
   "source": []
  },
  {
   "cell_type": "code",
   "execution_count": null,
   "metadata": {},
   "outputs": [],
   "source": []
  }
 ],
 "metadata": {
  "kernelspec": {
   "display_name": "davos",
   "language": "python",
   "name": "davos"
  },
  "language_info": {
   "codemirror_mode": {
    "name": "ipython",
    "version": 3
   },
   "file_extension": ".py",
   "mimetype": "text/x-python",
   "name": "python",
   "nbconvert_exporter": "python",
   "pygments_lexer": "ipython3",
   "version": "3.9.2"
  }
 },
 "nbformat": 4,
 "nbformat_minor": 2
}
