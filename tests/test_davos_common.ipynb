{
 "cells": [
  {
   "cell_type": "code",
   "execution_count": 1,
   "metadata": {
    "ExecuteTime": {
     "end_time": "2021-06-19T13:27:18.027461Z",
     "start_time": "2021-06-19T13:27:18.018717Z"
    }
   },
   "outputs": [],
   "source": [
    "def test_example_pass():\n",
    "    assert True"
   ]
  },
  {
   "cell_type": "code",
   "execution_count": 2,
   "metadata": {
    "ExecuteTime": {
     "end_time": "2021-06-19T13:27:22.511285Z",
     "start_time": "2021-06-19T13:27:22.508778Z"
    }
   },
   "outputs": [],
   "source": [
    "def test_example_fail():\n",
    "    assert False"
   ]
  }
 ],
 "metadata": {
  "kernelspec": {
   "display_name": "davos",
   "language": "python",
   "name": "davos"
  },
  "language_info": {
   "codemirror_mode": {
    "name": "ipython",
    "version": 3
   },
   "file_extension": ".py",
   "mimetype": "text/x-python",
   "name": "python",
   "nbconvert_exporter": "python",
   "pygments_lexer": "ipython3",
   "version": "3.9.2"
  }
 },
 "nbformat": 4,
 "nbformat_minor": 2
}
