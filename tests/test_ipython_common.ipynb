{
 "cells": [
  {
   "cell_type": "code",
   "execution_count": null,
   "metadata": {
    "ExecuteTime": {
     "end_time": "2021-08-07T22:33:48.745793Z",
     "start_time": "2021-08-07T22:33:48.740506Z"
    }
   },
   "outputs": [],
   "source": [
    "GITHUB_USERNAME = \"$GITHUB_USERNAME$\"\n",
    "GITHUB_REF = \"$GITHUB_REF$\"\n",
    "NOTEBOOK_TYPE = \"$NOTEBOOK_TYPE$\"\n",
    "PYTHON_VERSION = \"$PYTHON_VERSION$\"\n",
    "IPYTHON_VERSION = \"$IPYTHON_VERSION$\""
   ]
  },
  {
   "cell_type": "code",
   "execution_count": null,
   "metadata": {
    "ExecuteTime": {
     "end_time": "2021-08-07T22:33:50.546015Z",
     "start_time": "2021-08-07T22:33:50.270819Z"
    }
   },
   "outputs": [],
   "source": [
    "from pathlib import Path\n",
    "\n",
    "import requests\n",
    "\n",
    "\n",
    "if NOTEBOOK_TYPE == 'colab':\n",
    "    # utils module doesn't exist on colab VM, so get current version from GitHub\n",
    "    utils_module = Path('utils.py').resolve()\n",
    "    response = requests.get(f'https://raw.githubusercontent.com/{GITHUB_USERNAME}/davos/{GITHUB_REF}/tests/utils.py')\n",
    "    utils_module.write_text(response.text)\n",
    "    # also need to install davos locally\n",
    "    from utils import install_davos\n",
    "    install_davos(source='github', ref=GITHUB_REF, fork=GITHUB_USERNAME)"
   ]
  },
  {
   "cell_type": "code",
   "execution_count": null,
   "metadata": {
    "ExecuteTime": {
     "end_time": "2021-08-07T22:34:06.742681Z",
     "start_time": "2021-08-07T22:34:06.639716Z"
    }
   },
   "outputs": [],
   "source": [
    "from contextlib import redirect_stdout\n",
    "from io import StringIO\n",
    "from subprocess import CalledProcessError\n",
    "from textwrap import dedent\n",
    "\n",
    "import davos\n",
    "import IPython\n",
    "\n",
    "from utils import mark, raises, run_tests"
   ]
  },
  {
   "cell_type": "markdown",
   "metadata": {},
   "source": [
    "# tests for `davos.implementations.ipython_common`"
   ]
  },
  {
   "cell_type": "code",
   "execution_count": null,
   "metadata": {
    "ExecuteTime": {
     "end_time": "2021-08-07T21:03:35.066508Z",
     "start_time": "2021-08-07T21:03:35.062853Z"
    }
   },
   "outputs": [],
   "source": [
    "def test_ipython_common_imports():\n",
    "    \"\"\"\n",
    "    check that functions that should've been imported from the \n",
    "    ipython_common module came from the right place\n",
    "    \"\"\"\n",
    "    ipy_common_funcs = (\n",
    "        '_check_conda_avail_helper', \n",
    "        '_run_shell_command_helper',\n",
    "        '_set_custom_showsyntaxerror'\n",
    "    )\n",
    "    for func_name in ipy_common_funcs:\n",
    "        func_obj = getattr(davos.implementations, func_name)\n",
    "        func_module = getattr(func_obj, '__module__')\n",
    "        assert func_module == 'davos.implementations.ipython_common', (\n",
    "            f\"davos.implementations.{func_name} is {func_module}.{func_name}. \"\n",
    "            f\"Expected davos.implementations.ipython_common.{func_name}\"\n",
    "        )"
   ]
  },
  {
   "cell_type": "code",
   "execution_count": null,
   "metadata": {
    "ExecuteTime": {
     "end_time": "2021-08-07T22:34:13.373283Z",
     "start_time": "2021-08-07T22:34:13.366830Z"
    }
   },
   "outputs": [],
   "source": [
    "@mark.jupyter\n",
    "def test_check_conda_avail_helper():\n",
    "    \"\"\"test helper function for getting conda-related config fields\"\"\"\n",
    "    expected_env_path = \"/usr/share/miniconda/envs/kernel-env\"\n",
    "    # only part of output that matters is line with environment path\n",
    "    expected_first_line = f\"# packages in environment at {expected_env_path}:\"\n",
    "    result_output = davos.implementations.ipython_common._check_conda_avail_helper()\n",
    "    result_first_line = result_output.splitlines()[0]\n",
    "    result_env_path = result_first_line.split()[-1].rstrip(':')\n",
    "    \n",
    "    assert result_env_path == expected_env_path, (\n",
    "        f\"Result:{result_env_path}\\nExpected:{expected_env_path}\"\n",
    "    )"
   ]
  },
  {
   "cell_type": "code",
   "execution_count": null,
   "metadata": {
    "ExecuteTime": {
     "end_time": "2021-08-07T21:03:35.078797Z",
     "start_time": "2021-08-07T21:03:35.075174Z"
    }
   },
   "outputs": [],
   "source": [
    "def test_run_shell_command_helper():\n",
    "    \"\"\"test helper function for davos.core.core.run_shell_command\"\"\"\n",
    "    # this command should pass...\n",
    "    with redirect_stdout(StringIO()) as tmp_stdout:\n",
    "        davos.implementations.ipython_common._run_shell_command_helper('echo \"test\"')\n",
    "        stdout = tmp_stdout.getvalue().strip()\n",
    "    assert stdout == 'test', stdout\n",
    "    \n",
    "    # ...this command should fail\n",
    "    with raises(CalledProcessError), redirect_stdout(StringIO()):\n",
    "        davos.implementations.ipython_common._run_shell_command_helper('\"tset \" ohce')"
   ]
  },
  {
   "cell_type": "code",
   "execution_count": null,
   "metadata": {
    "ExecuteTime": {
     "end_time": "2021-08-07T21:03:35.084814Z",
     "start_time": "2021-08-07T21:03:35.080457Z"
    }
   },
   "outputs": [],
   "source": [
    "def test_set_custom_showsyntaxerror():\n",
    "    \"\"\"\n",
    "    check that the IPython shell's .showsyntaxerror() method was \n",
    "    replaced with the custom davos implementation, and that the original \n",
    "    is stored in the davos config\n",
    "    \"\"\"\n",
    "    orig_func = davos.implementations.ipython_common._showsyntaxerror_davos\n",
    "    bound_method = get_ipython().showsyntaxerror\n",
    "    unbound_func = bound_method.__func__\n",
    "    assert unbound_func is orig_func, (\n",
    "        f\"{unbound_func.__module__}.{unbound_func.__name__}\"\n",
    "    )\n",
    "    \n",
    "    orig_method = davos.config._ipy_showsyntaxerror_orig\n",
    "    assert orig_method is not None\n",
    "    orig_qualname = f\"{orig_method.__module__}.{orig_method.__qualname__}\"\n",
    "    expected_orig_qualname = \"IPython.core.interactiveshell.InteractiveShell.showsyntaxerror\"\n",
    "    assert orig_qualname == expected_orig_qualname, orig_qualname"
   ]
  },
  {
   "cell_type": "code",
   "execution_count": null,
   "metadata": {
    "ExecuteTime": {
     "end_time": "2021-08-07T21:03:35.324254Z",
     "start_time": "2021-08-07T21:03:35.087883Z"
    }
   },
   "outputs": [],
   "source": [
    "run_tests()"
   ]
  }
 ],
 "metadata": {
  "kernelspec": {
   "display_name": "kernel-env",
   "language": "python",
   "name": "kernel-env"
  },
  "language_info": {
   "codemirror_mode": {
    "name": "ipython",
    "version": 3
   },
   "file_extension": ".py",
   "mimetype": "text/x-python",
   "name": "python",
   "nbconvert_exporter": "python",
   "pygments_lexer": "ipython3",
   "version": "3.8.10"
  }
 },
 "nbformat": 4,
 "nbformat_minor": 2
}
