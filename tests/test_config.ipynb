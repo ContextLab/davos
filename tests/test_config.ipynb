{
 "cells": [
  {
   "cell_type": "code",
   "execution_count": null,
   "metadata": {
    "ExecuteTime": {
     "end_time": "2021-07-06T00:48:54.930327Z",
     "start_time": "2021-07-06T00:48:54.927435Z"
    }
   },
   "outputs": [],
   "source": [
    "GITHUB_USERNAME = \"paxtonfitzpatrick\"#\"$GITHUB_USERNAME$\"\n",
    "GITHUB_REF = \"62cba0f23e89e5cb838ac84cd8ed88939bc4d784\"#\"$GITHUB_REF$\"\n",
    "NOTEBOOK_TYPE = \"jupyter\"#\"$NOTEBOOK_TYPE$\"\n",
    "PYTHON_VERSION = \"3.8\"#\"$PYTHON_VERSION$\"\n",
    "IPYTHON_VERSION = \"latest\"#\"$IPYTHON_VERSION$\""
   ]
  },
  {
   "cell_type": "code",
   "execution_count": null,
   "metadata": {
    "ExecuteTime": {
     "end_time": "2021-07-06T00:15:19.505787Z",
     "start_time": "2021-07-06T00:15:19.439582Z"
    }
   },
   "outputs": [],
   "source": [
    "from pathlib import Path\n",
    "\n",
    "import requests\n",
    "\n",
    "\n",
    "if NOTEBOOK_TYPE == 'colab':\n",
    "    # utils module doesn't exist on colab VM, so get current version from GitHub\n",
    "    utils_module = Path('utils.py').resolve()\n",
    "    response = requests.get(f'https://raw.githubusercontent.com/{GITHUB_USERNAME}/davos/{GITHUB_REF}/tests/utils.py')\n",
    "    utils_module.write_text(response.text)\n",
    "    # also need to install davos locally\n",
    "    from utils import install_davos\n",
    "    install_davos(source='github', ref=GITHUB_REF, fork=GITHUB_USERNAME)"
   ]
  },
  {
   "cell_type": "code",
   "execution_count": null,
   "metadata": {
    "ExecuteTime": {
     "end_time": "2021-07-06T01:30:54.092889Z",
     "start_time": "2021-07-06T01:30:54.079761Z"
    }
   },
   "outputs": [],
   "source": [
    "import davos\n",
    "import IPython\n",
    "\n",
    "from utils import mark, raises, run_tests"
   ]
  },
  {
   "cell_type": "code",
   "execution_count": null,
   "metadata": {
    "ExecuteTime": {
     "end_time": "2021-07-06T00:19:04.493810Z",
     "start_time": "2021-07-06T00:19:04.490400Z"
    }
   },
   "outputs": [],
   "source": [
    "IPYTHON_SHELL = get_ipython()"
   ]
  },
  {
   "cell_type": "markdown",
   "metadata": {},
   "source": [
    "# tests for `davos.core.config`"
   ]
  },
  {
   "cell_type": "code",
   "execution_count": null,
   "metadata": {
    "ExecuteTime": {
     "end_time": "2021-07-06T00:22:34.869873Z",
     "start_time": "2021-07-06T00:22:34.867129Z"
    }
   },
   "outputs": [],
   "source": [
    "def test_config_is_singleton():\n",
    "    assert davos.core.config.DavosConfig() is davos.config"
   ]
  },
  {
   "cell_type": "code",
   "execution_count": null,
   "metadata": {
    "ExecuteTime": {
     "end_time": "2021-07-06T00:22:18.728385Z",
     "start_time": "2021-07-06T00:22:18.724284Z"
    }
   },
   "outputs": [],
   "source": [
    "def test_deactivate_reactivate_configlevel():\n",
    "    assert davos.config.active\n",
    "    \n",
    "    davos.config.active = False\n",
    "    assert not davos.config.active\n",
    "    \n",
    "    with raises(NameError, match=\"name 'smuggle' is not defined\"):\n",
    "        smuggle ast\n",
    "        \n",
    "    davos.config.active\n",
    "    assert davos.config.active"
   ]
  },
  {
   "cell_type": "code",
   "execution_count": null,
   "metadata": {},
   "outputs": [],
   "source": [
    "def test_environment():\n",
    "    msg = f\"davos.config.environment is '{davos.config.environment}'\"\n",
    "    if NOTEBOOK_TYPE == 'colab':\n",
    "        assert davos.config.environment == 'Colaboratory', msg\n",
    "    elif IPython.version_info[0] < 7:\n",
    "        assert davos.config.environment == 'IPython<7.0', msg\n",
    "    else:\n",
    "        assert davos.config.environment == 'IPython>=7.0', msg"
   ]
  },
  {
   "cell_type": "code",
   "execution_count": null,
   "metadata": {},
   "outputs": [],
   "source": [
    "run_tests()"
   ]
  }
 ],
 "metadata": {
  "kernelspec": {
   "display_name": "davos",
   "language": "python",
   "name": "davos"
  },
  "language_info": {
   "codemirror_mode": {
    "name": "ipython",
    "version": 3
   },
   "file_extension": ".py",
   "mimetype": "text/x-python",
   "name": "python",
   "nbconvert_exporter": "python",
   "pygments_lexer": "ipython3",
   "version": "3.9.2"
  }
 },
 "nbformat": 4,
 "nbformat_minor": 2
}
