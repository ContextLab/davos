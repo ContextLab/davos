{
  "nbformat": 4,
  "nbformat_minor": 0,
  "metadata": {
    "colab": {
      "name": "test-davos-colab.ipynb",
      "provenance": [],
      "collapsed_sections": []
    },
    "kernelspec": {
      "display_name": "Python 3",
      "name": "python3"
    },
    "language_info": {
      "name": "python"
    }
  },
  "cells": [
    {
      "cell_type": "markdown",
      "metadata": {
        "id": "J2ClQflyITTI"
      },
      "source": [
        "<p align=\"center\"\n",
        "    <a href=\"https://colab.research.google.com/github/ContextLab/davos/blob/main/tests/test-davos-colab.ipynb\" target=\"_parent\">\n",
        "        <img src=\"https://colab.research.google.com/assets/colab-badge.svg\" alt=\"Open In Colab\">\n",
        "    </a>\n",
        "</p>"
      ]
    },
    {
      "cell_type": "code",
      "metadata": {
        "id": "2VwnizLZ7xPq"
      },
      "source": [
        "GITHUB_USERNAME = \"$GITHUB_USERNAME\"\n",
        "GITHUB_REF = \"$GITHUB_REF\"\n",
        "IPYTHON_SHELL = get_ipython()"
      ],
      "execution_count": 1,
      "outputs": []
    },
    {
      "cell_type": "code",
      "metadata": {
        "id": "sXPlvCvRsuLE"
      },
      "source": [
        "import sys\n",
        "from pathlib import Path\n",
        "from subprocess import CalledProcessError\n",
        "\n",
        "import google\n",
        "import IPython\n",
        "import pkg_resources\n",
        "import requests\n",
        "from IPython.display import display_html\n",
        "from IPython.utils.io import capture_output as capture_ipython_display\n",
        "\n",
        "\n",
        "utils_module = Path('utils.py').resolve()\n",
        "if not utils_module.is_file():\n",
        "    response = requests.get(f'https://raw.githubusercontent.com/{GITHUB_USERNAME}/davos/{GITHUB_REF}/tests/conftest.py')\n",
        "    utils_module.write_text(response.text)"
      ],
      "execution_count": 2,
      "outputs": []
    },
    {
      "cell_type": "code",
      "metadata": {
        "id": "sF6WznHnPM-w"
      },
      "source": [
        "from utils import (\n",
        "    DavosAssertionError, \n",
        "    expected_onion_parser, \n",
        "    expected_parser_output, \n",
        "    install_davos, \n",
        "    is_installed, \n",
        "    mark_timeout, \n",
        "    matches_expected_output, \n",
        "    run_tests, \n",
        "    TestingEnvironmentError\n",
        ")\n",
        "\n",
        "\n",
        "install_davos(source='github', ref=GITHUB_REF, fork=GITHUB_USERNAME)"
      ],
      "execution_count": null,
      "outputs": []
    },
    {
      "cell_type": "code",
      "metadata": {
        "id": "3CwJ8l1AzcfO"
      },
      "source": [
        "import davos\n",
        "\n",
        "\n",
        "_parse_line = davos.implementations.full_parser\n",
        "_parse_onion = davos.core.core.Onion.parse_onion"
      ],
      "execution_count": null,
      "outputs": []
    },
    {
      "cell_type": "markdown",
      "metadata": {
        "id": "TTnx8Ux83ugP"
      },
      "source": [
        "# **Notebook environment tests**"
      ]
    },
    {
      "cell_type": "code",
      "metadata": {
        "id": "0aMa2x7n5-cg"
      },
      "source": [
        "def test_ipython_shell_is_colab_shell():\n",
        "    try:\n",
        "        assert isinstance(IPYTHON_SHELL, google.colab._shell.Shell)\n",
        "    except AttributeError as e:\n",
        "        google_version = pkg_resources.get_distribution('google').version\n",
        "        raise TestingEnvironmentError(\n",
        "            \"Qualified name for Colab interactive shell class has changed \"\n",
        "            \"(google module may have been recently updated).\\n\\tShell type:\\t\"\n",
        "            f\"{type(IPYTHON_SHELL)}\\n\\tgoogle version:\\t{google_version}\"\n",
        "        ) from e"
      ],
      "execution_count": null,
      "outputs": []
    },
    {
      "cell_type": "code",
      "metadata": {
        "id": "Jq9BX8VC9XaZ"
      },
      "source": [
        "def test_ipython_version():\n",
        "    ipy_version = IPython.__version__\n",
        "    try:\n",
        "        assert ipy_version == '5.5.0'\n",
        "    except AssertionError as e:\n",
        "        raise TestingEnvironmentError(\n",
        "            f\"Expected IPython==5.5.0, found IPython=={ipy_version}. Colab \"\n",
        "            \"package environment may have been recently updated\"\n",
        "        ) from e"
      ],
      "execution_count": null,
      "outputs": []
    },
    {
      "cell_type": "markdown",
      "metadata": {
        "id": "3akA2h2zSwI7"
      },
      "source": [
        "# **Initialization tests**"
      ]
    },
    {
      "cell_type": "code",
      "metadata": {
        "id": "wjDdDkyHXft-"
      },
      "source": [
        "def test_smuggle_function_in_namespace():\n",
        "    assert 'smuggle' in IPYTHON_SHELL.user_ns"
      ],
      "execution_count": null,
      "outputs": []
    },
    {
      "cell_type": "code",
      "metadata": {
        "id": "OeB54gfIU0pH"
      },
      "source": [
        "def test_input_transformer_registered():\n",
        "    splitter_transforms = IPYTHON_SHELL.input_splitter.python_line_transforms\n",
        "    line_transforms = IPYTHON_SHELL.input_transformer_manager.python_line_transforms\n",
        "    # transform be registered once (and only once) in both places\n",
        "    assert len(splitter_transforms) == 1\n",
        "    assert len(line_transforms) == 1\n",
        "    smuggler_splitter_transform = splitter_transforms[0]\n",
        "    smuggler_line_transform = line_transforms[0]\n",
        "    # both should be StatelessInputTransformer instances\n",
        "    assert isinstance(smuggler_splitter_transform, \n",
        "                      IPython.core.inputtransformer.StatelessInputTransformer)\n",
        "    assert isinstance(smuggler_line_transform, \n",
        "                      IPython.core.inputtransformer.StatelessInputTransformer)\n",
        "    # both objects' .func attr should be \"full\" parser function, which for \n",
        "    # IPython<7.0 should simply be the parse_line function \n",
        "    assert (smuggler_splitter_transform.func \n",
        "            is smuggler_line_transform.func \n",
        "            is davos.implementations.full_parser\n",
        "            is davos.core.core.parse_line)"
      ],
      "execution_count": null,
      "outputs": []
    },
    {
      "cell_type": "code",
      "metadata": {
        "id": "scwvd0G_aMsx"
      },
      "source": [
        "def test_DavosConfig_object_initialization():\n",
        "    config = davos.config\n",
        "    # config object should be a singleton\n",
        "    assert davos.DavosConfig() is config\n",
        "    # should recognize Colab notebook environment\n",
        "    assert config.environment == 'Colaboratory'\n",
        "    # global IPython shell instance and its original showsyntaxerror \n",
        "    # method should be stored as expected\n",
        "    assert (config.ipython_shell \n",
        "            is IPYTHON_SHELL \n",
        "            is config._ipy_showsyntaxerror_orig.__self__)\n",
        "    # conda executable should be unavailable...\n",
        "    assert config.conda_avail is False\n",
        "    # ...so name of current conda environment should be None...\n",
        "    assert config.conda_env is None\n",
        "    # ...and env name - env dir path mapping should also be None\n",
        "    assert config.conda_envs_dirs is None\n",
        "    # dict of previously smuggled packages should initially be empty\n",
        "    assert config.smuggled == {}\n",
        "    # davos parser should initially be active\n",
        "    assert config.active is davos.is_active() is True\n",
        "    # automatic restart & run all above behavior should be unavailable in colab\n",
        "    assert config.allow_rerun is False\n",
        "    # install confirmation should not be required by default\n",
        "    assert config.confirm_install is False\n",
        "    # noninteractive mode should be disabled by default\n",
        "    assert config.noninteractive is False\n",
        "    # stdout should not be suppressed by default\n",
        "    assert config.suppress_stdout is False"
      ],
      "execution_count": null,
      "outputs": []
    },
    {
      "cell_type": "markdown",
      "metadata": {
        "id": "eeYkZiDL4Vrr"
      },
      "source": [
        "# **Main tests**"
      ]
    },
    {
      "cell_type": "markdown",
      "metadata": {
        "id": "h8zmDNgMgLGk"
      },
      "source": [
        "## Unit tests"
      ]
    },
    {
      "cell_type": "markdown",
      "metadata": {
        "id": "AjpH754ElGt3"
      },
      "source": [
        "### shell command runner tests"
      ]
    },
    {
      "cell_type": "code",
      "metadata": {
        "id": "oBF5TmvOhFSl"
      },
      "source": [
        "def test_run_shell_command_simple():\n",
        "    stdout = davos.core.core.run_shell_command('whoami', live_stdout=False)\n",
        "    assert stdout == 'root\\r\\n'"
      ],
      "execution_count": null,
      "outputs": []
    },
    {
      "cell_type": "code",
      "metadata": {
        "id": "MF0REQDfh5UF"
      },
      "source": [
        "def test_run_shell_command_multiword():\n",
        "    quote = (\"Strictly speaking, I didn't do the theiving. That would be the \"\n",
        "             \"pirates. I just moved what they stole from one place to another\")\n",
        "    stdout = davos.core.core.run_shell_command(f'echo \"{quote}\"', \n",
        "                                               live_stdout=False)\n",
        "    assert stdout == quote + '\\r\\n'"
      ],
      "execution_count": null,
      "outputs": []
    },
    {
      "cell_type": "code",
      "metadata": {
        "id": "w7uenDGZcsuP"
      },
      "source": [
        "def test_run_shell_command_failure():\n",
        "    try:\n",
        "        davos.core.core.run_shell_command('blahblahblah', live_stdout=True)\n",
        "    except CalledProcessError as e:\n",
        "        assert e.returncode == 127\n",
        "        assert e.output == '/bin/sh: 1: blahblahblah: not found\\r\\n', e.output.getvalue()"
      ],
      "execution_count": null,
      "outputs": []
    },
    {
      "cell_type": "markdown",
      "metadata": {
        "id": "E4U8QOFolgpS"
      },
      "source": [
        "### smuggle command parser tests"
      ]
    },
    {
      "cell_type": "code",
      "metadata": {
        "id": "VzF2OhxZkxnl"
      },
      "source": [
        "def test_parser_ignores_line_no_smuggle():\n",
        "    line = \"def foo(bar, baz=qux):\"\n",
        "    assert _parse_line(line) == line"
      ],
      "execution_count": null,
      "outputs": []
    },
    {
      "cell_type": "code",
      "metadata": {
        "id": "-2e0f8r7mJNE"
      },
      "source": [
        "def test_parser_ignores_line_decoy_smuggle():\n",
        "    \"\"\"a line that has \"smuggle\" in it, but should be ignored\"\"\"\n",
        "    line = \"def smuggle_something(foo):\"\n",
        "    assert _parse_line(line) == line"
      ],
      "execution_count": null,
      "outputs": []
    },
    {
      "cell_type": "code",
      "metadata": {
        "id": "i_8gCTv2mJQI"
      },
      "source": [
        "def test_parser_ignores_commented_line():\n",
        "    \"\"\"parser should ignore commented-out smuggle statements\"\"\"\n",
        "    line = \"# smuggle foo as bar\"\n",
        "    assert _parse_line(line) == line"
      ],
      "execution_count": null,
      "outputs": []
    },
    {
      "cell_type": "code",
      "metadata": {
        "id": "oUOlI4yEiaeW"
      },
      "source": [
        "def test_parser_handles_basic_line():\n",
        "    \"\"\"simplest use case\"\"\"\n",
        "    line = \"smuggle foo\"\n",
        "    expected = expected_parser_output('foo')\n",
        "    assert matches_expected_output(expected, _parse_line(line))"
      ],
      "execution_count": null,
      "outputs": []
    },
    {
      "cell_type": "code",
      "metadata": {
        "id": "D4Vi1ay4ly4g"
      },
      "source": [
        "def test_parser_handles_basic_line_alias():\n",
        "    \"\"\"simplest use case, plus alias\"\"\"\n",
        "    line = \"smuggle foo as bar\"\n",
        "    expected = expected_parser_output('foo', as_='bar')\n",
        "    assert matches_expected_output(expected, _parse_line(line))"
      ],
      "execution_count": null,
      "outputs": []
    },
    {
      "cell_type": "code",
      "metadata": {
        "id": "QQqY5lFWia1U"
      },
      "source": [
        "def test_parser_handles_basic_line_onion():\n",
        "    \"\"\"simplest use case, with onion comment\"\"\"\n",
        "    line = \"smuggle foo as bar    # pip: foo==0.0.1\"\n",
        "    expected = expected_parser_output('foo', as_='bar', args_str='foo==0.0.1')\n",
        "    assert matches_expected_output(expected, _parse_line(line))"
      ],
      "execution_count": null,
      "outputs": []
    },
    {
      "cell_type": "code",
      "metadata": {
        "id": "f7laAO9UkU55"
      },
      "source": [
        "def test_parser_ignores_non_onion_comment():\n",
        "    \"\"\"looks similar to the preivous one, but the inline comment is NOT an onion spec\"\"\"\n",
        "    line = \"smuggle foo as bar    # omg foo is my FAVORITE package\"\n",
        "    expected = expected_parser_output('foo', as_='bar') + \"    # omg foo is my FAVORITE package\"\n",
        "    assert matches_expected_output(expected, _parse_line(line))"
      ],
      "execution_count": null,
      "outputs": []
    },
    {
      "cell_type": "code",
      "metadata": {
        "id": "SDTuBZL9JGrs"
      },
      "source": [
        "def test_parser_ignores_imposter_onion_comment():\n",
        "    \"\"\"VERY close to an onion comment, but doesn't start with \"pip:\" (note colon)\"\"\"\n",
        "    line = \"smuggle foo as bar    # pip is a [redacted] package manager than conda\"\n",
        "    expected = expected_parser_output('foo', as_='bar') + \"    # pip is a [redacted] package manager than conda\"\n",
        "    assert matches_expected_output(expected, _parse_line(line))"
      ],
      "execution_count": null,
      "outputs": []
    },
    {
      "cell_type": "code",
      "metadata": {
        "id": "8eUcnzCnrjH2"
      },
      "source": [
        "def test_parser_handles_smuggle_qualname():\n",
        "    line = \"smuggle foo.bar as baz\"\n",
        "    expected = expected_parser_output('foo.bar', as_='baz')\n",
        "    assert matches_expected_output(expected, _parse_line(line))"
      ],
      "execution_count": null,
      "outputs": []
    },
    {
      "cell_type": "code",
      "metadata": {
        "id": "tYyTHhq6mJTB"
      },
      "source": [
        "def test_parser_handles_indented_line():\n",
        "    \"\"\"\n",
        "    needs to handle, e.g.\n",
        "        ```\n",
        "        def foo():\n",
        "            smuggle numpy as np\n",
        "        ```\n",
        "    Note: unless `davos.deactivate() is run, the above line will \n",
        "    actually be parsed (though it will have no effect)\n",
        "    \"\"\"\n",
        "    line = \"    smuggle foo as bar\"\n",
        "    expected = \"    \" + expected_parser_output('foo', as_='bar')\n",
        "    assert matches_expected_output(expected, _parse_line(line))"
      ],
      "execution_count": null,
      "outputs": []
    },
    {
      "cell_type": "code",
      "metadata": {
        "id": "vXFaqV8l4cba"
      },
      "source": [
        "def test_parser_handles_different_install_name():\n",
        "    \"\"\"\n",
        "    sometimes, name used for pip-installation is different \n",
        "    from name used to import\n",
        "    \"\"\"\n",
        "    line = \"smuggle foo as bar    # pip: foo-package==0.0.1\"\n",
        "    expected = expected_parser_output('foo', as_='bar', \n",
        "                                       args_str='foo-package==0.0.1')\n",
        "    assert matches_expected_output(expected, _parse_line(line))"
      ],
      "execution_count": null,
      "outputs": []
    },
    {
      "cell_type": "code",
      "metadata": {
        "id": "bAXICxNor4a9"
      },
      "source": [
        "def test_parser_handles_multiple_packages():\n",
        "    line = \"smuggle foo as bar, baz as qux, spam, ham, eggs\"\n",
        "    expected = expected_parser_output('foo', as_='bar')\n",
        "    expected += f\"; {expected_parser_output('baz', as_='qux')}\"\n",
        "    expected += f\"; {expected_parser_output('spam')}\"\n",
        "    expected += f\"; {expected_parser_output('ham')}\"\n",
        "    expected += f\"; {expected_parser_output('eggs')}\"\n",
        "    assert matches_expected_output(expected, _parse_line(line))"
      ],
      "execution_count": null,
      "outputs": []
    },
    {
      "cell_type": "code",
      "metadata": {
        "id": "4Xm-d7dYhjuR"
      },
      "source": [
        "def test_parser_handles_multiple_packages_onion():\n",
        "    \"\"\"onion info should be passed to smuggle function for FIRST package\"\"\"\n",
        "    line = \"smuggle foo as bar, baz as qux, spam, ham, eggs    # pip: foo==0.0.1\"\n",
        "    expected = expected_parser_output('foo', as_='bar', args_str='foo==0.0.1')\n",
        "    expected += f\"; {expected_parser_output('baz', as_='qux')}\"\n",
        "    expected += f\"; {expected_parser_output('spam')}\"\n",
        "    expected += f\"; {expected_parser_output('ham')}\"\n",
        "    expected += f\"; {expected_parser_output('eggs')}\"\n",
        "    assert matches_expected_output(expected, _parse_line(line))"
      ],
      "execution_count": null,
      "outputs": []
    },
    {
      "cell_type": "code",
      "metadata": {
        "id": "UFRPxgIer4dc"
      },
      "source": [
        "def test_parser_handles_backslash():\n",
        "    line = \"\"\"smuggle foo as bar, \\\n",
        "                      baz as qux, \\\n",
        "                      spam, ham, \\\n",
        "                      eggs\"\"\"\n",
        "    expected = expected_parser_output('foo', as_='bar')\n",
        "    expected += f\"; {expected_parser_output('baz', as_='qux')}\"\n",
        "    expected += f\"; {expected_parser_output('spam')}\"\n",
        "    expected += f\"; {expected_parser_output('ham')}\"\n",
        "    expected += f\"; {expected_parser_output('eggs')}\"\n",
        "    assert matches_expected_output(expected, _parse_line(line))"
      ],
      "execution_count": null,
      "outputs": []
    },
    {
      "cell_type": "code",
      "metadata": {
        "id": "wturHFrIr4fi"
      },
      "source": [
        "def test_parser_handles_backslash_onion():\n",
        "    \"\"\"again, onion info should be passed to smuggle function for FIRST package\"\"\"\n",
        "    line = \"\"\"smuggle foo as bar, \\\n",
        "                      baz as qux, \\\n",
        "                      spam, ham, \\\n",
        "                      eggs    # pip: foo==0.0.1\"\"\"\n",
        "    expected = expected_parser_output('foo', as_='bar', args_str='foo==0.0.1')\n",
        "    expected += f\"; {expected_parser_output('baz', as_='qux')}\"\n",
        "    expected += f\"; {expected_parser_output('spam')}\"\n",
        "    expected += f\"; {expected_parser_output('ham')}\"\n",
        "    expected += f\"; {expected_parser_output('eggs')}\"\n",
        "    assert matches_expected_output(expected, _parse_line(line))"
      ],
      "execution_count": null,
      "outputs": []
    },
    {
      "cell_type": "code",
      "metadata": {
        "id": "wSFAB-8AgKi6"
      },
      "source": [
        "def test_parser_handles_inconsistent_whitespace():\n",
        "    \"\"\"should handle weird amounts of whitespace that are *technically* valid\"\"\"\n",
        "    line = \"\"\"smuggle               foo     as    bar    \\\n",
        ",baz as qux  , \\\n",
        "          spam  .  ham    as    eggs                #   pip   :       foo==0.0.1    \"\"\"\n",
        "    expected = expected_parser_output('foo', as_='bar', args_str='foo==0.0.1')\n",
        "    expected += f\"; {expected_parser_output('baz', as_='qux')}\"\n",
        "    expected += f\"; {expected_parser_output('spam.ham', as_='eggs')}\"\n",
        "    # real parser adds back leading & trailing characters (including whitespace)\n",
        "    expected += \"    \"\n",
        "    assert matches_expected_output(expected, _parse_line(line))"
      ],
      "execution_count": null,
      "outputs": []
    },
    {
      "cell_type": "code",
      "metadata": {
        "id": "iiynLAjLgKnn"
      },
      "source": [
        "def test_parser_handles_smuggle_from():\n",
        "    \"\"\"second possible broad syntax class\"\"\"\n",
        "    line = \"from foo smuggle bar\"\n",
        "    expected = expected_parser_output('foo.bar', as_='bar')\n",
        "    assert matches_expected_output(expected, _parse_line(line))"
      ],
      "execution_count": null,
      "outputs": []
    },
    {
      "cell_type": "code",
      "metadata": {
        "id": "8mPAq2AXsnS9"
      },
      "source": [
        "def test_parser_handles_smuggle_from_onion():\n",
        "    \"\"\"second possible broad syntax class\"\"\"\n",
        "    line = \"from foo smuggle bar    # pip: foo==0.0.1\"\n",
        "    expected = expected_parser_output('foo.bar', as_='bar', args_str='foo==0.0.1')\n",
        "    assert matches_expected_output(expected, _parse_line(line))"
      ],
      "execution_count": null,
      "outputs": []
    },
    {
      "cell_type": "code",
      "metadata": {
        "id": "GGvdTMMgr3dp"
      },
      "source": [
        "def test_parser_handles_smuggle_from_multi():\n",
        "    line = \"from foo smuggle bar, baz as spam, qux\"\n",
        "    expected = expected_parser_output('foo.bar', as_='bar')\n",
        "    expected += f\"; {expected_parser_output('foo.baz', as_='spam')}\"\n",
        "    expected += f\"; {expected_parser_output('foo.qux', as_='qux')}\"\n",
        "    assert matches_expected_output(expected, _parse_line(line))"
      ],
      "execution_count": null,
      "outputs": []
    },
    {
      "cell_type": "code",
      "metadata": {
        "id": "EjOyycpCQFm-"
      },
      "source": [
        "def test_parser_handles_smuggle_from_multi_onion():\n",
        "    \"\"\"onion info should be passed to FIRST smuggle function\"\"\"\n",
        "    line = \"from foo smuggle bar, baz as spam, qux    # pip: foo==0.0.1\"\n",
        "    expected = expected_parser_output('foo.bar', as_='bar', args_str='foo==0.0.1')\n",
        "    expected += f\"; {expected_parser_output('foo.baz', as_='spam')}\"\n",
        "    expected += f\"; {expected_parser_output('foo.qux', as_='qux')}\"\n",
        "    assert matches_expected_output(expected, _parse_line(line))"
      ],
      "execution_count": null,
      "outputs": []
    },
    {
      "cell_type": "code",
      "metadata": {
        "id": "grUaxSdCtXKQ"
      },
      "source": [
        "def test_parser_handles_smuggle_from_backslash():\n",
        "    \"\"\"onion info should be passed to FIRST smuggle function\"\"\"\n",
        "    line = \"\"\"from foo smuggle bar, \\\n",
        "                               baz as spam, \\\n",
        "                               qux    # pip: foo==0.0.1\"\"\"\n",
        "    expected = expected_parser_output('foo.bar', as_='bar', args_str='foo==0.0.1')\n",
        "    expected += f\"; {expected_parser_output('foo.baz', as_='spam')}\"\n",
        "    expected += f\"; {expected_parser_output('foo.qux', as_='qux')}\"\n",
        "    assert matches_expected_output(expected, _parse_line(line))"
      ],
      "execution_count": null,
      "outputs": []
    },
    {
      "cell_type": "code",
      "metadata": {
        "id": "sCcYGt_AQFpb"
      },
      "source": [
        "def test_parser_handles_smuggle_from_parentheses():\n",
        "    line = \"\"\"from foo smuggle (bar, baz as spam, qux,)\"\"\"\n",
        "    # also tests trailing comma inside parentheses, which is valid\n",
        "    expected = expected_parser_output('foo.bar', as_='bar')\n",
        "    expected += f\"; {expected_parser_output('foo.baz', as_='spam')}\"\n",
        "    expected += f\"; {expected_parser_output('foo.qux', as_='qux')}\"\n",
        "    assert matches_expected_output(expected, _parse_line(line))"
      ],
      "execution_count": null,
      "outputs": []
    },
    {
      "cell_type": "code",
      "metadata": {
        "id": "gLCfWNofQFrb"
      },
      "source": [
        "def test_parser_handles_smuggle_from_parentheses_multiline_1():\n",
        "    line = \"\"\"from foo smuggle (bar, \n",
        "                                baz as spam, \n",
        "                                qux)\"\"\"\n",
        "    expected = expected_parser_output('foo.bar', as_='bar')\n",
        "    expected += f\"; {expected_parser_output('foo.baz', as_='spam')}\"\n",
        "    expected += f\"; {expected_parser_output('foo.qux', as_='qux')}\"\n",
        "    assert matches_expected_output(expected, _parse_line(line))"
      ],
      "execution_count": null,
      "outputs": []
    },
    {
      "cell_type": "code",
      "metadata": {
        "id": "f4RxjFx_vNyM"
      },
      "source": [
        "def test_parser_handles_smuggle_from_parentheses_multiline_1_onion_1():\n",
        "    line = \"\"\"from foo smuggle (bar,    # pip: foo==0.0.1\n",
        "                                baz as spam, \n",
        "                                qux)\"\"\"\n",
        "    expected = expected_parser_output('foo.bar', as_='bar', args_str='foo==0.0.1')\n",
        "    expected += f\"; {expected_parser_output('foo.baz', as_='spam')}\"\n",
        "    expected += f\"; {expected_parser_output('foo.qux', as_='qux')}\"\n",
        "    assert matches_expected_output(expected, _parse_line(line))"
      ],
      "execution_count": null,
      "outputs": []
    },
    {
      "cell_type": "code",
      "metadata": {
        "id": "wYlMwMwPvN7r"
      },
      "source": [
        "def test_parser_handles_smuggle_from_parentheses_multiline_1_onion_2():\n",
        "    line = \"\"\"from foo smuggle (bar, \n",
        "                                baz as spam, \n",
        "                                qux)    # pip: foo==0.0.1\"\"\"\n",
        "    expected = expected_parser_output('foo.bar', as_='bar', args_str='foo==0.0.1')\n",
        "    expected += f\"; {expected_parser_output('foo.baz', as_='spam')}\"\n",
        "    expected += f\"; {expected_parser_output('foo.qux', as_='qux')}\"\n",
        "    assert matches_expected_output(expected, _parse_line(line))"
      ],
      "execution_count": null,
      "outputs": []
    },
    {
      "cell_type": "code",
      "metadata": {
        "id": "pmrunSGUu6LA"
      },
      "source": [
        "def test_parser_handles_smuggle_from_parentheses_multiline_2():\n",
        "    line = \"\"\"from foo smuggle (\n",
        "                  bar, \n",
        "                  baz as spam, \n",
        "                  qux\n",
        "              )\"\"\"\n",
        "    expected = expected_parser_output('foo.bar', as_='bar')\n",
        "    expected += f\"; {expected_parser_output('foo.baz', as_='spam')}\"\n",
        "    expected += f\"; {expected_parser_output('foo.qux', as_='qux')}\"\n",
        "    assert matches_expected_output(expected, _parse_line(line))"
      ],
      "execution_count": null,
      "outputs": []
    },
    {
      "cell_type": "code",
      "metadata": {
        "id": "dHRTaLVevfBc"
      },
      "source": [
        "def test_parser_handles_smuggle_from_parentheses_multiline_2_onion_1():\n",
        "    line = \"\"\"from foo smuggle (    # pip: foo==0.0.1\n",
        "                  bar, \n",
        "                  baz as spam, \n",
        "                  qux\n",
        "              )\"\"\"\n",
        "    expected = expected_parser_output('foo.bar', as_='bar', args_str='foo==0.0.1')\n",
        "    expected += f\"; {expected_parser_output('foo.baz', as_='spam')}\"\n",
        "    expected += f\"; {expected_parser_output('foo.qux', as_='qux')}\"\n",
        "    assert matches_expected_output(expected, _parse_line(line))"
      ],
      "execution_count": null,
      "outputs": []
    },
    {
      "cell_type": "code",
      "metadata": {
        "id": "bwg_NQNrvfET"
      },
      "source": [
        "def test_parser_handles_smuggle_from_parentheses_multiline_2_onion_2():\n",
        "    line = \"\"\"from foo smuggle (\n",
        "                  bar, \n",
        "                  baz as spam, \n",
        "                  qux\n",
        "              )    # pip: foo==0.0.1\"\"\"\n",
        "    expected = expected_parser_output('foo.bar', as_='bar', args_str='foo==0.0.1')\n",
        "    expected += f\"; {expected_parser_output('foo.baz', as_='spam')}\"\n",
        "    expected += f\"; {expected_parser_output('foo.qux', as_='qux')}\"\n",
        "    assert matches_expected_output(expected, _parse_line(line))"
      ],
      "execution_count": null,
      "outputs": []
    },
    {
      "cell_type": "code",
      "metadata": {
        "id": "rYyjDKl6u6ND"
      },
      "source": [
        "def test_parser_handles_smuggle_from_parentheses_multiline_2_onion_2_comments():\n",
        "    line = \"\"\"from foo smuggle (    # unrelated comment on first line\n",
        "                  bar,    # unrelated comment on package name line\n",
        "                  baz as spam, \n",
        "                  # unrelated comment on its own line\n",
        "                  qux\n",
        "              )    # pip: foo==0.0.1    # unrelated comment after onion\"\"\"\n",
        "    expected = expected_parser_output('foo.bar', as_='bar', args_str='foo==0.0.1')\n",
        "    expected += f\"; {expected_parser_output('foo.baz', as_='spam')}\"\n",
        "    expected += f\"; {expected_parser_output('foo.qux', as_='qux')}\"\n",
        "    expected += \"    # unrelated comment after onion\"\n",
        "    assert matches_expected_output(expected, _parse_line(line))"
      ],
      "execution_count": null,
      "outputs": []
    },
    {
      "cell_type": "code",
      "metadata": {
        "id": "d7Jm83r9DJol"
      },
      "source": [
        "def test_parser_handles_smuggle_semicolons():\n",
        "    \"\"\"also combines multiple elements from prior tests\"\"\"\n",
        "    line = \"\"\"smuggle foo; smuggle bar as baz; \\\n",
        "              from spam smuggle eggs; \\\n",
        "              from qux smuggle quux as corge    # pip: qux-package==0.0.1\"\"\"\n",
        "    expected = expected_parser_output('foo')\n",
        "    expected += f\"; {expected_parser_output('bar', as_='baz')}\"\n",
        "    expected += f\"; {expected_parser_output('spam.eggs', as_='eggs')}\"\n",
        "    expected += f\"; {expected_parser_output('qux.quux', as_='corge', args_str='qux-package==0.0.1')}\"\n",
        "    assert matches_expected_output(expected, _parse_line(line))"
      ],
      "execution_count": null,
      "outputs": []
    },
    {
      "cell_type": "markdown",
      "metadata": {
        "id": "zirSJGjJHV-V"
      },
      "source": [
        "### onion comment parser tests"
      ]
    },
    {
      "cell_type": "code",
      "metadata": {
        "id": "0XhK1r5ou6PI"
      },
      "source": [
        "def test_onion_parser_simple():\n",
        "    onion = '# pip: foo==0.0.1'\n",
        "    expected = expected_onion_parser_output('foo==0.0.1')\n",
        "    assert parse_onion(onion) == expected"
      ],
      "execution_count": null,
      "outputs": []
    },
    {
      "cell_type": "code",
      "metadata": {
        "id": "HVZceFWkRZA7"
      },
      "source": [
        "def test_onion_parser_whitespace():\n",
        "    onion = '#             pip:            foo==0.0.1'\n",
        "    expected = expected_onion_parser_output('foo==0.0.1')\n",
        "    assert parse_onion(onion) == expected"
      ],
      "execution_count": null,
      "outputs": []
    },
    {
      "cell_type": "code",
      "metadata": {
        "id": "d0IOshgRQvnk"
      },
      "source": [
        "def test_onion_parser_github():\n",
        "    onion = '# pip: git+https://github.com/foo/bar.git@branch-name#egg=foo&subdirectory=baz'\n",
        "    expected = expected_onion_parser_output('git+https://github.com/foo/bar.git@branch-name#egg=foo&subdirectory=baz')\n",
        "    assert parse_onion(onion) == expected"
      ],
      "execution_count": null,
      "outputs": []
    },
    {
      "cell_type": "code",
      "metadata": {
        "id": "M4gBOhCGu6Q1"
      },
      "source": [
        "def test_onion_parser_editable():\n",
        "    onion = '# pip: --editable git+https://github.com/foo/bar.git'\n",
        "    expected = expected_onion_parser_output('--editable git+https://github.com/foo/bar.git', \n",
        "                                            editable=True, \n",
        "                                            spec='git+https://github.com/foo/bar.git')\n",
        "    assert parse_onion(onion) == expected"
      ],
      "execution_count": null,
      "outputs": []
    },
    {
      "cell_type": "code",
      "metadata": {
        "id": "J8wQPpzzwXdc"
      },
      "source": [
        "def test_onion_parser_joined_short_args():\n",
        "    onion = '# pip: -Ive git+https://github.com/foo/bar.git'\n",
        "    expected = expected_onion_parser_output('-Ive git+https://github.com/foo/bar.git', \n",
        "                                            editable=True, \n",
        "                                            ignore_installed=True, \n",
        "                                            verbosity=1,\n",
        "                                            spec='git+https://github.com/foo/bar.git')\n",
        "    assert parse_onion(onion) == expected"
      ],
      "execution_count": null,
      "outputs": []
    },
    {
      "cell_type": "code",
      "metadata": {
        "id": "BM6uJdjyw7Ne"
      },
      "source": [
        "def test_onion_parser_fails_mutually_exclusive_args():\n",
        "    onion = '# pip: --use-pep517 --no-use-pep517 foo'\n",
        "    try:\n",
        "        parse_onion(onion)    # SHOULD FAIL\n",
        "    except davos.core.exceptions.OnionArgumentError as e:\n",
        "        # has both 'msg' and 'message' attrs because it inherits from both \n",
        "        # SyntaxError and argparse.ArgumentError\n",
        "        assert e.msg == e.message == \"not allowed with argument --use-pep517\"\n",
        "        assert e.argument_name == \"--no-use-pep517\"\n",
        "        assert str(e) == \"argument --no-use-pep517: not allowed with argument --use-pep517\"\n",
        "    else:\n",
        "        raise DavosAssertionError(\"test should've raised 'davos.core.exceptions.OnionArgumentError'\")"
      ],
      "execution_count": null,
      "outputs": []
    },
    {
      "cell_type": "code",
      "metadata": {
        "id": "AUC0oBgORDgT"
      },
      "source": [
        "def test_onion_parser_fails_editable_after_spec():\n",
        "    onion = '# pip: git+https://github.com/foo/bar.git#egg=foo --editable'\n",
        "    try:\n",
        "        _parse_onion(onion)    # SHOULD FAIL\n",
        "    except davos.core.exceptions.OnionArgumentError as e:\n",
        "        # has both 'msg' and 'message' attrs because it inherits from both \n",
        "        # SyntaxError and argparse.ArgumentError\n",
        "        assert e.msg == e.message == \"expected one argument\"\n",
        "        assert e.argument_name == \"-e/--editable\"\n",
        "        assert str(e) == \"argument -e/--editable: expected one argument\"\n",
        "    else:\n",
        "        raise DavosAssertionError(\"test should've raised 'davos.core.exceptions.OnionArgumentError'\")"
      ],
      "execution_count": null,
      "outputs": []
    },
    {
      "cell_type": "code",
      "metadata": {
        "id": "CBWpL3xPqy62"
      },
      "source": [
        "def test_onion_parser_fails_arg_requires_value():\n",
        "    onion = '# pip: foo==0.0.1 --platform '\n",
        "    try:\n",
        "        _parse_onion(onion)    # SHOULD FAIL\n",
        "    except davos.core.exceptions.OnionArgumentError as e:\n",
        "        # has both 'msg' and 'message' attrs because it inherits from both \n",
        "        # SyntaxError and argparse.ArgumentError\n",
        "        assert e.msg == e.message == \"expected one argument\"\n",
        "        assert e.argument_name == \"--platform\"\n",
        "        assert str(e) == \"argument --platform: expected one argument\"\n",
        "    else:\n",
        "        raise DavosAssertionError(\"test should've raised 'davos.core.exceptions.OnionArgumentError'\")"
      ],
      "execution_count": null,
      "outputs": []
    },
    {
      "cell_type": "markdown",
      "metadata": {
        "id": "mobuRXLIzSYI"
      },
      "source": [
        "### miscellaneous tests"
      ]
    },
    {
      "cell_type": "code",
      "metadata": {
        "id": "Ik7dWA_eKxZ1"
      },
      "source": [
        "def test_does_not_register_multiple_transformers():\n",
        "    splitter_xforms = IPYTHON_SHELL.input_splitter.python_line_transforms\n",
        "    manager_xforms = IPYTHON_SHELL.input_transformer_manager.python_line_transforms\n",
        "    initial_n_splitter_xforms = len(splitter_xforms)\n",
        "    initial_n_manager_xforms = len(manager_xforms)\n",
        "    # record whether parser is active before running test to restore \n",
        "    # initial state afterward\n",
        "    start_active = davos.is_active()\n",
        "    if not start_active:\n",
        "        # ensure these are the number of registered transforms \n",
        "        # *including the davos parser*\n",
        "        initial_n_splitter_xforms += 1\n",
        "        initial_n_manager_xforms += 1\n",
        "\n",
        "    try:\n",
        "        for _ in range(5):\n",
        "            davos.activate()\n",
        "            assert len(splitter_xforms) == initial_n_splitter_xforms\n",
        "            assert len(manager_xforms) == initial_n_manager_xforms\n",
        "    finally:\n",
        "        if not start_active:\n",
        "            davos.deactivate()"
      ],
      "execution_count": null,
      "outputs": []
    },
    {
      "cell_type": "code",
      "metadata": {
        "id": "5MaNzcxkKIxW"
      },
      "source": [
        "def test_deactivate_reactivate():\n",
        "    start_active = davos.is_active()\n",
        "    try:\n",
        "        # start with the parser active\n",
        "        if not start_active:\n",
        "            davos.activate()\n",
        "        \n",
        "        assert davos.is_active()\n",
        "        davos.deactivate()\n",
        "        assert not davos.is_active()\n",
        "        davos.activate()\n",
        "        assert davos.is_active()\n",
        "    finally:\n",
        "        # return to state before function\n",
        "        if not start_active:\n",
        "            davos.deactivate()"
      ],
      "execution_count": null,
      "outputs": []
    },
    {
      "cell_type": "markdown",
      "metadata": {
        "id": "f6KNObdccm0Z"
      },
      "source": [
        "## Integration tests"
      ]
    },
    {
      "cell_type": "code",
      "metadata": {
        "id": "dAFOjVHdclYr"
      },
      "source": [
        "@mark_timeout(30)\n",
        "def test_smuggle_pypi_new():\n",
        "    assert not is_installed('ppca')\n",
        "    smuggle ppca    # pip: ppca>=0.0.4\n",
        "    assert isinstance(ppca, types.ModuleType)\n",
        "    assert hasattr(ppca, 'PPCA')"
      ],
      "execution_count": null,
      "outputs": []
    },
    {
      "cell_type": "code",
      "metadata": {
        "id": "xSmyvDGGez-g"
      },
      "source": [
        "@mark_timeout(30)\n",
        "def test_smuggle_from_pypi_new():\n",
        "    assert not is_installed('umap-learn')\n",
        "    from umap smuggle UMAP    # pip: umap-learn==0.4.6\n",
        "    assert hasattr(UMAP, 'fit')\n",
        "    assert is_installed('umap-learn==0.4.6')"
      ],
      "execution_count": null,
      "outputs": []
    },
    {
      "cell_type": "code",
      "metadata": {
        "id": "VZcVIiqw2FNH"
      },
      "source": [
        "@mark_timeout(30)\n",
        "def test_smuggle_previously_installed():\n",
        "    assert is_installed('fastdtw==0.3.4')\n",
        "    smuggle fastdtw    # pip: fastdtw==0.3.2\n",
        "    assert is_installed('fastdtw==0.3.2')"
      ],
      "execution_count": null,
      "outputs": []
    },
    {
      "cell_type": "code",
      "metadata": {
        "id": "3i_NEWou3GJd"
      },
      "source": [
        "@mark_timeout(30)\n",
        "def test_smuggle_previously_imported():\n",
        "    import tqdm\n",
        "    assert tqdm.__version__ == '4.41.1'\n",
        "    smuggle tqdm    # pip: tqdm==4.45.0\n",
        "    assert tqdm.__version__ == '4.45.0'"
      ],
      "execution_count": null,
      "outputs": []
    },
    {
      "cell_type": "code",
      "metadata": {
        "id": "CAwx5l_V3hfu"
      },
      "source": [
        "@mark_timeout(30)\n",
        "def test_smuggle_github_ref():\n",
        "    assert not is_installed('hypertools')\n",
        "    smuggle hypertools as hyp    # pip: git+https://github.com/ContextLab/hypertools.git@36c12fd#egg=hypertools\n",
        "    assert isinstance(hyp, types.ModuleType)\n",
        "    assert hyp is sys.modules['hypertools']\n",
        "    assert hasattr(hyp, 'DataGeometry')\n",
        "    assert hyp.__version__ == '0.6.3'\n",
        "    assert is_installed('hypertools==0.6.3')"
      ],
      "execution_count": null,
      "outputs": []
    },
    {
      "cell_type": "code",
      "metadata": {
        "id": "WjesOMYTzhap"
      },
      "source": [
        "@mark_timeout(30)\n",
        "def test_smuggle_github_editable():\n",
        "    assert not is_installed('quail')\n",
        "    smuggle quail    # pip: -e git+https://github.com/ContextLab/quail.git@v0.2.0#egg=quail --src /content/gh_clones\n",
        "    assert '/content/gh_clones/quail' in sys.path\n",
        "    assert isinstance(quail, types.ModuleType)\n",
        "    assert hasattr(quail, 'Egg')\n",
        "    assert is_installed('quail==0.2.0')\n",
        "    assert Path('/content/gh_clones/quail').is_dir()"
      ],
      "execution_count": null,
      "outputs": []
    },
    {
      "cell_type": "code",
      "metadata": {
        "id": "4fzZ0fFL9bmF"
      },
      "source": [
        "@mark_timeout(300)\n",
        "def test_smuggle_github_subdirectory():\n",
        "    assert not is_installed('sherlock_helpers')\n",
        "    with capture_ipython_display():\n",
        "        # displays an IPython object on import, which \n",
        "        # contextlib.redirect_stdout doesn't catch\n",
        "        smuggle sherlock_helpers    # pip: git+https://github.com/ContextLab/sherlock-topic-model-paper.git@v1.0#subdirectory=code/sherlock_helpers\n",
        "    assert isinstance(sherlock_helpers, types.ModuleType)\n",
        "    assert hasattr(sherlock_helpers, 'github_url')\n",
        "    assert sherlock_helpers.__version__ == '0.0.1'\n",
        "    assert is_installed('sherlock_helpers==0.0.1')"
      ],
      "execution_count": null,
      "outputs": []
    },
    {
      "cell_type": "markdown",
      "metadata": {
        "id": "SgQcCroC4gqI"
      },
      "source": [
        "# **Run tests**"
      ]
    },
    {
      "cell_type": "code",
      "metadata": {
        "colab": {
          "base_uri": "https://localhost:8080/",
          "height": 968
        },
        "id": "HW5I9hyX3Nv9",
        "outputId": "11146809-0102-4e67-8d92-764713cda13e"
      },
      "source": [
        "run_tests()"
      ],
      "execution_count": null,
      "outputs": [
        {
          "output_type": "stream",
          "text": [
            "collected 55 items\n",
            "\n"
          ],
          "name": "stdout"
        },
        {
          "output_type": "display_data",
          "data": {
            "text/html": [
              "<div id='test_ipython_shell_is_colab_shell_result' style=\"white-space:pre\">test_ipython_shell_is_colab_shell                                     PASSED</div>"
            ]
          },
          "metadata": {
            "tags": []
          }
        },
        {
          "output_type": "display_data",
          "data": {
            "text/html": [
              "<div id='test_ipython_version_result' style=\"white-space:pre\">test_ipython_version                                                  PASSED</div>"
            ]
          },
          "metadata": {
            "tags": []
          }
        },
        {
          "output_type": "display_data",
          "data": {
            "text/html": [
              "<div id='test_smuggle_function_in_namespace_result' style=\"white-space:pre\">test_smuggle_function_in_namespace                                    PASSED</div>"
            ]
          },
          "metadata": {
            "tags": []
          }
        },
        {
          "output_type": "display_data",
          "data": {
            "text/html": [
              "<div id='test_input_transformer_registered_result' style=\"white-space:pre\">test_input_transformer_registered                                     PASSED</div>"
            ]
          },
          "metadata": {
            "tags": []
          }
        },
        {
          "output_type": "display_data",
          "data": {
            "text/html": [
              "<div id='test_DavosConfig_object_initialization_result' style=\"white-space:pre\">test_DavosConfig_object_initialization                                PASSED</div>"
            ]
          },
          "metadata": {
            "tags": []
          }
        },
        {
          "output_type": "display_data",
          "data": {
            "text/html": [
              "<div id='test_run_shell_command_simple_result' style=\"white-space:pre\">test_run_shell_command_simple                                         PASSED</div>"
            ]
          },
          "metadata": {
            "tags": []
          }
        },
        {
          "output_type": "display_data",
          "data": {
            "text/html": [
              "<div id='test_run_shell_command_multiword_result' style=\"white-space:pre\">test_run_shell_command_multiword                                      PASSED</div>"
            ]
          },
          "metadata": {
            "tags": []
          }
        },
        {
          "output_type": "display_data",
          "data": {
            "text/html": [
              "<div id='test_run_shell_command_failure_result' style=\"white-space:pre\">test_run_shell_command_failure                                        PASSED</div>"
            ]
          },
          "metadata": {
            "tags": []
          }
        },
        {
          "output_type": "display_data",
          "data": {
            "text/html": [
              "<div id='test_parser_ignores_line_no_smuggle_result' style=\"white-space:pre\">test_parser_ignores_line_no_smuggle                                   PASSED</div>"
            ]
          },
          "metadata": {
            "tags": []
          }
        },
        {
          "output_type": "display_data",
          "data": {
            "text/html": [
              "<div id='test_parser_ignores_line_decoy_smuggle_result' style=\"white-space:pre\">test_parser_ignores_line_decoy_smuggle                                PASSED</div>"
            ]
          },
          "metadata": {
            "tags": []
          }
        },
        {
          "output_type": "display_data",
          "data": {
            "text/html": [
              "<div id='test_parser_ignores_commented_line_result' style=\"white-space:pre\">test_parser_ignores_commented_line                                    PASSED</div>"
            ]
          },
          "metadata": {
            "tags": []
          }
        },
        {
          "output_type": "display_data",
          "data": {
            "text/html": [
              "<div id='test_parser_handles_basic_line_result' style=\"white-space:pre\">test_parser_handles_basic_line                                        PASSED</div>"
            ]
          },
          "metadata": {
            "tags": []
          }
        },
        {
          "output_type": "display_data",
          "data": {
            "text/html": [
              "<div id='test_parser_handles_basic_line_alias_result' style=\"white-space:pre\">test_parser_handles_basic_line_alias                                  PASSED</div>"
            ]
          },
          "metadata": {
            "tags": []
          }
        },
        {
          "output_type": "display_data",
          "data": {
            "text/html": [
              "<div id='test_parser_handles_basic_line_onion_result' style=\"white-space:pre\">test_parser_handles_basic_line_onion                                  PASSED</div>"
            ]
          },
          "metadata": {
            "tags": []
          }
        },
        {
          "output_type": "display_data",
          "data": {
            "text/html": [
              "<div id='test_parser_ignores_non_onion_comment_result' style=\"white-space:pre\">test_parser_ignores_non_onion_comment                                 PASSED</div>"
            ]
          },
          "metadata": {
            "tags": []
          }
        },
        {
          "output_type": "display_data",
          "data": {
            "text/html": [
              "<div id='test_parser_ignores_imposter_onion_comment_result' style=\"white-space:pre\">test_parser_ignores_imposter_onion_comment                            PASSED</div>"
            ]
          },
          "metadata": {
            "tags": []
          }
        },
        {
          "output_type": "display_data",
          "data": {
            "text/html": [
              "<div id='test_parser_handles_smuggle_qualname_result' style=\"white-space:pre\">test_parser_handles_smuggle_qualname                                  PASSED</div>"
            ]
          },
          "metadata": {
            "tags": []
          }
        },
        {
          "output_type": "display_data",
          "data": {
            "text/html": [
              "<div id='test_parser_handles_indented_line_result' style=\"white-space:pre\">test_parser_handles_indented_line                                     PASSED</div>"
            ]
          },
          "metadata": {
            "tags": []
          }
        },
        {
          "output_type": "display_data",
          "data": {
            "text/html": [
              "<div id='test_parser_handles_different_install_name_result' style=\"white-space:pre\">test_parser_handles_different_install_name                            PASSED</div>"
            ]
          },
          "metadata": {
            "tags": []
          }
        },
        {
          "output_type": "display_data",
          "data": {
            "text/html": [
              "<div id='test_parser_handles_multiple_packages_result' style=\"white-space:pre\">test_parser_handles_multiple_packages                                 PASSED</div>"
            ]
          },
          "metadata": {
            "tags": []
          }
        },
        {
          "output_type": "display_data",
          "data": {
            "text/html": [
              "<div id='test_parser_handles_multiple_packages_onion_result' style=\"white-space:pre\">test_parser_handles_multiple_packages_onion                           PASSED</div>"
            ]
          },
          "metadata": {
            "tags": []
          }
        },
        {
          "output_type": "display_data",
          "data": {
            "text/html": [
              "<div id='test_parser_handles_backslash_result' style=\"white-space:pre\">test_parser_handles_backslash                                         PASSED</div>"
            ]
          },
          "metadata": {
            "tags": []
          }
        },
        {
          "output_type": "display_data",
          "data": {
            "text/html": [
              "<div id='test_parser_handles_backslash_onion_result' style=\"white-space:pre\">test_parser_handles_backslash_onion                                   PASSED</div>"
            ]
          },
          "metadata": {
            "tags": []
          }
        },
        {
          "output_type": "display_data",
          "data": {
            "text/html": [
              "<div id='test_parser_handles_inconsistent_whitespace_result' style=\"white-space:pre\">test_parser_handles_inconsistent_whitespace                           PASSED</div>"
            ]
          },
          "metadata": {
            "tags": []
          }
        },
        {
          "output_type": "display_data",
          "data": {
            "text/html": [
              "<div id='test_parser_handles_smuggle_from_result' style=\"white-space:pre\">test_parser_handles_smuggle_from                                      PASSED</div>"
            ]
          },
          "metadata": {
            "tags": []
          }
        },
        {
          "output_type": "display_data",
          "data": {
            "text/html": [
              "<div id='test_parser_handles_smuggle_from_onion_result' style=\"white-space:pre\">test_parser_handles_smuggle_from_onion                                PASSED</div>"
            ]
          },
          "metadata": {
            "tags": []
          }
        },
        {
          "output_type": "display_data",
          "data": {
            "text/html": [
              "<div id='test_parser_handles_smuggle_from_multi_result' style=\"white-space:pre\">test_parser_handles_smuggle_from_multi                                PASSED</div>"
            ]
          },
          "metadata": {
            "tags": []
          }
        },
        {
          "output_type": "display_data",
          "data": {
            "text/html": [
              "<div id='test_parser_handles_smuggle_from_multi_onion_result' style=\"white-space:pre\">test_parser_handles_smuggle_from_multi_onion                          PASSED</div>"
            ]
          },
          "metadata": {
            "tags": []
          }
        },
        {
          "output_type": "display_data",
          "data": {
            "text/html": [
              "<div id='test_parser_handles_smuggle_from_backslash_result' style=\"white-space:pre\">test_parser_handles_smuggle_from_backslash                            PASSED</div>"
            ]
          },
          "metadata": {
            "tags": []
          }
        },
        {
          "output_type": "display_data",
          "data": {
            "text/html": [
              "<div id='test_parser_handles_smuggle_from_parentheses_result' style=\"white-space:pre\">test_parser_handles_smuggle_from_parentheses                          PASSED</div>"
            ]
          },
          "metadata": {
            "tags": []
          }
        },
        {
          "output_type": "display_data",
          "data": {
            "text/html": [
              "<div id='test_parser_handles_smuggle_from_parentheses_multiline_1_result' style=\"white-space:pre\">test_parser_handles_smuggle_from_parentheses_multiline_1              PASSED</div>"
            ]
          },
          "metadata": {
            "tags": []
          }
        },
        {
          "output_type": "display_data",
          "data": {
            "text/html": [
              "<div id='test_parser_handles_smuggle_from_parentheses_multiline_1_onion_1_result' style=\"white-space:pre\">test_parser_handles_smuggle_from_parentheses_multiline_1_onion_1      PASSED</div>"
            ]
          },
          "metadata": {
            "tags": []
          }
        },
        {
          "output_type": "display_data",
          "data": {
            "text/html": [
              "<div id='test_parser_handles_smuggle_from_parentheses_multiline_1_onion_2_result' style=\"white-space:pre\">test_parser_handles_smuggle_from_parentheses_multiline_1_onion_2      PASSED</div>"
            ]
          },
          "metadata": {
            "tags": []
          }
        },
        {
          "output_type": "display_data",
          "data": {
            "text/html": [
              "<div id='test_parser_handles_smuggle_from_parentheses_multiline_2_result' style=\"white-space:pre\">test_parser_handles_smuggle_from_parentheses_multiline_2              PASSED</div>"
            ]
          },
          "metadata": {
            "tags": []
          }
        },
        {
          "output_type": "display_data",
          "data": {
            "text/html": [
              "<div id='test_parser_handles_smuggle_from_parentheses_multiline_2_onion_1_result' style=\"white-space:pre\">test_parser_handles_smuggle_from_parentheses_multiline_2_onion_1      PASSED</div>"
            ]
          },
          "metadata": {
            "tags": []
          }
        },
        {
          "output_type": "display_data",
          "data": {
            "text/html": [
              "<div id='test_parser_handles_smuggle_from_parentheses_multiline_2_onion_2_result' style=\"white-space:pre\">test_parser_handles_smuggle_from_parentheses_multiline_2_onion_2      PASSED</div>"
            ]
          },
          "metadata": {
            "tags": []
          }
        },
        {
          "output_type": "display_data",
          "data": {
            "text/html": [
              "<div id='test_parser_handles_smuggle_from_parentheses_multiline_2_onion_2_comments_result' style=\"white-space:pre\">test_parser_handles_smuggle_from_parentheses_multiline_2_onion_2_commentsPASSED</div>"
            ]
          },
          "metadata": {
            "tags": []
          }
        },
        {
          "output_type": "display_data",
          "data": {
            "text/html": [
              "<div id='test_parser_handles_smuggle_semicolons_result' style=\"white-space:pre\">test_parser_handles_smuggle_semicolons                                PASSED</div>"
            ]
          },
          "metadata": {
            "tags": []
          }
        },
        {
          "output_type": "display_data",
          "data": {
            "text/html": [
              "<div id='test_onion_parser_simple_result' style=\"white-space:pre\">test_onion_parser_simple                                              PASSED</div>"
            ]
          },
          "metadata": {
            "tags": []
          }
        },
        {
          "output_type": "display_data",
          "data": {
            "text/html": [
              "<div id='test_onion_parser_whitespace_result' style=\"white-space:pre\">test_onion_parser_whitespace                                          PASSED</div>"
            ]
          },
          "metadata": {
            "tags": []
          }
        },
        {
          "output_type": "display_data",
          "data": {
            "text/html": [
              "<div id='test_onion_parser_github_result' style=\"white-space:pre\">test_onion_parser_github                                              PASSED</div>"
            ]
          },
          "metadata": {
            "tags": []
          }
        },
        {
          "output_type": "display_data",
          "data": {
            "text/html": [
              "<div id='test_onion_parser_editable_result' style=\"white-space:pre\">test_onion_parser_editable                                            PASSED</div>"
            ]
          },
          "metadata": {
            "tags": []
          }
        },
        {
          "output_type": "display_data",
          "data": {
            "text/html": [
              "<div id='test_onion_parser_joined_short_args_result' style=\"white-space:pre\">test_onion_parser_joined_short_args                                   PASSED</div>"
            ]
          },
          "metadata": {
            "tags": []
          }
        },
        {
          "output_type": "display_data",
          "data": {
            "text/html": [
              "<div id='test_onion_parser_fails_mutually_exclusive_args_result' style=\"white-space:pre\">test_onion_parser_fails_mutually_exclusive_args                       PASSED</div>"
            ]
          },
          "metadata": {
            "tags": []
          }
        },
        {
          "output_type": "display_data",
          "data": {
            "text/html": [
              "<div id='test_onion_parser_fails_editable_after_spec_result' style=\"white-space:pre\">test_onion_parser_fails_editable_after_spec                           PASSED</div>"
            ]
          },
          "metadata": {
            "tags": []
          }
        },
        {
          "output_type": "display_data",
          "data": {
            "text/html": [
              "<div id='test_onion_parser_fails_arg_requires_value_result' style=\"white-space:pre\">test_onion_parser_fails_arg_requires_value                            PASSED</div>"
            ]
          },
          "metadata": {
            "tags": []
          }
        },
        {
          "output_type": "display_data",
          "data": {
            "text/html": [
              "<div id='test_does_not_register_multiple_transformers_result' style=\"white-space:pre\">test_does_not_register_multiple_transformers                          PASSED</div>"
            ]
          },
          "metadata": {
            "tags": []
          }
        },
        {
          "output_type": "display_data",
          "data": {
            "text/html": [
              "<div id='test_deactivate_reactivate_result' style=\"white-space:pre\">test_deactivate_reactivate                                            PASSED</div>"
            ]
          },
          "metadata": {
            "tags": []
          }
        },
        {
          "output_type": "display_data",
          "data": {
            "text/html": [
              "<div id='test_smuggle_pypi_new_result' style=\"white-space:pre\">test_smuggle_pypi_new                                                 PASSED</div>"
            ]
          },
          "metadata": {
            "tags": []
          }
        },
        {
          "output_type": "display_data",
          "data": {
            "text/html": [
              "<div id='test_smuggle_from_pypi_new_result' style=\"white-space:pre\">test_smuggle_from_pypi_new                                            PASSED</div>"
            ]
          },
          "metadata": {
            "tags": []
          }
        },
        {
          "output_type": "display_data",
          "data": {
            "text/html": [
              "<div id='test_smuggle_previously_installed_result' style=\"white-space:pre\">test_smuggle_previously_installed                                     PASSED</div>"
            ]
          },
          "metadata": {
            "tags": []
          }
        },
        {
          "output_type": "display_data",
          "data": {
            "text/html": [
              "<div id='test_smuggle_previously_imported_result' style=\"white-space:pre\">test_smuggle_previously_imported                                      PASSED</div>"
            ]
          },
          "metadata": {
            "tags": []
          }
        },
        {
          "output_type": "display_data",
          "data": {
            "text/html": [
              "<div id='test_smuggle_github_ref_result' style=\"white-space:pre\">test_smuggle_github_ref                                               PASSED</div>"
            ]
          },
          "metadata": {
            "tags": []
          }
        },
        {
          "output_type": "display_data",
          "data": {
            "text/html": [
              "<div id='test_smuggle_github_editable_result' style=\"white-space:pre\">test_smuggle_github_editable                                          PASSED</div>"
            ]
          },
          "metadata": {
            "tags": []
          }
        },
        {
          "output_type": "display_data",
          "data": {
            "text/html": [
              "<div id='test_smuggle_github_subdirectory_result' style=\"white-space:pre\">test_smuggle_github_subdirectory                                      PASSED</div>"
            ]
          },
          "metadata": {
            "tags": []
          }
        }
      ]
    }
  ]
}