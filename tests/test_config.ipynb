{
 "cells": [
  {
   "cell_type": "code",
   "execution_count": null,
   "metadata": {
    "ExecuteTime": {
     "end_time": "2021-07-06T17:20:50.348825Z",
     "start_time": "2021-07-06T17:20:50.339340Z"
    }
   },
   "outputs": [],
   "source": [
    "GITHUB_USERNAME = \"$GITHUB_USERNAME$\"\n",
    "GITHUB_REF = \"$GITHUB_REF$\"\n",
    "NOTEBOOK_TYPE = \"$NOTEBOOK_TYPE$\"\n",
    "PYTHON_VERSION = \"$PYTHON_VERSION$\"\n",
    "IPYTHON_VERSION = \"$IPYTHON_VERSION$\""
   ]
  },
  {
   "cell_type": "code",
   "execution_count": null,
   "metadata": {
    "ExecuteTime": {
     "end_time": "2021-07-06T17:20:50.556908Z",
     "start_time": "2021-07-06T17:20:50.441472Z"
    }
   },
   "outputs": [],
   "source": [
    "import warnings\n",
    "from pathlib import Path\n",
    "\n",
    "import requests\n",
    "\n",
    "\n",
    "warnings.filterwarnings('error', module='davos')\n",
    "\n",
    "if NOTEBOOK_TYPE == 'colab':\n",
    "    # utils module doesn't exist on colab VM, so get current version from GitHub\n",
    "    utils_module = Path('utils.py').resolve()\n",
    "    response = requests.get(f'https://raw.githubusercontent.com/{GITHUB_USERNAME}/davos/{GITHUB_REF}/tests/utils.py')\n",
    "    utils_module.write_text(response.text)\n",
    "    # also need to install davos locally\n",
    "    from utils import install_davos\n",
    "    install_davos(source='github', ref=GITHUB_REF, fork=GITHUB_USERNAME)"
   ]
  },
  {
   "cell_type": "code",
   "execution_count": null,
   "metadata": {
    "ExecuteTime": {
     "end_time": "2021-07-06T17:49:31.434159Z",
     "start_time": "2021-07-06T17:49:31.431201Z"
    }
   },
   "outputs": [],
   "source": [
    "import re\n",
    "from contextlib import redirect_stdout\n",
    "from io import StringIO\n",
    "\n",
    "import davos\n",
    "import IPython\n",
    "import pkg_resources\n",
    "from davos.core.core import run_shell_command\n",
    "from davos.core.exceptions import DavosConfigError\n",
    "\n",
    "from utils import mark, raises, run_tests"
   ]
  },
  {
   "cell_type": "code",
   "execution_count": null,
   "metadata": {
    "ExecuteTime": {
     "end_time": "2021-07-06T17:49:34.706384Z",
     "start_time": "2021-07-06T17:49:34.704082Z"
    }
   },
   "outputs": [],
   "source": [
    "IPYTHON_SHELL = get_ipython()"
   ]
  },
  {
   "cell_type": "markdown",
   "metadata": {},
   "source": [
    "# tests for `davos.core.config`"
   ]
  },
  {
   "cell_type": "code",
   "execution_count": null,
   "metadata": {
    "ExecuteTime": {
     "end_time": "2021-07-06T15:59:55.384683Z",
     "start_time": "2021-07-06T15:59:55.381628Z"
    }
   },
   "outputs": [],
   "source": [
    "def test_config_is_singleton():\n",
    "    assert davos.core.config.DavosConfig() is davos.config"
   ]
  },
  {
   "cell_type": "code",
   "execution_count": null,
   "metadata": {
    "ExecuteTime": {
     "end_time": "2021-07-06T15:59:55.532315Z",
     "start_time": "2021-07-06T15:59:55.529121Z"
    }
   },
   "outputs": [],
   "source": [
    "def test_deactivate_reactivate_configlevel():\n",
    "    assert davos.config.active\n",
    "    \n",
    "    davos.config.active = False\n",
    "    assert not davos.config.active\n",
    "    \n",
    "    with raises(NameError, match=re.escape(\"name 'smuggle' is not defined\")):\n",
    "        smuggle ast\n",
    "        \n",
    "    davos.config.active\n",
    "    assert davos.config.active"
   ]
  },
  {
   "cell_type": "code",
   "execution_count": null,
   "metadata": {},
   "outputs": [],
   "source": [
    "@mark.colab\n",
    "def test_auto_rerun_disabled_colab():\n",
    "    with raises(DavosConfigError):\n",
    "        davos.config.auto_rerun = True"
   ]
  },
  {
   "cell_type": "code",
   "execution_count": null,
   "metadata": {},
   "outputs": [],
   "source": [
    "@mark.jupyter\n",
    "def test_confirm_install_disabled_noninteractive():\n",
    "    match = re.escape(\n",
    "        \"'davos.config.confirm_install': field may not be 'True' in \"\n",
    "        \"noninteractive mode\"\n",
    "    )\n",
    "    try:\n",
    "        davos.config.noninteractive = True\n",
    "        with raises(DavosConfigError, match=match):\n",
    "            davos.config.confirm_install = True\n",
    "    finally:\n",
    "        # ensure noninteractive mode & prompting are disabled after test\n",
    "        davos.config.noninteractive = False\n",
    "        davos.config.confirm_install = False"
   ]
  },
  {
   "cell_type": "code",
   "execution_count": null,
   "metadata": {
    "ExecuteTime": {
     "end_time": "2021-07-06T15:59:55.870007Z",
     "start_time": "2021-07-06T15:59:55.865891Z"
    }
   },
   "outputs": [],
   "source": [
    "def test_environment():\n",
    "    msg = f\"davos.config.environment is '{davos.config.environment}'\"\n",
    "    if NOTEBOOK_TYPE == 'colab':\n",
    "        assert davos.config.environment == 'Colaboratory', msg\n",
    "    elif IPython.version_info[0] < 7:\n",
    "        assert davos.config.environment == 'IPython<7.0', msg\n",
    "    else:\n",
    "        assert davos.config.environment == 'IPython>=7.0', msg"
   ]
  },
  {
   "cell_type": "code",
   "execution_count": null,
   "metadata": {},
   "outputs": [],
   "source": [
    "def test_ipython_shell_is_global_obj():\n",
    "    assert davos.config.ipython_shell is IPYTHON_SHELL"
   ]
  },
  {
   "cell_type": "code",
   "execution_count": null,
   "metadata": {},
   "outputs": [],
   "source": [
    "def test_ipython_shell_is_read_only():\n",
    "    match = re.escape(\"'davos.config.ipython_shell': field is read-only\")\n",
    "    with raises(DavosConfigError, match=match):\n",
    "        davos.config.ipython_shell = None"
   ]
  },
  {
   "cell_type": "code",
   "execution_count": null,
   "metadata": {},
   "outputs": [],
   "source": [
    "@mark.colab\n",
    "def test_ipython_shell_is_colab_shell():\n",
    "    google_version = pkg_resources.get_distribution('google').version\n",
    "    assert isinstance(IPYTHON_SHELL, google.colab._shell.Shell), (\n",
    "        \"Qualified name for Colab interactive shell class has changed (google \"\n",
    "        \"module may have been recently updated).\\n\\tShell type:\\t\"\n",
    "        f\"{type(IPYTHON_SHELL)}\\n\\tgoogle version:\\t{google_version}\"\n",
    "    )"
   ]
  },
  {
   "cell_type": "code",
   "execution_count": null,
   "metadata": {},
   "outputs": [],
   "source": [
    "@mark.jupyter\n",
    "def test_noninteractive_warns_if_confirm_install():\n",
    "    match = re.escape(\n",
    "        \"noninteractive mode enabled, setting `confirm_install = False`\"\n",
    "    )\n",
    "    try:\n",
    "        davos.config.confirm_install = True\n",
    "        with raises(UserWarning, match=match):\n",
    "            davos.config.noninteractive = True\n",
    "    finally:\n",
    "        # ensure prompting & noninteractive mode are disabled after test\n",
    "        davos.config.noninteractive = False\n",
    "        davos.config.confirm_install = False"
   ]
  },
  {
   "cell_type": "code",
   "execution_count": null,
   "metadata": {},
   "outputs": [],
   "source": [
    "@mark.colab\n",
    "def test_noninteractive_mode_disabled_colab():\n",
    "    match = re.escape(\n",
    "        \"'davos.config.noninteractive': noninteractive mode not available \"\n",
    "        \"in Colaboratory\"\n",
    "    )\n",
    "    with raises(DavosConfigError, match=match):\n",
    "        davos.config.noninteractive = True"
   ]
  },
  {
   "cell_type": "code",
   "execution_count": null,
   "metadata": {
    "ExecuteTime": {
     "end_time": "2021-07-06T16:00:01.760862Z",
     "start_time": "2021-07-06T16:00:01.748807Z"
    }
   },
   "outputs": [],
   "source": [
    "def test_pip_executable_exists():\n",
    "    pip_exe_path = Path(davos.config.pip_executable)\n",
    "    assert pip_exe_path.is_file(), f\"{pip_exe_path} does not exist\""
   ]
  },
  {
   "cell_type": "code",
   "execution_count": null,
   "metadata": {},
   "outputs": [],
   "source": [
    "@mark.jupyter\n",
    "def test_pip_executable_in_kernel_env():\n",
    "    pip_exe = davos.config.pip_executable\n",
    "    assert pip_exe.endswith('/envs/kernel-env/bin/pip'), (\n",
    "        \"expected davos.config.pip_executable path to end in \"\n",
    "        f\"'/envs/kernel-env/bin/pip'. Path is '{pip_exe}'\"\n",
    "    )"
   ]
  },
  {
   "cell_type": "code",
   "execution_count": null,
   "metadata": {},
   "outputs": [],
   "source": [
    "def test_set_pip_executable_fails_no_exist():\n",
    "    bad_path = '/fake/path/to/bin/pip'\n",
    "    match = re.escape(\n",
    "        \"'davos.config.pip_executable': No such file or directory: \"\n",
    "        \"'/fake/path/to/bin/pip'\"\n",
    "    )\n",
    "    with raises(DavosConfigError, match=match):\n",
    "        davos.config.pip_executable = bad_path"
   ]
  },
  {
   "cell_type": "code",
   "execution_count": null,
   "metadata": {},
   "outputs": [],
   "source": [
    "def test_set_pip_executable_fails_is_dir():\n",
    "    tmpdir = Path.cwd().joinpath('tmpdir')\n",
    "    tmpdir.mkdir(parents=False, exist_ok=False)\n",
    "    match = re.escape(\n",
    "        f\"'davos.config.pip_executable': '{tmpdir}' is not an executable file\"\n",
    "    )\n",
    "    try:\n",
    "        with raises(DavosConfigError, match=match):\n",
    "            davos.config.pip_executable = tmpdir\n",
    "    finally:\n",
    "        tmpdir.rmdir()"
   ]
  },
  {
   "cell_type": "code",
   "execution_count": null,
   "metadata": {},
   "outputs": [],
   "source": [
    "def test_smuggled_dict_initially_empty():\n",
    "    assert davos.config.smuggled == {}, (\n",
    "        \"expected davos.config.smuggled to be empty. Found: \"\n",
    "        f\"'{davos.config.smuggled}'\"\n",
    "    )"
   ]
  },
  {
   "cell_type": "code",
   "execution_count": null,
   "metadata": {
    "ExecuteTime": {
     "end_time": "2021-07-06T18:07:29.566360Z",
     "start_time": "2021-07-06T18:07:29.562598Z"
    }
   },
   "outputs": [],
   "source": [
    "def test_smuggled_is_read_only():\n",
    "    match = re.escape(\"'davos.config.smuggled': field is read-only\")\n",
    "    with raises(DavosConfigError, match=match):\n",
    "        davos.config.smuggled = {'foo': 'bar'}"
   ]
  },
  {
   "cell_type": "code",
   "execution_count": null,
   "metadata": {},
   "outputs": [],
   "source": [
    "def test_suppress_stdout():\n",
    "    try:\n",
    "        davos.config.suppress_stdout = True\n",
    "        with redirect_stdout(StringIO()) as tmp_stdout:\n",
    "            run_shell_command('echo \"hello world\"', live_stdout=None)\n",
    "            tmp_stdout = tmp_stdout.getvalue()\n",
    "        assert tmp_stdout = '', (\n",
    "            f\"expected stdout to be suppressed. Found: '{tmp_stdout}'\"\n",
    "        )\n",
    "    finally:\n",
    "        davos.config.suppress_stdout = False"
   ]
  },
  {
   "cell_type": "code",
   "execution_count": null,
   "metadata": {},
   "outputs": [],
   "source": [
    "run_tests()"
   ]
  }
 ],
 "metadata": {
  "kernelspec": {
   "display_name": "davos",
   "language": "python",
   "name": "davos"
  },
  "language_info": {
   "codemirror_mode": {
    "name": "ipython",
    "version": 3
   },
   "file_extension": ".py",
   "mimetype": "text/x-python",
   "name": "python",
   "nbconvert_exporter": "python",
   "pygments_lexer": "ipython3",
   "version": "3.9.2"
  }
 },
 "nbformat": 4,
 "nbformat_minor": 2
}
