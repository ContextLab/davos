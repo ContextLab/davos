{
 "cells": [
  {
   "cell_type": "code",
   "execution_count": null,
   "metadata": {
    "ExecuteTime": {
     "end_time": "2021-07-13T05:21:56.189941Z",
     "start_time": "2021-07-13T05:21:56.181252Z"
    }
   },
   "outputs": [],
   "source": [
    "GITHUB_USERNAME = \"$GITHUB_USERNAME$\"\n",
    "GITHUB_REF = \"$GITHUB_REF$\"\n",
    "NOTEBOOK_TYPE = \"$NOTEBOOK_TYPE$\"\n",
    "PYTHON_VERSION = \"$PYTHON_VERSION$\"\n",
    "IPYTHON_VERSION = \"$IPYTHON_VERSION$\""
   ]
  },
  {
   "cell_type": "code",
   "execution_count": null,
   "metadata": {
    "ExecuteTime": {
     "end_time": "2021-07-13T05:21:56.302179Z",
     "start_time": "2021-07-13T05:21:56.192382Z"
    }
   },
   "outputs": [],
   "source": [
    "import warnings\n",
    "from pathlib import Path\n",
    "\n",
    "import requests\n",
    "\n",
    "\n",
    "warnings.filterwarnings('error', module='davos')\n",
    "\n",
    "if NOTEBOOK_TYPE == 'colab':\n",
    "    # utils module doesn't exist on colab VM, so get current version from GitHub\n",
    "    utils_module = Path('utils.py').resolve()\n",
    "    response = requests.get(f'https://raw.githubusercontent.com/{GITHUB_USERNAME}/davos/{GITHUB_REF}/tests/utils.py')\n",
    "    utils_module.write_text(response.text)\n",
    "    # also need to install davos locally\n",
    "    from utils import install_davos\n",
    "    install_davos(source='github', ref=GITHUB_REF, fork=GITHUB_USERNAME)"
   ]
  },
  {
   "cell_type": "code",
   "execution_count": null,
   "metadata": {
    "ExecuteTime": {
     "end_time": "2021-07-13T05:21:56.536227Z",
     "start_time": "2021-07-13T05:21:56.305771Z"
    }
   },
   "outputs": [],
   "source": [
    "from pprint import pformat\n",
    "from textwrap import dedent\n",
    "\n",
    "import davos\n",
    "from davos.core.regexps import _pip_installed_pkgs_re, smuggle_statement_regex\n",
    "\n",
    "from utils import run_tests"
   ]
  },
  {
   "cell_type": "code",
   "execution_count": null,
   "metadata": {
    "ExecuteTime": {
     "end_time": "2021-07-13T05:21:56.541300Z",
     "start_time": "2021-07-13T05:21:56.538909Z"
    }
   },
   "outputs": [],
   "source": [
    "IPYTHON_SHELL = get_ipython()"
   ]
  },
  {
   "cell_type": "markdown",
   "metadata": {},
   "source": [
    "# tests for `davos.core.regexps`"
   ]
  },
  {
   "cell_type": "code",
   "execution_count": null,
   "metadata": {
    "ExecuteTime": {
     "end_time": "2021-07-13T05:21:56.546620Z",
     "start_time": "2021-07-13T05:21:56.543164Z"
    }
   },
   "outputs": [],
   "source": [
    "def test_pip_installed_regex_single():\n",
    "    \"\"\"\n",
    "    should match a single package name when no dependencies needed to be \n",
    "    installed. stdout used for test comes from running\n",
    "    '!pip install git+https://github.com/ContextLab/davos.git' in a \n",
    "    Colab notebook.\n",
    "    \"\"\"\n",
    "    stdout = dedent(\"\"\"\\\n",
    "    Collecting git+https://github.com/ContextLab/davos.git\n",
    "      Cloning https://github.com/ContextLab/davos.git to /tmp/pip-req-build-4272zzqa\n",
    "      Running command git clone -q https://github.com/ContextLab/davos.git /tmp/pip-req-build-4272zzqa\n",
    "      Installing build dependencies ... done\n",
    "      Getting requirements to build wheel ... done\n",
    "        Preparing wheel metadata ... done\n",
    "    Building wheels for collected packages: davos\n",
    "      Building wheel for davos (PEP 517) ... done\n",
    "      Created wheel for davos: filename=davos-0.0.1-cp37-none-any.whl size=37733 sha256=d02890824aa9e9ae1b0c7e801113c4120a43f4e9ba7220db3227d46411c7b45c\n",
    "      Stored in directory: /tmp/pip-ephem-wheel-cache-y28fng42/wheels/62/30/bc/79958ce75e105bdcf95c737091e62372429850960d6628e277\n",
    "    Successfully built davos\n",
    "    Installing collected packages: davos\n",
    "    Successfully installed davos-0.0.1\"\"\")\n",
    "    expected = ['davos-0.0.1']\n",
    "    result = _pip_installed_pkgs_re.findall(stdout)\n",
    "    assert result == expected, (\n",
    "        f\"Expected: {expected}\\nFound: {result}\"\n",
    "    )"
   ]
  },
  {
   "cell_type": "code",
   "execution_count": null,
   "metadata": {
    "ExecuteTime": {
     "end_time": "2021-07-13T05:21:56.553195Z",
     "start_time": "2021-07-13T05:21:56.548892Z"
    }
   },
   "outputs": [],
   "source": [
    "def test_pip_installed_regex_multi():\n",
    "    \"\"\"\n",
    "    should match names of installed package and all just-installed \n",
    "    dependencies when when any dependencies needed to be installed. \n",
    "    stdout used for test comes from running '!pip install hypertools' in \n",
    "    a Colab notebook.\n",
    "    \"\"\"\n",
    "    stdout = dedent(\"\"\"\\\n",
    "    Collecting hypertools\n",
    "      Downloading https://files.pythonhosted.org/packages/09/8d/54736bd23e346fcf33fa15d63c2403c05a191a0c1047ed01a24b68794fc6/hypertools-0.7.0-py3-none-any.whl (59kB)\n",
    "         |████████████████████████████████| 61kB 2.5MB/s \n",
    "    Requirement already satisfied: matplotlib>=1.5.1 in /usr/local/lib/python3.7/dist-packages (from hypertools) (3.2.2)\n",
    "    Requirement already satisfied: future in /usr/local/lib/python3.7/dist-packages (from hypertools) (0.16.0)\n",
    "    Collecting deepdish\n",
    "      Downloading https://files.pythonhosted.org/packages/6e/39/2a47c852651982bc5eb39212ac110284dd20126bdc7b49bde401a0139f5d/deepdish-0.3.6-py2.py3-none-any.whl\n",
    "    Requirement already satisfied: numpy>=1.10.4 in /usr/local/lib/python3.7/dist-packages (from hypertools) (1.19.5)\n",
    "    Requirement already satisfied: scikit-learn!=0.22,<0.24,>=0.19.1 in /usr/local/lib/python3.7/dist-packages (from hypertools) (0.22.2.post1)\n",
    "    Requirement already satisfied: requests in /usr/local/lib/python3.7/dist-packages (from hypertools) (2.23.0)\n",
    "    Requirement already satisfied: six in /usr/local/lib/python3.7/dist-packages (from hypertools) (1.15.0)\n",
    "    Requirement already satisfied: seaborn>=0.8.1 in /usr/local/lib/python3.7/dist-packages (from hypertools) (0.11.1)\n",
    "    Requirement already satisfied: scipy>=1.0.0 in /usr/local/lib/python3.7/dist-packages (from hypertools) (1.4.1)\n",
    "    Collecting PPCA>=0.0.2\n",
    "      Downloading https://files.pythonhosted.org/packages/16/7f/7195bf3742e19076a21a9c3250a4f11c87153bb4ea3dcaf1077678383b76/ppca-0.0.4-py3-none-any.whl\n",
    "    Requirement already satisfied: pandas>=0.18.0 in /usr/local/lib/python3.7/dist-packages (from hypertools) (1.1.5)\n",
    "    Collecting umap-learn>=0.4.6\n",
    "      Downloading https://files.pythonhosted.org/packages/75/69/85e7f950bb75792ad5d666d86c5f3e62eedbb942848e7e3126513af9999c/umap-learn-0.5.1.tar.gz (80kB)\n",
    "         |████████████████████████████████| 81kB 4.9MB/s \n",
    "    Requirement already satisfied: cycler>=0.10 in /usr/local/lib/python3.7/dist-packages (from matplotlib>=1.5.1->hypertools) (0.10.0)\n",
    "    Requirement already satisfied: python-dateutil>=2.1 in /usr/local/lib/python3.7/dist-packages (from matplotlib>=1.5.1->hypertools) (2.8.1)\n",
    "    Requirement already satisfied: pyparsing!=2.0.4,!=2.1.2,!=2.1.6,>=2.0.1 in /usr/local/lib/python3.7/dist-packages (from matplotlib>=1.5.1->hypertools) (2.4.7)\n",
    "    Requirement already satisfied: kiwisolver>=1.0.1 in /usr/local/lib/python3.7/dist-packages (from matplotlib>=1.5.1->hypertools) (1.3.1)\n",
    "    Requirement already satisfied: tables in /usr/local/lib/python3.7/dist-packages (from deepdish->hypertools) (3.4.4)\n",
    "    Requirement already satisfied: joblib>=0.11 in /usr/local/lib/python3.7/dist-packages (from scikit-learn!=0.22,<0.24,>=0.19.1->hypertools) (1.0.1)\n",
    "    Requirement already satisfied: chardet<4,>=3.0.2 in /usr/local/lib/python3.7/dist-packages (from requests->hypertools) (3.0.4)\n",
    "    Requirement already satisfied: certifi>=2017.4.17 in /usr/local/lib/python3.7/dist-packages (from requests->hypertools) (2021.5.30)\n",
    "    Requirement already satisfied: urllib3!=1.25.0,!=1.25.1,<1.26,>=1.21.1 in /usr/local/lib/python3.7/dist-packages (from requests->hypertools) (1.24.3)\n",
    "    Requirement already satisfied: idna<3,>=2.5 in /usr/local/lib/python3.7/dist-packages (from requests->hypertools) (2.10)\n",
    "    Requirement already satisfied: pytz>=2017.2 in /usr/local/lib/python3.7/dist-packages (from pandas>=0.18.0->hypertools) (2018.9)\n",
    "    Requirement already satisfied: numba>=0.49 in /usr/local/lib/python3.7/dist-packages (from umap-learn>=0.4.6->hypertools) (0.51.2)\n",
    "    Collecting pynndescent>=0.5\n",
    "      Downloading https://files.pythonhosted.org/packages/b1/8d/44bf1c9e69dd9bf0697a3b9375b0729942525c0eee7b7859f563439d676a/pynndescent-0.5.4.tar.gz (1.1MB)\n",
    "         |████████████████████████████████| 1.1MB 10.1MB/s \n",
    "    Requirement already satisfied: numexpr>=2.5.2 in /usr/local/lib/python3.7/dist-packages (from tables->deepdish->hypertools) (2.7.3)\n",
    "    Requirement already satisfied: llvmlite<0.35,>=0.34.0.dev0 in /usr/local/lib/python3.7/dist-packages (from numba>=0.49->umap-learn>=0.4.6->hypertools) (0.34.0)\n",
    "    Requirement already satisfied: setuptools in /usr/local/lib/python3.7/dist-packages (from numba>=0.49->umap-learn>=0.4.6->hypertools) (57.0.0)\n",
    "    Building wheels for collected packages: umap-learn, pynndescent\n",
    "      Building wheel for umap-learn (setup.py) ... done\n",
    "      Created wheel for umap-learn: filename=umap_learn-0.5.1-cp37-none-any.whl size=76569 sha256=9724e07d61b5a5b9f10255907b8612fd2a445bbda2812801a47378be1026ae83\n",
    "      Stored in directory: /root/.cache/pip/wheels/ad/df/d5/a3691296ff779f25cd1cf415a3af954b987fb53111e3392cf4\n",
    "      Building wheel for pynndescent (setup.py) ... done\n",
    "      Created wheel for pynndescent: filename=pynndescent-0.5.4-cp37-none-any.whl size=52374 sha256=5b61db3df31eb793b253bd1a7fb0330841623781450a9a95ceb0ae682331206f\n",
    "      Stored in directory: /root/.cache/pip/wheels/42/4b/8c/f6f119c67cf6583bb192431fa8f7278cf95e5b943055077d94\n",
    "    Successfully built umap-learn pynndescent\n",
    "    Installing collected packages: deepdish, PPCA, pynndescent, umap-learn, hypertools\n",
    "    Successfully installed PPCA-0.0.4 deepdish-0.3.6 hypertools-0.7.0 pynndescent-0.5.4 umap-learn-0.5.1\"\"\")\n",
    "    expected = ['PPCA-0.0.4 deepdish-0.3.6 hypertools-0.7.0 pynndescent-0.5.4 umap-learn-0.5.1']\n",
    "    result = _pip_installed_pkgs_re.findall(stdout)\n",
    "    assert result == expected, (\n",
    "        f\"Expected: {expected}\\nFound: {result}\"\n",
    "    )"
   ]
  },
  {
   "cell_type": "code",
   "execution_count": null,
   "metadata": {
    "ExecuteTime": {
     "end_time": "2021-07-13T05:21:56.558273Z",
     "start_time": "2021-07-13T05:21:56.555298Z"
    }
   },
   "outputs": [],
   "source": [
    "def test_pip_installed_regex_none():\n",
    "    \"\"\"\n",
    "    shouldn't match any package names when the package was already \n",
    "    installed. stdout used for test comes from running \n",
    "    '!pip install requests' in a Colab notebook.\n",
    "    \"\"\"\n",
    "    stdout = dedent(\"\"\"\\\n",
    "    Requirement already satisfied: requests in /usr/local/lib/python3.7/dist-packages (2.23.0)\n",
    "    Requirement already satisfied: certifi>=2017.4.17 in /usr/local/lib/python3.7/dist-packages (from requests) (2021.5.30)\n",
    "    Requirement already satisfied: idna<3,>=2.5 in /usr/local/lib/python3.7/dist-packages (from requests) (2.10)\n",
    "    Requirement already satisfied: chardet<4,>=3.0.2 in /usr/local/lib/python3.7/dist-packages (from requests) (3.0.4)\n",
    "    Requirement already satisfied: urllib3!=1.25.0,!=1.25.1,<1.26,>=1.21.1 in /usr/local/lib/python3.7/dist-packages (from requests) (1.24.3)\"\"\")\n",
    "    expected = []\n",
    "    result = _pip_installed_pkgs_re.findall(stdout)\n",
    "    assert result == expected, (\n",
    "        f\"Expected: {expected}\\nFound: {result}\"\n",
    "    )"
   ]
  },
  {
   "cell_type": "code",
   "execution_count": null,
   "metadata": {
    "ExecuteTime": {
     "end_time": "2021-07-13T05:21:56.565658Z",
     "start_time": "2021-07-13T05:21:56.563226Z"
    }
   },
   "outputs": [],
   "source": [
    "def test_smuggle_regex_ignores_none():\n",
    "    \"\"\"should not match simple, unrelated line\"\"\"\n",
    "    line = 'def foo(bar, baz=qux):'\n",
    "    match = smuggle_statement_regex.match(line)\n",
    "    assert match is None, f\"matched: '{match.group()}'\""
   ]
  },
  {
   "cell_type": "code",
   "execution_count": null,
   "metadata": {
    "ExecuteTime": {
     "end_time": "2021-07-13T05:21:56.572614Z",
     "start_time": "2021-07-13T05:21:56.569407Z"
    }
   },
   "outputs": [],
   "source": [
    "def test_smuggle_regex_ignores_decoy():\n",
    "    \"\"\"should not match line containing \"smuggle\" in unrelated context\"\"\"\n",
    "    line = 'def smuggle_something(foo):'\n",
    "    match = smuggle_statement_regex.match(line)\n",
    "    assert match is None, f\"matched: '{match.group()}'\""
   ]
  },
  {
   "cell_type": "code",
   "execution_count": null,
   "metadata": {
    "ExecuteTime": {
     "end_time": "2021-07-13T05:21:56.578133Z",
     "start_time": "2021-07-13T05:21:56.574696Z"
    }
   },
   "outputs": [],
   "source": [
    "def test_smuggle_regex_ignores_comment():\n",
    "    \"\"\"should not match commented-out smuggle statement\"\"\"\n",
    "    line = '# smuggle foo as bar'\n",
    "    match = smuggle_statement_regex.match(line)\n",
    "    assert match is None, f\"matched: '{match.group()}'\""
   ]
  },
  {
   "cell_type": "code",
   "execution_count": null,
   "metadata": {
    "ExecuteTime": {
     "end_time": "2021-07-13T05:21:56.586012Z",
     "start_time": "2021-07-13T05:21:56.581400Z"
    }
   },
   "outputs": [],
   "source": [
    "def test_smuggle_regex_ignores_non_leading():\n",
    "    \"\"\"should not match smuggle statements not at beginning of line\"\"\"\n",
    "    line = 'foo() and bar() and baz() smuggle qux()'\n",
    "    match = smuggle_statement_regex.match(line)\n",
    "    assert match is None, f\"matched: '{match.group()}'\""
   ]
  },
  {
   "cell_type": "code",
   "execution_count": null,
   "metadata": {
    "ExecuteTime": {
     "end_time": "2021-07-13T05:21:56.598226Z",
     "start_time": "2021-07-13T05:21:56.588777Z"
    }
   },
   "outputs": [],
   "source": [
    "def test_smuggle_regex_basic():\n",
    "    \"\"\"simplest use case\"\"\"\n",
    "    line = 'smuggle foo'\n",
    "    expected_groupdict = {\n",
    "        'FULL_CMD': line,\n",
    "        'SEMICOLON_SEP': None,\n",
    "        'ONION': None,\n",
    "        'OPEN_PARENS': None,\n",
    "        'FROM_ONION_1': None,\n",
    "        'CLOSE_PARENS_FIRSTLINE': None,\n",
    "        'FROM_SEMICOLON_SEP': None,\n",
    "        'FROM_ONION': None\n",
    "    }\n",
    "    match = smuggle_statement_regex.match(line)\n",
    "    assert match is not None, f\"failed to match: '{line}'\"\n",
    "    \n",
    "    result_groupdict = match.groupdict()\n",
    "    assert result_groupdict == expected_groupdict, (\n",
    "        \"bad values in match.groupdict(). Expected:\\n\"\n",
    "        f\"{pformat(expected_groupdict)}\\nFound:\\n{pformat(result_groupdict)}\"\n",
    "    )"
   ]
  },
  {
   "cell_type": "code",
   "execution_count": null,
   "metadata": {
    "ExecuteTime": {
     "end_time": "2021-07-13T05:21:56.609938Z",
     "start_time": "2021-07-13T05:21:56.600613Z"
    }
   },
   "outputs": [],
   "source": [
    "def test_smuggle_regex_alias():\n",
    "    \"\"\"simplest use case, plus alias\"\"\"\n",
    "    line = 'smuggle foo as bar'\n",
    "    expected_groupdict = {\n",
    "        'FULL_CMD': line,\n",
    "        'SEMICOLON_SEP': None,\n",
    "        'ONION': None,\n",
    "        'OPEN_PARENS': None,\n",
    "        'FROM_ONION_1': None,\n",
    "        'CLOSE_PARENS_FIRSTLINE': None,\n",
    "        'FROM_SEMICOLON_SEP': None,\n",
    "        'FROM_ONION': None\n",
    "    }\n",
    "    match = smuggle_statement_regex.match(line)\n",
    "    assert match is not None, f\"failed to match: '{line}'\"\n",
    "    \n",
    "    result_groupdict = match.groupdict()\n",
    "    assert result_groupdict == expected_groupdict, (\n",
    "        \"bad values in match.groupdict(). Expected:\\n\"\n",
    "        f\"{pformat(expected_groupdict)}\\nFound:\\n{pformat(result_groupdict)}\"\n",
    "    )"
   ]
  },
  {
   "cell_type": "code",
   "execution_count": null,
   "metadata": {
    "ExecuteTime": {
     "end_time": "2021-07-13T05:21:56.623353Z",
     "start_time": "2021-07-13T05:21:56.612843Z"
    }
   },
   "outputs": [],
   "source": [
    "def test_smuggle_regex_basic_onion():\n",
    "    \"\"\"simplest use case, plus onion comment\"\"\"\n",
    "    line = 'smuggle foo    # pip: foo==0.0.1'\n",
    "    expected_groupdict = {\n",
    "        'FULL_CMD': line,\n",
    "        'SEMICOLON_SEP': None,\n",
    "        'ONION': '# pip: foo==0.0.1',\n",
    "        'OPEN_PARENS': None,\n",
    "        'FROM_ONION_1': None,\n",
    "        'CLOSE_PARENS_FIRSTLINE': None,\n",
    "        'FROM_SEMICOLON_SEP': None,\n",
    "        'FROM_ONION': None\n",
    "    }\n",
    "    match = smuggle_statement_regex.match(line)\n",
    "    assert match is not None, f\"failed to match: '{line}'\"\n",
    "    \n",
    "    result_groupdict = match.groupdict()\n",
    "    assert result_groupdict == expected_groupdict, (\n",
    "        \"bad values in match.groupdict(). Expected:\\n\"\n",
    "        f\"{pformat(expected_groupdict)}\\nFound:\\n{pformat(result_groupdict)}\"\n",
    "    )"
   ]
  },
  {
   "cell_type": "code",
   "execution_count": null,
   "metadata": {
    "ExecuteTime": {
     "end_time": "2021-07-13T05:21:56.636428Z",
     "start_time": "2021-07-13T05:21:56.625678Z"
    }
   },
   "outputs": [],
   "source": [
    "def test_smuggle_regex_alias_onion():\n",
    "    \"\"\"simplest use case, plus alias, plus onion comment\"\"\"\n",
    "    line = 'smuggle foo as bar    # pip: foo==0.0.1'\n",
    "    expected_groupdict = {\n",
    "        'FULL_CMD': line,\n",
    "        'SEMICOLON_SEP': None,\n",
    "        'ONION': '# pip: foo==0.0.1',\n",
    "        'OPEN_PARENS': None,\n",
    "        'FROM_ONION_1': None,\n",
    "        'CLOSE_PARENS_FIRSTLINE': None,\n",
    "        'FROM_SEMICOLON_SEP': None,\n",
    "        'FROM_ONION': None\n",
    "    }\n",
    "    match = smuggle_statement_regex.match(line)\n",
    "    assert match is not None, f\"failed to match: '{line}'\"\n",
    "    \n",
    "    result_groupdict = match.groupdict()\n",
    "    assert result_groupdict == expected_groupdict, (\n",
    "        \"bad values in match.groupdict(). Expected:\\n\"\n",
    "        f\"{pformat(expected_groupdict)}\\nFound:\\n{pformat(result_groupdict)}\"\n",
    "    )"
   ]
  },
  {
   "cell_type": "code",
   "execution_count": null,
   "metadata": {
    "ExecuteTime": {
     "end_time": "2021-07-13T05:21:56.650407Z",
     "start_time": "2021-07-13T05:21:56.639732Z"
    }
   },
   "outputs": [],
   "source": [
    "def test_smuggle_regex_conda_onion():\n",
    "    \"\"\"same as above, but with conda specified as the installer\"\"\"\n",
    "    line = 'smuggle foo as bar    # conda: foo==0.0.1'\n",
    "    expected_groupdict = {\n",
    "        'FULL_CMD': line,\n",
    "        'SEMICOLON_SEP': None,\n",
    "        'ONION': '# conda: foo==0.0.1',\n",
    "        'OPEN_PARENS': None,\n",
    "        'FROM_ONION_1': None,\n",
    "        'CLOSE_PARENS_FIRSTLINE': None,\n",
    "        'FROM_SEMICOLON_SEP': None,\n",
    "        'FROM_ONION': None\n",
    "    }\n",
    "    match = smuggle_statement_regex.match(line)\n",
    "    assert match is not None, f\"failed to match: '{line}'\"\n",
    "    \n",
    "    result_groupdict = match.groupdict()\n",
    "    assert result_groupdict == expected_groupdict, (\n",
    "        \"bad values in match.groupdict(). Expected:\\n\"\n",
    "        f\"{pformat(expected_groupdict)}\\nFound:\\n{pformat(result_groupdict)}\"\n",
    "    )"
   ]
  },
  {
   "cell_type": "code",
   "execution_count": null,
   "metadata": {
    "ExecuteTime": {
     "end_time": "2021-07-13T05:21:56.666369Z",
     "start_time": "2021-07-13T05:21:56.653207Z"
    }
   },
   "outputs": [],
   "source": [
    "def test_smuggle_regex_alias_ignores_non_onion():\n",
    "    \"\"\"same as above, but with a *non-onion* inline comment\"\"\"\n",
    "    line = 'smuggle foo as bar    # load the module that does the thing'\n",
    "    expected_groupdict = {\n",
    "        'FULL_CMD': 'smuggle foo as bar',\n",
    "        'SEMICOLON_SEP': None,\n",
    "        'ONION': None,\n",
    "        'OPEN_PARENS': None,\n",
    "        'FROM_ONION_1': None,\n",
    "        'CLOSE_PARENS_FIRSTLINE': None,\n",
    "        'FROM_SEMICOLON_SEP': None,\n",
    "        'FROM_ONION': None\n",
    "    }\n",
    "    match = smuggle_statement_regex.match(line)\n",
    "    assert match is not None, f\"failed to match: '{line}'\"\n",
    "    \n",
    "    result_groupdict = match.groupdict()\n",
    "    assert result_groupdict == expected_groupdict, (\n",
    "        \"bad values in match.groupdict(). Expected:\\n\"\n",
    "        f\"{pformat(expected_groupdict)}\\nFound:\\n{pformat(result_groupdict)}\"\n",
    "    )"
   ]
  },
  {
   "cell_type": "code",
   "execution_count": null,
   "metadata": {
    "ExecuteTime": {
     "end_time": "2021-07-13T05:21:56.679651Z",
     "start_time": "2021-07-13T05:21:56.670182Z"
    }
   },
   "outputs": [],
   "source": [
    "def test_smuggle_regex_alias_ignores_decoy_onion():\n",
    "    \"\"\"same as above, but with a *just barely non-onion* comment\"\"\"\n",
    "    line = 'smuggle foo as bar    # pip; \"a [redacted] package manager than conda\"'\n",
    "    expected_groupdict = {\n",
    "        'FULL_CMD': 'smuggle foo as bar',\n",
    "        'SEMICOLON_SEP': None,\n",
    "        'ONION': None,\n",
    "        'OPEN_PARENS': None,\n",
    "        'FROM_ONION_1': None,\n",
    "        'CLOSE_PARENS_FIRSTLINE': None,\n",
    "        'FROM_SEMICOLON_SEP': None,\n",
    "        'FROM_ONION': None\n",
    "    }\n",
    "    match = smuggle_statement_regex.match(line)\n",
    "    assert match is not None, f\"failed to match: '{line}'\"\n",
    "    \n",
    "    result_groupdict = match.groupdict()\n",
    "    assert result_groupdict == expected_groupdict, (\n",
    "        \"bad values in match.groupdict(). Expected:\\n\"\n",
    "        f\"{pformat(expected_groupdict)}\\nFound:\\n{pformat(result_groupdict)}\"\n",
    "    )"
   ]
  },
  {
   "cell_type": "code",
   "execution_count": null,
   "metadata": {
    "ExecuteTime": {
     "end_time": "2021-07-13T05:21:56.692381Z",
     "start_time": "2021-07-13T05:21:56.683058Z"
    }
   },
   "outputs": [],
   "source": [
    "def test_smuggle_regex_qualname():\n",
    "    \"\"\"should match qualified names of packages/modules\"\"\"\n",
    "    line = 'smuggle foo.bar as baz'\n",
    "    expected_groupdict = {\n",
    "        'FULL_CMD': line,\n",
    "        'SEMICOLON_SEP': None,\n",
    "        'ONION': None,\n",
    "        'OPEN_PARENS': None,\n",
    "        'FROM_ONION_1': None,\n",
    "        'CLOSE_PARENS_FIRSTLINE': None,\n",
    "        'FROM_SEMICOLON_SEP': None,\n",
    "        'FROM_ONION': None\n",
    "    }\n",
    "    match = smuggle_statement_regex.match(line)\n",
    "    assert match is not None, f\"failed to match: '{line}'\"\n",
    "    \n",
    "    result_groupdict = match.groupdict()\n",
    "    assert result_groupdict == expected_groupdict, (\n",
    "        \"bad values in match.groupdict(). Expected:\\n\"\n",
    "        f\"{pformat(expected_groupdict)}\\nFound:\\n{pformat(result_groupdict)}\"\n",
    "    )"
   ]
  },
  {
   "cell_type": "code",
   "execution_count": null,
   "metadata": {
    "ExecuteTime": {
     "end_time": "2021-07-13T05:21:56.705089Z",
     "start_time": "2021-07-13T05:21:56.695004Z"
    }
   },
   "outputs": [],
   "source": [
    "def test_smuggle_regex_indented():\n",
    "    \"\"\"\n",
    "    should match smuggle statements inside try/except blocks, loops, \n",
    "    if blocks, function definitions, etc.\n",
    "    \"\"\"\n",
    "    line = '    smuggle foo as bar    # pip: foo==0.0.1'\n",
    "    expected_groupdict = {\n",
    "        'FULL_CMD': line.strip(),\n",
    "        'SEMICOLON_SEP': None,\n",
    "        'ONION': '# pip: foo==0.0.1',\n",
    "        'OPEN_PARENS': None,\n",
    "        'FROM_ONION_1': None,\n",
    "        'CLOSE_PARENS_FIRSTLINE': None,\n",
    "        'FROM_SEMICOLON_SEP': None,\n",
    "        'FROM_ONION': None\n",
    "    }\n",
    "    match = smuggle_statement_regex.match(line)\n",
    "    assert match is not None, f\"failed to match: '{line}'\"\n",
    "    \n",
    "    result_groupdict = match.groupdict()\n",
    "    assert result_groupdict == expected_groupdict, (\n",
    "        \"bad values in match.groupdict(). Expected:\\n\"\n",
    "        f\"{pformat(expected_groupdict)}\\nFound:\\n{pformat(result_groupdict)}\"\n",
    "    )"
   ]
  },
  {
   "cell_type": "code",
   "execution_count": null,
   "metadata": {
    "ExecuteTime": {
     "end_time": "2021-07-13T05:21:56.717752Z",
     "start_time": "2021-07-13T05:21:56.708166Z"
    }
   },
   "outputs": [],
   "source": [
    "def test_smuggle_regex_multiple_pkgs():\n",
    "    \"\"\"\n",
    "    should match line with multiple packages (with and without aliases, \n",
    "    with and without qualnames) smuggled using a single 'smuggle' \n",
    "    statement\n",
    "    \"\"\"\n",
    "    line = 'smuggle foo as bar, baz as qux, spam.ham, eggs'\n",
    "    expected_groupdict = {\n",
    "        'FULL_CMD': line,\n",
    "        'SEMICOLON_SEP': None,\n",
    "        'ONION': None,\n",
    "        'OPEN_PARENS': None,\n",
    "        'FROM_ONION_1': None,\n",
    "        'CLOSE_PARENS_FIRSTLINE': None,\n",
    "        'FROM_SEMICOLON_SEP': None,\n",
    "        'FROM_ONION': None\n",
    "    }\n",
    "    match = smuggle_statement_regex.match(line)\n",
    "    assert match is not None, f\"failed to match: '{line}'\"\n",
    "    \n",
    "    result_groupdict = match.groupdict()\n",
    "    assert result_groupdict == expected_groupdict, (\n",
    "        \"bad values in match.groupdict(). Expected:\\n\"\n",
    "        f\"{pformat(expected_groupdict)}\\nFound:\\n{pformat(result_groupdict)}\"\n",
    "    )"
   ]
  },
  {
   "cell_type": "code",
   "execution_count": null,
   "metadata": {
    "ExecuteTime": {
     "end_time": "2021-07-13T05:21:56.728362Z",
     "start_time": "2021-07-13T05:21:56.720393Z"
    }
   },
   "outputs": [],
   "source": [
    "def test_smuggle_regex_multiple_pkgs_onion():\n",
    "    \"\"\"same as above, with onion comment\"\"\"\n",
    "    line = 'smuggle foo as bar, baz as qux, spam.ham, eggs    # pip: foo==0.0.1'\n",
    "    expected_groupdict = {\n",
    "        'FULL_CMD': line,\n",
    "        'SEMICOLON_SEP': None,\n",
    "        'ONION': '# pip: foo==0.0.1',\n",
    "        'OPEN_PARENS': None,\n",
    "        'FROM_ONION_1': None,\n",
    "        'CLOSE_PARENS_FIRSTLINE': None,\n",
    "        'FROM_SEMICOLON_SEP': None,\n",
    "        'FROM_ONION': None\n",
    "    }\n",
    "    match = smuggle_statement_regex.match(line)\n",
    "    assert match is not None, f\"failed to match: '{line}'\"\n",
    "    \n",
    "    result_groupdict = match.groupdict()\n",
    "    assert result_groupdict == expected_groupdict, (\n",
    "        \"bad values in match.groupdict(). Expected:\\n\"\n",
    "        f\"{pformat(expected_groupdict)}\\nFound:\\n{pformat(result_groupdict)}\"\n",
    "    )"
   ]
  },
  {
   "cell_type": "code",
   "execution_count": null,
   "metadata": {
    "ExecuteTime": {
     "end_time": "2021-07-13T05:21:56.746144Z",
     "start_time": "2021-07-13T05:21:56.737020Z"
    }
   },
   "outputs": [],
   "source": [
    "def test_smuggle_regex_multiline_explicit():\n",
    "    \"\"\"\n",
    "    same as above, but split across lines with explicit \n",
    "    (backslash-based) line continuations\n",
    "    \"\"\"\n",
    "    line = \"\"\"smuggle foo as bar, \\\n",
    "              baz as qux, \\\n",
    "              spam.ham, \\\n",
    "              eggs    # pip: foo==0.0.1\"\"\"\n",
    "    expected_groupdict = {\n",
    "        'FULL_CMD': line,\n",
    "        'SEMICOLON_SEP': None,\n",
    "        'ONION': '# pip: foo==0.0.1',\n",
    "        'OPEN_PARENS': None,\n",
    "        'FROM_ONION_1': None,\n",
    "        'CLOSE_PARENS_FIRSTLINE': None,\n",
    "        'FROM_SEMICOLON_SEP': None,\n",
    "        'FROM_ONION': None\n",
    "    }\n",
    "    match = smuggle_statement_regex.match(line)\n",
    "    assert match is not None, f\"failed to match: '{line}'\"\n",
    "    \n",
    "    result_groupdict = match.groupdict()\n",
    "    assert result_groupdict == expected_groupdict, (\n",
    "        \"bad values in match.groupdict(). Expected:\\n\"\n",
    "        f\"{pformat(expected_groupdict)}\\nFound:\\n{pformat(result_groupdict)}\"\n",
    "    )"
   ]
  },
  {
   "cell_type": "code",
   "execution_count": null,
   "metadata": {
    "ExecuteTime": {
     "end_time": "2021-07-13T05:21:56.759930Z",
     "start_time": "2021-07-13T05:21:56.750505Z"
    }
   },
   "outputs": [],
   "source": [
    "def test_smuggle_regex_whitespace_insensitive():\n",
    "    \"\"\"\n",
    "    same as above, with inconsistent but syntactically valid whitespace, \n",
    "    including explicit (backslash-based) line continuations\n",
    "    \"\"\"\n",
    "    line = \"\"\"smuggle               foo     as    bar    \\\n",
    ",baz as   qux  , \\\n",
    "          spam  .  ham    ,    eggs                #   pip   :       foo==0.0.1    \"\"\"\n",
    "    expected_groupdict = {\n",
    "        'FULL_CMD': line.strip(),\n",
    "        'SEMICOLON_SEP': None,\n",
    "        'ONION': '#   pip   :       foo==0.0.1',\n",
    "        'OPEN_PARENS': None,\n",
    "        'FROM_ONION_1': None,\n",
    "        'CLOSE_PARENS_FIRSTLINE': None,\n",
    "        'FROM_SEMICOLON_SEP': None,\n",
    "        'FROM_ONION': None\n",
    "    }\n",
    "    match = smuggle_statement_regex.match(line)\n",
    "    assert match is not None, f\"failed to match: '{line}'\"\n",
    "    \n",
    "    result_groupdict = match.groupdict()\n",
    "    assert result_groupdict == expected_groupdict, (\n",
    "        \"bad values in match.groupdict(). Expected:\\n\"\n",
    "        f\"{pformat(expected_groupdict)}\\nFound:\\n{pformat(result_groupdict)}\"\n",
    "    )"
   ]
  },
  {
   "cell_type": "code",
   "execution_count": null,
   "metadata": {
    "ExecuteTime": {
     "end_time": "2021-07-13T05:21:56.773173Z",
     "start_time": "2021-07-13T05:21:56.762928Z"
    }
   },
   "outputs": [],
   "source": [
    "def test_smuggle_regex_from():\n",
    "    \"\"\"simplest use case from second syntactic category\"\"\"\n",
    "    line = 'from foo smuggle bar'\n",
    "    expected_groupdict = {\n",
    "        'FULL_CMD': line,\n",
    "        'SEMICOLON_SEP': None,\n",
    "        'ONION': None,\n",
    "        'OPEN_PARENS': None,\n",
    "        'FROM_ONION_1': None,\n",
    "        'CLOSE_PARENS_FIRSTLINE': None,\n",
    "        'FROM_SEMICOLON_SEP': None,\n",
    "        'FROM_ONION': None\n",
    "    }\n",
    "    match = smuggle_statement_regex.match(line)\n",
    "    assert match is not None, f\"failed to match: '{line}'\"\n",
    "    \n",
    "    result_groupdict = match.groupdict()\n",
    "    assert result_groupdict == expected_groupdict, (\n",
    "        \"bad values in match.groupdict(). Expected:\\n\"\n",
    "        f\"{pformat(expected_groupdict)}\\nFound:\\n{pformat(result_groupdict)}\"\n",
    "    )"
   ]
  },
  {
   "cell_type": "code",
   "execution_count": null,
   "metadata": {
    "ExecuteTime": {
     "end_time": "2021-07-13T05:21:56.787538Z",
     "start_time": "2021-07-13T05:21:56.776313Z"
    }
   },
   "outputs": [],
   "source": [
    "def test_smuggle_regex_from_alias():\n",
    "    \"\"\"same as above, with alias\"\"\"\n",
    "    line = 'from foo smuggle bar as baz'\n",
    "    expected_groupdict = {\n",
    "        'FULL_CMD': line,\n",
    "        'SEMICOLON_SEP': None,\n",
    "        'ONION': None,\n",
    "        'OPEN_PARENS': None,\n",
    "        'FROM_ONION_1': None,\n",
    "        'CLOSE_PARENS_FIRSTLINE': None,\n",
    "        'FROM_SEMICOLON_SEP': None,\n",
    "        'FROM_ONION': None\n",
    "    }\n",
    "    match = smuggle_statement_regex.match(line)\n",
    "    assert match is not None, f\"failed to match: '{line}'\"\n",
    "    \n",
    "    result_groupdict = match.groupdict()\n",
    "    assert result_groupdict == expected_groupdict, (\n",
    "        \"bad values in match.groupdict(). Expected:\\n\"\n",
    "        f\"{pformat(expected_groupdict)}\\nFound:\\n{pformat(result_groupdict)}\"\n",
    "    )"
   ]
  },
  {
   "cell_type": "code",
   "execution_count": null,
   "metadata": {
    "ExecuteTime": {
     "end_time": "2021-07-13T05:21:56.800997Z",
     "start_time": "2021-07-13T05:21:56.790352Z"
    }
   },
   "outputs": [],
   "source": [
    "def test_smuggle_regex_from_onion():\n",
    "    \"\"\"same as above, with onion comment\"\"\"\n",
    "    line = 'from foo smuggle bar    # pip: foo==0.0.1'\n",
    "    expected_groupdict = {\n",
    "        'FULL_CMD': line,\n",
    "        'SEMICOLON_SEP': None,\n",
    "        'ONION': None,\n",
    "        'OPEN_PARENS': None,\n",
    "        'FROM_ONION_1': None,\n",
    "        'CLOSE_PARENS_FIRSTLINE': None,\n",
    "        'FROM_SEMICOLON_SEP': None,\n",
    "        'FROM_ONION': '# pip: foo==0.0.1'\n",
    "    }\n",
    "    match = smuggle_statement_regex.match(line)\n",
    "    assert match is not None, f\"failed to match: '{line}'\"\n",
    "    \n",
    "    result_groupdict = match.groupdict()\n",
    "    assert result_groupdict == expected_groupdict, (\n",
    "        \"bad values in match.groupdict(). Expected:\\n\"\n",
    "        f\"{pformat(expected_groupdict)}\\nFound:\\n{pformat(result_groupdict)}\"\n",
    "    )"
   ]
  },
  {
   "cell_type": "code",
   "execution_count": null,
   "metadata": {
    "ExecuteTime": {
     "end_time": "2021-07-13T05:21:56.812411Z",
     "start_time": "2021-07-13T05:21:56.803187Z"
    }
   },
   "outputs": [],
   "source": [
    "def test_smuggle_regex_from_alias_onion():\n",
    "    \"\"\"same as above, with alias, with onion comment\"\"\"\n",
    "    line = 'from foo smuggle bar as baz    # pip: foo==0.0.1'\n",
    "    expected_groupdict = {\n",
    "        'FULL_CMD': line,\n",
    "        'SEMICOLON_SEP': None,\n",
    "        'ONION': None,\n",
    "        'OPEN_PARENS': None,\n",
    "        'FROM_ONION_1': None,\n",
    "        'CLOSE_PARENS_FIRSTLINE': None,\n",
    "        'FROM_SEMICOLON_SEP': None,\n",
    "        'FROM_ONION': '# pip: foo==0.0.1'\n",
    "    }\n",
    "    match = smuggle_statement_regex.match(line)\n",
    "    assert match is not None, f\"failed to match: '{line}'\"\n",
    "    \n",
    "    result_groupdict = match.groupdict()\n",
    "    assert result_groupdict == expected_groupdict, (\n",
    "        \"bad values in match.groupdict(). Expected:\\n\"\n",
    "        f\"{pformat(expected_groupdict)}\\nFound:\\n{pformat(result_groupdict)}\"\n",
    "    )"
   ]
  },
  {
   "cell_type": "code",
   "execution_count": null,
   "metadata": {
    "ExecuteTime": {
     "end_time": "2021-07-13T05:21:56.823944Z",
     "start_time": "2021-07-13T05:21:56.815325Z"
    }
   },
   "outputs": [],
   "source": [
    "def test_smuggle_regex_from_qualname():\n",
    "    \"\"\"adds qualname to above setup\"\"\"\n",
    "    line = 'from foo.bar.baz smuggle qux as quux    # pip: foo==0.0.1'\n",
    "    expected_groupdict = {\n",
    "        'FULL_CMD': line,\n",
    "        'SEMICOLON_SEP': None,\n",
    "        'ONION': None,\n",
    "        'OPEN_PARENS': None,\n",
    "        'FROM_ONION_1': None,\n",
    "        'CLOSE_PARENS_FIRSTLINE': None,\n",
    "        'FROM_SEMICOLON_SEP': None,\n",
    "        'FROM_ONION': '# pip: foo==0.0.1'\n",
    "    }\n",
    "    match = smuggle_statement_regex.match(line)\n",
    "    assert match is not None, f\"failed to match: '{line}'\"\n",
    "    \n",
    "    result_groupdict = match.groupdict()\n",
    "    assert result_groupdict == expected_groupdict, (\n",
    "        \"bad values in match.groupdict(). Expected:\\n\"\n",
    "        f\"{pformat(expected_groupdict)}\\nFound:\\n{pformat(result_groupdict)}\"\n",
    "    )"
   ]
  },
  {
   "cell_type": "code",
   "execution_count": null,
   "metadata": {
    "ExecuteTime": {
     "end_time": "2021-07-11T21:33:07.597091Z",
     "start_time": "2021-07-11T21:33:07.588080Z"
    }
   },
   "outputs": [],
   "source": [
    "def test_smuggle_regex_from_multiple_names_onion():\n",
    "    \"\"\"\n",
    "    should match line with multiple names (with and without aliases, \n",
    "    with and without qualnames) being smuggled from the same package \n",
    "    using a single 'smuggle' statement, followed by an onion comment\n",
    "    \"\"\"\n",
    "    line = 'from foo.bar smuggle baz, qux as quux, spam, ham as eggs    # pip: foo==0.0.1'\n",
    "    expected_groupdict = {\n",
    "        'FULL_CMD': line,\n",
    "        'SEMICOLON_SEP': None,\n",
    "        'ONION': None,\n",
    "        'OPEN_PARENS': None,\n",
    "        'FROM_ONION_1': None,\n",
    "        'CLOSE_PARENS_FIRSTLINE': None,\n",
    "        'FROM_SEMICOLON_SEP': None,\n",
    "        'FROM_ONION': '# pip: foo==0.0.1'\n",
    "    }\n",
    "    match = smuggle_statement_regex.match(line)\n",
    "    assert match is not None, f\"failed to match: '{line}'\"\n",
    "    \n",
    "    result_groupdict = match.groupdict()\n",
    "    assert result_groupdict == expected_groupdict, (\n",
    "        \"bad values in match.groupdict(). Expected:\\n\"\n",
    "        f\"{pformat(expected_groupdict)}\\nFound:\\n{pformat(result_groupdict)}\"\n",
    "    )"
   ]
  },
  {
   "cell_type": "code",
   "execution_count": null,
   "metadata": {
    "ExecuteTime": {
     "end_time": "2021-07-11T21:33:07.607609Z",
     "start_time": "2021-07-11T21:33:07.599074Z"
    }
   },
   "outputs": [],
   "source": [
    "def test_smuggle_from_parentheses():\n",
    "    \"\"\"\n",
    "    same as above, but names are enclosed in parentheses (even though \n",
    "    they are not split across multiple lines). Also tests trailing comma \n",
    "    inside parentheses, which is syntactically valid for import \n",
    "    statements.\n",
    "    \"\"\"\n",
    "    line = 'from foo.bar smuggle (baz, qux as quux, spam, ham as eggs,)    # pip: foo==0.0.1'\n",
    "    expected_groupdict = {\n",
    "        'FULL_CMD': line,\n",
    "        'SEMICOLON_SEP': None,\n",
    "        'ONION': None,\n",
    "        'OPEN_PARENS': '(',\n",
    "        'FROM_ONION_1': None,\n",
    "        'CLOSE_PARENS_FIRSTLINE': ')',\n",
    "        'FROM_SEMICOLON_SEP': None,\n",
    "        'FROM_ONION': '# pip: foo==0.0.1'\n",
    "    }\n",
    "    match = smuggle_statement_regex.match(line)\n",
    "    assert match is not None, f\"failed to match: '{line}'\"\n",
    "    \n",
    "    result_groupdict = match.groupdict()\n",
    "    assert result_groupdict == expected_groupdict, (\n",
    "        \"bad values in match.groupdict(). Expected:\\n\"\n",
    "        f\"{pformat(expected_groupdict)}\\nFound:\\n{pformat(result_groupdict)}\"\n",
    "    )"
   ]
  },
  {
   "cell_type": "code",
   "execution_count": null,
   "metadata": {
    "ExecuteTime": {
     "end_time": "2021-07-11T21:33:07.620172Z",
     "start_time": "2021-07-11T21:33:07.609975Z"
    }
   },
   "outputs": [],
   "source": [
    "def test_smuggle_from_multiline_explicit():\n",
    "    \"\"\"\n",
    "    similar to above, but split across multiple lines with explicit \n",
    "    (backslash-based) line continuations\n",
    "    \"\"\"\n",
    "    line = \"\"\"from foo.bar smuggle baz, \\\n",
    "                                   qux as quux, \\\n",
    "                                   spam, \\\n",
    "                                   ham as eggs    # pip: foo==0.0.1\"\"\"\n",
    "    expected_groupdict = {\n",
    "        'FULL_CMD': line,\n",
    "        'SEMICOLON_SEP': None,\n",
    "        'ONION': None,\n",
    "        'OPEN_PARENS': None,\n",
    "        'FROM_ONION_1': None,\n",
    "        'CLOSE_PARENS_FIRSTLINE': None,\n",
    "        'FROM_SEMICOLON_SEP': None,\n",
    "        'FROM_ONION': '# pip: foo==0.0.1'\n",
    "    }\n",
    "    match = smuggle_statement_regex.match(line)\n",
    "    assert match is not None, f\"failed to match: '{line}'\"\n",
    "    \n",
    "    result_groupdict = match.groupdict()\n",
    "    assert result_groupdict == expected_groupdict, (\n",
    "        \"bad values in match.groupdict(). Expected:\\n\"\n",
    "        f\"{pformat(expected_groupdict)}\\nFound:\\n{pformat(result_groupdict)}\"\n",
    "    )"
   ]
  },
  {
   "cell_type": "code",
   "execution_count": null,
   "metadata": {
    "ExecuteTime": {
     "end_time": "2021-07-11T21:33:07.631210Z",
     "start_time": "2021-07-11T21:33:07.622153Z"
    }
   },
   "outputs": [],
   "source": [
    "def test_smuggle_from_multiline_implicit_1_onion_1():\n",
    "    \"\"\"\n",
    "    similar to above, but 'smuggle' statement is split across multiple \n",
    "    lines with implicit (parentheses-based) line continuation. First of \n",
    "    multiple variations on multiline syntax.\n",
    "    \n",
    "    Notes:\n",
    "    - implicit_1: first/last smuggled names occupy same lines as \n",
    "                  opening/closing parentheses\n",
    "    - onion_1: onion comment appears on first line\n",
    "    \"\"\"\n",
    "    line = \"\"\"from foo.bar smuggle (baz,    # pip: foo==0.0.1\n",
    "                                    qux as quux,\n",
    "                                    spam, \n",
    "                                    ham as eggs)\"\"\"\n",
    "    expected_groupdict = {\n",
    "        'FULL_CMD': line,\n",
    "        'SEMICOLON_SEP': None,\n",
    "        'ONION': None,\n",
    "        'OPEN_PARENS': '(',\n",
    "        'FROM_ONION_1': '# pip: foo==0.0.1',\n",
    "        'CLOSE_PARENS_FIRSTLINE': None,\n",
    "        'FROM_SEMICOLON_SEP': None,\n",
    "        'FROM_ONION': None\n",
    "    }\n",
    "    match = smuggle_statement_regex.match(line)\n",
    "    assert match is not None, f\"failed to match: '{line}'\"\n",
    "    \n",
    "    result_groupdict = match.groupdict()\n",
    "    assert result_groupdict == expected_groupdict, (\n",
    "        \"bad values in match.groupdict(). Expected:\\n\"\n",
    "        f\"{pformat(expected_groupdict)}\\nFound:\\n{pformat(result_groupdict)}\"\n",
    "    )"
   ]
  },
  {
   "cell_type": "code",
   "execution_count": null,
   "metadata": {},
   "outputs": [],
   "source": [
    "def test_smuggle_from_multiline_implicit_1_onion_2():\n",
    "    \"\"\"\n",
    "    Variation on above.\n",
    "    \n",
    "    Notes:\n",
    "    - implicit_1: first/last smuggled names occupy same lines as \n",
    "                  opening/closing parentheses\n",
    "    - onion_2: onion comment appears on last line\n",
    "    \"\"\"\n",
    "    line = \"\"\"from foo.bar smuggle (baz,\n",
    "                                    qux as quux,\n",
    "                                    spam, \n",
    "                                    ham as eggs)    # pip: foo==0.0.1\"\"\"\n",
    "    expected_groupdict = {\n",
    "        'FULL_CMD': line,\n",
    "        'SEMICOLON_SEP': None,\n",
    "        'ONION': None,\n",
    "        'OPEN_PARENS': '(',\n",
    "        'FROM_ONION_1': None,\n",
    "        'CLOSE_PARENS_FIRSTLINE': None,\n",
    "        'FROM_SEMICOLON_SEP': None,\n",
    "        'FROM_ONION': '# pip: foo==0.0.1'\n",
    "    }\n",
    "    match = smuggle_statement_regex.match(line)\n",
    "    assert match is not None, f\"failed to match: '{line}'\"\n",
    "    \n",
    "    result_groupdict = match.groupdict()\n",
    "    assert result_groupdict == expected_groupdict, (\n",
    "        \"bad values in match.groupdict(). Expected:\\n\"\n",
    "        f\"{pformat(expected_groupdict)}\\nFound:\\n{pformat(result_groupdict)}\"\n",
    "    )"
   ]
  },
  {
   "cell_type": "code",
   "execution_count": null,
   "metadata": {},
   "outputs": [],
   "source": [
    "def test_smuggle_from_multiline_implicit_1_onion_3():\n",
    "    \"\"\"\n",
    "    Variation on above.\n",
    "    \n",
    "    Notes:\n",
    "    - implicit_1: first/last smuggled names occupy same lines as \n",
    "                  opening/closing parentheses\n",
    "    - onion_3: onion comment appears on line with name, but not first or \n",
    "               last, so not parsed\n",
    "    \"\"\"\n",
    "    line = \"\"\"from foo.bar smuggle (baz,\n",
    "                                    qux as quux,    # pip: foo==0.0.1\n",
    "                                    spam, \n",
    "                                    ham as eggs)\"\"\"\n",
    "    expected_groupdict = {\n",
    "        'FULL_CMD': line,\n",
    "        'SEMICOLON_SEP': None,\n",
    "        'ONION': None,\n",
    "        'OPEN_PARENS': '(',\n",
    "        'FROM_ONION_1': None,\n",
    "        'CLOSE_PARENS_FIRSTLINE': None,\n",
    "        'FROM_SEMICOLON_SEP': None,\n",
    "        'FROM_ONION': None\n",
    "    }\n",
    "    match = smuggle_statement_regex.match(line)\n",
    "    assert match is not None, f\"failed to match: '{line}'\"\n",
    "    \n",
    "    result_groupdict = match.groupdict()\n",
    "    assert result_groupdict == expected_groupdict, (\n",
    "        \"bad values in match.groupdict(). Expected:\\n\"\n",
    "        f\"{pformat(expected_groupdict)}\\nFound:\\n{pformat(result_groupdict)}\"\n",
    "    )"
   ]
  },
  {
   "cell_type": "code",
   "execution_count": null,
   "metadata": {},
   "outputs": [],
   "source": [
    "def test_smuggle_from_multiline_implicit_1_onion_4():\n",
    "    \"\"\"\n",
    "    Variation on above.\n",
    "    \n",
    "    Notes:\n",
    "    - implicit_1: first/last smuggled names occupy same lines as \n",
    "                  opening/closing parentheses\n",
    "    - onion_4: onion comment appears on separate line, but not first or \n",
    "               last, so not parsed\n",
    "    \"\"\"\n",
    "    line = \"\"\"from foo.bar smuggle (baz,\n",
    "                                    # pip: foo==0.0.1\n",
    "                                    qux as quux,\n",
    "                                    spam, \n",
    "                                    ham as eggs)\"\"\"\n",
    "    expected_groupdict = {\n",
    "        'FULL_CMD': line,\n",
    "        'SEMICOLON_SEP': None,\n",
    "        'ONION': None,\n",
    "        'OPEN_PARENS': '(',\n",
    "        'FROM_ONION_1': None,\n",
    "        'CLOSE_PARENS_FIRSTLINE': None,\n",
    "        'FROM_SEMICOLON_SEP': None,\n",
    "        'FROM_ONION': None\n",
    "    }\n",
    "    match = smuggle_statement_regex.match(line)\n",
    "    assert match is not None, f\"failed to match: '{line}'\"\n",
    "    \n",
    "    result_groupdict = match.groupdict()\n",
    "    assert result_groupdict == expected_groupdict, (\n",
    "        \"bad values in match.groupdict(). Expected:\\n\"\n",
    "        f\"{pformat(expected_groupdict)}\\nFound:\\n{pformat(result_groupdict)}\"\n",
    "    )"
   ]
  },
  {
   "cell_type": "code",
   "execution_count": null,
   "metadata": {},
   "outputs": [],
   "source": [
    "def test_smuggle_from_multiline_implicit_1_onion_5():\n",
    "    \"\"\"\n",
    "    Variation on above.\n",
    "    \n",
    "    Notes:\n",
    "    - implicit_1: first/last smuggled names occupy same lines as \n",
    "                  opening/closing parentheses\n",
    "    - onion_5: onion comment appears on last line, with non-onion \n",
    "               comments on various lines above it\n",
    "    \"\"\"\n",
    "    line = \"\"\"from foo.bar smuggle (baz,    # unrelated first line comment\n",
    "                                    qux as quux,    # unrelated middle line comment\n",
    "                                    spam, \n",
    "                                    # unrelated separate line comment\n",
    "                                    ham as eggs)    # pip: foo==0.0.1\"\"\"\n",
    "    expected_groupdict = {\n",
    "        'FULL_CMD': line,\n",
    "        'SEMICOLON_SEP': None,\n",
    "        'ONION': None,\n",
    "        'OPEN_PARENS': '(',\n",
    "        'FROM_ONION_1': None,\n",
    "        'CLOSE_PARENS_FIRSTLINE': None,\n",
    "        'FROM_SEMICOLON_SEP': None,\n",
    "        'FROM_ONION': '# pip: foo==0.0.1'\n",
    "    }\n",
    "    match = smuggle_statement_regex.match(line)\n",
    "    assert match is not None, f\"failed to match: '{line}'\"\n",
    "    \n",
    "    result_groupdict = match.groupdict()\n",
    "    assert result_groupdict == expected_groupdict, (\n",
    "        \"bad values in match.groupdict(). Expected:\\n\"\n",
    "        f\"{pformat(expected_groupdict)}\\nFound:\\n{pformat(result_groupdict)}\"\n",
    "    )"
   ]
  },
  {
   "cell_type": "code",
   "execution_count": null,
   "metadata": {},
   "outputs": [],
   "source": [
    "def test_smuggle_from_multiline_implicit_2_onion_1():\n",
    "    \"\"\"\n",
    "    Variation on above.\n",
    "    \n",
    "    Notes:\n",
    "    - implicit_2: first/last smuggled names occupy different lines from\n",
    "                  opening/closing parentheses\n",
    "    - onion_1: onion comment appears on first line\n",
    "    \"\"\"\n",
    "    line = \"\"\"from foo.bar smuggle (    # pip: foo==0.0.1\n",
    "                  baz,\n",
    "                  qux as quux,\n",
    "                  spam, \n",
    "                  ham as eggs\n",
    "              )\"\"\"\n",
    "    expected_groupdict = {\n",
    "        'FULL_CMD': line,\n",
    "        'SEMICOLON_SEP': None,\n",
    "        'ONION': None,\n",
    "        'OPEN_PARENS': '(',\n",
    "        'FROM_ONION_1': '# pip: foo==0.0.1',\n",
    "        'CLOSE_PARENS_FIRSTLINE': None,\n",
    "        'FROM_SEMICOLON_SEP': None,\n",
    "        'FROM_ONION': None\n",
    "    }\n",
    "    match = smuggle_statement_regex.match(line)\n",
    "    assert match is not None, f\"failed to match: '{line}'\"\n",
    "    \n",
    "    result_groupdict = match.groupdict()\n",
    "    assert result_groupdict == expected_groupdict, (\n",
    "        \"bad values in match.groupdict(). Expected:\\n\"\n",
    "        f\"{pformat(expected_groupdict)}\\nFound:\\n{pformat(result_groupdict)}\"\n",
    "    )"
   ]
  },
  {
   "cell_type": "code",
   "execution_count": null,
   "metadata": {},
   "outputs": [],
   "source": [
    "def test_smuggle_from_multiline_implicit_2_onion_2():\n",
    "    \"\"\"\n",
    "    Variation on above.\n",
    "    \n",
    "    Notes:\n",
    "    - implicit_2: first/last smuggled names occupy different lines from\n",
    "                  opening/closing parentheses\n",
    "    - onion_2: onion comment appears on last line\n",
    "    \"\"\"\n",
    "    line = \"\"\"from foo.bar smuggle (\n",
    "                  baz,\n",
    "                  qux as quux,\n",
    "                  spam, \n",
    "                  ham as eggs\n",
    "              )    # pip: foo==0.0.1\"\"\"\n",
    "    expected_groupdict = {\n",
    "        'FULL_CMD': line,\n",
    "        'SEMICOLON_SEP': None,\n",
    "        'ONION': None,\n",
    "        'OPEN_PARENS': '(',\n",
    "        'FROM_ONION_1': None,\n",
    "        'CLOSE_PARENS_FIRSTLINE': None,\n",
    "        'FROM_SEMICOLON_SEP': None,\n",
    "        'FROM_ONION': '# pip: foo==0.0.1'\n",
    "    }\n",
    "    match = smuggle_statement_regex.match(line)\n",
    "    assert match is not None, f\"failed to match: '{line}'\"\n",
    "    \n",
    "    result_groupdict = match.groupdict()\n",
    "    assert result_groupdict == expected_groupdict, (\n",
    "        \"bad values in match.groupdict(). Expected:\\n\"\n",
    "        f\"{pformat(expected_groupdict)}\\nFound:\\n{pformat(result_groupdict)}\"\n",
    "    )"
   ]
  },
  {
   "cell_type": "code",
   "execution_count": null,
   "metadata": {},
   "outputs": [],
   "source": [
    "def test_smuggle_from_multiline_implicit_2_onion_3():\n",
    "    \"\"\"\n",
    "    Variation on above.\n",
    "    \n",
    "    Notes:\n",
    "    - implicit_2: first/last smuggled names occupy different lines from\n",
    "                  opening/closing parentheses\n",
    "    - onion_3: onion comment appears on line with name, but not first or \n",
    "               last, so not parsed\n",
    "    \"\"\"\n",
    "    line = \"\"\"from foo.bar smuggle (\n",
    "                  baz, \n",
    "                  qux as quux,\n",
    "                  spam,    # pip: foo==0.0.1\n",
    "                  ham as eggs\n",
    "              )\"\"\"\n",
    "    expected_groupdict = {\n",
    "        'FULL_CMD': line,\n",
    "        'SEMICOLON_SEP': None,\n",
    "        'ONION': None,\n",
    "        'OPEN_PARENS': '(',\n",
    "        'FROM_ONION_1': None,\n",
    "        'CLOSE_PARENS_FIRSTLINE': None,\n",
    "        'FROM_SEMICOLON_SEP': None,\n",
    "        'FROM_ONION': None\n",
    "    }\n",
    "    match = smuggle_statement_regex.match(line)\n",
    "    assert match is not None, f\"failed to match: '{line}'\"\n",
    "    \n",
    "    result_groupdict = match.groupdict()\n",
    "    assert result_groupdict == expected_groupdict, (\n",
    "        \"bad values in match.groupdict(). Expected:\\n\"\n",
    "        f\"{pformat(expected_groupdict)}\\nFound:\\n{pformat(result_groupdict)}\"\n",
    "    )"
   ]
  },
  {
   "cell_type": "code",
   "execution_count": null,
   "metadata": {},
   "outputs": [],
   "source": [
    "def test_smuggle_from_multiline_implicit_2_onion_4():\n",
    "    \"\"\"\n",
    "    Variation on above.\n",
    "    \n",
    "    Notes:\n",
    "    - implicit_2: first/last smuggled names occupy different lines from\n",
    "                  opening/closing parentheses\n",
    "    - onion_4: onion comment appears on separate line, but not first or \n",
    "               last, so not parsed\n",
    "    \"\"\"\n",
    "    line = \"\"\"from foo.bar smuggle (\n",
    "                  baz, \n",
    "                  qux as quux,\n",
    "                  # pip: foo==0.0.1\n",
    "                  spam,\n",
    "                  ham as eggs\n",
    "              )\"\"\"\n",
    "    expected_groupdict = {\n",
    "        'FULL_CMD': line,\n",
    "        'SEMICOLON_SEP': None,\n",
    "        'ONION': None,\n",
    "        'OPEN_PARENS': '(',\n",
    "        'FROM_ONION_1': None,\n",
    "        'CLOSE_PARENS_FIRSTLINE': None,\n",
    "        'FROM_SEMICOLON_SEP': None,\n",
    "        'FROM_ONION': None\n",
    "    }\n",
    "    match = smuggle_statement_regex.match(line)\n",
    "    assert match is not None, f\"failed to match: '{line}'\"\n",
    "    \n",
    "    result_groupdict = match.groupdict()\n",
    "    assert result_groupdict == expected_groupdict, (\n",
    "        \"bad values in match.groupdict(). Expected:\\n\"\n",
    "        f\"{pformat(expected_groupdict)}\\nFound:\\n{pformat(result_groupdict)}\"\n",
    "    )"
   ]
  },
  {
   "cell_type": "code",
   "execution_count": null,
   "metadata": {},
   "outputs": [],
   "source": [
    "def test_smuggle_from_multiline_implicit_2_onion_5():\n",
    "    \"\"\"\n",
    "    Variation on above.\n",
    "    \n",
    "    Notes:\n",
    "    - implicit_2: first/last smuggled names occupy different lines from\n",
    "                  opening/closing parentheses\n",
    "    - onion_5: onion comment appears on last line, with non-onion \n",
    "               comments on various lines above it\n",
    "    \"\"\"\n",
    "    line = \"\"\"from foo.bar smuggle (    # unrelated first line comment\n",
    "                  baz,\n",
    "                  qux as quux,    # unrelated middle line comment\n",
    "                  spam, \n",
    "                  # unrelated separate line comment\n",
    "                  ham as eggs\n",
    "              )    # pip: foo==0.0.1\"\"\"\n",
    "    expected_groupdict = {\n",
    "        'FULL_CMD': line,\n",
    "        'SEMICOLON_SEP': None,\n",
    "        'ONION': None,\n",
    "        'OPEN_PARENS': '(',\n",
    "        'FROM_ONION_1': None,\n",
    "        'CLOSE_PARENS_FIRSTLINE': None,\n",
    "        'FROM_SEMICOLON_SEP': None,\n",
    "        'FROM_ONION': '# pip: foo==0.0.1'\n",
    "    }\n",
    "    match = smuggle_statement_regex.match(line)\n",
    "    assert match is not None, f\"failed to match: '{line}'\"\n",
    "    \n",
    "    result_groupdict = match.groupdict()\n",
    "    assert result_groupdict == expected_groupdict, (\n",
    "        \"bad values in match.groupdict(). Expected:\\n\"\n",
    "        f\"{pformat(expected_groupdict)}\\nFound:\\n{pformat(result_groupdict)}\"\n",
    "    )"
   ]
  },
  {
   "cell_type": "code",
   "execution_count": null,
   "metadata": {},
   "outputs": [],
   "source": [
    "def test_smuggle_multi_semicolon():\n",
    "    \"\"\"\n",
    "    should handle multiple semicolon-separated 'smuggle' statements on a \n",
    "    single line. Match should include first statement only, but note \n",
    "    that there are other statements on the same line via the \n",
    "    'SEMICOLON_SEP' group matching. Should *not* include onion comment, \n",
    "    since that applies to last statement on line. Also incorporates \n",
    "    multiple elements from prior tests.\n",
    "    \"\"\"\n",
    "    line = \"\"\"smuggle foo; from bar smuggle baz; \\\n",
    "              smuggle qux as quux; \\\n",
    "              from spam smuggle ham as eggs    # pip: spam-pkg==0.0.1\"\"\"\n",
    "    expected_groupdict = {\n",
    "        'FULL_CMD': 'smuggle foo',\n",
    "        'SEMICOLON_SEP': '',\n",
    "        'ONION': None,\n",
    "        'OPEN_PARENS': None,\n",
    "        'FROM_ONION_1': None,\n",
    "        'CLOSE_PARENS_FIRSTLINE': None,\n",
    "        'FROM_SEMICOLON_SEP': None,\n",
    "        'FROM_ONION': None\n",
    "    }\n",
    "    match = smuggle_statement_regex.match(line)\n",
    "    assert match is not None, f\"failed to match: '{line}'\"\n",
    "    \n",
    "    result_groupdict = match.groupdict()\n",
    "    assert result_groupdict == expected_groupdict, (\n",
    "        \"bad values in match.groupdict(). Expected:\\n\"\n",
    "        f\"{pformat(expected_groupdict)}\\nFound:\\n{pformat(result_groupdict)}\"\n",
    "    )"
   ]
  },
  {
   "cell_type": "code",
   "execution_count": null,
   "metadata": {},
   "outputs": [],
   "source": [
    "def test_smuggle_from_multi_semicolon():\n",
    "    \"\"\"\n",
    "    Same as above, but the 'FROM_SEMICOLON_SEP' group should match \n",
    "    instead of 'SEMICOLON_SEP', since the first statement uses 'from'\n",
    "    \"\"\"\n",
    "    line = \"\"\"from foo smuggle bar; smuggle baz; \\\n",
    "              smuggle qux as quux; \\\n",
    "              from spam smuggle ham as eggs    # pip: spam-pkg==0.0.1\"\"\"\n",
    "    expected_groupdict = {\n",
    "        'FULL_CMD': 'from foo smuggle bar',\n",
    "        'SEMICOLON_SEP': None,\n",
    "        'ONION': None,\n",
    "        'OPEN_PARENS': None,\n",
    "        'FROM_ONION_1': None,\n",
    "        'CLOSE_PARENS_FIRSTLINE': None,\n",
    "        'FROM_SEMICOLON_SEP': '',\n",
    "        'FROM_ONION': None\n",
    "    }\n",
    "    match = smuggle_statement_regex.match(line)\n",
    "    assert match is not None, f\"failed to match: '{line}'\"\n",
    "    \n",
    "    result_groupdict = match.groupdict()\n",
    "    assert result_groupdict == expected_groupdict, (\n",
    "        \"bad values in match.groupdict(). Expected:\\n\"\n",
    "        f\"{pformat(expected_groupdict)}\\nFound:\\n{pformat(result_groupdict)}\"\n",
    "    )"
   ]
  },
  {
   "cell_type": "code",
   "execution_count": null,
   "metadata": {
    "ExecuteTime": {
     "end_time": "2021-07-11T22:09:59.634678Z",
     "start_time": "2021-07-11T22:09:59.629895Z"
    }
   },
   "outputs": [],
   "source": [
    "run_tests()"
   ]
  }
 ],
 "metadata": {
  "kernelspec": {
   "display_name": "davos",
   "language": "python",
   "name": "davos"
  },
  "language_info": {
   "codemirror_mode": {
    "name": "ipython",
    "version": 3
   },
   "file_extension": ".py",
   "mimetype": "text/x-python",
   "name": "python",
   "nbconvert_exporter": "python",
   "pygments_lexer": "ipython3",
   "version": "3.9.2"
  }
 },
 "nbformat": 4,
 "nbformat_minor": 2
}
