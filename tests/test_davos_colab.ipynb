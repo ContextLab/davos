{
  "nbformat": 4,
  "nbformat_minor": 0,
  "metadata": {
    "colab": {
      "name": "test-davos-colab.ipynb",
      "provenance": [],
      "collapsed_sections": [],
      "toc_visible": true
    },
    "kernelspec": {
      "display_name": "Python 3",
      "name": "python3"
    },
    "language_info": {
      "name": "python"
    }
  },
  "cells": [
    {
      "cell_type": "markdown",
      "metadata": {
        "id": "J2ClQflyITTI"
      },
      "source": [
        "<p align=\"center\"\n",
        "    <a href=\"https://colab.research.google.com/github/ContextLab/davos/blob/main/tests/test-davos-colab.ipynb\" target=\"_parent\">\n",
        "        <img src=\"https://colab.research.google.com/assets/colab-badge.svg\" alt=\"Open In Colab\">\n",
        "    </a>\n",
        "</p>"
      ]
    },
    {
      "cell_type": "code",
      "metadata": {
        "id": "2VwnizLZ7xPq"
      },
      "source": [
        "GITHUB_USERNAME = \"$GITHUB_USERNAME\"\n",
        "GITHUB_REF = \"$GITHUB_REF\""
      ],
      "execution_count": null,
      "outputs": []
    },
    {
      "cell_type": "code",
      "metadata": {
        "id": "sXPlvCvRsuLE"
      },
      "source": [
        "import ast\n",
        "import contextlib\n",
        "import functools\n",
        "import os\n",
        "import signal\n",
        "import subprocess\n",
        "import sys\n",
        "import types\n",
        "from pathlib import Path\n",
        "\n",
        "import pkg_resources\n",
        "from IPython.core.ultratb import AutoFormattedTB"
      ],
      "execution_count": null,
      "outputs": []
    },
    {
      "cell_type": "markdown",
      "metadata": {
        "id": "73wNblHUaT8s"
      },
      "source": [
        "# **Test helpers**"
      ]
    },
    {
      "cell_type": "code",
      "metadata": {
        "id": "dSVO_4asVNe6"
      },
      "source": [
        "setup_funcs = []\n",
        "tests = []"
      ],
      "execution_count": null,
      "outputs": []
    },
    {
      "cell_type": "code",
      "metadata": {
        "id": "ufPkHItMyqB4"
      },
      "source": [
        "class DavosTestingError:\n",
        "    \"\"\"Base class for Davos testing-related errors\"\"\"\n",
        "    pass\n",
        "\n",
        "\n",
        "class DavosAssertionError(DavosTestingError, AssertionError):\n",
        "    \"\"\"Subclasses AssertionError for pytest-specific handling\"\"\"\n",
        "    pass\n",
        "\n",
        "\n",
        "class TestingEnvironmentError(DavosAssertionError, OSError):\n",
        "    \"\"\"Raised due to issues with the testing environment\"\"\"\n",
        "    pass\n",
        "\n",
        "\n",
        "class NonColabEnvironmentError(TestingEnvironmentError):\n",
        "    \"\"\"Raised if this notebook is run outside of Colaboratory\"\"\"\n",
        "    def __init__(self, *args):\n",
        "        msg = \"Tests in this notebook are meant to be run in a Colaboratory environment\"\n",
        "        super().__init__(msg, *args)\n",
        "\n",
        "\n",
        "class TestTimeoutError(DavosAssertionError):\n",
        "    \"\"\"Raised if a test exceeds its timeout limit\"\"\"\n",
        "    pass"
      ],
      "execution_count": null,
      "outputs": []
    },
    {
      "cell_type": "code",
      "metadata": {
        "id": "1X6xLIDjLvH8"
      },
      "source": [
        "def _expected_onion_parser_output(args_str, **installer_kwargs):\n",
        "    _installer_kwargs = {'editable': False, 'spec': args_str}\n",
        "    _installer_kwargs.update(installer_kwargs)\n",
        "    return '\"pip\"', f'\"\"\"{args_str}\"\"\"', _installer_kwargs"
      ],
      "execution_count": null,
      "outputs": []
    },
    {
      "cell_type": "code",
      "metadata": {
        "id": "aC6WMKyNxtSl"
      },
      "source": [
        "def _expected_parser_output(name, as_=None, args_str=None, **installer_kwargs):\n",
        "    if as_ is not None:\n",
        "        as_ = f'\"{as_}\"'\n",
        "    expected = f'smuggle(name=\"{name}\", as_={as_}'\n",
        "    if args_str is not None or any(installer_kwargs):\n",
        "        installer, args_str, inst_kwargs = _expected_onion_parser_output(args_str, **installer_kwargs)\n",
        "        expected += f', installer={installer}, args_str={args_str}, installer_kwargs={inst_kwargs}'\n",
        "    return expected + ')'"
      ],
      "execution_count": null,
      "outputs": []
    },
    {
      "cell_type": "code",
      "metadata": {
        "id": "lTOnvuyrM487"
      },
      "source": [
        "def _is_imported(package):\n",
        "    if package in sys.modules:\n",
        "        return True\n",
        "    elif any(pkg.startswith(f'{package}.') for pkg in sys.modules):\n",
        "        return True\n",
        "    return False"
      ],
      "execution_count": null,
      "outputs": []
    },
    {
      "cell_type": "code",
      "metadata": {
        "id": "9Alh4UZEP2Ac"
      },
      "source": [
        "def _is_installed(package):\n",
        "    try:\n",
        "        dist = pkg_resources.get_distribution(package)\n",
        "    except pkg_resources.DistributionNotFound:\n",
        "        return False\n",
        "    else:\n",
        "        return True"
      ],
      "execution_count": null,
      "outputs": []
    },
    {
      "cell_type": "code",
      "metadata": {
        "id": "LuXE3Dvny_wo"
      },
      "source": [
        "def _matches_expected_output(expected, result):\n",
        "    all_match = True\n",
        "    expected_chunks = expected.split(';')\n",
        "    result_chunks = result.split(';')\n",
        "    assert len(expected_chunks) == len(result_chunks)\n",
        "    for expected_chunk, result_chunk in zip(expected_chunks, result_chunks):\n",
        "        if 'installer_kwargs=' in expected_chunk and 'installer_kwargs' in result_chunk:\n",
        "            exp_main, exp_kwargs = expected_chunk.strip().split('installer_kwargs=')\n",
        "            res_main, res_kwargs = result_chunk.strip().split('installer_kwargs=')\n",
        "            # remove ')'\n",
        "            exp_kwargs = ast.literal_eval(exp_kwargs[:-1])\n",
        "            res_kwargs = ast.literal_eval(res_kwargs[:-1])\n",
        "            all_match = all_match and exp_main == res_main and exp_kwargs == res_kwargs\n",
        "        else:\n",
        "            all_match = all_match and expected_chunk == result_chunk\n",
        "    return all_match"
      ],
      "execution_count": null,
      "outputs": []
    },
    {
      "cell_type": "code",
      "metadata": {
        "id": "1CeVqSKle5zT"
      },
      "source": [
        "def _parse_line(line):\n",
        "    return davos.implementations.full_parser(line)"
      ],
      "execution_count": null,
      "outputs": []
    },
    {
      "cell_type": "code",
      "metadata": {
        "id": "pHqLqdn0e51X"
      },
      "source": [
        "def _parse_onion(onion):\n",
        "    return davos.core.core.Onion.parse_onion(onion)"
      ],
      "execution_count": null,
      "outputs": []
    },
    {
      "cell_type": "code",
      "metadata": {
        "id": "J6F_6mB6VAOI"
      },
      "source": [
        "def setup_func(func):\n",
        "    @functools.wraps(func)\n",
        "    def _wrapped():\n",
        "        return func()\n",
        "        \n",
        "    setup_funcs.append(func)\n",
        "    return _wrapped"
      ],
      "execution_count": null,
      "outputs": []
    },
    {
      "cell_type": "code",
      "metadata": {
        "id": "pbaCKBNeVAjR"
      },
      "source": [
        "def test(func=None, *, timeout=100):\n",
        "    def decorator(func):\n",
        "        def handler(signum, frame):\n",
        "            raise TestTimeoutError(\n",
        "                f\"'{func.__name__}' timed out after {timeout} seconds\"\n",
        "            )\n",
        "        @functools.wraps(func)\n",
        "        def wrapper():\n",
        "            # print(f'timeout is {timeout}')\n",
        "            signal.signal(signal.SIGALRM, handler)\n",
        "            signal.alarm(timeout)\n",
        "            try:\n",
        "                return func()\n",
        "            finally:\n",
        "                signal.alarm(0)\n",
        "\n",
        "        tests.append(wrapper)\n",
        "        return wrapper\n",
        "    \n",
        "    if func is not None:\n",
        "        return decorator(func)\n",
        "    return decorator"
      ],
      "execution_count": null,
      "outputs": []
    },
    {
      "cell_type": "code",
      "metadata": {
        "id": "eujmFjaFWwVm"
      },
      "source": [
        "def run_setup(source='github', ref=None, fork=None):\n",
        "    n_funcs = len(setup_funcs)\n",
        "    for i, sf in enumerate(setup_funcs):\n",
        "        name = sf.__name__\n",
        "        prefix = f\"{i+1}/{n_funcs} {name}:\"\n",
        "        print(f\"{prefix}{' '*(60-len(prefix))}\", end='')\n",
        "        try:\n",
        "            if name == 'test_install_davos':\n",
        "                sf(source=source, ref=ref, fork=fork)\n",
        "            else:\n",
        "                sf()\n",
        "        except:\n",
        "            print('failed')\n",
        "            raise\n",
        "        else:\n",
        "            print('passed')"
      ],
      "execution_count": null,
      "outputs": []
    },
    {
      "cell_type": "code",
      "metadata": {
        "id": "8TThnBUIy3h7"
      },
      "source": [
        "def show_failures(names_excs):\n",
        "    tb_displayer = AutoFormattedTB('Context', 'LightBG')\n",
        "    for name, exc in names_excs:\n",
        "        n_pre = (85 - len(name) - 2) // 2\n",
        "        n_post = 85 - len(name) - 2 - n_pre\n",
        "        print(f\"{'='*n_pre} {name} {'='*n_post}\")\n",
        "        print(tb_displayer.text(type(exc), exc, exc.__traceback__))\n",
        "        print('\\n\\n\\n')"
      ],
      "execution_count": null,
      "outputs": []
    },
    {
      "cell_type": "code",
      "metadata": {
        "id": "LRdPqhZ0WwX4"
      },
      "source": [
        "def run_tests(live_stdout=False):\n",
        "    if live_stdout:\n",
        "        stdout_context = contextlib.nullcontext\n",
        "    else:\n",
        "        stdout_context = contextlib.redirect_stdout\n",
        "    names_excs = []\n",
        "    n_tests = len(tests)\n",
        "    for i, tf in enumerate(tests, start=1):\n",
        "        name = tf.__name__\n",
        "        prefix = f\"{i}/{n_tests}{' ' if i > 9 else '  '}{name}:\"\n",
        "        print(f\"{prefix}{' '*(85-len(prefix))}\", end='')\n",
        "        try:\n",
        "            with open(os.devnull, 'w') as devnull, stdout_context(devnull):\n",
        "                tf()\n",
        "        except Exception as e:\n",
        "            names_excs.append((name, e))\n",
        "            if isinstance(e, TestTimeoutError):\n",
        "                print('timed out')\n",
        "            else:\n",
        "                print('failed')\n",
        "        else:\n",
        "            print('passed')\n",
        "    \n",
        "    print('\\n\\n')\n",
        "    n_failed = len(names_excs)\n",
        "    if n_failed == 0:\n",
        "        print('All tests passed!')\n",
        "    else:\n",
        "        print(f'{n_tests-n_failed}/{n_tests} passed')\n",
        "        print('Displaying errors from failing tests:')\n",
        "        print('\\n\\n')\n",
        "    show_failures(names_excs)"
      ],
      "execution_count": null,
      "outputs": []
    },
    {
      "cell_type": "markdown",
      "metadata": {
        "id": "TTnx8Ux83ugP"
      },
      "source": [
        "# **Setup tests**"
      ]
    },
    {
      "cell_type": "markdown",
      "metadata": {
        "id": "Jamfm0pP4LpR"
      },
      "source": [
        "### Testing environment validation & installation tests"
      ]
    },
    {
      "cell_type": "code",
      "metadata": {
        "id": "PuVsfmse6GQ8"
      },
      "source": [
        "@setup_func\n",
        "def test_import_ipython():\n",
        "    global IPython\n",
        "    try:\n",
        "        import IPython\n",
        "    except ModuleNotFoundError as e:\n",
        "        raise NonColabEnvironmentError() from e"
      ],
      "execution_count": null,
      "outputs": []
    },
    {
      "cell_type": "code",
      "metadata": {
        "id": "J4V4sMqS4LBM"
      },
      "source": [
        "@setup_func\n",
        "def test_import_google():\n",
        "    global google\n",
        "    try:\n",
        "        import google\n",
        "    except ModuleNotFoundError as e:\n",
        "        raise NonColabEnvironmentError() from e"
      ],
      "execution_count": null,
      "outputs": []
    },
    {
      "cell_type": "code",
      "metadata": {
        "id": "vimIIlfT5hdu"
      },
      "source": [
        "@setup_func\n",
        "def test_get_ipython_shell():\n",
        "    global IPYTHON_SHELL\n",
        "    try:\n",
        "        IPYTHON_SHELL = get_ipython()\n",
        "    except NameError as e:\n",
        "        raise NonColabEnvironmentError() from e"
      ],
      "execution_count": null,
      "outputs": []
    },
    {
      "cell_type": "code",
      "metadata": {
        "id": "0aMa2x7n5-cg"
      },
      "source": [
        "@setup_func\n",
        "def test_ipython_shell_is_colab_shell():\n",
        "    try:\n",
        "        assert isinstance(IPYTHON_SHELL, google.colab._shell.Shell)\n",
        "    except AssertionError as e:\n",
        "        raise NonColabEnvironmentError() from e\n",
        "    except AttributeError as e:\n",
        "        google_version = pkg_resources.get_distribution('google').version\n",
        "        raise TestingEnvironmentError(\n",
        "            \"Qualified name for Colab shell class has changed (google module \"\n",
        "            \"may have been recently updated).\\n\\tShell type:\\t\"\n",
        "            f\"{type(IPYTHON_SHELL)}\\n\\tgoogle version:\\t{google_version}\"\n",
        "        ) from e"
      ],
      "execution_count": null,
      "outputs": []
    },
    {
      "cell_type": "code",
      "metadata": {
        "id": "Jq9BX8VC9XaZ"
      },
      "source": [
        "@setup_func\n",
        "def test_ipython_version():\n",
        "    ipy_version = IPython.__version__\n",
        "    try:\n",
        "        assert ipy_version == '5.5.0'\n",
        "    except AssertionError as e:\n",
        "        raise TestingEnvironmentError(\n",
        "            f\"Found unexpected IPython version: {ipy_version}\\nExpected \"\n",
        "            \"IPython==5.5.0\"\n",
        "        ) from e"
      ],
      "execution_count": null,
      "outputs": []
    },
    {
      "cell_type": "code",
      "metadata": {
        "id": "nVW4u29OT4Uj"
      },
      "source": [
        "@setup_func\n",
        "def test_no_transforms_registered():\n",
        "    assert len(IPYTHON_SHELL.input_splitter.python_line_transforms) == 0\n",
        "    assert len(IPYTHON_SHELL.input_transformer_manager.python_line_transforms) == 0"
      ],
      "execution_count": null,
      "outputs": []
    },
    {
      "cell_type": "code",
      "metadata": {
        "id": "w_m4bwUBtI6S"
      },
      "source": [
        "@setup_func\n",
        "def test_install_davos(source='github', ref=None, fork=None):\n",
        "    source = source.lower()\n",
        "    if source == 'github':\n",
        "        if fork is None:\n",
        "            fork = 'ContextLab'\n",
        "        name = f'git+https://github.com/{fork}/davos.git'\n",
        "        if ref is not None:\n",
        "            name += f'@{ref}'\n",
        "        name += '#egg=davos'\n",
        "    elif source in ('pip', 'pypi', 'testpypi'):\n",
        "        name = 'davos'\n",
        "        if source == 'testpypi':\n",
        "            name = '--index-url https://test.pypi.org/simple/ ' + name\n",
        "        if ref is not None:\n",
        "            name += f'=={ref}'\n",
        "    elif source == 'conda':\n",
        "        raise NotImplementedError(\n",
        "            \"conda installation is not supported in Colaboratory\"\n",
        "        )\n",
        "    else:\n",
        "        raise ValueError(f\"Invalid source '{source}'\")\n",
        "    \n",
        "    return_code = IPython.core.interactiveshell.system(f'pip install {name}')\n",
        "    if return_code != 0:\n",
        "        raise DavosTestingError(\n",
        "            f\"Failed to install 'davos'. Ran command:\\n\\t`pip install {name}`\"\n",
        "            )"
      ],
      "execution_count": null,
      "outputs": []
    },
    {
      "cell_type": "markdown",
      "metadata": {
        "id": "3akA2h2zSwI7"
      },
      "source": [
        "### Import & initialization tests"
      ]
    },
    {
      "cell_type": "code",
      "metadata": {
        "id": "t7rW8ymXKCI6"
      },
      "source": [
        "@setup_func\n",
        "def test_import_davos():\n",
        "    global davos\n",
        "    try:\n",
        "        import davos\n",
        "    except ModuleNotFoundError as e:\n",
        "        raise DavosTestingError(\"Failed to import 'davos' after installation\")"
      ],
      "execution_count": null,
      "outputs": []
    },
    {
      "cell_type": "code",
      "metadata": {
        "id": "OeB54gfIU0pH"
      },
      "source": [
        "@setup_func\n",
        "def test_smuggler_transform_registered():\n",
        "    splitter_transforms = IPYTHON_SHELL.input_splitter.python_line_transforms\n",
        "    line_transforms = IPYTHON_SHELL.input_transformer_manager.python_line_transforms\n",
        "    # transform be registered once (and only once) in both places\n",
        "    assert len(splitter_transforms) == 1\n",
        "    assert len(line_transforms) == 1\n",
        "    smuggler_splitter_transform = splitter_transforms[0]\n",
        "    smuggler_line_transform = line_transforms[0]\n",
        "    # both should be StatelessInputTransformers\n",
        "    assert isinstance(smuggler_splitter_transform, \n",
        "                      IPython.core.inputtransformer.StatelessInputTransformer)\n",
        "    assert isinstance(smuggler_line_transform, \n",
        "                      IPython.core.inputtransformer.StatelessInputTransformer)\n",
        "    # both objects' .func attr should be \"full\" parser function, which for \n",
        "    # IPython<7.0 should simply be the parse_line function \n",
        "    assert (smuggler_splitter_transform.func \n",
        "            is smuggler_line_transform.func \n",
        "            is davos.implementations.full_parser\n",
        "            is davos.core.core.parse_line)"
      ],
      "execution_count": null,
      "outputs": []
    },
    {
      "cell_type": "code",
      "metadata": {
        "id": "wjDdDkyHXft-"
      },
      "source": [
        "@setup_func\n",
        "def test_smuggle_function_in_namespace():\n",
        "    assert 'smuggle' in IPYTHON_SHELL.user_ns"
      ],
      "execution_count": null,
      "outputs": []
    },
    {
      "cell_type": "code",
      "metadata": {
        "id": "scwvd0G_aMsx"
      },
      "source": [
        "@setup_func\n",
        "def test_DavosConfig_object_initialization():\n",
        "    config = davos.config\n",
        "    # config object should be a singleton\n",
        "    from davos import DavosConfig\n",
        "    assert DavosConfig() is config\n",
        "    # should recognize Colab notebook environment\n",
        "    assert config.environment == 'Colaboratory'\n",
        "    # global IPython shell instance and its original showsyntaxerror \n",
        "    # method should be stored as expected\n",
        "    assert (config.ipython_shell \n",
        "            is IPYTHON_SHELL \n",
        "            is config._ipy_showsyntaxerror_orig.__self__)\n",
        "    # conda executable should be unavailable...\n",
        "    assert config.conda_avail is False\n",
        "    # ...so name of current conda environment should be None...\n",
        "    assert config.conda_env is None\n",
        "    # ...and env name - env dir path mapping should also be None\n",
        "    assert config.conda_envs_dirs is None\n",
        "    # dict of previously smuggled packages should initially be empty\n",
        "    assert config.smuggled == {}\n",
        "    # davos parser should initially be active\n",
        "    assert config.active is davos.is_active() is True\n",
        "    # automatic restart & run all above behavior should be unavailable in colab\n",
        "    assert config.allow_rerun is False\n",
        "    # install confirmation should not be required by default\n",
        "    assert config.confirm_install is False\n",
        "    # noninteractive mode should be disabled by default\n",
        "    assert config.noninteractive is False\n",
        "    # stdout should not be suppressed by default\n",
        "    assert config.suppress_stdout is False"
      ],
      "execution_count": null,
      "outputs": []
    },
    {
      "cell_type": "markdown",
      "metadata": {
        "id": "cTOksxgP3nSG"
      },
      "source": [
        "# **Run setup tests**"
      ]
    },
    {
      "cell_type": "code",
      "metadata": {
        "colab": {
          "base_uri": "https://localhost:8080/"
        },
        "id": "QMvGVihj4l-D",
        "outputId": "2eb42d11-cdc5-4e0d-e0a9-72b98c93c178"
      },
      "source": [
        "run_setup(source='github', fork=GITHUB_USERNAME, ref=GITHUB_REF)"
      ],
      "execution_count": null,
      "outputs": [
        {
          "output_type": "stream",
          "text": [
            "1/11 test_import_ipython:                                   passed\n",
            "2/11 test_import_google:                                    passed\n",
            "3/11 test_get_ipython_shell:                                passed\n",
            "4/11 test_ipython_shell_is_colab_shell:                     passed\n",
            "5/11 test_ipython_version:                                  passed\n",
            "6/11 test_no_transforms_registered:                         passed\n",
            "7/11 test_install_davos:                                    Collecting davos\n",
            "  Cloning https://github.com/paxtonfitzpatrick/davos.git (to revision tests) to /tmp/pip-install-b786pbq6/davos\n",
            "  Running command git clone -q https://github.com/paxtonfitzpatrick/davos.git /tmp/pip-install-b786pbq6/davos\n",
            "  Running command git checkout -b tests --track origin/tests\n",
            "  Switched to a new branch 'tests'\n",
            "  Branch 'tests' set up to track remote branch 'tests' from 'origin'.\n",
            "  Installing build dependencies ... \u001b[?25l\u001b[?25hdone\n",
            "  Getting requirements to build wheel ... \u001b[?25l\u001b[?25hdone\n",
            "    Preparing wheel metadata ... \u001b[?25l\u001b[?25hdone\n",
            "Building wheels for collected packages: davos\n",
            "  Building wheel for davos (PEP 517) ... \u001b[?25l\u001b[?25hdone\n",
            "  Created wheel for davos: filename=davos-0.0.1-cp37-none-any.whl size=50191 sha256=dff067862c5a7141a050df69551cf8f0532d102f2cc70aa1dbcb925903c7b074\n",
            "  Stored in directory: /tmp/pip-ephem-wheel-cache-tz5y_h9q/wheels/0e/6a/2a/906cde07aa724e6b4f5a6a744f7b05a2a4cf4462549a5b401f\n",
            "Successfully built davos\n",
            "Installing collected packages: davos\n",
            "Successfully installed davos-0.0.1\n",
            "passed\n",
            "8/11 test_import_davos:                                     passed\n",
            "9/11 test_smuggler_transform_registered:                    passed\n",
            "10/11 test_smuggle_function_in_namespace:                   passed\n",
            "11/11 test_DavosConfig_object_initialization:               passed\n"
          ],
          "name": "stdout"
        }
      ]
    },
    {
      "cell_type": "markdown",
      "metadata": {
        "id": "eeYkZiDL4Vrr"
      },
      "source": [
        "# **Main tests**"
      ]
    },
    {
      "cell_type": "markdown",
      "metadata": {
        "id": "h8zmDNgMgLGk"
      },
      "source": [
        "## Unit tests"
      ]
    },
    {
      "cell_type": "markdown",
      "metadata": {
        "id": "AjpH754ElGt3"
      },
      "source": [
        "### shell command runner tests"
      ]
    },
    {
      "cell_type": "code",
      "metadata": {
        "id": "oBF5TmvOhFSl"
      },
      "source": [
        "@test\n",
        "def test_run_shell_command_simple():\n",
        "    stdout = davos.core.core.run_shell_command('whoami', live_stdout=False)\n",
        "    assert stdout == 'root\\r\\n'"
      ],
      "execution_count": null,
      "outputs": []
    },
    {
      "cell_type": "code",
      "metadata": {
        "id": "MF0REQDfh5UF"
      },
      "source": [
        "@test\n",
        "def test_run_shell_command_multiword():\n",
        "    quote = (\"Strictly speaking, I didn't do the theiving. That would be the \"\n",
        "             \"pirates. I just moved what they stole from one place to another\")\n",
        "    stdout = davos.core.core.run_shell_command(f'echo \"{quote}\"', \n",
        "                                               live_stdout=False)\n",
        "    assert stdout == quote + '\\r\\n'"
      ],
      "execution_count": null,
      "outputs": []
    },
    {
      "cell_type": "code",
      "metadata": {
        "id": "w7uenDGZcsuP"
      },
      "source": [
        "@test\n",
        "def test_run_shell_command_failure():\n",
        "    try:\n",
        "        davos.core.core.run_shell_command('blahblahblah', live_stdout=True)\n",
        "    except subprocess.CalledProcessError as e:\n",
        "        assert e.returncode == 127\n",
        "        assert e.output == '/bin/sh: 1: blahblahblah: not found\\r\\n', e.output.getvalue()"
      ],
      "execution_count": null,
      "outputs": []
    },
    {
      "cell_type": "markdown",
      "metadata": {
        "id": "E4U8QOFolgpS"
      },
      "source": [
        "### smuggle command parser tests"
      ]
    },
    {
      "cell_type": "code",
      "metadata": {
        "id": "VzF2OhxZkxnl"
      },
      "source": [
        "@test\n",
        "def test_parser_ignores_line_no_smuggle():\n",
        "    line = \"def foo(bar, baz=qux):\"\n",
        "    assert _parse_line(line) == line"
      ],
      "execution_count": null,
      "outputs": []
    },
    {
      "cell_type": "code",
      "metadata": {
        "id": "-2e0f8r7mJNE"
      },
      "source": [
        "@test\n",
        "def test_parser_ignores_line_decoy_smuggle():\n",
        "    \"\"\"a line that has \"smuggle\" in it, but should be ignored\"\"\"\n",
        "    line = \"def smuggle_something(foo):\"\n",
        "    assert _parse_line(line) == line"
      ],
      "execution_count": null,
      "outputs": []
    },
    {
      "cell_type": "code",
      "metadata": {
        "id": "i_8gCTv2mJQI"
      },
      "source": [
        "@test\n",
        "def test_parser_ignores_commented_line():\n",
        "    \"\"\"parser should ignore commented-out smuggle statements\"\"\"\n",
        "    line = \"# smuggle foo as bar\"\n",
        "    assert _parse_line(line) == line"
      ],
      "execution_count": null,
      "outputs": []
    },
    {
      "cell_type": "code",
      "metadata": {
        "id": "oUOlI4yEiaeW"
      },
      "source": [
        "@test\n",
        "def test_parser_handles_basic_line():\n",
        "    \"\"\"simplest use case\"\"\"\n",
        "    line = \"smuggle foo\"\n",
        "    expected = _expected_parser_output('foo')\n",
        "    assert _matches_expected_output(expected, _parse_line(line))"
      ],
      "execution_count": null,
      "outputs": []
    },
    {
      "cell_type": "code",
      "metadata": {
        "id": "D4Vi1ay4ly4g"
      },
      "source": [
        "@test\n",
        "def test_parser_handles_basic_line_alias():\n",
        "    \"\"\"simplest use case, plus alias\"\"\"\n",
        "    line = \"smuggle foo as bar\"\n",
        "    expected = _expected_parser_output('foo', as_='bar')\n",
        "    assert _matches_expected_output(expected, _parse_line(line))"
      ],
      "execution_count": null,
      "outputs": []
    },
    {
      "cell_type": "code",
      "metadata": {
        "id": "QQqY5lFWia1U"
      },
      "source": [
        "@test\n",
        "def test_parser_handles_basic_line_onion():\n",
        "    \"\"\"simplest use case, with onion comment\"\"\"\n",
        "    line = \"smuggle foo as bar    # pip: foo==0.0.1\"\n",
        "    expected = _expected_parser_output('foo', as_='bar', args_str='foo==0.0.1')\n",
        "    assert _matches_expected_output(expected, _parse_line(line))"
      ],
      "execution_count": null,
      "outputs": []
    },
    {
      "cell_type": "code",
      "metadata": {
        "id": "f7laAO9UkU55"
      },
      "source": [
        "@test\n",
        "def test_parser_ignores_non_onion_comment():\n",
        "    \"\"\"looks similar to the preivous one, but the inline comment is NOT an onion spec\"\"\"\n",
        "    line = \"smuggle foo as bar    # omg foo is my FAVORITE package\"\n",
        "    expected = _expected_parser_output('foo', as_='bar') + \"    # omg foo is my FAVORITE package\"\n",
        "    assert _matches_expected_output(expected, _parse_line(line))"
      ],
      "execution_count": null,
      "outputs": []
    },
    {
      "cell_type": "code",
      "metadata": {
        "id": "SDTuBZL9JGrs"
      },
      "source": [
        "@test\n",
        "def test_parser_ignores_imposter_onion_comment():\n",
        "    \"\"\"VERY close to an onion comment, but doesn't start with \"pip:\" (note colon)\"\"\"\n",
        "    line = \"smuggle foo as bar    # pip is a [redacted] package manager than conda\"\n",
        "    expected = _expected_parser_output('foo', as_='bar') + \"    # pip is a [redacted] package manager than conda\"\n",
        "    assert _matches_expected_output(expected, _parse_line(line))"
      ],
      "execution_count": null,
      "outputs": []
    },
    {
      "cell_type": "code",
      "metadata": {
        "id": "8eUcnzCnrjH2"
      },
      "source": [
        "@test\n",
        "def test_parser_handles_smuggle_qualname():\n",
        "    line = \"smuggle foo.bar as baz\"\n",
        "    expected = _expected_parser_output('foo.bar', as_='baz')\n",
        "    assert _matches_expected_output(expected, _parse_line(line))"
      ],
      "execution_count": null,
      "outputs": []
    },
    {
      "cell_type": "code",
      "metadata": {
        "id": "tYyTHhq6mJTB"
      },
      "source": [
        "@test\n",
        "def test_parser_handles_indented_line():\n",
        "    \"\"\"\n",
        "    needs to handle, e.g.\n",
        "        ```\n",
        "        def foo():\n",
        "            smuggle numpy as np\n",
        "        ```\n",
        "    Note: unless `davos.deactivate() is run, the above line will \n",
        "    actually be parsed (though it will have no effect)\n",
        "    \"\"\"\n",
        "    line = \"    smuggle foo as bar\"\n",
        "    expected = \"    \" + _expected_parser_output('foo', as_='bar')\n",
        "    assert _matches_expected_output(expected, _parse_line(line))"
      ],
      "execution_count": null,
      "outputs": []
    },
    {
      "cell_type": "code",
      "metadata": {
        "id": "vXFaqV8l4cba"
      },
      "source": [
        "@test\n",
        "def test_parser_handles_different_install_name():\n",
        "    \"\"\"\n",
        "    sometimes, name used for pip-installation is different \n",
        "    from name used to import\n",
        "    \"\"\"\n",
        "    line = \"smuggle foo as bar    # pip: foo-package==0.0.1\"\n",
        "    expected = _expected_parser_output('foo', as_='bar', \n",
        "                                       args_str='foo-package==0.0.1')\n",
        "    assert _matches_expected_output(expected, _parse_line(line))"
      ],
      "execution_count": null,
      "outputs": []
    },
    {
      "cell_type": "code",
      "metadata": {
        "id": "bAXICxNor4a9"
      },
      "source": [
        "@test\n",
        "def test_parser_handles_multiple_packages():\n",
        "    line = \"smuggle foo as bar, baz as qux, spam, ham, eggs\"\n",
        "    expected = _expected_parser_output('foo', as_='bar')\n",
        "    expected += f\"; {_expected_parser_output('baz', as_='qux')}\"\n",
        "    expected += f\"; {_expected_parser_output('spam')}\"\n",
        "    expected += f\"; {_expected_parser_output('ham')}\"\n",
        "    expected += f\"; {_expected_parser_output('eggs')}\"\n",
        "    assert _matches_expected_output(expected, _parse_line(line))"
      ],
      "execution_count": null,
      "outputs": []
    },
    {
      "cell_type": "code",
      "metadata": {
        "id": "4Xm-d7dYhjuR"
      },
      "source": [
        "@test\n",
        "def test_parser_handles_multiple_packages_onion():\n",
        "    \"\"\"onion info should be passed to smuggle function for FIRST package\"\"\"\n",
        "    line = \"smuggle foo as bar, baz as qux, spam, ham, eggs    # pip: foo==0.0.1\"\n",
        "    expected = _expected_parser_output('foo', as_='bar', args_str='foo==0.0.1')\n",
        "    expected += f\"; {_expected_parser_output('baz', as_='qux')}\"\n",
        "    expected += f\"; {_expected_parser_output('spam')}\"\n",
        "    expected += f\"; {_expected_parser_output('ham')}\"\n",
        "    expected += f\"; {_expected_parser_output('eggs')}\"\n",
        "    assert _matches_expected_output(expected, _parse_line(line))"
      ],
      "execution_count": null,
      "outputs": []
    },
    {
      "cell_type": "code",
      "metadata": {
        "id": "UFRPxgIer4dc"
      },
      "source": [
        "@test\n",
        "def test_parser_handles_backslash():\n",
        "    line = \"\"\"smuggle foo as bar, \\\n",
        "                      baz as qux, \\\n",
        "                      spam, ham, \\\n",
        "                      eggs\"\"\"\n",
        "    expected = _expected_parser_output('foo', as_='bar')\n",
        "    expected += f\"; {_expected_parser_output('baz', as_='qux')}\"\n",
        "    expected += f\"; {_expected_parser_output('spam')}\"\n",
        "    expected += f\"; {_expected_parser_output('ham')}\"\n",
        "    expected += f\"; {_expected_parser_output('eggs')}\"\n",
        "    assert _matches_expected_output(expected, _parse_line(line))"
      ],
      "execution_count": null,
      "outputs": []
    },
    {
      "cell_type": "code",
      "metadata": {
        "id": "wturHFrIr4fi"
      },
      "source": [
        "@test\n",
        "def test_parser_handles_backslash_onion():\n",
        "    \"\"\"again, onion info should be passed to smuggle function for FIRST package\"\"\"\n",
        "    line = \"\"\"smuggle foo as bar, \\\n",
        "                      baz as qux, \\\n",
        "                      spam, ham, \\\n",
        "                      eggs    # pip: foo==0.0.1\"\"\"\n",
        "    expected = _expected_parser_output('foo', as_='bar', args_str='foo==0.0.1')\n",
        "    expected += f\"; {_expected_parser_output('baz', as_='qux')}\"\n",
        "    expected += f\"; {_expected_parser_output('spam')}\"\n",
        "    expected += f\"; {_expected_parser_output('ham')}\"\n",
        "    expected += f\"; {_expected_parser_output('eggs')}\"\n",
        "    assert _matches_expected_output(expected, _parse_line(line))"
      ],
      "execution_count": null,
      "outputs": []
    },
    {
      "cell_type": "code",
      "metadata": {
        "id": "wSFAB-8AgKi6"
      },
      "source": [
        "@test\n",
        "def test_parser_handles_inconsistent_whitespace():\n",
        "    \"\"\"should handle weird amounts of whitespace that are *technically* valid\"\"\"\n",
        "    line = \"\"\"smuggle               foo     as    bar    \\\n",
        ",baz as qux  , \\\n",
        "          spam  .  ham    as    eggs                #   pip   :       foo==0.0.1    \"\"\"\n",
        "    expected = _expected_parser_output('foo', as_='bar', args_str='foo==0.0.1')\n",
        "    expected += f\"; {_expected_parser_output('baz', as_='qux')}\"\n",
        "    expected += f\"; {_expected_parser_output('spam.ham', as_='eggs')}\"\n",
        "    # real parser adds back leading & trailing characters (including whitespace)\n",
        "    expected += \"    \"\n",
        "    assert _matches_expected_output(expected, _parse_line(line))"
      ],
      "execution_count": null,
      "outputs": []
    },
    {
      "cell_type": "code",
      "metadata": {
        "id": "iiynLAjLgKnn"
      },
      "source": [
        "@test\n",
        "def test_parser_handles_smuggle_from():\n",
        "    \"\"\"second possible broad syntax class\"\"\"\n",
        "    line = \"from foo smuggle bar\"\n",
        "    expected = _expected_parser_output('foo.bar', as_='bar')\n",
        "    assert _matches_expected_output(expected, _parse_line(line))"
      ],
      "execution_count": null,
      "outputs": []
    },
    {
      "cell_type": "code",
      "metadata": {
        "id": "8mPAq2AXsnS9"
      },
      "source": [
        "@test\n",
        "def test_parser_handles_smuggle_from_onion():\n",
        "    \"\"\"second possible broad syntax class\"\"\"\n",
        "    line = \"from foo smuggle bar    # pip: foo==0.0.1\"\n",
        "    expected = _expected_parser_output('foo.bar', as_='bar', args_str='foo==0.0.1')\n",
        "    assert _matches_expected_output(expected, _parse_line(line))"
      ],
      "execution_count": null,
      "outputs": []
    },
    {
      "cell_type": "code",
      "metadata": {
        "id": "GGvdTMMgr3dp"
      },
      "source": [
        "@test\n",
        "def test_parser_handles_smuggle_from_multi():\n",
        "    line = \"from foo smuggle bar, baz as spam, qux\"\n",
        "    expected = _expected_parser_output('foo.bar', as_='bar')\n",
        "    expected += f\"; {_expected_parser_output('foo.baz', as_='spam')}\"\n",
        "    expected += f\"; {_expected_parser_output('foo.qux', as_='qux')}\"\n",
        "    assert _matches_expected_output(expected, _parse_line(line))"
      ],
      "execution_count": null,
      "outputs": []
    },
    {
      "cell_type": "code",
      "metadata": {
        "id": "EjOyycpCQFm-"
      },
      "source": [
        "@test\n",
        "def test_parser_handles_smuggle_from_multi_onion():\n",
        "    \"\"\"onion info should be passed to FIRST smuggle function\"\"\"\n",
        "    line = \"from foo smuggle bar, baz as spam, qux    # pip: foo==0.0.1\"\n",
        "    expected = _expected_parser_output('foo.bar', as_='bar', args_str='foo==0.0.1')\n",
        "    expected += f\"; {_expected_parser_output('foo.baz', as_='spam')}\"\n",
        "    expected += f\"; {_expected_parser_output('foo.qux', as_='qux')}\"\n",
        "    assert _matches_expected_output(expected, _parse_line(line))"
      ],
      "execution_count": null,
      "outputs": []
    },
    {
      "cell_type": "code",
      "metadata": {
        "id": "grUaxSdCtXKQ"
      },
      "source": [
        "@test\n",
        "def test_parser_handles_smuggle_from_backslash():\n",
        "    \"\"\"onion info should be passed to FIRST smuggle function\"\"\"\n",
        "    line = \"\"\"from foo smuggle bar, \\\n",
        "                               baz as spam, \\\n",
        "                               qux    # pip: foo==0.0.1\"\"\"\n",
        "    expected = _expected_parser_output('foo.bar', as_='bar', args_str='foo==0.0.1')\n",
        "    expected += f\"; {_expected_parser_output('foo.baz', as_='spam')}\"\n",
        "    expected += f\"; {_expected_parser_output('foo.qux', as_='qux')}\"\n",
        "    assert _matches_expected_output(expected, _parse_line(line))"
      ],
      "execution_count": null,
      "outputs": []
    },
    {
      "cell_type": "code",
      "metadata": {
        "id": "sCcYGt_AQFpb"
      },
      "source": [
        "@test\n",
        "def test_parser_handles_smuggle_from_parentheses():\n",
        "    line = \"\"\"from foo smuggle (bar, baz as spam, qux,)\"\"\"\n",
        "    # also tests trailing comma inside parentheses, which is valid\n",
        "    expected = _expected_parser_output('foo.bar', as_='bar')\n",
        "    expected += f\"; {_expected_parser_output('foo.baz', as_='spam')}\"\n",
        "    expected += f\"; {_expected_parser_output('foo.qux', as_='qux')}\"\n",
        "    assert _matches_expected_output(expected, _parse_line(line))"
      ],
      "execution_count": null,
      "outputs": []
    },
    {
      "cell_type": "code",
      "metadata": {
        "id": "gLCfWNofQFrb"
      },
      "source": [
        "@test\n",
        "def test_parser_handles_smuggle_from_parentheses_multiline_1():\n",
        "    line = \"\"\"from foo smuggle (bar, \n",
        "                                baz as spam, \n",
        "                                qux)\"\"\"\n",
        "    expected = _expected_parser_output('foo.bar', as_='bar')\n",
        "    expected += f\"; {_expected_parser_output('foo.baz', as_='spam')}\"\n",
        "    expected += f\"; {_expected_parser_output('foo.qux', as_='qux')}\"\n",
        "    assert _matches_expected_output(expected, _parse_line(line))"
      ],
      "execution_count": null,
      "outputs": []
    },
    {
      "cell_type": "code",
      "metadata": {
        "id": "f4RxjFx_vNyM"
      },
      "source": [
        "@test\n",
        "def test_parser_handles_smuggle_from_parentheses_multiline_1_onion_1():\n",
        "    line = \"\"\"from foo smuggle (bar,    # pip: foo==0.0.1\n",
        "                                baz as spam, \n",
        "                                qux)\"\"\"\n",
        "    expected = _expected_parser_output('foo.bar', as_='bar', args_str='foo==0.0.1')\n",
        "    expected += f\"; {_expected_parser_output('foo.baz', as_='spam')}\"\n",
        "    expected += f\"; {_expected_parser_output('foo.qux', as_='qux')}\"\n",
        "    assert _matches_expected_output(expected, _parse_line(line))"
      ],
      "execution_count": null,
      "outputs": []
    },
    {
      "cell_type": "code",
      "metadata": {
        "id": "wYlMwMwPvN7r"
      },
      "source": [
        "@test\n",
        "def test_parser_handles_smuggle_from_parentheses_multiline_1_onion_2():\n",
        "    line = \"\"\"from foo smuggle (bar, \n",
        "                                baz as spam, \n",
        "                                qux)    # pip: foo==0.0.1\"\"\"\n",
        "    expected = _expected_parser_output('foo.bar', as_='bar', args_str='foo==0.0.1')\n",
        "    expected += f\"; {_expected_parser_output('foo.baz', as_='spam')}\"\n",
        "    expected += f\"; {_expected_parser_output('foo.qux', as_='qux')}\"\n",
        "    assert _matches_expected_output(expected, _parse_line(line))"
      ],
      "execution_count": null,
      "outputs": []
    },
    {
      "cell_type": "code",
      "metadata": {
        "id": "pmrunSGUu6LA"
      },
      "source": [
        "@test\n",
        "def test_parser_handles_smuggle_from_parentheses_multiline_2():\n",
        "    line = \"\"\"from foo smuggle (\n",
        "                  bar, \n",
        "                  baz as spam, \n",
        "                  qux\n",
        "              )\"\"\"\n",
        "    expected = _expected_parser_output('foo.bar', as_='bar')\n",
        "    expected += f\"; {_expected_parser_output('foo.baz', as_='spam')}\"\n",
        "    expected += f\"; {_expected_parser_output('foo.qux', as_='qux')}\"\n",
        "    assert _matches_expected_output(expected, _parse_line(line))"
      ],
      "execution_count": null,
      "outputs": []
    },
    {
      "cell_type": "code",
      "metadata": {
        "id": "dHRTaLVevfBc"
      },
      "source": [
        "@test\n",
        "def test_parser_handles_smuggle_from_parentheses_multiline_2_onion_1():\n",
        "    line = \"\"\"from foo smuggle (    # pip: foo==0.0.1\n",
        "                  bar, \n",
        "                  baz as spam, \n",
        "                  qux\n",
        "              )\"\"\"\n",
        "    expected = _expected_parser_output('foo.bar', as_='bar', args_str='foo==0.0.1')\n",
        "    expected += f\"; {_expected_parser_output('foo.baz', as_='spam')}\"\n",
        "    expected += f\"; {_expected_parser_output('foo.qux', as_='qux')}\"\n",
        "    assert _matches_expected_output(expected, _parse_line(line))"
      ],
      "execution_count": null,
      "outputs": []
    },
    {
      "cell_type": "code",
      "metadata": {
        "id": "bwg_NQNrvfET"
      },
      "source": [
        "@test\n",
        "def test_parser_handles_smuggle_from_parentheses_multiline_2_onion_2():\n",
        "    line = \"\"\"from foo smuggle (\n",
        "                  bar, \n",
        "                  baz as spam, \n",
        "                  qux\n",
        "              )    # pip: foo==0.0.1\"\"\"\n",
        "    expected = _expected_parser_output('foo.bar', as_='bar', args_str='foo==0.0.1')\n",
        "    expected += f\"; {_expected_parser_output('foo.baz', as_='spam')}\"\n",
        "    expected += f\"; {_expected_parser_output('foo.qux', as_='qux')}\"\n",
        "    assert _matches_expected_output(expected, _parse_line(line))"
      ],
      "execution_count": null,
      "outputs": []
    },
    {
      "cell_type": "code",
      "metadata": {
        "id": "rYyjDKl6u6ND"
      },
      "source": [
        "@test\n",
        "def test_parser_handles_smuggle_from_parentheses_multiline_2_onion_2_comments():\n",
        "    line = \"\"\"from foo smuggle (    # unrelated comment on first line\n",
        "                  bar,    # unrelated comment on package name line\n",
        "                  baz as spam, \n",
        "                  # unrelated comment on its own line\n",
        "                  qux\n",
        "              )    # pip: foo==0.0.1    # unrelated comment after onion\"\"\"\n",
        "    expected = _expected_parser_output('foo.bar', as_='bar', args_str='foo==0.0.1')\n",
        "    expected += f\"; {_expected_parser_output('foo.baz', as_='spam')}\"\n",
        "    expected += f\"; {_expected_parser_output('foo.qux', as_='qux')}\"\n",
        "    expected += \"    # unrelated comment after onion\"\n",
        "    assert _matches_expected_output(expected, _parse_line(line))"
      ],
      "execution_count": null,
      "outputs": []
    },
    {
      "cell_type": "code",
      "metadata": {
        "id": "d7Jm83r9DJol"
      },
      "source": [
        "@test\n",
        "def test_parser_handles_smuggle_semicolons():\n",
        "    \"\"\"also combines multiple elements from prior tests\"\"\"\n",
        "    line = \"\"\"smuggle foo; smuggle bar as baz; \\\n",
        "              from spam smuggle eggs; \\\n",
        "              from qux smuggle quux as corge    # pip: qux-package==0.0.1\"\"\"\n",
        "    expected = _expected_parser_output('foo')\n",
        "    expected += f\"; {_expected_parser_output('bar', as_='baz')}\"\n",
        "    expected += f\"; {_expected_parser_output('spam.eggs', as_='eggs')}\"\n",
        "    expected += f\"; {_expected_parser_output('qux.quux', as_='corge', args_str='qux-package==0.0.1')}\"\n",
        "    assert _matches_expected_output(expected, _parse_line(line))"
      ],
      "execution_count": null,
      "outputs": []
    },
    {
      "cell_type": "markdown",
      "metadata": {
        "id": "zirSJGjJHV-V"
      },
      "source": [
        "### onion comment parser tests"
      ]
    },
    {
      "cell_type": "code",
      "metadata": {
        "id": "0XhK1r5ou6PI"
      },
      "source": [
        "@test\n",
        "def test_onion_parser_simple():\n",
        "    onion = '# pip: foo==0.0.1'\n",
        "    expected = _expected_onion_parser_output('foo==0.0.1')\n",
        "    assert _parse_onion(onion) == expected"
      ],
      "execution_count": null,
      "outputs": []
    },
    {
      "cell_type": "code",
      "metadata": {
        "id": "HVZceFWkRZA7"
      },
      "source": [
        "@test\n",
        "def test_onion_parser_whitespace():\n",
        "    onion = '#             pip:            foo==0.0.1'\n",
        "    expected = _expected_onion_parser_output('foo==0.0.1')\n",
        "    assert _parse_onion(onion) == expected"
      ],
      "execution_count": null,
      "outputs": []
    },
    {
      "cell_type": "code",
      "metadata": {
        "id": "d0IOshgRQvnk"
      },
      "source": [
        "@test\n",
        "def test_onion_parser_github():\n",
        "    onion = '# pip: git+https://github.com/foo/bar.git@branch-name#egg=foo&subdirectory=baz'\n",
        "    expected = _expected_onion_parser_output('git+https://github.com/foo/bar.git@branch-name#egg=foo&subdirectory=baz')\n",
        "    assert _parse_onion(onion) == expected"
      ],
      "execution_count": null,
      "outputs": []
    },
    {
      "cell_type": "code",
      "metadata": {
        "id": "M4gBOhCGu6Q1"
      },
      "source": [
        "@test\n",
        "def test_onion_parser_editable():\n",
        "    onion = '# pip: --editable git+https://github.com/foo/bar.git'\n",
        "    expected = _expected_onion_parser_output('--editable git+https://github.com/foo/bar.git', \n",
        "                                             editable=True, \n",
        "                                             spec='git+https://github.com/foo/bar.git')\n",
        "    assert _parse_onion(onion) == expected"
      ],
      "execution_count": null,
      "outputs": []
    },
    {
      "cell_type": "code",
      "metadata": {
        "id": "J8wQPpzzwXdc"
      },
      "source": [
        "@test\n",
        "def test_onion_parser_joined_short_args():\n",
        "    onion = '# pip: -Ive git+https://github.com/foo/bar.git'\n",
        "    expected = _expected_onion_parser_output('-Ive git+https://github.com/foo/bar.git', \n",
        "                                             editable=True, \n",
        "                                             ignore_installed=True, \n",
        "                                             verbosity=1,\n",
        "                                             spec='git+https://github.com/foo/bar.git')\n",
        "    assert _parse_onion(onion) == expected"
      ],
      "execution_count": null,
      "outputs": []
    },
    {
      "cell_type": "code",
      "metadata": {
        "id": "BM6uJdjyw7Ne"
      },
      "source": [
        "@test\n",
        "def test_onion_parser_fails_mutually_exclusive_args():\n",
        "    onion = '# pip: --use-pep517 --no-use-pep517 foo'\n",
        "    try:\n",
        "        _parse_onion(onion)    # SHOULD FAIL\n",
        "    except davos.core.exceptions.OnionArgumentError as e:\n",
        "        # has both 'msg' and 'message' attrs because it inherits from both \n",
        "        # SyntaxError and argparse.ArgumentError\n",
        "        assert e.msg == e.message == \"not allowed with argument --use-pep517\"\n",
        "        assert e.argument_name == \"--no-use-pep517\"\n",
        "        assert str(e) == \"argument --no-use-pep517: not allowed with argument --use-pep517\"\n",
        "    else:\n",
        "        raise DavosAssertionError(\"test should've raised 'davos.core.exceptions.OnionArgumentError'\")"
      ],
      "execution_count": null,
      "outputs": []
    },
    {
      "cell_type": "code",
      "metadata": {
        "id": "AUC0oBgORDgT"
      },
      "source": [
        "@test\n",
        "def test_onion_parser_fails_editable_after_spec():\n",
        "    onion = '# pip: git+https://github.com/foo/bar.git#egg=foo --editable'\n",
        "    try:\n",
        "        _parse_onion(onion)    # SHOULD FAIL\n",
        "    except davos.core.exceptions.OnionArgumentError as e:\n",
        "        # has both 'msg' and 'message' attrs because it inherits from both \n",
        "        # SyntaxError and argparse.ArgumentError\n",
        "        assert e.msg == e.message == \"expected one argument\"\n",
        "        assert e.argument_name == \"-e/--editable\"\n",
        "        assert str(e) == \"argument -e/--editable: expected one argument\"\n",
        "    else:\n",
        "        raise DavosAssertionError(\"test should've raised 'davos.core.exceptions.OnionArgumentError'\")"
      ],
      "execution_count": null,
      "outputs": []
    },
    {
      "cell_type": "code",
      "metadata": {
        "id": "CBWpL3xPqy62"
      },
      "source": [
        "@test\n",
        "def test_onion_parser_fails_arg_requires_value():\n",
        "    onion = '# pip: foo==0.0.1 --platform '\n",
        "    try:\n",
        "        _parse_onion(onion)    # SHOULD FAIL\n",
        "    except davos.core.exceptions.OnionArgumentError as e:\n",
        "        # has both 'msg' and 'message' attrs because it inherits from both \n",
        "        # SyntaxError and argparse.ArgumentError\n",
        "        assert e.msg == e.message == \"expected one argument\"\n",
        "        assert e.argument_name == \"--platform\"\n",
        "        assert str(e) == \"argument --platform: expected one argument\"\n",
        "    else:\n",
        "        raise DavosAssertionError(\"test should've raised 'davos.core.exceptions.OnionArgumentError'\")"
      ],
      "execution_count": null,
      "outputs": []
    },
    {
      "cell_type": "markdown",
      "metadata": {
        "id": "mobuRXLIzSYI"
      },
      "source": [
        "### miscellaneous tests"
      ]
    },
    {
      "cell_type": "code",
      "metadata": {
        "id": "Ik7dWA_eKxZ1"
      },
      "source": [
        "@test\n",
        "def test_does_not_register_multiple_transformers():\n",
        "    splitter_xforms = IPYTHON_SHELL.input_splitter.python_line_transforms\n",
        "    manager_xforms = IPYTHON_SHELL.input_transformer_manager.python_line_transforms\n",
        "    initial_n_splitter_xforms = len(splitter_xforms)\n",
        "    initial_n_manager_xforms = len(manager_xforms)\n",
        "    # record whether parser is active before running test to restore \n",
        "    # initial state afterward\n",
        "    start_active = davos.is_active()\n",
        "    if not start_active:\n",
        "        # ensure these are the number of registered transforms \n",
        "        # *including the davos parser*\n",
        "        initial_n_splitter_xforms += 1\n",
        "        initial_n_manager_xforms += 1\n",
        "\n",
        "    try:\n",
        "        for _ in range(5):\n",
        "            davos.activate()\n",
        "            assert len(splitter_xforms) == initial_n_splitter_xforms\n",
        "            assert len(manager_xforms) == initial_n_manager_xforms\n",
        "    finally:\n",
        "        if not start_active:\n",
        "            davos.deactivate()"
      ],
      "execution_count": null,
      "outputs": []
    },
    {
      "cell_type": "code",
      "metadata": {
        "id": "5MaNzcxkKIxW"
      },
      "source": [
        "@test\n",
        "def test_deactivate_reactivate():\n",
        "    start_active = davos.is_active()\n",
        "    try:\n",
        "        # start with the parser active\n",
        "        if not start_active:\n",
        "            davos.activate()\n",
        "        \n",
        "        assert davos.is_active()\n",
        "        davos.deactivate()\n",
        "        assert not davos.is_active()\n",
        "        davos.activate()\n",
        "        assert davos.is_active()\n",
        "    finally:\n",
        "        # return to state before function\n",
        "        if not start_active:\n",
        "            davos.deactivate()"
      ],
      "execution_count": null,
      "outputs": []
    },
    {
      "cell_type": "markdown",
      "metadata": {
        "id": "f6KNObdccm0Z"
      },
      "source": [
        "## Integration tests"
      ]
    },
    {
      "cell_type": "code",
      "metadata": {
        "id": "dAFOjVHdclYr"
      },
      "source": [
        "@test(timeout=30)\n",
        "def test_smuggle_pypi_new():\n",
        "    assert not _is_installed('ppca')\n",
        "    smuggle ppca    # pip: ppca>=0.0.4\n",
        "    assert isinstance(ppca, types.ModuleType)\n",
        "    assert hasattr(ppca, 'PPCA')"
      ],
      "execution_count": null,
      "outputs": []
    },
    {
      "cell_type": "code",
      "metadata": {
        "id": "xSmyvDGGez-g"
      },
      "source": [
        "@test(timeout=30)\n",
        "def test_smuggle_from_pypi_new():\n",
        "    assert not _is_installed('umap-learn')\n",
        "    from umap smuggle UMAP    # pip: umap-learn==0.4.6\n",
        "    assert hasattr(UMAP, 'fit')\n",
        "    assert _is_installed('umap-learn==0.4.6')"
      ],
      "execution_count": null,
      "outputs": []
    },
    {
      "cell_type": "code",
      "metadata": {
        "id": "VZcVIiqw2FNH"
      },
      "source": [
        "@test(timeout=30)\n",
        "def test_smuggle_previously_installed():\n",
        "    assert _is_installed('fastdtw==0.3.4')\n",
        "    smuggle fastdtw    # pip: fastdtw==0.3.2\n",
        "    assert _is_installed('fastdtw==0.3.2')"
      ],
      "execution_count": null,
      "outputs": []
    },
    {
      "cell_type": "code",
      "metadata": {
        "id": "3i_NEWou3GJd"
      },
      "source": [
        "@test(timeout=30)\n",
        "def test_smuggle_previously_imported():\n",
        "    import tqdm\n",
        "    assert tqdm.__version__ == '4.41.1'\n",
        "    smuggle tqdm    # pip: tqdm==4.45.0\n",
        "    assert tqdm.__version__ == '4.45.0'"
      ],
      "execution_count": null,
      "outputs": []
    },
    {
      "cell_type": "code",
      "metadata": {
        "id": "CAwx5l_V3hfu"
      },
      "source": [
        "@test(timeout=30)\n",
        "def test_smuggle_github_ref():\n",
        "    assert not _is_installed('hypertools')\n",
        "    smuggle hypertools as hyp    # pip: git+https://github.com/ContextLab/hypertools.git@36c12fd#egg=hypertools\n",
        "    assert isinstance(hyp, types.ModuleType)\n",
        "    assert hyp is sys.modules['hypertools']\n",
        "    assert hasattr(hyp, 'DataGeometry')\n",
        "    assert hyp.__version__ == '0.6.3'\n",
        "    assert _is_installed('hypertools==0.6.3')"
      ],
      "execution_count": null,
      "outputs": []
    },
    {
      "cell_type": "code",
      "metadata": {
        "id": "WjesOMYTzhap"
      },
      "source": [
        "@test(timeout=30)\n",
        "def test_smuggle_github_editable():\n",
        "    assert not _is_installed('quail')\n",
        "    smuggle quail    # pip: -e git+https://github.com/ContextLab/quail.git@v0.2.0#egg=quail --src /content/gh_clones\n",
        "    assert '/content/gh_clones/quail' in sys.path\n",
        "    assert isinstance(quail, types.ModuleType)\n",
        "    assert hasattr(quail, 'Egg')\n",
        "    assert _is_installed('quail==0.2.0')\n",
        "    assert Path('/content/gh_clones/quail').is_dir()"
      ],
      "execution_count": null,
      "outputs": []
    },
    {
      "cell_type": "code",
      "metadata": {
        "id": "4fzZ0fFL9bmF"
      },
      "source": [
        "@test(timeout=300)\n",
        "def test_smuggle_github_subdirectory():\n",
        "    assert not _is_installed('sherlock_helpers')\n",
        "    smuggle sherlock_helpers    # pip: git+https://github.com/ContextLab/sherlock-topic-model-paper.git@v1.0#subdirectory=code/sherlock_helpers\n",
        "    assert isinstance(sherlock_helpers, types.ModuleType)\n",
        "    assert hasattr(sherlock_helpers, 'github_url')\n",
        "    assert sherlock_helpers.__version__ == '0.0.1'\n",
        "    assert _is_installed('sherlock_helpers==0.0.1')"
      ],
      "execution_count": null,
      "outputs": []
    },
    {
      "cell_type": "markdown",
      "metadata": {
        "id": "SgQcCroC4gqI"
      },
      "source": [
        "# **Run main tests**"
      ]
    },
    {
      "cell_type": "code",
      "metadata": {
        "colab": {
          "base_uri": "https://localhost:8080/",
          "height": 1000
        },
        "id": "HW5I9hyX3Nv9",
        "outputId": "0ede4531-a2a5-4ea0-ab23-c15803ee8a1a"
      },
      "source": [
        "run_tests()"
      ],
      "execution_count": null,
      "outputs": [
        {
          "output_type": "stream",
          "text": [
            "1/50  test_run_shell_command_simple:                                                 passed\n",
            "2/50  test_run_shell_command_multiword:                                              passed\n",
            "3/50  test_run_shell_command_failure:                                                passed\n",
            "4/50  test_parser_ignores_line_no_smuggle:                                           passed\n",
            "5/50  test_parser_ignores_line_decoy_smuggle:                                        passed\n",
            "6/50  test_parser_ignores_commented_line:                                            passed\n",
            "7/50  test_parser_handles_basic_line:                                                passed\n",
            "8/50  test_parser_handles_basic_line_alias:                                          passed\n",
            "9/50  test_parser_handles_basic_line_onion:                                          passed\n",
            "10/50 test_parser_ignores_non_onion_comment:                                         passed\n",
            "11/50 test_parser_ignores_imposter_onion_comment:                                    passed\n",
            "12/50 test_parser_handles_smuggle_qualname:                                          passed\n",
            "13/50 test_parser_handles_indented_line:                                             passed\n",
            "14/50 test_parser_handles_different_install_name:                                    passed\n",
            "15/50 test_parser_handles_multiple_packages:                                         passed\n",
            "16/50 test_parser_handles_multiple_packages_onion:                                   passed\n",
            "17/50 test_parser_handles_backslash:                                                 passed\n",
            "18/50 test_parser_handles_backslash_onion:                                           passed\n",
            "19/50 test_parser_handles_inconsistent_whitespace:                                   passed\n",
            "20/50 test_parser_handles_smuggle_from:                                              passed\n",
            "21/50 test_parser_handles_smuggle_from_onion:                                        passed\n",
            "22/50 test_parser_handles_smuggle_from_multi:                                        passed\n",
            "23/50 test_parser_handles_smuggle_from_multi_onion:                                  passed\n",
            "24/50 test_parser_handles_smuggle_from_backslash:                                    passed\n",
            "25/50 test_parser_handles_smuggle_from_parentheses:                                  passed\n",
            "26/50 test_parser_handles_smuggle_from_parentheses_multiline_1:                      passed\n",
            "27/50 test_parser_handles_smuggle_from_parentheses_multiline_1_onion_1:              passed\n",
            "28/50 test_parser_handles_smuggle_from_parentheses_multiline_1_onion_2:              passed\n",
            "29/50 test_parser_handles_smuggle_from_parentheses_multiline_2:                      passed\n",
            "30/50 test_parser_handles_smuggle_from_parentheses_multiline_2_onion_1:              passed\n",
            "31/50 test_parser_handles_smuggle_from_parentheses_multiline_2_onion_2:              passed\n",
            "32/50 test_parser_handles_smuggle_from_parentheses_multiline_2_onion_2_comments:     passed\n",
            "33/50 test_parser_handles_smuggle_semicolons:                                        passed\n",
            "34/50 test_onion_parser_simple:                                                      passed\n",
            "35/50 test_onion_parser_whitespace:                                                  passed\n",
            "36/50 test_onion_parser_github:                                                      passed\n",
            "37/50 test_onion_parser_editable:                                                    passed\n",
            "38/50 test_onion_parser_joined_short_args:                                           passed\n",
            "39/50 test_onion_parser_fails_mutually_exclusive_args:                               passed\n",
            "40/50 test_onion_parser_fails_editable_after_spec:                                   passed\n",
            "41/50 test_onion_parser_fails_arg_requires_value:                                    passed\n",
            "42/50 test_does_not_register_multiple_transformers:                                  passed\n",
            "43/50 test_deactivate_reactivate:                                                    passed\n",
            "44/50 test_smuggle_pypi_new:                                                         passed\n",
            "45/50 test_smuggle_from_pypi_new:                                                    passed\n",
            "46/50 test_smuggle_previously_installed:                                             passed\n",
            "47/50 test_smuggle_previously_imported:                                              passed\n",
            "48/50 test_smuggle_github_ref:                                                       passed\n",
            "49/50 test_smuggle_github_editable:                                                  passed\n",
            "50/50 test_smuggle_github_subdirectory:                                              "
          ],
          "name": "stdout"
        },
        {
          "output_type": "display_data",
          "data": {
            "text/markdown": "Helper functions and variables used across multiple notebooks can be found in `/usr/local/lib/python3.7/dist-packages/sherlock_helpers`, or on GitHub, [here](https://github.com/ContextLab/sherlock-topic-model-paper/tree/master/code/sherlock_helpers).<br />You can also view source code directly from the notebook with:<br /><pre>    from sherlock_helpers.functions import show_source<br />    show_source(foo)</pre>",
            "text/plain": [
              "<IPython.core.display.Markdown object>"
            ]
          },
          "metadata": {
            "tags": []
          }
        },
        {
          "output_type": "stream",
          "text": [
            "passed\n",
            "\n",
            "\n",
            "\n",
            "All tests passed!\n"
          ],
          "name": "stdout"
        }
      ]
    },
    {
      "cell_type": "code",
      "metadata": {
        "colab": {
          "base_uri": "https://localhost:8080/",
          "height": 1000
        },
        "id": "hYNlo4T9himp",
        "outputId": "dd58396c-ae4b-4b74-da0b-d5599c2bbbb8"
      },
      "source": [
        "import html\n",
        "import traceback\n",
        "from string import ascii_lowercase\n",
        "\n",
        "import IPython\n",
        "from IPython.display import display_html\n",
        "\n",
        "\n",
        "def make_error(letter):\n",
        "    try:\n",
        "        print(letter + 1)\n",
        "    except TypeError as e:\n",
        "        try:\n",
        "            import asjdfkla\n",
        "        except ModuleNotFoundError as f:\n",
        "            try:\n",
        "                12 / 0\n",
        "            except ZeroDivisionError as g:\n",
        "                x = g\n",
        "    return x\n",
        "\n",
        "\n",
        "def make_traceback(err):\n",
        "    tb_formatter = IPython.core.ultratb.FormattedTB('Context', 'NoColor')\n",
        "    tb_struct = tb_formatter.structured_traceback(type(err), err, err.__traceback__)\n",
        "    tb_str = tb_formatter.stb2text(tb_struct)\n",
        "    return html.escape(tb_str)\n",
        "\n",
        "\n",
        "\n",
        "for i in ascii_lowercase:\n",
        "    if i in {'g', 'o', 'r', 'v'}:\n",
        "        err = make_error(i)\n",
        "        tb = make_traceback(err)\n",
        "        display_html(f\"<div id='test_{i}_result' style=\\\"white-space:pre\\\">{tb}</div>\", raw=True)\n",
        "    else:\n",
        "        display_html(f\"<div id='test_{i}_result'>my name is {i.upper()}</div>\", raw=True)"
      ],
      "execution_count": 3,
      "outputs": [
        {
          "output_type": "display_data",
          "data": {
            "text/html": [
              "<div id='test_a_result'>my name is A</div>"
            ]
          },
          "metadata": {
            "tags": []
          }
        },
        {
          "output_type": "display_data",
          "data": {
            "text/html": [
              "<div id='test_b_result'>my name is B</div>"
            ]
          },
          "metadata": {
            "tags": []
          }
        },
        {
          "output_type": "display_data",
          "data": {
            "text/html": [
              "<div id='test_c_result'>my name is C</div>"
            ]
          },
          "metadata": {
            "tags": []
          }
        },
        {
          "output_type": "display_data",
          "data": {
            "text/html": [
              "<div id='test_d_result'>my name is D</div>"
            ]
          },
          "metadata": {
            "tags": []
          }
        },
        {
          "output_type": "display_data",
          "data": {
            "text/html": [
              "<div id='test_e_result'>my name is E</div>"
            ]
          },
          "metadata": {
            "tags": []
          }
        },
        {
          "output_type": "display_data",
          "data": {
            "text/html": [
              "<div id='test_f_result'>my name is F</div>"
            ]
          },
          "metadata": {
            "tags": []
          }
        },
        {
          "output_type": "display_data",
          "data": {
            "text/html": [
              "<div id='test_g_result' style=\"white-space:pre\">---------------------------------------------------------------------------\n",
              "TypeError                                 Traceback (most recent call last)\n",
              "&lt;ipython-input-3-cdd9174c2c9a&gt; in make_error(letter)\n",
              "     10     try:\n",
              "---&gt; 11         print(letter + 1)\n",
              "     12     except TypeError as e:\n",
              "\n",
              "TypeError: can only concatenate str (not &quot;int&quot;) to str\n",
              "\n",
              "During handling of the above exception, another exception occurred:\n",
              "\n",
              "ModuleNotFoundError                       Traceback (most recent call last)\n",
              "&lt;ipython-input-3-cdd9174c2c9a&gt; in make_error(letter)\n",
              "     13         try:\n",
              "---&gt; 14             import asjdfkla\n",
              "     15         except ModuleNotFoundError as f:\n",
              "\n",
              "ModuleNotFoundError: No module named &#x27;asjdfkla&#x27;\n",
              "\n",
              "During handling of the above exception, another exception occurred:\n",
              "\n",
              "ZeroDivisionError                         Traceback (most recent call last)\n",
              "&lt;ipython-input-3-cdd9174c2c9a&gt; in make_error(letter)\n",
              "     15         except ModuleNotFoundError as f:\n",
              "     16             try:\n",
              "---&gt; 17                 12 / 0\n",
              "     18             except ZeroDivisionError as g:\n",
              "     19                 x = g\n",
              "\n",
              "ZeroDivisionError: division by zero</div>"
            ]
          },
          "metadata": {
            "tags": []
          }
        },
        {
          "output_type": "display_data",
          "data": {
            "text/html": [
              "<div id='test_h_result'>my name is H</div>"
            ]
          },
          "metadata": {
            "tags": []
          }
        },
        {
          "output_type": "display_data",
          "data": {
            "text/html": [
              "<div id='test_i_result'>my name is I</div>"
            ]
          },
          "metadata": {
            "tags": []
          }
        },
        {
          "output_type": "display_data",
          "data": {
            "text/html": [
              "<div id='test_j_result'>my name is J</div>"
            ]
          },
          "metadata": {
            "tags": []
          }
        },
        {
          "output_type": "display_data",
          "data": {
            "text/html": [
              "<div id='test_k_result'>my name is K</div>"
            ]
          },
          "metadata": {
            "tags": []
          }
        },
        {
          "output_type": "display_data",
          "data": {
            "text/html": [
              "<div id='test_l_result'>my name is L</div>"
            ]
          },
          "metadata": {
            "tags": []
          }
        },
        {
          "output_type": "display_data",
          "data": {
            "text/html": [
              "<div id='test_m_result'>my name is M</div>"
            ]
          },
          "metadata": {
            "tags": []
          }
        },
        {
          "output_type": "display_data",
          "data": {
            "text/html": [
              "<div id='test_n_result'>my name is N</div>"
            ]
          },
          "metadata": {
            "tags": []
          }
        },
        {
          "output_type": "display_data",
          "data": {
            "text/html": [
              "<div id='test_o_result' style=\"white-space:pre\">---------------------------------------------------------------------------\n",
              "TypeError                                 Traceback (most recent call last)\n",
              "&lt;ipython-input-3-cdd9174c2c9a&gt; in make_error(letter)\n",
              "     10     try:\n",
              "---&gt; 11         print(letter + 1)\n",
              "     12     except TypeError as e:\n",
              "\n",
              "TypeError: can only concatenate str (not &quot;int&quot;) to str\n",
              "\n",
              "During handling of the above exception, another exception occurred:\n",
              "\n",
              "ModuleNotFoundError                       Traceback (most recent call last)\n",
              "&lt;ipython-input-3-cdd9174c2c9a&gt; in make_error(letter)\n",
              "     13         try:\n",
              "---&gt; 14             import asjdfkla\n",
              "     15         except ModuleNotFoundError as f:\n",
              "\n",
              "ModuleNotFoundError: No module named &#x27;asjdfkla&#x27;\n",
              "\n",
              "During handling of the above exception, another exception occurred:\n",
              "\n",
              "ZeroDivisionError                         Traceback (most recent call last)\n",
              "&lt;ipython-input-3-cdd9174c2c9a&gt; in make_error(letter)\n",
              "     15         except ModuleNotFoundError as f:\n",
              "     16             try:\n",
              "---&gt; 17                 12 / 0\n",
              "     18             except ZeroDivisionError as g:\n",
              "     19                 x = g\n",
              "\n",
              "ZeroDivisionError: division by zero</div>"
            ]
          },
          "metadata": {
            "tags": []
          }
        },
        {
          "output_type": "display_data",
          "data": {
            "text/html": [
              "<div id='test_p_result'>my name is P</div>"
            ]
          },
          "metadata": {
            "tags": []
          }
        },
        {
          "output_type": "display_data",
          "data": {
            "text/html": [
              "<div id='test_q_result'>my name is Q</div>"
            ]
          },
          "metadata": {
            "tags": []
          }
        },
        {
          "output_type": "display_data",
          "data": {
            "text/html": [
              "<div id='test_r_result' style=\"white-space:pre\">---------------------------------------------------------------------------\n",
              "TypeError                                 Traceback (most recent call last)\n",
              "&lt;ipython-input-3-cdd9174c2c9a&gt; in make_error(letter)\n",
              "     10     try:\n",
              "---&gt; 11         print(letter + 1)\n",
              "     12     except TypeError as e:\n",
              "\n",
              "TypeError: can only concatenate str (not &quot;int&quot;) to str\n",
              "\n",
              "During handling of the above exception, another exception occurred:\n",
              "\n",
              "ModuleNotFoundError                       Traceback (most recent call last)\n",
              "&lt;ipython-input-3-cdd9174c2c9a&gt; in make_error(letter)\n",
              "     13         try:\n",
              "---&gt; 14             import asjdfkla\n",
              "     15         except ModuleNotFoundError as f:\n",
              "\n",
              "ModuleNotFoundError: No module named &#x27;asjdfkla&#x27;\n",
              "\n",
              "During handling of the above exception, another exception occurred:\n",
              "\n",
              "ZeroDivisionError                         Traceback (most recent call last)\n",
              "&lt;ipython-input-3-cdd9174c2c9a&gt; in make_error(letter)\n",
              "     15         except ModuleNotFoundError as f:\n",
              "     16             try:\n",
              "---&gt; 17                 12 / 0\n",
              "     18             except ZeroDivisionError as g:\n",
              "     19                 x = g\n",
              "\n",
              "ZeroDivisionError: division by zero</div>"
            ]
          },
          "metadata": {
            "tags": []
          }
        },
        {
          "output_type": "display_data",
          "data": {
            "text/html": [
              "<div id='test_s_result'>my name is S</div>"
            ]
          },
          "metadata": {
            "tags": []
          }
        },
        {
          "output_type": "display_data",
          "data": {
            "text/html": [
              "<div id='test_t_result'>my name is T</div>"
            ]
          },
          "metadata": {
            "tags": []
          }
        },
        {
          "output_type": "display_data",
          "data": {
            "text/html": [
              "<div id='test_u_result'>my name is U</div>"
            ]
          },
          "metadata": {
            "tags": []
          }
        },
        {
          "output_type": "display_data",
          "data": {
            "text/html": [
              "<div id='test_v_result' style=\"white-space:pre\">---------------------------------------------------------------------------\n",
              "TypeError                                 Traceback (most recent call last)\n",
              "&lt;ipython-input-3-cdd9174c2c9a&gt; in make_error(letter)\n",
              "     10     try:\n",
              "---&gt; 11         print(letter + 1)\n",
              "     12     except TypeError as e:\n",
              "\n",
              "TypeError: can only concatenate str (not &quot;int&quot;) to str\n",
              "\n",
              "During handling of the above exception, another exception occurred:\n",
              "\n",
              "ModuleNotFoundError                       Traceback (most recent call last)\n",
              "&lt;ipython-input-3-cdd9174c2c9a&gt; in make_error(letter)\n",
              "     13         try:\n",
              "---&gt; 14             import asjdfkla\n",
              "     15         except ModuleNotFoundError as f:\n",
              "\n",
              "ModuleNotFoundError: No module named &#x27;asjdfkla&#x27;\n",
              "\n",
              "During handling of the above exception, another exception occurred:\n",
              "\n",
              "ZeroDivisionError                         Traceback (most recent call last)\n",
              "&lt;ipython-input-3-cdd9174c2c9a&gt; in make_error(letter)\n",
              "     15         except ModuleNotFoundError as f:\n",
              "     16             try:\n",
              "---&gt; 17                 12 / 0\n",
              "     18             except ZeroDivisionError as g:\n",
              "     19                 x = g\n",
              "\n",
              "ZeroDivisionError: division by zero</div>"
            ]
          },
          "metadata": {
            "tags": []
          }
        },
        {
          "output_type": "display_data",
          "data": {
            "text/html": [
              "<div id='test_w_result'>my name is W</div>"
            ]
          },
          "metadata": {
            "tags": []
          }
        },
        {
          "output_type": "display_data",
          "data": {
            "text/html": [
              "<div id='test_x_result'>my name is X</div>"
            ]
          },
          "metadata": {
            "tags": []
          }
        },
        {
          "output_type": "display_data",
          "data": {
            "text/html": [
              "<div id='test_y_result'>my name is Y</div>"
            ]
          },
          "metadata": {
            "tags": []
          }
        },
        {
          "output_type": "display_data",
          "data": {
            "text/html": [
              "<div id='test_z_result'>my name is Z</div>"
            ]
          },
          "metadata": {
            "tags": []
          }
        }
      ]
    },
    {
      "cell_type": "code",
      "metadata": {
        "id": "8Q3yd9aAiO8l"
      },
      "source": [
        ""
      ],
      "execution_count": null,
      "outputs": []
    }
  ]
}