{
 "cells": [
  {
   "cell_type": "code",
   "execution_count": null,
   "metadata": {
    "ExecuteTime": {
     "end_time": "2021-07-06T01:39:18.077407Z",
     "start_time": "2021-07-06T01:39:18.069414Z"
    }
   },
   "outputs": [],
   "source": [
    "GITHUB_USERNAME = \"$GITHUB_USERNAME$\"\n",
    "GITHUB_REF = \"$GITHUB_REF$\"\n",
    "NOTEBOOK_TYPE = \"$NOTEBOOK_TYPE$\"\n",
    "PYTHON_VERSION = \"$PYTHON_VERSION$\"\n",
    "IPYTHON_VERSION = \"$IPYTHON_VERSION$\""
   ]
  },
  {
   "cell_type": "code",
   "execution_count": null,
   "metadata": {
    "ExecuteTime": {
     "end_time": "2021-07-06T01:42:49.171770Z",
     "start_time": "2021-07-06T01:42:49.036805Z"
    }
   },
   "outputs": [],
   "source": [
    "import warnings\n",
    "from pathlib import Path\n",
    "\n",
    "import requests\n",
    "\n",
    "\n",
    "warnings.filterwarnings('error', module='davos')\n",
    "\n",
    "if NOTEBOOK_TYPE == 'colab':\n",
    "    # utils module doesn't exist on colab VM, so get current version from GitHub\n",
    "    utils_module = Path('utils.py').resolve()\n",
    "    response = requests.get(f'https://raw.githubusercontent.com/{GITHUB_USERNAME}/davos/{GITHUB_REF}/tests/utils.py')\n",
    "    utils_module.write_text(response.text)\n",
    "    # also need to install davos locally\n",
    "    from utils import install_davos\n",
    "    install_davos(source='github', ref=GITHUB_REF, fork=GITHUB_USERNAME)"
   ]
  },
  {
   "cell_type": "code",
   "execution_count": null,
   "metadata": {
    "ExecuteTime": {
     "end_time": "2021-07-06T02:12:59.681734Z",
     "start_time": "2021-07-06T02:12:59.679070Z"
    }
   },
   "outputs": [],
   "source": [
    "import inspect\n",
    "import json\n",
    "import subprocess\n",
    "import sys\n",
    "\n",
    "if sys.version_info < (3, 8):\n",
    "    import importlib_metadata as metadata\n",
    "else:\n",
    "    from importlib import metadata\n",
    "\n",
    "import davos\n",
    "import IPython\n",
    "from packaging.specifiers import SpecifierSet\n",
    "\n",
    "from utils import (\n",
    "    is_imported, \n",
    "    is_installed, \n",
    "    mark, \n",
    "    raises, \n",
    "    run_tests, \n",
    "    TestingEnvironmentError\n",
    ")"
   ]
  },
  {
   "cell_type": "code",
   "execution_count": null,
   "metadata": {},
   "outputs": [],
   "source": [
    "IPYTHON_SHELL = get_ipython()"
   ]
  },
  {
   "cell_type": "markdown",
   "metadata": {},
   "source": [
    "# tests for general testing environment & package initialization\n",
    "tests GitHub runner itself, as well as contents of `__init__.py` & `implementations.__init__.py`"
   ]
  },
  {
   "cell_type": "code",
   "execution_count": null,
   "metadata": {
    "ExecuteTime": {
     "end_time": "2021-07-06T03:20:05.668719Z",
     "start_time": "2021-07-06T03:20:05.666297Z"
    }
   },
   "outputs": [],
   "source": [
    "def test_import_davos():\n",
    "    global davos\n",
    "    import davos\n",
    "    assert is_imported('davos')"
   ]
  },
  {
   "cell_type": "code",
   "execution_count": null,
   "metadata": {},
   "outputs": [],
   "source": [
    "def test_expected_python_version():\n",
    "    installed_version = '.'.join(map(str, sys.version_info[:2]))\n",
    "    expected_version = PYTHON_VERSION\n",
    "    if installed_version != expected_version:\n",
    "        raise TestingEnvironmentError(\n",
    "            f\"Test environment has Python {sys.version.split()[0]}, expected \"\n",
    "            \"{PYTHON_VERSION}\"\n",
    "        )"
   ]
  },
  {
   "cell_type": "code",
   "execution_count": null,
   "metadata": {},
   "outputs": [],
   "source": [
    "@mark.jupyter\n",
    "def test_notebook_using_kernel_python():\n",
    "    if not sys.executable.endswith('envs/kernel-env/bin/python'):\n",
    "        raise TestingEnvironmentError(\n",
    "            \"Notebook does not appear to be using the correct python \"\n",
    "            \"executable. Expected a path ending in \"\n",
    "            f\"'envs/kernel-env/bin/python', found {sys.executable}\"\n",
    "        )"
   ]
  },
  {
   "cell_type": "code",
   "execution_count": null,
   "metadata": {},
   "outputs": [],
   "source": [
    "@mark.skipif(IPYTHON_VERSION == 'latest', reason=\"runs when IPYTHON_VERSION != 'latest'\")\n",
    "def test_expected_ipython_version():\n",
    "    ipy_version = metadata.version('IPython')\n",
    "    if ipy_version not in SpecifierSet(f'=={IPYTHON_VERSION}'):\n",
    "        raise TestingEnvironmentError(\n",
    "            f\"Test environment has IPython=={IPython.__version__}, expected \"\n",
    "            f\"{IPYTHON_VERSION}\"\n",
    "        )"
   ]
  },
  {
   "cell_type": "code",
   "execution_count": null,
   "metadata": {},
   "outputs": [],
   "source": [
    "@mark.skipif(IPYTHON_VERSION != 'latest', reason=\"runs when IPYTHON_VERSION == 'latest'\")\n",
    "def test_latest_ipython_version():\n",
    "    pip_exe = davos.config.pip_executable\n",
    "    outdated_pkgs = subprocess.check_output(\n",
    "            [pip_exe, 'list', '--outdated', '--format', 'json'], encoding='utf-8'\n",
    "        )\n",
    "    outdated_pkgs_json = json.loads(outdated_pkgs)\n",
    "    for pkg in outdated_pkgs_json:\n",
    "        if pkg['name'] == 'ipython':\n",
    "            raise TestingEnvironmentError(\n",
    "                f\"Test environment has IPython=={pkg['version']}, expected \"\n",
    "                f\"latest version (IPython=={pkg['latest_version']})\"\n",
    "            )"
   ]
  },
  {
   "cell_type": "code",
   "execution_count": null,
   "metadata": {},
   "outputs": [],
   "source": [
    "def test_scipy_installed():\n",
    "    \"\"\"used as an example package for some tests\"\"\"\n",
    "    assert is_installed('scipy')"
   ]
  },
  {
   "cell_type": "code",
   "execution_count": null,
   "metadata": {},
   "outputs": [],
   "source": [
    "def test_fastdtw_installed():\n",
    "    \"\"\"used as an example package for some tests\"\"\"\n",
    "    assert is_installed('fastdtw==0.3.4')"
   ]
  },
  {
   "cell_type": "code",
   "execution_count": null,
   "metadata": {},
   "outputs": [],
   "source": [
    "def test_tqdm_installed():\n",
    "    \"\"\"used as an example package for some tests\"\"\"\n",
    "    assert is_installed('tqdm')\n",
    "    import tqdm\n",
    "    assert tqdm.__version__ != '==4.45.0'"
   ]
  },
  {
   "cell_type": "code",
   "execution_count": null,
   "metadata": {},
   "outputs": [],
   "source": [
    "def test_smuggle_in_namespace():\n",
    "    assert 'smuggle' in globals()\n",
    "    assert 'smuggle' in IPYTHON_SHELL.user_ns\n",
    "    assert globals()['smuggle'] is IPYTHON_SHELL.user_ns['smuggle']"
   ]
  },
  {
   "cell_type": "code",
   "execution_count": null,
   "metadata": {},
   "outputs": [],
   "source": [
    "def test_activated_on_import():\n",
    "    assert davos.config.active is True"
   ]
  },
  {
   "cell_type": "code",
   "execution_count": null,
   "metadata": {},
   "outputs": [],
   "source": [
    "def test_deactivate_reactivate_toplevel():\n",
    "    assert davos.active is True\n",
    "    \n",
    "    davos.active = False\n",
    "    assert not davos.active \n",
    "    \n",
    "    with raises(NameError, match=\"name 'smuggle' is not defined\"):\n",
    "        smuggle ast\n",
    "        \n",
    "    davos.active = True\n",
    "    assert davos.active"
   ]
  },
  {
   "cell_type": "code",
   "execution_count": null,
   "metadata": {},
   "outputs": [],
   "source": [
    "def test_config_properties_accessible_toplevel():\n",
    "    \"\"\"\n",
    "    test that davos.config fields are accesible from the top-level davos \n",
    "    namespace\n",
    "    \"\"\"\n",
    "    config_fields = ['active', 'auto_rerun', 'confirm_install', \n",
    "                     'noninteractive', 'pip_executable', 'project', \n",
    "                     'suppress_stdout', 'environment', 'ipython_shell', \n",
    "                     'smuggled']\n",
    "    failed = []\n",
    "    for field in config_fields:\n",
    "        # values should not only be equal, they should be references to \n",
    "        # the *same object*\n",
    "        if getattr(davos, field) is not getattr(davos.config, field):\n",
    "            failed.append(field)\n",
    "    \n",
    "    assert not failed, (\n",
    "        \"The following fields were not the same when accessed via \"\n",
    "        f\"davos.config and the top-level davos module: {', '.join(failed)}\"\n",
    "    )"
   ]
  },
  {
   "cell_type": "code",
   "execution_count": null,
   "metadata": {},
   "outputs": [],
   "source": [
    "def test_set_new_attrs_toplevel_only():\n",
    "    \"\"\"\n",
    "    Setting an attribute on the top-level davos module that is *not* \n",
    "    already defined by davos.config should affect only the top-level \n",
    "    module.\n",
    "    \"\"\"\n",
    "    assert not hasattr(davos, 'undefined_attr')\n",
    "    \n",
    "    davos.undefined_attr = 'test-value'\n",
    "    assert hasattr(davos, 'undefined_attr')\n",
    "    assert davos.undefined_attr == 'test-value'\n",
    "    assert not hasattr(davos.config, 'undefined_attr')\n",
    "    \n",
    "    del davos.undefined_attr"
   ]
  },
  {
   "cell_type": "code",
   "execution_count": null,
   "metadata": {},
   "outputs": [],
   "source": [
    "def test_all_configurable_fields_settable_via_configure():\n",
    "    all_properties = []\n",
    "    for name, val in davos.core.config.DavosConfig.__dict__.items():\n",
    "        if isinstance(val, property):\n",
    "            all_properties.append(name)\n",
    "    read_only_fields = {'environment', 'ipython_shell', 'smuggled'}\n",
    "    not_implemented_fields = {'conda_avail', 'conda_env', 'conda_envs_dirs'}\n",
    "    configurable_fields = (set(all_properties) \n",
    "                           - read_only_fields \n",
    "                           - not_implemented_fields)\n",
    "    configure_func_kwargs = set(inspect.signature(davos.configure).parameters)\n",
    "    assert not configurable_fields.symmetric_difference(\n",
    "        configure_func_kwargs\n",
    "    ), (\n",
    "        f\"configurable fields: {configurable_fields}\\ndavos.configure kwargs: \"\n",
    "        f\"{configure_func_kwargs}\"\n",
    "    )"
   ]
  },
  {
   "cell_type": "code",
   "execution_count": null,
   "metadata": {},
   "outputs": [],
   "source": [
    "def test_confirm_install_noninteractive_true_fails():\n",
    "    \"\"\"\n",
    "    davos.configure function should disallow passing both \n",
    "    `confirm_install=True` and `noninteractive=True`.\n",
    "    \"\"\"\n",
    "    with raises(davos.core.exceptions.DavosConfigError):\n",
    "        davos.configure(confirm_install=True, noninteractive=True)"
   ]
  },
  {
   "cell_type": "code",
   "execution_count": null,
   "metadata": {},
   "outputs": [],
   "source": [
    "def test_swap_confirm_install_noninteractive_succeeds():\n",
    "    \"\"\"\n",
    "    Simultaneously disabling non-interactive mode and enabling the \n",
    "    confirm_install option should succeed. i.e., when \n",
    "    `davos.noninteractive` is initially `True` and both \n",
    "    `noninteractive=False` and `confirm_install=True` are passed, \n",
    "    `config.noninteractive` should be set to `False` before\n",
    "    `config.confirm_install` is set to `True` to ensure both are not \n",
    "    `True` at the same time.\n",
    "    \"\"\"\n",
    "    # record initial values to restore later\n",
    "    initial_confirm_install_value = davos.confirm_install\n",
    "    initial_noninteractive_value = davos.noninteractive\n",
    "    \n",
    "    try:\n",
    "        # set up initial conditions\n",
    "        davos.confirm_install = False\n",
    "        davos.noninteractive = True\n",
    "        \n",
    "        davos.configure(confirm_install=True, noninteractive=False)\n",
    "        \n",
    "        # now reset initial conditions and test passing the arguments \n",
    "        # in the opposite order\n",
    "        davos.confirm_install = False\n",
    "        davos.noninteractive = True\n",
    "        \n",
    "        davos.configure(noninteractive=False, confirm_install=True)\n",
    "    finally:\n",
    "        davos.config._confirm_install = initial_confirm_install_value\n",
    "        davos.config._noninteractive = initial_noninteractive_value"
   ]
  },
  {
   "cell_type": "code",
   "execution_count": null,
   "metadata": {},
   "outputs": [],
   "source": [
    "def test_configure_resets_fields_on_fail():\n",
    "    active_before = davos.config.active\n",
    "    confirm_install_before = davos.config.confirm_install\n",
    "    with raises(davos.core.exceptions.DavosConfigError):\n",
    "        davos.configure(\n",
    "            active=False, \n",
    "            confirm_install=True, \n",
    "            suppress_stdout='BAD VALUE'\n",
    "        )\n",
    "    assert davos.config.active is active_before\n",
    "    assert davos.config.confirm_install is confirm_install_before"
   ]
  },
  {
   "cell_type": "code",
   "execution_count": null,
   "metadata": {},
   "outputs": [],
   "source": [
    "run_tests()"
   ]
  }
 ],
 "metadata": {
  "kernelspec": {
   "display_name": "kernel-env",
   "language": "python",
   "name": "kernel-env"
  },
  "language_info": {
   "codemirror_mode": {
    "name": "ipython",
    "version": 3
   },
   "file_extension": ".py",
   "mimetype": "text/x-python",
   "name": "python",
   "nbconvert_exporter": "python",
   "pygments_lexer": "ipython3",
   "version": "3.9.16"
  }
 },
 "nbformat": 4,
 "nbformat_minor": 2
}
