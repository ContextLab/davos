{
 "cells": [
  {
   "cell_type": "code",
   "execution_count": null,
   "metadata": {
    "ExecuteTime": {
     "end_time": "2021-08-11T00:13:30.082844Z",
     "start_time": "2021-08-11T00:13:30.077723Z"
    }
   },
   "outputs": [],
   "source": [
    "GITHUB_USERNAME = \"$GITHUB_USERNAME$\"\n",
    "GITHUB_REF = \"$GITHUB_REF$\"\n",
    "NOTEBOOK_TYPE = \"$NOTEBOOK_TYPE$\"\n",
    "PYTHON_VERSION = \"$PYTHON_VERSION$\"\n",
    "IPYTHON_VERSION = \"$IPYTHON_VERSION$\""
   ]
  },
  {
   "cell_type": "code",
   "execution_count": null,
   "metadata": {
    "ExecuteTime": {
     "end_time": "2021-08-11T00:13:30.212793Z",
     "start_time": "2021-08-11T00:13:30.085108Z"
    }
   },
   "outputs": [],
   "source": [
    "from pathlib import Path\n",
    "\n",
    "import requests\n",
    "\n",
    "\n",
    "if NOTEBOOK_TYPE == 'colab':\n",
    "    # utils module doesn't exist on colab VM, so get current version from GitHub\n",
    "    utils_module = Path('utils.py').resolve()\n",
    "    response = requests.get(f'https://raw.githubusercontent.com/{GITHUB_USERNAME}/davos/{GITHUB_REF}/tests/utils.py')\n",
    "    utils_module.write_text(response.text)\n",
    "    # also need to install davos locally\n",
    "    from utils import install_davos\n",
    "    install_davos(source='github', ref=GITHUB_REF, fork=GITHUB_USERNAME)"
   ]
  },
  {
   "cell_type": "code",
   "execution_count": null,
   "metadata": {
    "ExecuteTime": {
     "end_time": "2021-08-11T00:13:30.260376Z",
     "start_time": "2021-08-11T00:13:30.214789Z"
    }
   },
   "outputs": [],
   "source": [
    "import davos\n",
    "from IPython.core.inputtransformer import StatelessInputTransformer\n",
    "\n",
    "from utils import DavosAssertionError, raises, run_tests"
   ]
  },
  {
   "cell_type": "code",
   "execution_count": null,
   "metadata": {
    "ExecuteTime": {
     "end_time": "2021-08-11T00:13:30.264441Z",
     "start_time": "2021-08-11T00:13:30.262078Z"
    }
   },
   "outputs": [],
   "source": [
    "IPYTHON_SHELL = get_ipython()"
   ]
  },
  {
   "cell_type": "markdown",
   "metadata": {
    "ExecuteTime": {
     "end_time": "2021-08-10T22:51:02.750783Z",
     "start_time": "2021-08-10T22:51:02.746706Z"
    }
   },
   "source": [
    "# tests for `davos.implementations.ipython_pre7`\n",
    "**Note**: this test notebook is only run for jobs where `IPython<7.0`"
   ]
  },
  {
   "cell_type": "code",
   "execution_count": null,
   "metadata": {
    "ExecuteTime": {
     "end_time": "2021-08-11T00:13:30.272753Z",
     "start_time": "2021-08-11T00:13:30.266835Z"
    }
   },
   "outputs": [],
   "source": [
    "def test_ipython_pre7_imports():\n",
    "    \"\"\"\n",
    "    check that functions that should've been imported from the \n",
    "    ipython_pre7 module came from the right place\n",
    "    \"\"\"\n",
    "    ipy_pre7_funcs = (\n",
    "        '_activate_helper', \n",
    "        '_deactivate_helper',\n",
    "        'generate_parser_func'\n",
    "    )\n",
    "    for func_name in ipy_pre7_funcs:\n",
    "        func_obj = getattr(davos.implementations, func_name)\n",
    "        func_module = getattr(func_obj, '__module__')\n",
    "        assert func_module == 'davos.implementations.ipython_pre7', (\n",
    "            f\"davos.implementations.{func_name} is {func_module}.{func_name}. \"\n",
    "            f\"Expected davos.implementations.ipython_pre7.{func_name}\"\n",
    "        )"
   ]
  },
  {
   "cell_type": "code",
   "execution_count": null,
   "metadata": {
    "ExecuteTime": {
     "end_time": "2021-08-11T00:13:30.284719Z",
     "start_time": "2021-08-11T00:13:30.275168Z"
    }
   },
   "outputs": [],
   "source": [
    "def test_activate_helper_registers_parser():\n",
    "    \"\"\"\n",
    "    check that the `davos` parser was wrapped in a \n",
    "    `StatelessInputTransformer` instance and added to the\n",
    "    `python_line_transforms` lists of both the `input_splitter` and \n",
    "    `input_transformer_manager` instances when `davos` was imported \n",
    "    above\n",
    "    \"\"\"\n",
    "    davos_parser = davos.implementations.full_parser\n",
    "    splitter_xforms = IPYTHON_SHELL.input_splitter.python_line_transforms\n",
    "    manager_xforms = IPYTHON_SHELL.input_transformer_manager.python_line_transforms\n",
    "    \n",
    "    for xform in splitter_xforms:\n",
    "        if xform.func is davos_parser:\n",
    "            assert isinstance(xform, StatelessInputTransformer), type(xform)\n",
    "            break\n",
    "    else:\n",
    "        raise DavosAssertionError(\n",
    "            f\"{davos_parser} (as StatelessInputTransformer) not in \"\n",
    "            f\"input_splitter list: {splitter_xforms}\"\n",
    "        )\n",
    "    \n",
    "    for xform in manager_xforms:\n",
    "        if xform.func is davos_parser:\n",
    "            assert isinstance(xform, StatelessInputTransformer), type(xform)\n",
    "            break\n",
    "    else:\n",
    "        raise DavosAssertionError(\n",
    "            f\"{davos_parser} (as StatelessInputTransformer) not in \"\n",
    "            f\"input_transformer_manager list: {manager_xforms}\"\n",
    "        )"
   ]
  },
  {
   "cell_type": "code",
   "execution_count": null,
   "metadata": {
    "ExecuteTime": {
     "end_time": "2021-08-11T00:13:30.297551Z",
     "start_time": "2021-08-11T00:13:30.287374Z"
    }
   },
   "outputs": [],
   "source": [
    "def test_activate_helper_registers_parser_once():\n",
    "    \"\"\"\n",
    "    `_activate_helper` should not register multiple instances of the \n",
    "    `davos` parser if called multiple times (without deactivating)\n",
    "    \"\"\"\n",
    "    smuggle_func = davos.core.core.smuggle\n",
    "    davos_parser = davos.implementations.full_parser\n",
    "    splitter_xforms = IPYTHON_SHELL.input_splitter.python_line_transforms\n",
    "    manager_xforms = IPYTHON_SHELL.input_transformer_manager.python_line_transforms\n",
    "    \n",
    "    def count_davos_parsers(xforms_list):\n",
    "        n = 0\n",
    "        for xform in xforms_list:\n",
    "            if xform.func == davos_parser:\n",
    "                n += 1\n",
    "        return n\n",
    "    \n",
    "    assert count_davos_parsers(splitter_xforms) == 1\n",
    "    assert count_davos_parsers(manager_xforms) == 1\n",
    "    \n",
    "    for _ in range(5):\n",
    "        davos.implementations.ipython_pre7._activate_helper(smuggle_func, \n",
    "                                                            davos_parser)\n",
    "    \n",
    "    assert count_davos_parsers(splitter_xforms) == 1\n",
    "    assert count_davos_parsers(manager_xforms) == 1"
   ]
  },
  {
   "cell_type": "code",
   "execution_count": null,
   "metadata": {
    "ExecuteTime": {
     "end_time": "2021-08-11T00:13:30.306084Z",
     "start_time": "2021-08-11T00:13:30.299573Z"
    }
   },
   "outputs": [],
   "source": [
    "def test_activate_helper_adds_smuggle():\n",
    "    \"\"\"\n",
    "    `_activate_helper` should inject the `smuggle_func` it is passed \n",
    "    into the IPython user namespace as `\"smuggle\"`\n",
    "    \"\"\"    \n",
    "    real_smuggle_func = davos.core.core.smuggle\n",
    "    davos_parser = davos.implementations.full_parser\n",
    "    \n",
    "    def _fake_smuggle_func():\n",
    "        pass\n",
    "    \n",
    "    assert smuggle is IPYTHON_SHELL.user_ns['smuggle'] is real_smuggle_func\n",
    "    \n",
    "    try:\n",
    "        davos.implementations.ipython_pre7._activate_helper(_fake_smuggle_func, \n",
    "                                                            davos_parser)\n",
    "        assert smuggle is IPYTHON_SHELL.user_ns['smuggle'] is _fake_smuggle_func\n",
    "    finally:\n",
    "        # regardless of test outcome, make sure original value of \n",
    "        # \"smuggle\" is restored\n",
    "        IPYTHON_SHELL.user_ns['smuggle'] = real_smuggle_func"
   ]
  },
  {
   "cell_type": "code",
   "execution_count": null,
   "metadata": {
    "ExecuteTime": {
     "end_time": "2021-08-11T00:13:30.325071Z",
     "start_time": "2021-08-11T00:13:30.308764Z"
    }
   },
   "outputs": [],
   "source": [
    "def test_deactivate_helper_removes_parser():\n",
    "    \"\"\"\n",
    "    `_deactivate_helper` should remove the `StatelessInputTransformer` \n",
    "    whose `.func` is the `davos` parser from both `input_splitter` and \n",
    "    `input_transformer_manager`\n",
    "    \"\"\"\n",
    "    smuggle_func = davos.core.core.smuggle\n",
    "    davos_parser = davos.implementations.full_parser\n",
    "    # references\n",
    "    splitter_xforms = IPYTHON_SHELL.input_splitter.python_line_transforms\n",
    "    manager_xforms = IPYTHON_SHELL.input_transformer_manager.python_line_transforms\n",
    "    # copies\n",
    "    old_splitters_list = IPYTHON_SHELL.input_splitter.python_line_transforms[:]\n",
    "    old_managers_list = IPYTHON_SHELL.input_transformer_manager.python_line_transforms[:]\n",
    "    \n",
    "    def count_davos_parsers(xforms_list):\n",
    "        n = 0\n",
    "        for xform in xforms_list:\n",
    "            if xform.func == davos_parser:\n",
    "                n += 1\n",
    "        return n\n",
    "    \n",
    "    assert count_davos_parsers(splitter_xforms) == 1\n",
    "    assert count_davos_parsers(manager_xforms) == 1\n",
    "        \n",
    "    try:\n",
    "        davos.implementations.ipython_pre7._deactivate_helper(smuggle_func, \n",
    "                                                              davos_parser)\n",
    "\n",
    "        assert count_davos_parsers(splitter_xforms) == 0, splitter_xforms\n",
    "        assert count_davos_parsers(manager_xforms) == 0, manager_xforms\n",
    "    finally:\n",
    "        # regardless of test outcome, make sure both original \n",
    "        # transformer lists and value of \"smuggle\" are restored\n",
    "        IPYTHON_SHELL.input_splitter.python_line_transforms = old_splitters_list\n",
    "        IPYTHON_SHELL.input_transformer_manager.python_line_transforms = old_managers_list\n",
    "        IPYTHON_SHELL.user_ns['smuggle'] = smuggle_func"
   ]
  },
  {
   "cell_type": "code",
   "execution_count": null,
   "metadata": {
    "ExecuteTime": {
     "end_time": "2021-08-11T00:13:30.336340Z",
     "start_time": "2021-08-11T00:13:30.327499Z"
    }
   },
   "outputs": [],
   "source": [
    "def test_deactivate_helper_deletes_smuggle():\n",
    "    \"\"\"\n",
    "    `_deactivate_helper` should remove `\"smuggle\"` from the IPython user \n",
    "    namespace if it refers to `davos.core.core.smuggle`\n",
    "    \"\"\"\n",
    "    smuggle_func = davos.core.core.smuggle\n",
    "    davos_parser = davos.implementations.full_parser\n",
    "    old_splitters_list = IPYTHON_SHELL.input_splitter.python_line_transforms[:]\n",
    "    old_managers_list = IPYTHON_SHELL.input_transformer_manager.python_line_transforms[:]\n",
    "    \n",
    "    assert smuggle is IPYTHON_SHELL.user_ns['smuggle'] is smuggle_func\n",
    "    \n",
    "    try:\n",
    "        davos.implementations.ipython_pre7._deactivate_helper(smuggle_func, \n",
    "                                                              davos_parser)\n",
    "        assert 'smuggle' not in IPYTHON_SHELL.user_ns\n",
    "        with raises(NameError):\n",
    "            smuggle os\n",
    "\n",
    "    finally:\n",
    "        IPYTHON_SHELL.user_ns['smuggle'] = smuggle_func\n",
    "        IPYTHON_SHELL.input_splitter.python_line_transforms = old_splitters_list\n",
    "        IPYTHON_SHELL.input_transformer_manager.python_line_transforms = old_managers_list"
   ]
  },
  {
   "cell_type": "code",
   "execution_count": null,
   "metadata": {
    "ExecuteTime": {
     "end_time": "2021-08-11T00:13:30.347342Z",
     "start_time": "2021-08-11T00:13:30.338748Z"
    }
   },
   "outputs": [],
   "source": [
    "def test_deactivate_helper_leaves_smuggle():\n",
    "    \"\"\"\n",
    "    running `_deactivate_helper` should *not* delete `\"smuggle\"` from \n",
    "    the IPython user namespace if it refers to something other than \n",
    "    `davos.core.core.smuggle`\n",
    "    \"\"\"\n",
    "    global smuggle\n",
    "    \n",
    "    smuggle_func = davos.core.core.smuggle\n",
    "    davos_parser = davos.implementations.full_parser\n",
    "    old_splitters_list = IPYTHON_SHELL.input_splitter.python_line_transforms[:]\n",
    "    old_managers_list = IPYTHON_SHELL.input_transformer_manager.python_line_transforms[:]\n",
    "    \n",
    "    smuggle = 'tmp-smuggle-val'\n",
    "    try:\n",
    "        davos.implementations.ipython_pre7._deactivate_helper(smuggle_func, \n",
    "                                                              davos_parser)\n",
    "        assert 'smuggle' in IPYTHON_SHELL.user_ns\n",
    "        assert smuggle == 'tmp-smuggle-val'\n",
    "    finally:\n",
    "        IPYTHON_SHELL.user_ns['smuggle'] = smuggle_func\n",
    "        IPYTHON_SHELL.input_splitter.python_line_transforms = old_splitters_list\n",
    "        IPYTHON_SHELL.input_transformer_manager.python_line_transforms = old_managers_list"
   ]
  },
  {
   "cell_type": "code",
   "execution_count": null,
   "metadata": {
    "ExecuteTime": {
     "end_time": "2021-08-11T00:13:30.355173Z",
     "start_time": "2021-08-11T00:13:30.349493Z"
    }
   },
   "outputs": [],
   "source": [
    "def test_deactivate_helper_not_active():\n",
    "    \"\"\"\n",
    "    running `_deactivate_helper` shouldn't cause any problems if run \n",
    "    when the davos parser is already inactive\n",
    "    \"\"\"\n",
    "    smuggle_func = davos.core.core.smuggle\n",
    "    davos_parser = davos.implementations.full_parser\n",
    "    \n",
    "    davos.deactivate()\n",
    "\n",
    "    try:\n",
    "        for _ in range(5):\n",
    "            davos.implementations.ipython_pre7._deactivate_helper(smuggle_func, \n",
    "                                                                  davos_parser)\n",
    "    finally:\n",
    "        davos.activate()"
   ]
  },
  {
   "cell_type": "code",
   "execution_count": null,
   "metadata": {
    "ExecuteTime": {
     "end_time": "2021-08-11T00:13:30.362386Z",
     "start_time": "2021-08-11T00:13:30.357919Z"
    }
   },
   "outputs": [],
   "source": [
    "def test_generate_parser_func_noop():\n",
    "    \"\"\"\n",
    "    the `IPython<7.0` implementation fo `generate_parser_func` should \n",
    "    simply return the single-line parser, untouched\n",
    "    \"\"\"\n",
    "    davos_parser = davos.implementations.full_parser\n",
    "    line_parser = davos.core.core.parse_line\n",
    "    assert davos_parser is line_parser"
   ]
  },
  {
   "cell_type": "code",
   "execution_count": null,
   "metadata": {
    "ExecuteTime": {
     "end_time": "2021-08-11T00:13:30.378972Z",
     "start_time": "2021-08-11T00:13:30.364012Z"
    }
   },
   "outputs": [],
   "source": [
    "run_tests()"
   ]
  }
 ],
 "metadata": {
  "kernelspec": {
   "display_name": "kernel-env",
   "language": "python",
   "name": "kernel-env"
  },
  "language_info": {
   "codemirror_mode": {
    "name": "ipython",
    "version": 3
   },
   "file_extension": ".py",
   "mimetype": "text/x-python",
   "name": "python",
   "nbconvert_exporter": "python",
   "pygments_lexer": "ipython3",
   "version": "3.8.10"
  }
 },
 "nbformat": 4,
 "nbformat_minor": 2
}
