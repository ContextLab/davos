{
 "cells": [
  {
   "cell_type": "code",
   "execution_count": 1,
   "metadata": {
    "ExecuteTime": {
     "end_time": "2021-08-11T04:09:37.524821Z",
     "start_time": "2021-08-11T04:09:37.520041Z"
    }
   },
   "outputs": [],
   "source": [
    "GITHUB_USERNAME = \"$GITHUB_USERNAME$\"\n",
    "GITHUB_REF = \"$GITHUB_REF$\"\n",
    "NOTEBOOK_TYPE = \"$NOTEBOOK_TYPE$\"\n",
    "PYTHON_VERSION = \"$PYTHON_VERSION$\"\n",
    "IPYTHON_VERSION = \"$IPYTHON_VERSION$\""
   ]
  },
  {
   "cell_type": "code",
   "execution_count": 2,
   "metadata": {
    "ExecuteTime": {
     "end_time": "2021-08-11T04:09:37.734695Z",
     "start_time": "2021-08-11T04:09:37.527194Z"
    }
   },
   "outputs": [
    {
     "name": "stderr",
     "output_type": "stream",
     "text": [
      "/Users/paxtonfitzpatrick/opt/anaconda3/envs/colab/lib/python3.7/site-packages/requests/__init__.py:91: RequestsDependencyWarning: urllib3 (1.26.4) or chardet (3.0.4) doesn't match a supported version!\n",
      "  RequestsDependencyWarning)\n"
     ]
    }
   ],
   "source": [
    "from pathlib import Path\n",
    "\n",
    "import requests\n",
    "\n",
    "\n",
    "if NOTEBOOK_TYPE == 'colab':\n",
    "    # utils module doesn't exist on colab VM, so get current version from GitHub\n",
    "    utils_module = Path('utils.py').resolve()\n",
    "    response = requests.get(f'https://raw.githubusercontent.com/{GITHUB_USERNAME}/davos/{GITHUB_REF}/tests/utils.py')\n",
    "    utils_module.write_text(response.text)\n",
    "    # also need to install davos locally\n",
    "    from utils import install_davos\n",
    "    install_davos(source='github', ref=GITHUB_REF, fork=GITHUB_USERNAME)"
   ]
  },
  {
   "cell_type": "code",
   "execution_count": 3,
   "metadata": {
    "ExecuteTime": {
     "end_time": "2021-08-11T04:09:37.793989Z",
     "start_time": "2021-08-11T04:09:37.736429Z"
    }
   },
   "outputs": [],
   "source": [
    "import davos\n",
    "from IPython.core.inputtransformer import StatelessInputTransformer\n",
    "\n",
    "from utils import DavosAssertionError, raises, run_tests"
   ]
  },
  {
   "cell_type": "code",
   "execution_count": 4,
   "metadata": {
    "ExecuteTime": {
     "end_time": "2021-08-11T04:09:37.798351Z",
     "start_time": "2021-08-11T04:09:37.796153Z"
    }
   },
   "outputs": [],
   "source": [
    "IPYTHON_SHELL = get_ipython()"
   ]
  },
  {
   "cell_type": "markdown",
   "metadata": {
    "ExecuteTime": {
     "end_time": "2021-08-10T22:51:02.750783Z",
     "start_time": "2021-08-10T22:51:02.746706Z"
    }
   },
   "source": [
    "# tests for `davos.implementations.ipython_pre7`\n",
    "**Note**: this test notebook is only run for jobs where `IPython<7.0`"
   ]
  },
  {
   "cell_type": "code",
   "execution_count": 5,
   "metadata": {
    "ExecuteTime": {
     "end_time": "2021-08-11T04:09:37.807154Z",
     "start_time": "2021-08-11T04:09:37.801291Z"
    }
   },
   "outputs": [],
   "source": [
    "def test_ipython_pre7_imports():\n",
    "    \"\"\"\n",
    "    check that functions that should've been imported from the \n",
    "    ipython_pre7 module came from the right place\n",
    "    \"\"\"\n",
    "    ipy_pre7_funcs = (\n",
    "        '_activate_helper', \n",
    "        '_deactivate_helper',\n",
    "        'generate_parser_func'\n",
    "    )\n",
    "    for func_name in ipy_pre7_funcs:\n",
    "        func_obj = getattr(davos.implementations, func_name)\n",
    "        func_module = getattr(func_obj, '__module__')\n",
    "        assert func_module == 'davos.implementations.ipython_pre7', (\n",
    "            f\"davos.implementations.{func_name} is {func_module}.{func_name}. \"\n",
    "            f\"Expected davos.implementations.ipython_pre7.{func_name}\"\n",
    "        )"
   ]
  },
  {
   "cell_type": "code",
   "execution_count": 6,
   "metadata": {
    "ExecuteTime": {
     "end_time": "2021-08-11T04:09:37.818896Z",
     "start_time": "2021-08-11T04:09:37.810472Z"
    }
   },
   "outputs": [],
   "source": [
    "def test_activate_helper_registers_parser():\n",
    "    \"\"\"\n",
    "    check that the `davos` parser was wrapped in a \n",
    "    `StatelessInputTransformer` instance and added to the\n",
    "    `python_line_transforms` lists of both the `input_splitter` and \n",
    "    `input_transformer_manager` instances when `davos` was imported \n",
    "    above\n",
    "    \"\"\"\n",
    "    davos_parser = davos.implementations.full_parser\n",
    "    splitter_xforms = IPYTHON_SHELL.input_splitter.python_line_transforms\n",
    "    manager_xforms = IPYTHON_SHELL.input_transformer_manager.python_line_transforms\n",
    "    \n",
    "    for xform in splitter_xforms:\n",
    "        if xform.func is davos_parser:\n",
    "            assert isinstance(xform, StatelessInputTransformer), type(xform)\n",
    "            break\n",
    "    else:\n",
    "        raise DavosAssertionError(\n",
    "            f\"{davos_parser} (as StatelessInputTransformer) not in \"\n",
    "            f\"input_splitter list: {splitter_xforms}\"\n",
    "        )\n",
    "    \n",
    "    for xform in manager_xforms:\n",
    "        if xform.func is davos_parser:\n",
    "            assert isinstance(xform, StatelessInputTransformer), type(xform)\n",
    "            break\n",
    "    else:\n",
    "        raise DavosAssertionError(\n",
    "            f\"{davos_parser} (as StatelessInputTransformer) not in \"\n",
    "            f\"input_transformer_manager list: {manager_xforms}\"\n",
    "        )"
   ]
  },
  {
   "cell_type": "code",
   "execution_count": 7,
   "metadata": {
    "ExecuteTime": {
     "end_time": "2021-08-11T04:09:37.830215Z",
     "start_time": "2021-08-11T04:09:37.821379Z"
    }
   },
   "outputs": [],
   "source": [
    "def test_activate_helper_registers_parser_once():\n",
    "    \"\"\"\n",
    "    `_activate_helper` should not register multiple instances of the \n",
    "    `davos` parser if called multiple times (without deactivating)\n",
    "    \"\"\"\n",
    "    smuggle_func = davos.core.core.smuggle\n",
    "    davos_parser = davos.implementations.full_parser\n",
    "    splitter_xforms = IPYTHON_SHELL.input_splitter.python_line_transforms\n",
    "    manager_xforms = IPYTHON_SHELL.input_transformer_manager.python_line_transforms\n",
    "    \n",
    "    def count_davos_parsers(xforms_list):\n",
    "        n = 0\n",
    "        for xform in xforms_list:\n",
    "            if xform.func == davos_parser:\n",
    "                n += 1\n",
    "        return n\n",
    "    \n",
    "    assert count_davos_parsers(splitter_xforms) == 1\n",
    "    assert count_davos_parsers(manager_xforms) == 1\n",
    "    \n",
    "    for _ in range(5):\n",
    "        davos.implementations.ipython_pre7._activate_helper(smuggle_func, \n",
    "                                                            davos_parser)\n",
    "    \n",
    "    assert count_davos_parsers(splitter_xforms) == 1\n",
    "    assert count_davos_parsers(manager_xforms) == 1"
   ]
  },
  {
   "cell_type": "code",
   "execution_count": 8,
   "metadata": {
    "ExecuteTime": {
     "end_time": "2021-08-11T04:09:37.838731Z",
     "start_time": "2021-08-11T04:09:37.832074Z"
    }
   },
   "outputs": [],
   "source": [
    "def test_activate_helper_adds_smuggle():\n",
    "    \"\"\"\n",
    "    `_activate_helper` should inject the `smuggle_func` it is passed \n",
    "    into the IPython user namespace as `\"smuggle\"`\n",
    "    \"\"\"    \n",
    "    real_smuggle_func = davos.core.core.smuggle\n",
    "    davos_parser = davos.implementations.full_parser\n",
    "    \n",
    "    def _fake_smuggle_func():\n",
    "        pass\n",
    "    \n",
    "    assert smuggle is IPYTHON_SHELL.user_ns['smuggle'] is real_smuggle_func\n",
    "    \n",
    "    try:\n",
    "        davos.implementations.ipython_pre7._activate_helper(_fake_smuggle_func, \n",
    "                                                            davos_parser)\n",
    "        assert smuggle is IPYTHON_SHELL.user_ns['smuggle'] is _fake_smuggle_func\n",
    "    finally:\n",
    "        # regardless of test outcome, make sure original value of \n",
    "        # \"smuggle\" is restored\n",
    "        IPYTHON_SHELL.user_ns['smuggle'] = real_smuggle_func"
   ]
  },
  {
   "cell_type": "code",
   "execution_count": 9,
   "metadata": {
    "ExecuteTime": {
     "end_time": "2021-08-11T04:09:37.854331Z",
     "start_time": "2021-08-11T04:09:37.840753Z"
    }
   },
   "outputs": [],
   "source": [
    "def test_deactivate_helper_removes_parser():\n",
    "    \"\"\"\n",
    "    `_deactivate_helper` should remove the `StatelessInputTransformer` \n",
    "    whose `.func` is the `davos` parser from both `input_splitter` and \n",
    "    `input_transformer_manager`\n",
    "    \"\"\"\n",
    "    smuggle_func = davos.core.core.smuggle\n",
    "    davos_parser = davos.implementations.full_parser\n",
    "    # references\n",
    "    splitter_xforms = IPYTHON_SHELL.input_splitter.python_line_transforms\n",
    "    manager_xforms = IPYTHON_SHELL.input_transformer_manager.python_line_transforms\n",
    "    # copies\n",
    "    old_splitters_list = IPYTHON_SHELL.input_splitter.python_line_transforms[:]\n",
    "    old_managers_list = IPYTHON_SHELL.input_transformer_manager.python_line_transforms[:]\n",
    "    \n",
    "    def count_davos_parsers(xforms_list):\n",
    "        n = 0\n",
    "        for xform in xforms_list:\n",
    "            if xform.func == davos_parser:\n",
    "                n += 1\n",
    "        return n\n",
    "    \n",
    "    assert count_davos_parsers(splitter_xforms) == 1\n",
    "    assert count_davos_parsers(manager_xforms) == 1\n",
    "        \n",
    "    try:\n",
    "        davos.implementations.ipython_pre7._deactivate_helper(smuggle_func, \n",
    "                                                              davos_parser)\n",
    "\n",
    "        assert count_davos_parsers(splitter_xforms) == 0, splitter_xforms\n",
    "        assert count_davos_parsers(manager_xforms) == 0, manager_xforms\n",
    "    finally:\n",
    "        # regardless of test outcome, make sure both original \n",
    "        # transformer lists and value of \"smuggle\" are restored\n",
    "        IPYTHON_SHELL.input_splitter.python_line_transforms = old_splitters_list\n",
    "        IPYTHON_SHELL.input_transformer_manager.python_line_transforms = old_managers_list\n",
    "        IPYTHON_SHELL.user_ns['smuggle'] = smuggle_func"
   ]
  },
  {
   "cell_type": "code",
   "execution_count": 10,
   "metadata": {
    "ExecuteTime": {
     "end_time": "2021-08-11T04:09:37.863635Z",
     "start_time": "2021-08-11T04:09:37.856240Z"
    }
   },
   "outputs": [],
   "source": [
    "def test_deactivate_helper_deletes_smuggle():\n",
    "    \"\"\"\n",
    "    `_deactivate_helper` should remove `\"smuggle\"` from the IPython user \n",
    "    namespace if it refers to `davos.core.core.smuggle`\n",
    "    \"\"\"\n",
    "    smuggle_func = davos.core.core.smuggle\n",
    "    davos_parser = davos.implementations.full_parser\n",
    "    old_splitters_list = IPYTHON_SHELL.input_splitter.python_line_transforms[:]\n",
    "    old_managers_list = IPYTHON_SHELL.input_transformer_manager.python_line_transforms[:]\n",
    "    \n",
    "    assert smuggle is IPYTHON_SHELL.user_ns['smuggle'] is smuggle_func\n",
    "    \n",
    "    try:\n",
    "        davos.implementations.ipython_pre7._deactivate_helper(smuggle_func, \n",
    "                                                              davos_parser)\n",
    "        assert 'smuggle' not in IPYTHON_SHELL.user_ns\n",
    "        with raises(NameError):\n",
    "            smuggle os\n",
    "\n",
    "    finally:\n",
    "        IPYTHON_SHELL.user_ns['smuggle'] = smuggle_func\n",
    "        IPYTHON_SHELL.input_splitter.python_line_transforms = old_splitters_list\n",
    "        IPYTHON_SHELL.input_transformer_manager.python_line_transforms = old_managers_list"
   ]
  },
  {
   "cell_type": "code",
   "execution_count": 11,
   "metadata": {
    "ExecuteTime": {
     "end_time": "2021-08-11T04:09:37.873517Z",
     "start_time": "2021-08-11T04:09:37.865821Z"
    }
   },
   "outputs": [],
   "source": [
    "def test_deactivate_helper_leaves_smuggle():\n",
    "    \"\"\"\n",
    "    running `_deactivate_helper` should *not* delete `\"smuggle\"` from \n",
    "    the IPython user namespace if it refers to something other than \n",
    "    `davos.core.core.smuggle`\n",
    "    \"\"\"\n",
    "    global smuggle\n",
    "    \n",
    "    smuggle_func = davos.core.core.smuggle\n",
    "    davos_parser = davos.implementations.full_parser\n",
    "    old_splitters_list = IPYTHON_SHELL.input_splitter.python_line_transforms[:]\n",
    "    old_managers_list = IPYTHON_SHELL.input_transformer_manager.python_line_transforms[:]\n",
    "    \n",
    "    smuggle = 'tmp-smuggle-val'\n",
    "    try:\n",
    "        davos.implementations.ipython_pre7._deactivate_helper(smuggle_func, \n",
    "                                                              davos_parser)\n",
    "        assert 'smuggle' in IPYTHON_SHELL.user_ns\n",
    "        assert smuggle == 'tmp-smuggle-val'\n",
    "    finally:\n",
    "        IPYTHON_SHELL.user_ns['smuggle'] = smuggle_func\n",
    "        IPYTHON_SHELL.input_splitter.python_line_transforms = old_splitters_list\n",
    "        IPYTHON_SHELL.input_transformer_manager.python_line_transforms = old_managers_list"
   ]
  },
  {
   "cell_type": "code",
   "execution_count": 12,
   "metadata": {
    "ExecuteTime": {
     "end_time": "2021-08-11T04:09:37.880384Z",
     "start_time": "2021-08-11T04:09:37.875769Z"
    }
   },
   "outputs": [],
   "source": [
    "def test_deactivate_helper_not_active():\n",
    "    \"\"\"\n",
    "    running `_deactivate_helper` shouldn't cause any problems if run \n",
    "    when the davos parser is already inactive\n",
    "    \"\"\"\n",
    "    smuggle_func = davos.core.core.smuggle\n",
    "    davos_parser = davos.implementations.full_parser\n",
    "    \n",
    "    davos.deactivate()\n",
    "\n",
    "    try:\n",
    "        for _ in range(5):\n",
    "            davos.implementations.ipython_pre7._deactivate_helper(smuggle_func, \n",
    "                                                                  davos_parser)\n",
    "    finally:\n",
    "        davos.activate()"
   ]
  },
  {
   "cell_type": "code",
   "execution_count": 13,
   "metadata": {
    "ExecuteTime": {
     "end_time": "2021-08-11T04:09:37.886085Z",
     "start_time": "2021-08-11T04:09:37.882224Z"
    }
   },
   "outputs": [],
   "source": [
    "def test_generate_parser_func_noop():\n",
    "    \"\"\"\n",
    "    the `IPython<7.0` implementation fo `generate_parser_func` should \n",
    "    simply return the single-line parser, untouched\n",
    "    \"\"\"\n",
    "    davos_parser = davos.implementations.full_parser\n",
    "    line_parser = davos.core.core.parse_line\n",
    "    assert davos_parser is line_parser"
   ]
  },
  {
   "cell_type": "code",
   "execution_count": 14,
   "metadata": {
    "ExecuteTime": {
     "end_time": "2021-08-11T04:09:37.900770Z",
     "start_time": "2021-08-11T04:09:37.888019Z"
    }
   },
   "outputs": [
    {
     "name": "stdout",
     "output_type": "stream",
     "text": [
      "collected 9 items\n",
      "\n"
     ]
    },
    {
     "data": {
      "text/html": [
       "<div id='test_ipython_pre7_imports_result' style=\"white-space:pre\">test_ipython_pre7_imports                  PASSED</div>"
      ]
     },
     "metadata": {},
     "output_type": "display_data"
    },
    {
     "data": {
      "text/html": [
       "<div id='test_activate_helper_registers_parser_result' style=\"white-space:pre\">test_activate_helper_registers_parser      PASSED</div>"
      ]
     },
     "metadata": {},
     "output_type": "display_data"
    },
    {
     "data": {
      "text/html": [
       "<div id='test_activate_helper_registers_parser_once_result' style=\"white-space:pre\">test_activate_helper_registers_parser_once PASSED</div>"
      ]
     },
     "metadata": {},
     "output_type": "display_data"
    },
    {
     "data": {
      "text/html": [
       "<div id='test_activate_helper_adds_smuggle_result' style=\"white-space:pre\">test_activate_helper_adds_smuggle          PASSED</div>"
      ]
     },
     "metadata": {},
     "output_type": "display_data"
    },
    {
     "data": {
      "text/html": [
       "<div id='test_deactivate_helper_removes_parser_result' style=\"white-space:pre\">test_deactivate_helper_removes_parser      PASSED</div>"
      ]
     },
     "metadata": {},
     "output_type": "display_data"
    },
    {
     "data": {
      "text/html": [
       "<div id='test_deactivate_helper_deletes_smuggle_result' style=\"white-space:pre\">test_deactivate_helper_deletes_smuggle     PASSED</div>"
      ]
     },
     "metadata": {},
     "output_type": "display_data"
    },
    {
     "data": {
      "text/html": [
       "<div id='test_deactivate_helper_leaves_smuggle_result' style=\"white-space:pre\">test_deactivate_helper_leaves_smuggle      PASSED</div>"
      ]
     },
     "metadata": {},
     "output_type": "display_data"
    },
    {
     "data": {
      "text/html": [
       "<div id='test_deactivate_helper_not_active_result' style=\"white-space:pre\">test_deactivate_helper_not_active          PASSED</div>"
      ]
     },
     "metadata": {},
     "output_type": "display_data"
    },
    {
     "data": {
      "text/html": [
       "<div id='test_generate_parser_func_noop_result' style=\"white-space:pre\">test_generate_parser_func_noop             PASSED</div>"
      ]
     },
     "metadata": {},
     "output_type": "display_data"
    }
   ],
   "source": [
    "run_tests()"
   ]
  }
 ],
 "metadata": {
  "kernelspec": {
   "display_name": "kernel-env",
   "language": "python",
   "name": "kernel-env"
  },
  "language_info": {
   "codemirror_mode": {
    "name": "ipython",
    "version": 3
   },
   "file_extension": ".py",
   "mimetype": "text/x-python",
   "name": "python",
   "nbconvert_exporter": "python",
   "pygments_lexer": "ipython3",
   "version": "3.8.10"
  }
 },
 "nbformat": 4,
 "nbformat_minor": 2
}
