{
 "cells": [
  {
   "cell_type": "code",
   "execution_count": null,
   "metadata": {
    "ExecuteTime": {
     "end_time": "2021-07-21T23:36:14.827895Z",
     "start_time": "2021-07-21T23:36:14.819055Z"
    }
   },
   "outputs": [],
   "source": [
    "GITHUB_USERNAME = \"$GITHUB_USERNAME$\"\n",
    "GITHUB_REF = \"$GITHUB_REF$\"\n",
    "NOTEBOOK_TYPE = \"$NOTEBOOK_TYPE$\"\n",
    "PYTHON_VERSION = \"$PYTHON_VERSION$\"\n",
    "IPYTHON_VERSION = \"$IPYTHON_VERSION$\""
   ]
  },
  {
   "cell_type": "code",
   "execution_count": null,
   "metadata": {
    "ExecuteTime": {
     "end_time": "2021-07-21T23:36:14.896413Z",
     "start_time": "2021-07-21T23:36:14.830609Z"
    }
   },
   "outputs": [],
   "source": [
    "import warnings\n",
    "from pathlib import Path\n",
    "\n",
    "import requests\n",
    "\n",
    "\n",
    "warnings.filterwarnings('error', module='davos')\n",
    "\n",
    "if NOTEBOOK_TYPE == 'colab':\n",
    "    # utils module doesn't exist on colab VM, so get current version from GitHub\n",
    "    utils_module = Path('utils.py').resolve()\n",
    "    response = requests.get(f'https://raw.githubusercontent.com/{GITHUB_USERNAME}/davos/{GITHUB_REF}/tests/utils.py')\n",
    "    utils_module.write_text(response.text)\n",
    "    # also need to install davos locally\n",
    "    from utils import install_davos\n",
    "    install_davos(source='github', ref=GITHUB_REF, fork=GITHUB_USERNAME)"
   ]
  },
  {
   "cell_type": "code",
   "execution_count": null,
   "metadata": {
    "ExecuteTime": {
     "end_time": "2021-07-21T23:36:15.016165Z",
     "start_time": "2021-07-21T23:36:14.899449Z"
    }
   },
   "outputs": [],
   "source": [
    "import builtins\n",
    "import inspect\n",
    "import sys\n",
    "import types\n",
    "from contextlib import redirect_stdout\n",
    "from io import StringIO\n",
    "from pathlib import Path\n",
    "from subprocess import CalledProcessError\n",
    "from textwrap import dedent\n",
    "\n",
    "import davos\n",
    "import IPython\n",
    "import pkg_resources\n",
    "from IPython.utils.io import capture_output as capture_ipython_display\n",
    "\n",
    "from utils import (\n",
    "    expected_onion_parser_output, \n",
    "    expected_parser_output,\n",
    "    is_imported, \n",
    "    is_installed,\n",
    "    mark, \n",
    "    matches_expected_output,\n",
    "    raises, \n",
    "    run_tests\n",
    ")"
   ]
  },
  {
   "cell_type": "code",
   "execution_count": null,
   "metadata": {
    "ExecuteTime": {
     "end_time": "2021-07-21T23:36:15.021856Z",
     "start_time": "2021-07-21T23:36:15.018321Z"
    },
    "code_folding": []
   },
   "outputs": [],
   "source": [
    "IPYTHON_SHELL = get_ipython()\n",
    "\n",
    "_parse_onion = davos.core.core.Onion.parse_onion\n",
    "\n",
    "\n",
    "def _parse_line(line):\n",
    "    if IPYTHON_VERSION == 'latest' or int(IPYTHON_VERSION.split('.')[0]) >= 7:\n",
    "        line = [f\"{line}\\n\"]\n",
    "    return davos.implementations.full_parser(line)"
   ]
  },
  {
   "cell_type": "markdown",
   "metadata": {},
   "source": [
    "# tests for `davos.core.core`\n",
    "**Note**: regular expressions defined in `davos.core.regexps` but used in `davos.core.core` are tested in `test_regexps.ipynb`"
   ]
  },
  {
   "cell_type": "code",
   "execution_count": null,
   "metadata": {
    "ExecuteTime": {
     "end_time": "2021-07-21T23:36:15.030402Z",
     "start_time": "2021-07-21T23:36:15.023535Z"
    }
   },
   "outputs": [],
   "source": [
    "def test_capture_stdout_multistream():\n",
    "    \"\"\"\n",
    "    should write correct output to stdout (captured for test), \n",
    "    in-memory object, and file streams simultaneously\n",
    "    \"\"\"\n",
    "    msg = (\"Strictly speaking, I didn't do the theiving. That would be the \"\n",
    "           \"pirates. I just moved what they stole from one place to another\")\n",
    "    tmpfile = Path('tmpfile.txt')\n",
    "    try:\n",
    "        with redirect_stdout(StringIO()) as mock_stdout:\n",
    "            with davos.core.core.capture_stdout(\n",
    "                StringIO(), tmpfile.open('w')\n",
    "            ) as (mem_stream, file_stream):\n",
    "                print(msg, end='')\n",
    "                in_mem = mem_stream.getvalue()\n",
    "            \n",
    "            in_stdout = mock_stdout.getvalue()\n",
    "        \n",
    "        in_file = tmpfile.read_text()\n",
    "        \n",
    "        assert mem_stream.closed, \"StringIO object was not closed\"\n",
    "        assert file_stream.closed, \"file stream was not closed\"\n",
    "\n",
    "        assert in_stdout == msg, (\n",
    "            \"content written to stdout doesn't match original. Expected:\\n\"\n",
    "            f\"\\\"{msg}\\\"\\n\\nFound:\\n\\\"{in_stdout}\\\"\"\n",
    "        )\n",
    "        assert in_mem == msg, (\n",
    "            \"content written to StringIO object doesn't match original. \"\n",
    "            f\"Expected:\\n\\\"{msg}\\\"\\n\\nFound:\\n\\\"{in_stdout}\\\"\"\n",
    "        )\n",
    "        assert in_file == msg, (\n",
    "            \"content written to file doesn't match original. Expected:\\n\"\n",
    "            f\"\\\"{msg}\\\"\\n\\nFound:\\n\\\"{in_file}\\\"\"\n",
    "        )\n",
    "    finally:\n",
    "        if not mem_stream.closed:\n",
    "            mem_stream.close()\n",
    "        if not file_stream.closed:\n",
    "            file_stream.close()\n",
    "        if tmpfile.is_file():\n",
    "            tmpfile.unlink()"
   ]
  },
  {
   "cell_type": "code",
   "execution_count": null,
   "metadata": {
    "ExecuteTime": {
     "end_time": "2021-07-21T23:36:15.036456Z",
     "start_time": "2021-07-21T23:36:15.032537Z"
    }
   },
   "outputs": [],
   "source": [
    "def test_capture_stdout_not_closing():\n",
    "    \"\"\"\n",
    "    passing 'closing=True' should prevent streams from closing when \n",
    "    exiting context block\n",
    "    \"\"\"\n",
    "    msg = (\"Strictly speaking, I didn't do the theiving. That would be the \"\n",
    "           \"pirates. I just moved what they stole from one place to another\")\n",
    "    try:\n",
    "        with davos.core.core.capture_stdout(StringIO(), closing=False) as mem_stream:\n",
    "            print(msg, end='')\n",
    "                \n",
    "        assert not mem_stream.closed, (\n",
    "            \"StringIO stream was closed despite passing 'closing=False'\"\n",
    "        )\n",
    "    finally:\n",
    "        mem_stream.close()"
   ]
  },
  {
   "cell_type": "code",
   "execution_count": null,
   "metadata": {
    "ExecuteTime": {
     "end_time": "2021-07-21T23:36:15.041990Z",
     "start_time": "2021-07-21T23:36:15.038641Z"
    }
   },
   "outputs": [],
   "source": [
    "@mark.ipython_pre7\n",
    "def test_check_conda_ipython_pre7():\n",
    "    \"\"\"\n",
    "    conda is not available on Google Colaboratory and not yet supported \n",
    "    for IPython<7.0.0\n",
    "    \"\"\"\n",
    "    davos.core.core.check_conda()\n",
    "    assert davos.config.conda_avail is False\n",
    "    assert davos.config.conda_env is None\n",
    "    assert davos.config.conda_envs_dirs is None"
   ]
  },
  {
   "cell_type": "code",
   "execution_count": null,
   "metadata": {
    "ExecuteTime": {
     "end_time": "2021-07-21T23:36:15.048789Z",
     "start_time": "2021-07-21T23:36:15.045510Z"
    }
   },
   "outputs": [],
   "source": [
    "@mark.ipython_post7\n",
    "def test_check_conda_ipython_post7():\n",
    "    \"\"\"basic test for expected values\"\"\"\n",
    "    davos.core.core.check_conda()\n",
    "    assert davos.config.conda_avail is True\n",
    "    assert davos.config.conda_env == 'kernel-env'\n",
    "    assert isinstance(davos.config.conda_envs_dirs, dict)"
   ]
  },
  {
   "cell_type": "code",
   "execution_count": null,
   "metadata": {
    "ExecuteTime": {
     "end_time": "2021-07-21T23:36:15.059438Z",
     "start_time": "2021-07-21T23:36:15.051624Z"
    }
   },
   "outputs": [],
   "source": [
    "def test_check_conda_stdout_parsing():\n",
    "    \"\"\"\n",
    "    check that 'conda_avail', 'conda_env', and 'conda_envs_dirs' config \n",
    "    fields are set correctly. Temporarily overloads \n",
    "    '_check_conda_avail_helper' and 'run_shell_command' functions with \n",
    "    functions defined below to compare expected values & results.\n",
    "    \"\"\"\n",
    "    old_conda_avail = davos.config._conda_avail\n",
    "    old_conda_env = davos.config._conda_env\n",
    "    old_conda_envs_dirs = davos.config._conda_envs_dirs\n",
    "    old__check_conda_avail_helper = davos.core.core._check_conda_avail_helper\n",
    "    old_run_shell_command = davos.core.core.run_shell_command\n",
    "    \n",
    "    mock_conda_list_output = dedent(\"\"\"\\\n",
    "    # packages in environment at /path/to/anaconda3/envs/mock-current-env:\n",
    "    #\n",
    "    # Name                    Version                   Build  Channel\n",
    "    ipython                   X.X.X                    YYYYYY    ZZZZ\n",
    "    etc...\"\"\")\n",
    "    mock_conda_info_output = dedent(\"\"\"\\\n",
    "    base /path/to/anaconda3\n",
    "    mock-current-env /path/to/anaconda3/envs/mock-current-env\n",
    "    mock-other-env /path/to/anaconda3/envs/mock-other-env\"\"\")\n",
    "    \n",
    "    expected_conda_envs_dirs = {\n",
    "        'base': '/path/to/anaconda3',\n",
    "        'mock-current-env': '/path/to/anaconda3/envs/mock-current-env',\n",
    "        'mock-other-env': '/path/to/anaconda3/envs/mock-other-env'\n",
    "    }\n",
    "    \n",
    "    def _mock_check_conda_avail_helper():\n",
    "        return mock_conda_list_output\n",
    "    \n",
    "    def _mock_run_shell_command(command, live_stdout=None):\n",
    "        if command == \"conda info --envs | grep -E '^\\w' | sed -E 's/ +\\*? +/ /g'\":\n",
    "            return mock_conda_info_output\n",
    "        else:\n",
    "            return old_run_shell_command(command, live_stdout=live_stdout)\n",
    "    \n",
    "    try:\n",
    "        davos.core.core._check_conda_avail_helper = _mock_check_conda_avail_helper\n",
    "        davos.core.core.run_shell_command = _mock_run_shell_command\n",
    "        \n",
    "        davos.core.core.check_conda()\n",
    "        \n",
    "        assert davos.config.conda_avail is True\n",
    "        assert davos.config.conda_env == 'mock-current-env', (\n",
    "            f\"Found: {davos.config.conda_env}\"\n",
    "        )\n",
    "        assert davos.config.conda_envs_dirs == expected_conda_envs_dirs, (\n",
    "            f\"Expected: {expected_conda_envs_dirs}\\nFound: \"\n",
    "            f\"{davos.config.conda_envs_dirs}\"\n",
    "        )\n",
    "    finally:\n",
    "        davos.config._conda_avail = old_conda_avail\n",
    "        davos.config._conda_env = old_conda_env\n",
    "        davos.config._conda_envs_dirs = old_conda_envs_dirs\n",
    "        davos.core.core._check_conda_avail_helper = old__check_conda_avail_helper\n",
    "        davos.core.core.run_shell_command = old_run_shell_command"
   ]
  },
  {
   "cell_type": "code",
   "execution_count": null,
   "metadata": {
    "ExecuteTime": {
     "end_time": "2021-07-21T23:36:15.069679Z",
     "start_time": "2021-07-21T23:36:15.061505Z"
    }
   },
   "outputs": [],
   "source": [
    "def test_check_conda_bad_info_cmd():\n",
    "    \"\"\"\n",
    "    when parsing 'conda list ipython' output is successful but parsing \n",
    "    'conda info --envs' output fails, 'conda_avail' and 'conda_env' \n",
    "    config fields should still be assigned correctly, but \n",
    "    'conda_envs_dirs' field should be 'None'\n",
    "    \"\"\"\n",
    "    old_conda_avail = davos.config._conda_avail\n",
    "    old_conda_env = davos.config._conda_env\n",
    "    old_conda_envs_dirs = davos.config._conda_envs_dirs\n",
    "    old__check_conda_avail_helper = davos.core.core._check_conda_avail_helper\n",
    "    old_run_shell_command = davos.core.core.run_shell_command\n",
    "    \n",
    "    mock_conda_list_output = dedent(\"\"\"\\\n",
    "    # packages in environment at /path/to/anaconda3/envs/mock-current-env:\n",
    "    #\n",
    "    # Name                    Version                   Build  Channel\n",
    "    ipython                   X.X.X                    YYYYYY    ZZZZ\n",
    "    etc...\"\"\")\n",
    "    \n",
    "    def _mock_check_conda_avail_helper():\n",
    "        return mock_conda_list_output\n",
    "    \n",
    "    def _mock_run_shell_command(command, live_stdout=None):\n",
    "        if command == \"conda info --envs | grep -E '^\\w' | sed -E 's/ +\\*? +/ /g'\":\n",
    "            raise Exception\n",
    "        else:\n",
    "            return old_run_shell_command(command, live_stdout=live_stdout)\n",
    "    \n",
    "    try:\n",
    "        davos.core.core._check_conda_avail_helper = _mock_check_conda_avail_helper\n",
    "        davos.core.core.run_shell_command = _mock_run_shell_command\n",
    "        \n",
    "        davos.core.core.check_conda()\n",
    "        \n",
    "        assert davos.config.conda_avail is True\n",
    "        assert davos.config.conda_env == 'mock-current-env', (\n",
    "            f\"Found: {davos.config.conda_env}\"\n",
    "        )\n",
    "        assert davos.config.conda_envs_dirs is None\n",
    "    finally:\n",
    "        davos.config._conda_avail = old_conda_avail\n",
    "        davos.config._conda_env = old_conda_env\n",
    "        davos.config._conda_envs_dirs = old_conda_envs_dirs\n",
    "        davos.core.core._check_conda_avail_helper = old__check_conda_avail_helper\n",
    "        davos.core.core.run_shell_command = old_run_shell_command"
   ]
  },
  {
   "cell_type": "code",
   "execution_count": null,
   "metadata": {
    "ExecuteTime": {
     "end_time": "2021-07-21T23:36:15.079884Z",
     "start_time": "2021-07-21T23:36:15.071916Z"
    }
   },
   "outputs": [],
   "source": [
    "def test_check_conda_bad_list_cmd_raises():\n",
    "    \"\"\"\n",
    "    when 'conda list ipython' output is parsed successfully, but yields \n",
    "    an environment name not in the dict parsed from the output of \n",
    "    'conda info --envs', 'check_conda' function should raise a \n",
    "    'DavosError'\n",
    "    \"\"\"\n",
    "    old_conda_avail = davos.config._conda_avail\n",
    "    old_conda_env = davos.config._conda_env\n",
    "    old_conda_envs_dirs = davos.config._conda_envs_dirs\n",
    "    old__check_conda_avail_helper = davos.core.core._check_conda_avail_helper\n",
    "    old_run_shell_command = davos.core.core.run_shell_command\n",
    "    \n",
    "    mock_conda_list_output = dedent(\"\"\"\\\n",
    "    # packages in environment at bad-env-path:\n",
    "    #\n",
    "    # Name                    Version                   Build  Channel\n",
    "    ipython                   X.X.X                    YYYYYY    ZZZZ\n",
    "    etc...\"\"\")\n",
    "    mock_conda_info_output = dedent(\"\"\"\\\n",
    "    base /path/to/anaconda3\n",
    "    mock-current-env /path/to/anaconda3/envs/mock-current-env\n",
    "    mock-other-env /path/to/anaconda3/envs/mock-other-env\"\"\")\n",
    "    \n",
    "    expected_conda_envs_dirs = {\n",
    "        'base': '/path/to/anaconda3',\n",
    "        'mock-current-env': '/path/to/anaconda3/envs/mock-current-env',\n",
    "        'mock-other-env': '/path/to/anaconda3/envs/mock-other-env'\n",
    "    }\n",
    "    \n",
    "    def _mock_check_conda_avail_helper():\n",
    "        return mock_conda_list_output\n",
    "    \n",
    "    def _mock_run_shell_command(command, live_stdout=None):\n",
    "        if command == \"conda info --envs | grep -E '^\\w' | sed -E 's/ +\\*? +/ /g'\":\n",
    "            return mock_conda_info_output\n",
    "        else:\n",
    "            return old_run_shell_command(command, live_stdout=live_stdout)\n",
    "    \n",
    "    try:\n",
    "        davos.core.core._check_conda_avail_helper = _mock_check_conda_avail_helper\n",
    "        davos.core.core.run_shell_command = _mock_run_shell_command\n",
    "        \n",
    "        with raises(davos.core.exceptions.DavosError):\n",
    "            davos.core.core.check_conda()\n",
    "\n",
    "    finally:\n",
    "        davos.config._conda_avail = old_conda_avail\n",
    "        davos.config._conda_env = old_conda_env\n",
    "        davos.config._conda_envs_dirs = old_conda_envs_dirs\n",
    "        davos.core.core._check_conda_avail_helper = old__check_conda_avail_helper\n",
    "        davos.core.core.run_shell_command = old_run_shell_command"
   ]
  },
  {
   "cell_type": "code",
   "execution_count": null,
   "metadata": {
    "ExecuteTime": {
     "end_time": "2021-07-21T23:36:15.085553Z",
     "start_time": "2021-07-21T23:36:15.081974Z"
    }
   },
   "outputs": [],
   "source": [
    "def test_get_previously_imported_pkgs():\n",
    "    \"\"\"\n",
    "    should return names of packages imported during this interpreter \n",
    "    session, whether from within the current notebook (davos, IPython, \n",
    "    requests) or elsewhere (urllib3), but ignore all other names \n",
    "    (fastdtw, tqdm). Uses mock 'pip-install'-like output to set \n",
    "    up expected results. Tests against real output in \n",
    "    'test_regexps.ipynb'.\n",
    "    \"\"\"\n",
    "    mock_stdout = (\"Successfully installed davos-0.0.0 IPython-1.1.1 \"\n",
    "              \"requests-2.2.2 fastdtw-0.3.3 tqdm-4.4.4 urllib3-5.5.5\")\n",
    "    expected = ['davos', 'IPython', 'requests', 'urllib3']\n",
    "    result = davos.core.core.get_previously_imported_pkgs(mock_stdout, 'pip')\n",
    "    assert result == expected, f\"Expected:\\n'{expected}'\\nFound:\\n'{result}'\""
   ]
  },
  {
   "cell_type": "code",
   "execution_count": null,
   "metadata": {
    "ExecuteTime": {
     "end_time": "2021-07-21T23:36:15.090549Z",
     "start_time": "2021-07-21T23:36:15.087694Z"
    }
   },
   "outputs": [],
   "source": [
    "def test_get_previously_imported_pkgs_conda_raises():\n",
    "    \"\"\"passing 'installer-\"conda\"' should raise 'NotImplementedError'\"\"\"\n",
    "    with raises(NotImplementedError):\n",
    "        davos.core.core.get_previously_imported_pkgs('', 'conda')"
   ]
  },
  {
   "cell_type": "code",
   "execution_count": null,
   "metadata": {
    "ExecuteTime": {
     "end_time": "2021-07-21T23:36:15.097116Z",
     "start_time": "2021-07-21T23:36:15.092533Z"
    }
   },
   "outputs": [],
   "source": [
    "def test_import_name_pkg():\n",
    "    \"\"\"test importing a top-level package.\"\"\"\n",
    "    try:\n",
    "        assert not is_imported('scipy')\n",
    "        scipy = davos.core.core.import_name('scipy')\n",
    "        assert isinstance(scipy, types.ModuleType), (\n",
    "            f\"type(scipy): {type(scipy)}\\nMRO: {type(scipy).mro()}\"\n",
    "        )\n",
    "        assert not hasattr(scipy, 'stats'), (\n",
    "            \"scipy.stats submodule should not be loaded\"\n",
    "        )\n",
    "        assert 'scipy' in sys.modules\n",
    "    finally:\n",
    "        for mod_name in tuple(sys.modules.keys()):\n",
    "            if 'scipy' in mod_name:\n",
    "                sys.modules.pop(mod_name)"
   ]
  },
  {
   "cell_type": "code",
   "execution_count": null,
   "metadata": {
    "ExecuteTime": {
     "end_time": "2021-07-21T23:36:15.104894Z",
     "start_time": "2021-07-21T23:36:15.099724Z"
    }
   },
   "outputs": [],
   "source": [
    "def test_import_name_module():\n",
    "    \"\"\"test importing a module from a package.\"\"\"\n",
    "    try:\n",
    "        assert not is_imported('scipy')\n",
    "        stats = davos.core.core.import_name('scipy.stats')\n",
    "        assert isinstance(stats, types.ModuleType), (\n",
    "            f\"type(stats): {type(stats)}\\nMRO: {type(stats).mro()}\"\n",
    "        )\n",
    "        assert not hasattr(stats, 'tests'), (\n",
    "            \"scipy.stats.tests submodule should not be loaded\"\n",
    "        )\n",
    "        assert 'scipy' in sys.modules\n",
    "        assert 'scipy.stats' in sys.modules\n",
    "    finally:\n",
    "        for mod_name in tuple(sys.modules.keys()):\n",
    "            if 'scipy' in mod_name:\n",
    "                sys.modules.pop(mod_name)"
   ]
  },
  {
   "cell_type": "code",
   "execution_count": null,
   "metadata": {
    "ExecuteTime": {
     "end_time": "2021-07-21T23:36:15.115816Z",
     "start_time": "2021-07-21T23:36:15.107966Z"
    }
   },
   "outputs": [],
   "source": [
    "def test_import_name_function():\n",
    "    \"\"\"test importing a function by its qualified name\"\"\"\n",
    "    try:\n",
    "        assert not is_imported('scipy')\n",
    "        ttest_ind = davos.core.core.import_name('scipy.stats.ttest_ind')\n",
    "        assert isinstance(ttest_ind, types.FunctionType), (\n",
    "            f\"type(scipy): {type(ttest_ind)}\\nMRO: {type(ttest_ind).mro()}\"\n",
    "        )\n",
    "        assert ttest_ind.__module__ == 'scipy.stats.stats', (\n",
    "            f\"Expected: 'scipy.stats.stats'\\nFound: '{ttest_ind.__module__}'\"\n",
    "        )\n",
    "        assert 'scipy' in sys.modules\n",
    "        assert 'scipy.stats' in sys.modules\n",
    "        assert 'scipy.stats.stats' in sys.modules\n",
    "    finally:\n",
    "        for mod_name in tuple(sys.modules.keys()):\n",
    "            if 'scipy' in mod_name:\n",
    "                sys.modules.pop(mod_name)"
   ]
  },
  {
   "cell_type": "code",
   "execution_count": null,
   "metadata": {
    "ExecuteTime": {
     "end_time": "2021-07-21T23:36:15.122621Z",
     "start_time": "2021-07-21T23:36:15.118201Z"
    }
   },
   "outputs": [],
   "source": [
    "def test_parse_onion_simple():\n",
    "    \"\"\"simplest case\"\"\"\n",
    "    onion = '# pip: foo==0.0.1'\n",
    "    expected = expected_onion_parser_output('foo==0.0.1')\n",
    "    result = _parse_onion(onion)\n",
    "    assert result == expected, f\"Expected:\\n{expected}\\nResult:\\n{result}\""
   ]
  },
  {
   "cell_type": "code",
   "execution_count": null,
   "metadata": {
    "ExecuteTime": {
     "end_time": "2021-07-21T23:36:15.128037Z",
     "start_time": "2021-07-21T23:36:15.124863Z"
    }
   },
   "outputs": [],
   "source": [
    "def test_parse_onion_conda_raises():\n",
    "    \"\"\"installing with conda is not yet supported\"\"\"\n",
    "    onion = '# conda: foo==0.0.1'\n",
    "    with raises(davos.core.exceptions.ParserNotImplementedError):\n",
    "        _parse_onion(onion)"
   ]
  },
  {
   "cell_type": "code",
   "execution_count": null,
   "metadata": {
    "ExecuteTime": {
     "end_time": "2021-07-21T23:36:15.134846Z",
     "start_time": "2021-07-21T23:36:15.130599Z"
    }
   },
   "outputs": [],
   "source": [
    "def test_parse_onion_bad_installer_raises():\n",
    "    \"\"\"should throw an error if an unrecognized installer is specified\"\"\"\n",
    "    onion = '# apt: foo==0.0.1'\n",
    "    with raises(davos.core.exceptions.OnionParserError):\n",
    "        _parse_onion(onion)"
   ]
  },
  {
   "cell_type": "code",
   "execution_count": null,
   "metadata": {
    "ExecuteTime": {
     "end_time": "2021-07-21T23:36:15.140842Z",
     "start_time": "2021-07-21T23:36:15.137237Z"
    }
   },
   "outputs": [],
   "source": [
    "def test_parse_onion_whitespace():\n",
    "    \"\"\"onion comment should be whitespace-insensitive\"\"\"\n",
    "    onion = '#             pip:            foo==0.0.1'\n",
    "    expected = expected_onion_parser_output('foo==0.0.1')\n",
    "    result = _parse_onion(onion)\n",
    "    assert result == expected, f\"Expected:\\n{expected}\\nResult:\\n{result}\""
   ]
  },
  {
   "cell_type": "code",
   "execution_count": null,
   "metadata": {
    "ExecuteTime": {
     "end_time": "2021-07-21T23:36:15.146587Z",
     "start_time": "2021-07-21T23:36:15.143347Z"
    }
   },
   "outputs": [],
   "source": [
    "def test_parse_onion_github():\n",
    "    \"\"\"test parsing a VCS (specifically GitHub) url\"\"\"\n",
    "    onion = '# pip: git+https://github.com/foo/bar.git@branch-name#egg=foo&subdirectory=baz'\n",
    "    expected = expected_onion_parser_output('git+https://github.com/foo/bar.git@branch-name#egg=foo&subdirectory=baz')\n",
    "    result = _parse_onion(onion)\n",
    "    assert result == expected, f\"Expected:\\n{expected}\\nResult:\\n{result}\""
   ]
  },
  {
   "cell_type": "code",
   "execution_count": null,
   "metadata": {
    "ExecuteTime": {
     "end_time": "2021-07-21T23:36:15.152101Z",
     "start_time": "2021-07-21T23:36:15.148571Z"
    }
   },
   "outputs": [],
   "source": [
    "def test_parse_onion_editable():\n",
    "    \"\"\"GitHub URL like above, but with the --editable flag supplied\"\"\"\n",
    "    onion = '# pip: --editable git+https://github.com/foo/bar.git'\n",
    "    expected = expected_onion_parser_output('--editable git+https://github.com/foo/bar.git', \n",
    "                                            editable=True, \n",
    "                                            spec='git+https://github.com/foo/bar.git')\n",
    "    result = _parse_onion(onion)\n",
    "    assert result == expected, f\"Expected:\\n{expected}\\nResult:\\n{result}\""
   ]
  },
  {
   "cell_type": "code",
   "execution_count": null,
   "metadata": {
    "ExecuteTime": {
     "end_time": "2021-07-21T23:36:15.165040Z",
     "start_time": "2021-07-21T23:36:15.160398Z"
    }
   },
   "outputs": [],
   "source": [
    "def test_parse_onion_joined_short_args():\n",
    "    onion = '# pip: -Ive git+https://github.com/foo/bar.git'\n",
    "    expected = expected_onion_parser_output('-Ive git+https://github.com/foo/bar.git', \n",
    "                                            editable=True, \n",
    "                                            ignore_installed=True, \n",
    "                                            verbosity=1,\n",
    "                                            spec='git+https://github.com/foo/bar.git')\n",
    "    result = _parse_onion(onion)\n",
    "    assert result == expected, f\"Expected:\\n{expected}\\nResult:\\n{result}\""
   ]
  },
  {
   "cell_type": "code",
   "execution_count": null,
   "metadata": {
    "ExecuteTime": {
     "end_time": "2021-07-21T23:36:15.181033Z",
     "start_time": "2021-07-21T23:36:15.171680Z"
    }
   },
   "outputs": [],
   "source": [
    "def test_onion_simple():\n",
    "    \"\"\"\n",
    "    simple Onion object created from 'smuggle' statement with no onion \n",
    "    comment.\n",
    "        `smuggle foo`\n",
    "    \"\"\"\n",
    "    onion = davos.core.core.Onion('foo', installer='pip', args_str=\"\"\"\"\"\")\n",
    "    assert onion.install_package == onion._pip_install_package, (\n",
    "        f\"Expected:\\n{onion._pip_install_package}\\nFound:\\n\"\n",
    "        f\"{onion.install_package}\"\n",
    "    )\n",
    "    assert onion.build is None, f\"Expected: None\\nFound: {onion.build}\"\n",
    "    assert onion.cache_key == 'pip;', (\n",
    "        f\"Expected:\\npip;\\nFound:\\n{onion.cache_key}\"\n",
    "    )\n",
    "    assert onion.verbosity == 0, f\"Expected: 0\\nFound: {onion.verbosity}\"\n",
    "    assert onion.install_name == 'foo', (\n",
    "        f\"Expected\\nfoo\\nFound:\\n{onion.install_name}\"\n",
    "    )\n",
    "    assert onion.version_spec == '', (\n",
    "        f\"Expected: ''\\nFound: {onion.version_spec}\"\n",
    "    )"
   ]
  },
  {
   "cell_type": "code",
   "execution_count": null,
   "metadata": {
    "ExecuteTime": {
     "end_time": "2021-07-21T23:36:15.194840Z",
     "start_time": "2021-07-21T23:36:15.183258Z"
    }
   },
   "outputs": [],
   "source": [
    "def test_onion_simple_onion():\n",
    "    \"\"\"\n",
    "    like above, but with a relatively simple onion comment\n",
    "        `smuggle foo    # pip: foo==0.0.1 -vv`\n",
    "    \"\"\"\n",
    "    installer_kwargs = {\n",
    "        'editable': False, \n",
    "        'spec': 'foo==0.0.1', \n",
    "        'verbosity': 2\n",
    "    }\n",
    "    onion = davos.core.core.Onion('foo', \n",
    "                                  installer='pip', \n",
    "                                  args_str=\"\"\"foo==0.0.1 -vv\"\"\", \n",
    "                                  **installer_kwargs)\n",
    "    assert onion.install_package == onion._pip_install_package, (\n",
    "        f\"Expected:\\n{onion._pip_install_package}\\nFound:\\n\"\n",
    "        f\"{onion.install_package}\"\n",
    "    )\n",
    "    assert onion.build is None, f\"Expected: None\\nFound: {onion.build}\"\n",
    "    assert onion.cache_key == 'pip;foo==0.0.1;-vv', (\n",
    "        f\"Expected:\\npip;foo==0.0.1;-vv\\nFound:\\n{onion.cache_key}\"\n",
    "    )\n",
    "    assert onion.verbosity == 2, f\"Expected: 2\\nFound: {onion.verbosity}\"\n",
    "    assert onion.install_name == 'foo', (\n",
    "        f\"Expected\\nfoo\\nFound:\\n{onion.install_name}\"\n",
    "    )\n",
    "    assert onion.version_spec == '==0.0.1', (\n",
    "        f\"Expected: '==0.0.1'\\nFound: {onion.version_spec}\"\n",
    "    )"
   ]
  },
  {
   "cell_type": "code",
   "execution_count": null,
   "metadata": {
    "ExecuteTime": {
     "end_time": "2021-07-21T23:36:15.207819Z",
     "start_time": "2021-07-21T23:36:15.196871Z"
    }
   },
   "outputs": [],
   "source": [
    "def test_onion_different_install_name():\n",
    "    \"\"\"\n",
    "    a package imported under a different name than is used to install it\n",
    "        `smuggle foo    # pip: --editable foo-pkg==0.0.1`\n",
    "    \"\"\"\n",
    "    installer_kwargs = {\n",
    "        'editable': True, \n",
    "        'spec': 'foo-pkg==0.0.1'\n",
    "    }\n",
    "    onion = davos.core.core.Onion('foo', \n",
    "                                  installer='pip', \n",
    "                                  args_str=\"\"\"--editable foo-pkg==0.0.1\"\"\", \n",
    "                                  **installer_kwargs)\n",
    "    assert onion.install_package == onion._pip_install_package, (\n",
    "        f\"Expected:\\n{onion._pip_install_package}\\nFound:\\n\"\n",
    "        f\"{onion.install_package}\"\n",
    "    )\n",
    "    assert onion.build is None, f\"Expected: None\\nFound: {onion.build}\"\n",
    "    assert onion.cache_key == 'pip;--editable;foo-pkg==0.0.1', (\n",
    "        f\"Expected:\\npip;--editable;foo==0.0.1\\nFound:\\n{onion.cache_key}\"\n",
    "    )\n",
    "    assert onion.verbosity == 0, f\"Expected: 2\\nFound: {onion.verbosity}\"\n",
    "    assert onion.install_name == 'foo-pkg', (\n",
    "        f\"Expected\\nfoo-pkg\\nFound:\\n{onion.install_name}\"\n",
    "    )\n",
    "    assert onion.version_spec == '==0.0.1', (\n",
    "        f\"Expected: '==0.0.1'\\nFound: {onion.version_spec}\"\n",
    "    )"
   ]
  },
  {
   "cell_type": "code",
   "execution_count": null,
   "metadata": {
    "ExecuteTime": {
     "end_time": "2021-07-21T23:36:15.214532Z",
     "start_time": "2021-07-21T23:36:15.210439Z"
    }
   },
   "outputs": [],
   "source": [
    "def test_onion_conda_raises():\n",
    "    \"\"\"passing 'installer=\"conda\"' should raise NotImplementedError\"\"\"\n",
    "    with raises(NotImplementedError):\n",
    "        onion = davos.core.core.Onion('foo', installer='conda', args_str=\"\"\"\"\"\")"
   ]
  },
  {
   "cell_type": "code",
   "execution_count": null,
   "metadata": {
    "ExecuteTime": {
     "end_time": "2021-07-21T23:36:15.220797Z",
     "start_time": "2021-07-21T23:36:15.217071Z"
    }
   },
   "outputs": [],
   "source": [
    "def test_onion_bad_installer_raises():\n",
    "    \"\"\"should throw an error if passed an unrecognized installer\"\"\"\n",
    "    with raises(davos.core.exceptions.OnionParserError):\n",
    "        onion = davos.core.core.Onion('foo', installer='apt', args_str=\"\"\"\"\"\")"
   ]
  },
  {
   "cell_type": "code",
   "execution_count": null,
   "metadata": {
    "ExecuteTime": {
     "end_time": "2021-07-21T23:36:15.236140Z",
     "start_time": "2021-07-21T23:36:15.223628Z"
    }
   },
   "outputs": [],
   "source": [
    "def test_onion_vcs_simple():\n",
    "    \"\"\"\n",
    "    relatively simple VCS (GitHub) URL without modifiers\n",
    "        `smuggle bar    # pip: git+https://github.com/foo/bar.git`\n",
    "    \"\"\"\n",
    "    installer_kwargs = {\n",
    "        'editable': False,\n",
    "        'spec': 'git+https://github.com/foo/bar.git'\n",
    "    }\n",
    "    onion = davos.core.core.Onion('bar', \n",
    "                                  installer='pip', \n",
    "                                  args_str=\"\"\"git+https://github.com/foo/bar.git\"\"\", \n",
    "                                  **installer_kwargs)\n",
    "    assert onion.install_package == onion._pip_install_package, (\n",
    "        f\"Expected:\\n{onion._pip_install_package}\\nFound:\\n\"\n",
    "        f\"{onion.install_package}\"\n",
    "    )\n",
    "    assert onion.build is None, f\"Expected: None\\nFound: {onion.build}\"\n",
    "    assert onion.cache_key == 'pip;git+https://github.com/foo/bar.git', (\n",
    "        \"Expected:\\npip;git+https://github.com/foo/bar.git\\nFound:\\n\"\n",
    "        f\"{onion.cache_key}\"\n",
    "    )\n",
    "    assert onion.verbosity == 0, f\"Expected: 0\\nFound: {onion.verbosity}\"\n",
    "    assert onion.install_name == 'git+https://github.com/foo/bar.git', (\n",
    "        \"Expected\\ngit+https://github.com/foo/bar.git\\nFound:\\n\"\n",
    "        f\"{onion.install_name}\"\n",
    "    )\n",
    "    assert onion.version_spec == '', (\n",
    "        f\"Expected: ''\\nFound: {onion.version_spec}\"\n",
    "    )"
   ]
  },
  {
   "cell_type": "code",
   "execution_count": null,
   "metadata": {
    "ExecuteTime": {
     "end_time": "2021-07-21T23:36:15.251854Z",
     "start_time": "2021-07-21T23:36:15.238630Z"
    }
   },
   "outputs": [],
   "source": [
    "def test_onion_vcs_ref():\n",
    "    \"\"\"\n",
    "    same as above, but the GitHub URL contains a reference to a specific \n",
    "    revision (commit, branch, tag, etc.)\n",
    "        `smuggle bar    # pip: git+https://github.com/foo/bar.git@ref`\n",
    "    \"\"\"\n",
    "    installer_kwargs = {\n",
    "        'editable': False,\n",
    "        'spec': 'git+https://github.com/foo/bar.git@ref'\n",
    "    }\n",
    "    onion = davos.core.core.Onion('bar', \n",
    "                                  installer='pip', \n",
    "                                  args_str=\"\"\"git+https://github.com/foo/bar.git@ref\"\"\", \n",
    "                                  **installer_kwargs)\n",
    "    assert onion.install_package == onion._pip_install_package, (\n",
    "        f\"Expected:\\n{onion._pip_install_package}\\nFound:\\n\"\n",
    "        f\"{onion.install_package}\"\n",
    "    )\n",
    "    assert onion.build is None, f\"Expected: None\\nFound: {onion.build}\"\n",
    "    assert onion.cache_key == 'pip;git+https://github.com/foo/bar.git@ref', (\n",
    "        \"Expected:\\npip;git+https://github.com/foo/bar.git@ref\\nFound:\\n\"\n",
    "        f\"{onion.cache_key}\"\n",
    "    )\n",
    "    assert onion.verbosity == 0, f\"Expected: 0\\nFound: {onion.verbosity}\"\n",
    "    assert onion.install_name == 'git+https://github.com/foo/bar.git', (\n",
    "        \"Expected\\ngit+https://github.com/foo/bar.git\\nFound:\\n\"\n",
    "        f\"{onion.install_name}\"\n",
    "    )\n",
    "    assert onion.version_spec == '@ref', (\n",
    "        f\"Expected: '@ref'\\nFound: {onion.version_spec}\"\n",
    "    )"
   ]
  },
  {
   "cell_type": "code",
   "execution_count": null,
   "metadata": {
    "ExecuteTime": {
     "end_time": "2021-07-21T23:36:15.267486Z",
     "start_time": "2021-07-21T23:36:15.254087Z"
    }
   },
   "outputs": [],
   "source": [
    "def test_onion_vcs_ref_egg():\n",
    "    \"\"\"\n",
    "    same as above, but the GitHub URL also specifies the project name \n",
    "    via the '#egg=' component of the URL\n",
    "        `smuggle bar    # pip: git+https://github.com/foo/bar.git@ref#bar`\n",
    "    \"\"\"\n",
    "    installer_kwargs = {\n",
    "        'editable': False,\n",
    "        'spec': 'git+https://github.com/foo/bar.git@ref#bar'\n",
    "    }\n",
    "    onion = davos.core.core.Onion('bar', \n",
    "                                  installer='pip', \n",
    "                                  args_str=\"\"\"git+https://github.com/foo/bar.git@ref#bar\"\"\", \n",
    "                                  **installer_kwargs)\n",
    "    assert onion.install_package == onion._pip_install_package, (\n",
    "        f\"Expected:\\n{onion._pip_install_package}\\nFound:\\n\"\n",
    "        f\"{onion.install_package}\"\n",
    "    )\n",
    "    assert onion.build is None, f\"Expected: None\\nFound: {onion.build}\"\n",
    "    assert onion.cache_key == 'pip;git+https://github.com/foo/bar.git@ref#bar', (\n",
    "        \"Expected:\\npip;git+https://github.com/foo/bar.git@ref#bar\\nFound:\\n\"\n",
    "        f\"{onion.cache_key}\"\n",
    "    )\n",
    "    assert onion.verbosity == 0, f\"Expected: 0\\nFound: {onion.verbosity}\"\n",
    "    assert onion.install_name == 'git+https://github.com/foo/bar.git#bar', (\n",
    "        \"Expected\\ngit+https://github.com/foo/bar.git#bar\\nFound:\\n\"\n",
    "        f\"{onion.install_name}\"\n",
    "    )\n",
    "    assert onion.version_spec == '@ref', (\n",
    "        f\"Expected: '@ref'\\nFound: {onion.version_spec}\"\n",
    "    )"
   ]
  },
  {
   "cell_type": "code",
   "execution_count": null,
   "metadata": {
    "ExecuteTime": {
     "end_time": "2021-07-21T23:36:15.284556Z",
     "start_time": "2021-07-21T23:36:15.270481Z"
    }
   },
   "outputs": [],
   "source": [
    "def test_onion_vcs_ref_egg_subdir():\n",
    "    \"\"\"\n",
    "    same as above, but the GitHub URL also specifies the subdirectory \n",
    "    path of the package within the repository via the '&subdirectory=' \n",
    "    component of the URL\n",
    "        `smuggle bar    # pip: git+https://github.com/foo/bar.git@ref#bar&subdirectory=/baz/qux`\n",
    "    \"\"\"\n",
    "    installer_kwargs = {\n",
    "        'editable': False,\n",
    "        'spec': 'git+https://github.com/foo/bar.git@ref#bar&subdirectory=/baz/qux'\n",
    "    }\n",
    "    onion = davos.core.core.Onion('bar', \n",
    "                                  installer='pip', \n",
    "                                  args_str=\"\"\"git+https://github.com/foo/bar.git@ref#bar&subdirectory=/baz/qux\"\"\", \n",
    "                                  **installer_kwargs)\n",
    "    assert onion.install_package == onion._pip_install_package, (\n",
    "        f\"Expected:\\n{onion._pip_install_package}\\nFound:\\n\"\n",
    "        f\"{onion.install_package}\"\n",
    "    )\n",
    "    assert onion.build is None, f\"Expected: None\\nFound: {onion.build}\"\n",
    "    assert onion.cache_key == 'pip;git+https://github.com/foo/bar.git@ref#bar&subdirectory=/baz/qux', (\n",
    "        \"Expected:\\npip;git+https://github.com/foo/bar.git@ref#bar&subdirectory=/baz/qux\\nFound:\\n\"\n",
    "        f\"{onion.cache_key}\"\n",
    "    )\n",
    "    assert onion.verbosity == 0, f\"Expected: 0\\nFound: {onion.verbosity}\"\n",
    "    assert onion.install_name == 'git+https://github.com/foo/bar.git#bar&subdirectory=/baz/qux', (\n",
    "        \"Expected\\ngit+https://github.com/foo/bar.git#bar\\nFound:\\n\"\n",
    "        f\"{onion.install_name}\"\n",
    "    )\n",
    "    assert onion.version_spec == '@ref', (\n",
    "        f\"Expected: '@ref'\\nFound: {onion.version_spec}\"\n",
    "    )"
   ]
  },
  {
   "cell_type": "code",
   "execution_count": null,
   "metadata": {
    "ExecuteTime": {
     "end_time": "2021-07-21T23:36:15.300473Z",
     "start_time": "2021-07-21T23:36:15.286833Z"
    }
   },
   "outputs": [],
   "source": [
    "def test_onion_local():\n",
    "    \"\"\"\n",
    "    package installed (in editable mode) from a local directory\n",
    "        `smuggle foo    # pip: -e /path/to/foo`\n",
    "    \"\"\"\n",
    "    installer_kwargs = {\n",
    "        'editable': True,\n",
    "        'spec': '/path/to/foo'\n",
    "    }\n",
    "    onion = davos.core.core.Onion('foo', \n",
    "                                  installer='pip', \n",
    "                                  args_str=\"\"\"-e /path/to/foo\"\"\", \n",
    "                                  **installer_kwargs)\n",
    "    assert onion.install_package == onion._pip_install_package, (\n",
    "        f\"Expected:\\n{onion._pip_install_package}\\nFound:\\n\"\n",
    "        f\"{onion.install_package}\"\n",
    "    )\n",
    "    assert onion.build is None, f\"Expected: None\\nFound: {onion.build}\"\n",
    "    assert onion.cache_key == 'pip;-e;/path/to/foo', (\n",
    "        \"Expected:\\npip;-e;/path/to/foo\\nFound:\\n\"\n",
    "        f\"{onion.cache_key}\"\n",
    "    )\n",
    "    assert onion.verbosity == 0, f\"Expected: 0\\nFound: {onion.verbosity}\"\n",
    "    assert onion.install_name == '/path/to/foo', (\n",
    "        \"Expected\\n/path/to/foo\\nFound:\\n\"\n",
    "        f\"{onion.install_name}\"\n",
    "    )\n",
    "    assert onion.version_spec == '', (\n",
    "        f\"Expected: ''\\nFound: {onion.version_spec}\"\n",
    "    )"
   ]
  },
  {
   "cell_type": "code",
   "execution_count": null,
   "metadata": {
    "ExecuteTime": {
     "end_time": "2021-07-21T23:36:15.316198Z",
     "start_time": "2021-07-21T23:36:15.302721Z"
    }
   },
   "outputs": [],
   "source": [
    "def test_onion_pep440_direct_reference():\n",
    "    \"\"\"\n",
    "    package installed from a remote source archive file. See \n",
    "    https://www.python.org/dev/peps/pep-0440/\n",
    "        `smuggle foo    # pip: -v foo@https://bar.repo/foo-0.0.1-non-any.whl`\n",
    "    \"\"\"\n",
    "    installer_kwargs = {\n",
    "        'editable': False,\n",
    "        'spec': 'foo@https://bar.repo/foo-0.0.1-non-any.whl',\n",
    "        'verbosity': 1\n",
    "    }\n",
    "    onion = davos.core.core.Onion('foo', \n",
    "                                  installer='pip', \n",
    "                                  args_str=\"\"\"-v foo@https://bar.repo/foo-0.0.1-non-any.whl\"\"\", \n",
    "                                  **installer_kwargs)\n",
    "    assert onion.install_package == onion._pip_install_package, (\n",
    "        f\"Expected:\\n{onion._pip_install_package}\\nFound:\\n\"\n",
    "        f\"{onion.install_package}\"\n",
    "    )\n",
    "    assert onion.build is None, f\"Expected: None\\nFound: {onion.build}\"\n",
    "    assert onion.cache_key == 'pip;-v;foo@https://bar.repo/foo-0.0.1-non-any.whl', (\n",
    "        \"Expected:\\npip;-v;foo@https://bar.repo/foo-0.0.1-non-any.whl\\nFound:\\n\"\n",
    "        f\"{onion.cache_key}\"\n",
    "    )\n",
    "    assert onion.verbosity == 1, f\"Expected: 1\\nFound: {onion.verbosity}\"\n",
    "    assert onion.install_name == 'foo@https://bar.repo/foo-0.0.1-non-any.whl', (\n",
    "        \"Expected\\nfoo@https://bar.repo/foo-0.0.1-non-any.whl\\nFound:\\n{onion.install_name}\"\n",
    "    )\n",
    "    assert onion.version_spec == '', (\n",
    "        f\"Expected: ''\\nFound: {onion.version_spec}\"\n",
    "    )"
   ]
  },
  {
   "cell_type": "code",
   "execution_count": null,
   "metadata": {
    "ExecuteTime": {
     "end_time": "2021-07-21T23:36:15.332404Z",
     "start_time": "2021-07-21T23:36:15.318520Z"
    }
   },
   "outputs": [],
   "source": [
    "def test_onion_complex_version():\n",
    "    \"\"\"\n",
    "    onion comment that constrains the smuggled package version using \n",
    "    multiple specifiers. -v/--verbose are passed in a somewhat \n",
    "    unrealistic way, but it's meant to test isolating the version \n",
    "    specifier from other arugments both before and after it\n",
    "        `smuggle foo    # pip: -v foo-pkg>=1.0.1,<2 --verbose`\n",
    "    \"\"\"\n",
    "    installer_kwargs = {\n",
    "        'editable': False,\n",
    "        'spec': 'foo-pkg>=1.0.1,<2',\n",
    "        'verbosity': 2\n",
    "    }\n",
    "    onion = davos.core.core.Onion('foo', \n",
    "                                  installer='pip', \n",
    "                                  args_str=\"\"\"-v foo-pkg>=1.0.1,<2 --verbose\"\"\", \n",
    "                                  **installer_kwargs)\n",
    "    assert onion.install_package == onion._pip_install_package, (\n",
    "        f\"Expected:\\n{onion._pip_install_package}\\nFound:\\n\"\n",
    "        f\"{onion.install_package}\"\n",
    "    )\n",
    "    assert onion.build is None, f\"Expected: None\\nFound: {onion.build}\"\n",
    "    assert onion.cache_key == 'pip;-v;foo-pkg>=1.0.1,<2;--verbose', (\n",
    "        f\"Expected:\\npip;-v;foo-pkg>=1.0.1,<2;--verbose\\nFound:\\n{onion.cache_key}\"\n",
    "    )\n",
    "    assert onion.verbosity == 2, f\"Expected: 1\\nFound: {onion.verbosity}\"\n",
    "    assert onion.install_name == 'foo-pkg', (\n",
    "        f\"Expected\\nfoo-pkg\\nFound:\\n{onion.install_name}\"\n",
    "    )\n",
    "    assert onion.version_spec == '>=1.0.1,<2', (\n",
    "        f\"Expected: '>=1.0.1,<2'\\nFound: {onion.version_spec}\"\n",
    "    )"
   ]
  },
  {
   "cell_type": "code",
   "execution_count": null,
   "metadata": {
    "ExecuteTime": {
     "end_time": "2021-07-21T23:36:15.338601Z",
     "start_time": "2021-07-21T23:36:15.334869Z"
    }
   },
   "outputs": [],
   "source": [
    "def test_onion_is_installed_stdlib():\n",
    "    \"\"\"\n",
    "    Onion.is_installed property should always return True for standard \n",
    "    library modules\n",
    "    \"\"\"\n",
    "    test_mods = ('ast', 'base64', 'collections', 'datetime', 'enum')\n",
    "    for mod in test_mods:\n",
    "        onion = davos.core.core.Onion(mod, installer='pip', args_str=\"\"\"\"\"\")\n",
    "        assert onion.is_installed, (\n",
    "            f\"Expected standard library module '{mod}' to be installed\"\n",
    "        )"
   ]
  },
  {
   "cell_type": "code",
   "execution_count": null,
   "metadata": {
    "ExecuteTime": {
     "end_time": "2021-07-21T23:36:15.345869Z",
     "start_time": "2021-07-21T23:36:15.340741Z"
    }
   },
   "outputs": [],
   "source": [
    "def test_onion_is_installed_args_false():\n",
    "    \"\"\"\n",
    "    Onion.is_installed property should always return False when these \n",
    "    arguments are supplied. Test using a package that is definitely \n",
    "    installed to make sure the presence of these arguments is actually \n",
    "    responsible for the False return value\n",
    "    \"\"\"\n",
    "    always_false_args = ('--force-reinstall', '--ignore-installed', '--upgrade')\n",
    "    for arg in always_false_args:\n",
    "        kwarg_form = arg.lstrip('-').replace('-', '_')\n",
    "        installer_kwargs = {\n",
    "            'editable': False, \n",
    "            kwarg_form: True, \n",
    "            'spec': 'IPython'\n",
    "        }\n",
    "        onion = davos.core.core.Onion('IPython', \n",
    "                                      installer='pip', \n",
    "                                      args_str=f\"\"\"{arg} IPython\"\"\", \n",
    "                                      **installer_kwargs)\n",
    "        assert not onion.is_installed, (\n",
    "            f\"Passing {arg} should cause onion.is_installed to return False\"\n",
    "        )"
   ]
  },
  {
   "cell_type": "code",
   "execution_count": null,
   "metadata": {
    "ExecuteTime": {
     "end_time": "2021-07-21T23:36:15.354092Z",
     "start_time": "2021-07-21T23:36:15.348617Z"
    }
   },
   "outputs": [],
   "source": [
    "def test_onion_is_installed_vcs_false():\n",
    "    \"\"\"\n",
    "    Onion.is_installed property should always return False when the \n",
    "    onion comment specifies a VCS URL, since there's no way to compare \n",
    "    the state of a local installation to the remote repository (e.g., by \n",
    "    commit hash). Like above, test using a package that's definitely \n",
    "    installed, for which onion.is_installed would otherwise be True.\n",
    "    \"\"\"\n",
    "    installer_kwargs = {\n",
    "        'editable': False,\n",
    "        'spec': 'git+https://github.com/ipython/ipython.git'\n",
    "    }\n",
    "    onion = davos.core.core.Onion('bar', \n",
    "                                  installer='pip', \n",
    "                                  args_str=\"\"\"git+https://github.com/ipython/ipython.git\"\"\", \n",
    "                                  **installer_kwargs)\n",
    "    \n",
    "    assert not onion.is_installed, (\n",
    "        \"specifying a VCS URL should always cause onion.is_installed to \"\n",
    "        \"return False\"\n",
    "    )"
   ]
  },
  {
   "cell_type": "code",
   "execution_count": null,
   "metadata": {
    "ExecuteTime": {
     "end_time": "2021-07-21T23:36:15.360263Z",
     "start_time": "2021-07-21T23:36:15.356146Z"
    }
   },
   "outputs": [],
   "source": [
    "def test_onion_is_installed_nonmatching_package():\n",
    "    \"\"\"\n",
    "    Test result of Onion.is_installed searching installed package \n",
    "    distributions for a package that *IS NOT* installed locally\n",
    "    \"\"\"\n",
    "    installer_kwargs = {\n",
    "        'editable': False,\n",
    "        'spec': 'FakePackage'\n",
    "    }\n",
    "    onion = davos.core.core.Onion('FakePackage', \n",
    "                                  installer='pip', \n",
    "                                  args_str=\"\"\"\"\"\", \n",
    "                                  **installer_kwargs)\n",
    "    \n",
    "    assert not onion.is_installed, (\n",
    "        \"Should not have found local installation of 'FakePackage'\"\n",
    "    )"
   ]
  },
  {
   "cell_type": "code",
   "execution_count": null,
   "metadata": {
    "ExecuteTime": {
     "end_time": "2021-07-21T23:36:15.366651Z",
     "start_time": "2021-07-21T23:36:15.362473Z"
    }
   },
   "outputs": [],
   "source": [
    "def test_onion_is_installed_matching_package():\n",
    "    \"\"\"\n",
    "    Test result of Onion.is_installed searching installed package \n",
    "    distributions for a package that *IS* installed locally, with no \n",
    "    version constraints\n",
    "    \"\"\"\n",
    "    installer_kwargs = {\n",
    "        'editable': False,\n",
    "        'spec': 'IPython'\n",
    "    }\n",
    "    onion = davos.core.core.Onion('IPython', \n",
    "                                  installer='pip', \n",
    "                                  args_str=\"\"\"IPython\"\"\", \n",
    "                                  **installer_kwargs)\n",
    "    \n",
    "    assert onion.is_installed, \"Failed to find local IPython installation\""
   ]
  },
  {
   "cell_type": "code",
   "execution_count": null,
   "metadata": {
    "ExecuteTime": {
     "end_time": "2021-07-21T23:36:15.374454Z",
     "start_time": "2021-07-21T23:36:15.369565Z"
    }
   },
   "outputs": [],
   "source": [
    "def test_onion_is_installed_nonmatching_version():\n",
    "    \"\"\"\n",
    "    Test result of Onion.is_installed searching installed package \n",
    "    distributions for a package that *IS* installed locally, but whose \n",
    "    local installation *DOES NOT* satisfy the requested version \n",
    "    constraint\n",
    "    \"\"\"\n",
    "    installer_kwargs = {\n",
    "        'editable': False,\n",
    "        'spec': 'IPython<=2.3.4'\n",
    "    }\n",
    "    onion = davos.core.core.Onion('IPython', \n",
    "                                  installer='pip', \n",
    "                                  args_str=\"\"\"IPython<=2.3.4\"\"\", \n",
    "                                  **installer_kwargs)\n",
    "    \n",
    "    assert not onion.is_installed, (\n",
    "        \"Should not have found local installation satisfying \"\n",
    "        f\"'IPython<=2.3.4'. Local version is '{IPython.__version__}'\"\n",
    "    )"
   ]
  },
  {
   "cell_type": "code",
   "execution_count": null,
   "metadata": {
    "ExecuteTime": {
     "end_time": "2021-07-21T23:36:15.380939Z",
     "start_time": "2021-07-21T23:36:15.376932Z"
    }
   },
   "outputs": [],
   "source": [
    "def test_onion_is_installed_matching_version():\n",
    "    \"\"\"\n",
    "    Test result of Onion.is_installed searching installed package \n",
    "    distributions for a package that *IS* installed locally, and whose \n",
    "    local installation *DOES* satisfy the requested version constraint\n",
    "    \"\"\"\n",
    "    \n",
    "    installer_kwargs = {\n",
    "        'editable': False,\n",
    "        'spec': f'IPython=={IPython.__version__}'\n",
    "    }\n",
    "    onion = davos.core.core.Onion('IPython', \n",
    "                                  installer='pip', \n",
    "                                  args_str=f\"\"\"IPython=={IPython.__version__}\"\"\", \n",
    "                                  **installer_kwargs)\n",
    "    \n",
    "    assert onion.is_installed, (\n",
    "        \"Failed to find local IPython installation matching locally \"\n",
    "        f\"installed version ({IPython.__version__})\"\n",
    "    )"
   ]
  },
  {
   "cell_type": "code",
   "execution_count": null,
   "metadata": {
    "ExecuteTime": {
     "end_time": "2021-07-21T23:36:15.393525Z",
     "start_time": "2021-07-21T23:36:15.383177Z"
    }
   },
   "outputs": [],
   "source": [
    "def test_pip_install_package_fail():\n",
    "    \"\"\"test handling of install shell command that fails\"\"\"\n",
    "    onion = davos.core.core.Onion('foo', installer='pip', args_str=\"\"\"\"\"\")\n",
    "    \n",
    "    expected_returncode = 1\n",
    "    expected_cmd = onion.install_cmd\n",
    "    expected_output = \"Expected stdout string\"\n",
    "    expected_stderr = \"Expected stderr string\"\n",
    "    \n",
    "    old_run_shell_command = davos.core.core.run_shell_command\n",
    "    \n",
    "    def _mock_run_shell_command(command, live_stdout=None):\n",
    "        if command == onion.install_cmd:\n",
    "            raise CalledProcessError(returncode=expected_returncode, \n",
    "                                     cmd=expected_cmd, \n",
    "                                     output=expected_output, \n",
    "                                     stderr=expected_stderr)\n",
    "        else:\n",
    "            return old_run_shell_command(command, live_stdout=live_stdout)\n",
    "        \n",
    "    try:\n",
    "        davos.core.core.run_shell_command = _mock_run_shell_command\n",
    "        with raises(davos.core.exceptions.InstallerError) as excinfo:\n",
    "            onion._pip_install_package()\n",
    "        \n",
    "        exc_value = excinfo.value\n",
    "        result_returncode = exc_value.returncode\n",
    "        result_cmd = exc_value.cmd\n",
    "        result_output = exc_value.output\n",
    "        result_stderr = exc_value.stderr\n",
    "        \n",
    "        assert result_returncode == expected_returncode, result_returncode\n",
    "        assert result_cmd == expected_cmd, result_cmd\n",
    "        assert result_output == expected_output, result_output\n",
    "        assert result_stderr == expected_stderr, result_stderr\n",
    "        \n",
    "    finally:\n",
    "        davos.core.core.run_shell_command = old_run_shell_command"
   ]
  },
  {
   "cell_type": "code",
   "execution_count": null,
   "metadata": {
    "ExecuteTime": {
     "end_time": "2021-07-21T23:36:15.403668Z",
     "start_time": "2021-07-21T23:36:15.395659Z"
    }
   },
   "outputs": [],
   "source": [
    "def test_pip_install_package_target_prepend_syspath():\n",
    "    \"\"\"\n",
    "    when installing a package in a specified --target directory that is \n",
    "    not already in sys.path, the directory should be prepended to \n",
    "    sys.path\n",
    "    \"\"\"\n",
    "    old_run_shell_command = davos.core.core.run_shell_command\n",
    "    old_syspath = sys.path[:]\n",
    "    tmpdir = Path('tmpdir')\n",
    "    installer_kwargs = {\n",
    "        'editable': False,\n",
    "        'spec': 'foo',\n",
    "        'target': 'tmpdir'\n",
    "    }\n",
    "    onion = davos.core.core.Onion('foo', \n",
    "                                  installer='pip', \n",
    "                                  args_str=\"\"\"foo --target tmpdir\"\"\", \n",
    "                                  **installer_kwargs)\n",
    "    mock_stdout = \"stdout from pip-installing 'foo' in tmpdir/\"\n",
    "        \n",
    "    def _mock_run_shell_command(command, live_stdout=None):\n",
    "        if command == onion.install_cmd:\n",
    "            return mock_stdout\n",
    "        else:\n",
    "            return old_run_shell_command(command, live_stdout=live_stdout)\n",
    "\n",
    "    try:\n",
    "        tmpdir.mkdir()\n",
    "        assert str(tmpdir) not in sys.path, f\"{tmpdir} already in sys.path\"\n",
    "        davos.core.core.run_shell_command = _mock_run_shell_command\n",
    "        onion._pip_install_package()\n",
    "        assert sys.path[0] == str(tmpdir), (\n",
    "            f\"{tmpdir} was not prepended to sys.path\\nsys.path:\\n{sys.path}\")\n",
    "        \n",
    "    finally:\n",
    "        davos.core.core.run_shell_command = old_run_shell_command\n",
    "        sys.path = old_syspath\n",
    "        if tmpdir.is_dir():\n",
    "            tmpdir.rmdir()"
   ]
  },
  {
   "cell_type": "code",
   "execution_count": null,
   "metadata": {
    "ExecuteTime": {
     "end_time": "2021-07-21T23:36:15.409811Z",
     "start_time": "2021-07-21T23:36:15.405672Z"
    }
   },
   "outputs": [],
   "source": [
    "def test_parser_handles_basic_line():\n",
    "    \"\"\"simplest use case\"\"\"\n",
    "    line = \"smuggle foo\"\n",
    "    expected = expected_parser_output('foo')\n",
    "    assert matches_expected_output(expected, _parse_line(line))"
   ]
  },
  {
   "cell_type": "code",
   "execution_count": null,
   "metadata": {
    "ExecuteTime": {
     "end_time": "2021-07-21T23:36:15.417146Z",
     "start_time": "2021-07-21T23:36:15.412820Z"
    }
   },
   "outputs": [],
   "source": [
    "def test_parser_handles_basic_line_alias():\n",
    "    \"\"\"simplest use case, plus alias\"\"\"\n",
    "    line = \"smuggle foo as bar\"\n",
    "    expected = expected_parser_output('foo', as_='bar')\n",
    "    assert matches_expected_output(expected, _parse_line(line))"
   ]
  },
  {
   "cell_type": "code",
   "execution_count": null,
   "metadata": {
    "ExecuteTime": {
     "end_time": "2021-07-21T23:36:15.424408Z",
     "start_time": "2021-07-21T23:36:15.420136Z"
    }
   },
   "outputs": [],
   "source": [
    "def test_parser_handles_basic_line_onion():\n",
    "    \"\"\"simplest use case, with onion comment\"\"\"\n",
    "    line = \"smuggle foo as bar    # pip: foo==0.0.1\"\n",
    "    expected = expected_parser_output('foo', as_='bar', args_str='foo==0.0.1')\n",
    "    assert matches_expected_output(expected, _parse_line(line))"
   ]
  },
  {
   "cell_type": "code",
   "execution_count": null,
   "metadata": {
    "ExecuteTime": {
     "end_time": "2021-07-21T23:36:15.431400Z",
     "start_time": "2021-07-21T23:36:15.426631Z"
    }
   },
   "outputs": [],
   "source": [
    "def test_parser_handles_smuggle_qualname():\n",
    "    line = \"smuggle foo.bar as baz\"\n",
    "    expected = expected_parser_output('foo.bar', as_='baz')\n",
    "    assert matches_expected_output(expected, _parse_line(line))"
   ]
  },
  {
   "cell_type": "code",
   "execution_count": null,
   "metadata": {
    "ExecuteTime": {
     "end_time": "2021-07-21T23:36:15.441054Z",
     "start_time": "2021-07-21T23:36:15.434111Z"
    }
   },
   "outputs": [],
   "source": [
    "def test_parser_handles_indented_line():\n",
    "    \"\"\"\n",
    "    needs to handle, e.g.\n",
    "        ```\n",
    "        def foo():\n",
    "            smuggle numpy as np\n",
    "        ```\n",
    "    Note: unless `davos.deactivate() is run, the above line will \n",
    "    actually be parsed (though it will have no effect)\n",
    "    \"\"\"\n",
    "    line = \"    smuggle foo as bar\"\n",
    "    expected = expected_parser_output('foo', as_='bar')\n",
    "    if IPython.version_info[0] >= 7:\n",
    "        expected[0] = \"    \" + expected[0]\n",
    "    else:\n",
    "        expected = \"    \" + expected\n",
    "    assert matches_expected_output(expected, _parse_line(line))"
   ]
  },
  {
   "cell_type": "code",
   "execution_count": null,
   "metadata": {
    "ExecuteTime": {
     "end_time": "2021-07-21T23:36:15.446580Z",
     "start_time": "2021-07-21T23:36:15.443804Z"
    }
   },
   "outputs": [],
   "source": [
    "test_parser_handles_indented_line()"
   ]
  },
  {
   "cell_type": "code",
   "execution_count": null,
   "metadata": {
    "ExecuteTime": {
     "end_time": "2021-07-21T23:36:15.454228Z",
     "start_time": "2021-07-21T23:36:15.449173Z"
    }
   },
   "outputs": [],
   "source": [
    "def test_parser_handles_different_install_name():\n",
    "    \"\"\"different names used to install and import package\"\"\"\n",
    "    line = \"smuggle foo as bar    # pip: foo-package==0.0.1\"\n",
    "    expected = expected_parser_output('foo', as_='bar', \n",
    "                                       args_str='foo-package==0.0.1')\n",
    "    assert matches_expected_output(expected, _parse_line(line))"
   ]
  },
  {
   "cell_type": "code",
   "execution_count": null,
   "metadata": {
    "ExecuteTime": {
     "end_time": "2021-07-21T23:36:15.461806Z",
     "start_time": "2021-07-21T23:36:15.456382Z"
    }
   },
   "outputs": [],
   "source": [
    "@mark.ipython_pre7\n",
    "def test_parser_handles_multi_pkgs_pre7():\n",
    "    line = \"smuggle foo as bar, baz as qux, spam, ham, eggs\"\n",
    "    expected = expected_parser_output('foo', as_='bar')\n",
    "    expected += f\"; {expected_parser_output('baz', as_='qux')}\"\n",
    "    expected += f\"; {expected_parser_output('spam')}\"\n",
    "    expected += f\"; {expected_parser_output('ham')}\"\n",
    "    expected += f\"; {expected_parser_output('eggs')}\"\n",
    "    assert matches_expected_output(expected, _parse_line(line))"
   ]
  },
  {
   "cell_type": "code",
   "execution_count": null,
   "metadata": {
    "ExecuteTime": {
     "end_time": "2021-07-21T23:36:15.472427Z",
     "start_time": "2021-07-21T23:36:15.464407Z"
    }
   },
   "outputs": [],
   "source": [
    "@mark.ipython_post7\n",
    "def test_parser_handles_multi_pkgs_post7():\n",
    "    line = \"smuggle foo as bar, baz as qux, spam, ham, eggs\"\n",
    "    expected = expected_parser_output('foo', as_='bar')\n",
    "    expected[0] = expected[0][:-1] + f\"; {expected_parser_output('baz', as_='qux')[0]}\"\n",
    "    expected[0] = expected[0][:-1] + f\"; {expected_parser_output('spam')[0]}\"\n",
    "    expected[0] = expected[0][:-1] + f\"; {expected_parser_output('ham')[0]}\"\n",
    "    expected[0] = expected[0][:-1] + f\"; {expected_parser_output('eggs')[0]}\"\n",
    "    assert matches_expected_output(expected, _parse_line(line))"
   ]
  },
  {
   "cell_type": "code",
   "execution_count": null,
   "metadata": {
    "ExecuteTime": {
     "end_time": "2021-07-21T23:36:15.479729Z",
     "start_time": "2021-07-21T23:36:15.474457Z"
    }
   },
   "outputs": [],
   "source": [
    "@mark.ipython_pre7\n",
    "def test_parser_handles_multi_pkgs_onion_pre7():\n",
    "    \"\"\"\n",
    "    onion info should be passed to smuggle function for FIRST package\n",
    "    \"\"\"\n",
    "    line = \"smuggle foo as bar, baz as qux, spam, ham, eggs    # pip: foo==0.0.1\"\n",
    "    expected = expected_parser_output('foo', as_='bar', args_str='foo==0.0.1')\n",
    "    expected += f\"; {expected_parser_output('baz', as_='qux')}\"\n",
    "    expected += f\"; {expected_parser_output('spam')}\"\n",
    "    expected += f\"; {expected_parser_output('ham')}\"\n",
    "    expected += f\"; {expected_parser_output('eggs')}\"\n",
    "    assert matches_expected_output(expected, _parse_line(line))"
   ]
  },
  {
   "cell_type": "code",
   "execution_count": null,
   "metadata": {
    "ExecuteTime": {
     "end_time": "2021-07-21T23:36:15.491312Z",
     "start_time": "2021-07-21T23:36:15.482206Z"
    }
   },
   "outputs": [],
   "source": [
    "@mark.ipython_post7\n",
    "def test_parser_handles_multi_pkgs_onion_post7():\n",
    "    \"\"\"\n",
    "    onion info should be passed to smuggle function for FIRST package\n",
    "    \"\"\"\n",
    "    line = \"smuggle foo as bar, baz as qux, spam, ham, eggs    # pip: foo==0.0.1\"\n",
    "    expected = expected_parser_output('foo', as_='bar', args_str='foo==0.0.1')\n",
    "    expected[0] = expected[0][:-1] + f\"; {expected_parser_output('baz', as_='qux')[0]}\"\n",
    "    expected[0] = expected[0][:-1] + f\"; {expected_parser_output('spam')[0]}\"\n",
    "    expected[0] = expected[0][:-1] + f\"; {expected_parser_output('ham')[0]}\"\n",
    "    expected[0] = expected[0][:-1] + f\"; {expected_parser_output('eggs')[0]}\"\n",
    "    assert matches_expected_output(expected, _parse_line(line))"
   ]
  },
  {
   "cell_type": "code",
   "execution_count": null,
   "metadata": {
    "ExecuteTime": {
     "end_time": "2021-07-21T23:36:15.498552Z",
     "start_time": "2021-07-21T23:36:15.493297Z"
    }
   },
   "outputs": [],
   "source": [
    "@mark.ipython_pre7\n",
    "def test_parser_handles_backslash_pre7():\n",
    "    line = \"\"\"smuggle foo as bar, \\\n",
    "                      baz as qux, \\\n",
    "                      spam, ham, \\\n",
    "                      eggs\"\"\"\n",
    "    expected = expected_parser_output('foo', as_='bar')\n",
    "    expected += f\"; {expected_parser_output('baz', as_='qux')}\"\n",
    "    expected += f\"; {expected_parser_output('spam')}\"\n",
    "    expected += f\"; {expected_parser_output('ham')}\"\n",
    "    expected += f\"; {expected_parser_output('eggs')}\"\n",
    "    assert matches_expected_output(expected, _parse_line(line))"
   ]
  },
  {
   "cell_type": "code",
   "execution_count": null,
   "metadata": {
    "ExecuteTime": {
     "end_time": "2021-07-21T23:36:15.508852Z",
     "start_time": "2021-07-21T23:36:15.500904Z"
    }
   },
   "outputs": [],
   "source": [
    "@mark.ipython_post7\n",
    "def test_parser_handles_backslash_post7():\n",
    "    line = \"\"\"smuggle foo as bar, \\\n",
    "                      baz as qux, \\\n",
    "                      spam, ham, \\\n",
    "                      eggs\"\"\"\n",
    "    expected = expected_parser_output('foo', as_='bar')\n",
    "    expected[0] = expected[0][:-1] + f\"; {expected_parser_output('baz', as_='qux')[0]}\"\n",
    "    expected[0] = expected[0][:-1] + f\"; {expected_parser_output('spam')[0]}\"\n",
    "    expected[0] = expected[0][:-1] + f\"; {expected_parser_output('ham')[0]}\"\n",
    "    expected[0] = expected[0][:-1] + f\"; {expected_parser_output('eggs')[0]}\"\n",
    "    assert matches_expected_output(expected, _parse_line(line))"
   ]
  },
  {
   "cell_type": "code",
   "execution_count": null,
   "metadata": {
    "ExecuteTime": {
     "end_time": "2021-07-21T23:36:15.518163Z",
     "start_time": "2021-07-21T23:36:15.512276Z"
    }
   },
   "outputs": [],
   "source": [
    "@mark.ipython_pre7\n",
    "def test_parser_handles_backslash_onion_pre7():\n",
    "    \"\"\"\n",
    "    again, onion info should be passed to smuggle function for FIRST \n",
    "    package\n",
    "    \"\"\"\n",
    "    line = \"\"\"smuggle foo as bar, \\\n",
    "                      baz as qux, \\\n",
    "                      spam, ham, \\\n",
    "                      eggs    # pip: foo==0.0.1\"\"\"\n",
    "    expected = expected_parser_output('foo', as_='bar', args_str='foo==0.0.1')\n",
    "    expected += f\"; {expected_parser_output('baz', as_='qux')}\"\n",
    "    expected += f\"; {expected_parser_output('spam')}\"\n",
    "    expected += f\"; {expected_parser_output('ham')}\"\n",
    "    expected += f\"; {expected_parser_output('eggs')}\"\n",
    "    assert matches_expected_output(expected, _parse_line(line))"
   ]
  },
  {
   "cell_type": "code",
   "execution_count": null,
   "metadata": {
    "ExecuteTime": {
     "end_time": "2021-07-21T23:36:15.527759Z",
     "start_time": "2021-07-21T23:36:15.520240Z"
    }
   },
   "outputs": [],
   "source": [
    "@mark.ipython_post7\n",
    "def test_parser_handles_backslash_onion_post7():\n",
    "    \"\"\"\n",
    "    again, onion info should be passed to smuggle function for FIRST \n",
    "    package\n",
    "    \"\"\"\n",
    "    line = \"\"\"smuggle foo as bar, \\\n",
    "                      baz as qux, \\\n",
    "                      spam, ham, \\\n",
    "                      eggs    # pip: foo==0.0.1\"\"\"\n",
    "    expected = expected_parser_output('foo', as_='bar', args_str='foo==0.0.1')\n",
    "    expected[0] = expected[0][:-1] + f\"; {expected_parser_output('baz', as_='qux')[0]}\"\n",
    "    expected[0] = expected[0][:-1] + f\"; {expected_parser_output('spam')[0]}\"\n",
    "    expected[0] = expected[0][:-1] + f\"; {expected_parser_output('ham')[0]}\"\n",
    "    expected[0] = expected[0][:-1] + f\"; {expected_parser_output('eggs')[0]}\"\n",
    "    assert matches_expected_output(expected, _parse_line(line))"
   ]
  },
  {
   "cell_type": "code",
   "execution_count": null,
   "metadata": {
    "ExecuteTime": {
     "end_time": "2021-07-21T23:36:15.536867Z",
     "start_time": "2021-07-21T23:36:15.530683Z"
    }
   },
   "outputs": [],
   "source": [
    "@mark.ipython_pre7\n",
    "def test_parser_handles_inconsistent_whitespace_pre7():\n",
    "    \"\"\"should handle weird amounts of whitespace that are *technically* valid\"\"\"\n",
    "    line = \"\"\"smuggle               foo     as    bar    \\\n",
    ",baz as qux  , \\\n",
    "          spam  .  ham    as    eggs                #   pip   :       foo==0.0.1    \"\"\"\n",
    "    expected = expected_parser_output('foo', as_='bar', args_str='foo==0.0.1')\n",
    "    expected += f\"; {expected_parser_output('baz', as_='qux')}\"\n",
    "    expected += f\"; {expected_parser_output('spam.ham', as_='eggs')}\"\n",
    "    # real parser adds back leading & trailing characters (including whitespace)\n",
    "    expected += \"    \"\n",
    "    assert matches_expected_output(expected, _parse_line(line))"
   ]
  },
  {
   "cell_type": "code",
   "execution_count": null,
   "metadata": {
    "ExecuteTime": {
     "end_time": "2021-07-21T23:36:15.547286Z",
     "start_time": "2021-07-21T23:36:15.539487Z"
    }
   },
   "outputs": [],
   "source": [
    "@mark.ipython_post7\n",
    "def test_parser_handles_inconsistent_whitespace_post7():\n",
    "    \"\"\"should handle weird amounts of whitespace that are *technically* valid\"\"\"\n",
    "    line = \"\"\"smuggle               foo     as    bar    \\\n",
    ",baz as qux  , \\\n",
    "          spam  .  ham    as    eggs                #   pip   :       foo==0.0.1    \"\"\"\n",
    "    expected = expected_parser_output('foo', as_='bar', args_str='foo==0.0.1')\n",
    "    expected[0] = expected[0][:-1] + f\"; {expected_parser_output('baz', as_='qux')[0]}\"\n",
    "    expected[0] = expected[0][:-1] + f\"; {expected_parser_output('spam.ham', as_='eggs')[0]}\"\n",
    "    # real parser adds back leading & trailing characters (including whitespace)\n",
    "    expected[0] = expected[0][:-1] + \"    \" + '\\n'\n",
    "    assert matches_expected_output(expected, _parse_line(line))"
   ]
  },
  {
   "cell_type": "code",
   "execution_count": null,
   "metadata": {
    "ExecuteTime": {
     "end_time": "2021-07-21T23:36:15.555123Z",
     "start_time": "2021-07-21T23:36:15.549990Z"
    }
   },
   "outputs": [],
   "source": [
    "def test_parser_handles_smuggle_from():\n",
    "    \"\"\"second possible broad syntax class\"\"\"\n",
    "    line = \"from foo smuggle bar\"\n",
    "    expected = expected_parser_output('foo.bar', as_='bar')\n",
    "    assert matches_expected_output(expected, _parse_line(line))"
   ]
  },
  {
   "cell_type": "code",
   "execution_count": null,
   "metadata": {
    "ExecuteTime": {
     "end_time": "2021-07-21T23:36:15.562134Z",
     "start_time": "2021-07-21T23:36:15.557682Z"
    }
   },
   "outputs": [],
   "source": [
    "def test_parser_handles_smuggle_from_onion():\n",
    "    \"\"\"second possible broad syntax class\"\"\"\n",
    "    line = \"from foo smuggle bar    # pip: foo==0.0.1\"\n",
    "    expected = expected_parser_output('foo.bar', as_='bar', args_str='foo==0.0.1')\n",
    "    assert matches_expected_output(expected, _parse_line(line))"
   ]
  },
  {
   "cell_type": "code",
   "execution_count": null,
   "metadata": {
    "ExecuteTime": {
     "end_time": "2021-07-21T23:36:15.570219Z",
     "start_time": "2021-07-21T23:36:15.564603Z"
    }
   },
   "outputs": [],
   "source": [
    "@mark.ipython_pre7\n",
    "def test_parser_handles_smuggle_from_multi_pre7():\n",
    "    line = \"from foo smuggle bar, baz as spam, qux\"\n",
    "    expected = expected_parser_output('foo.bar', as_='bar')\n",
    "    expected += f\"; {expected_parser_output('foo.baz', as_='spam')}\"\n",
    "    expected += f\"; {expected_parser_output('foo.qux', as_='qux')}\"\n",
    "    assert matches_expected_output(expected, _parse_line(line))"
   ]
  },
  {
   "cell_type": "code",
   "execution_count": null,
   "metadata": {
    "ExecuteTime": {
     "end_time": "2021-07-21T23:36:15.578614Z",
     "start_time": "2021-07-21T23:36:15.572825Z"
    }
   },
   "outputs": [],
   "source": [
    "@mark.ipython_post7\n",
    "def test_parser_handles_smuggle_from_multi_post7():\n",
    "    line = \"from foo smuggle bar, baz as spam, qux\"\n",
    "    expected = expected_parser_output('foo.bar', as_='bar')\n",
    "    expected[0] = expected[0][:-1] + f\"; {expected_parser_output('foo.baz', as_='spam')[0]}\"\n",
    "    expected[0] = expected[0][:-1] + f\"; {expected_parser_output('foo.qux', as_='qux')[0]}\"\n",
    "    assert matches_expected_output(expected, _parse_line(line))"
   ]
  },
  {
   "cell_type": "code",
   "execution_count": null,
   "metadata": {
    "ExecuteTime": {
     "end_time": "2021-07-21T23:36:15.587235Z",
     "start_time": "2021-07-21T23:36:15.581105Z"
    }
   },
   "outputs": [],
   "source": [
    "@mark.ipython_pre7\n",
    "def test_parser_handles_smuggle_from_multi_onion_pre7():\n",
    "    \"\"\"onion info should be passed to FIRST smuggle function\"\"\"\n",
    "    line = \"from foo smuggle bar, baz as spam, qux    # pip: foo==0.0.1\"\n",
    "    expected = expected_parser_output('foo.bar', as_='bar', args_str='foo==0.0.1')\n",
    "    expected += f\"; {expected_parser_output('foo.baz', as_='spam')}\"\n",
    "    expected += f\"; {expected_parser_output('foo.qux', as_='qux')}\"\n",
    "    assert matches_expected_output(expected, _parse_line(line))"
   ]
  },
  {
   "cell_type": "code",
   "execution_count": null,
   "metadata": {
    "ExecuteTime": {
     "end_time": "2021-07-21T23:36:15.597010Z",
     "start_time": "2021-07-21T23:36:15.590410Z"
    }
   },
   "outputs": [],
   "source": [
    "@mark.ipython_post7\n",
    "def test_parser_handles_smuggle_from_multi_onion_post7():\n",
    "    \"\"\"onion info should be passed to FIRST smuggle function\"\"\"\n",
    "    line = \"from foo smuggle bar, baz as spam, qux    # pip: foo==0.0.1\"\n",
    "    expected = expected_parser_output('foo.bar', as_='bar', args_str='foo==0.0.1')\n",
    "    expected[0] = expected[0][:-1] + f\"; {expected_parser_output('foo.baz', as_='spam')[0]}\"\n",
    "    expected[0] = expected[0][:-1] + f\"; {expected_parser_output('foo.qux', as_='qux')[0]}\"\n",
    "    assert matches_expected_output(expected, _parse_line(line))"
   ]
  },
  {
   "cell_type": "code",
   "execution_count": null,
   "metadata": {
    "ExecuteTime": {
     "end_time": "2021-07-21T23:36:15.617808Z",
     "start_time": "2021-07-21T23:36:15.612008Z"
    }
   },
   "outputs": [],
   "source": [
    "@mark.ipython_pre7\n",
    "def test_parser_handles_smuggle_from_backslash():\n",
    "    \"\"\"onion info should be passed to FIRST smuggle function\"\"\"\n",
    "    line = \"\"\"from foo smuggle bar, \\\n",
    "                               baz as spam, \\\n",
    "                               qux    # pip: foo==0.0.1\"\"\"\n",
    "    expected = expected_parser_output('foo.bar', as_='bar', args_str='foo==0.0.1')\n",
    "    expected += f\"; {expected_parser_output('foo.baz', as_='spam')}\"\n",
    "    expected += f\"; {expected_parser_output('foo.qux', as_='qux')}\"\n",
    "    assert matches_expected_output(expected, _parse_line(line))"
   ]
  },
  {
   "cell_type": "code",
   "execution_count": null,
   "metadata": {
    "ExecuteTime": {
     "end_time": "2021-07-21T23:36:15.626530Z",
     "start_time": "2021-07-21T23:36:15.621859Z"
    }
   },
   "outputs": [],
   "source": [
    "@mark.ipython_pre7\n",
    "def test_parser_handles_smuggle_from_parentheses():\n",
    "    line = \"\"\"from foo smuggle (bar, baz as spam, qux,)\"\"\"\n",
    "    # also tests trailing comma inside parentheses, which is valid\n",
    "    expected = expected_parser_output('foo.bar', as_='bar')\n",
    "    expected += f\"; {expected_parser_output('foo.baz', as_='spam')}\"\n",
    "    expected += f\"; {expected_parser_output('foo.qux', as_='qux')}\"\n",
    "    assert matches_expected_output(expected, _parse_line(line))"
   ]
  },
  {
   "cell_type": "code",
   "execution_count": null,
   "metadata": {
    "ExecuteTime": {
     "end_time": "2021-07-21T23:36:15.635477Z",
     "start_time": "2021-07-21T23:36:15.629321Z"
    }
   },
   "outputs": [],
   "source": [
    "@mark.ipython_pre7\n",
    "def test_parser_handles_smuggle_from_parentheses_multiline_1():\n",
    "    line = \"\"\"from foo smuggle (bar, \n",
    "                                baz as spam, \n",
    "                                qux)\"\"\"\n",
    "    expected = expected_parser_output('foo.bar', as_='bar')\n",
    "    expected += f\"; {expected_parser_output('foo.baz', as_='spam')}\"\n",
    "    expected += f\"; {expected_parser_output('foo.qux', as_='qux')}\"\n",
    "    assert matches_expected_output(expected, _parse_line(line))"
   ]
  },
  {
   "cell_type": "code",
   "execution_count": null,
   "metadata": {
    "ExecuteTime": {
     "end_time": "2021-07-21T23:36:15.643872Z",
     "start_time": "2021-07-21T23:36:15.638499Z"
    }
   },
   "outputs": [],
   "source": [
    "@mark.ipython_pre7\n",
    "def test_parser_handles_smuggle_from_parentheses_multiline_1_onion_1():\n",
    "    line = \"\"\"from foo smuggle (bar,    # pip: foo==0.0.1\n",
    "                                baz as spam, \n",
    "                                qux)\"\"\"\n",
    "    expected = expected_parser_output('foo.bar', as_='bar', args_str='foo==0.0.1')\n",
    "    expected += f\"; {expected_parser_output('foo.baz', as_='spam')}\"\n",
    "    expected += f\"; {expected_parser_output('foo.qux', as_='qux')}\"\n",
    "    assert matches_expected_output(expected, _parse_line(line))"
   ]
  },
  {
   "cell_type": "code",
   "execution_count": null,
   "metadata": {
    "ExecuteTime": {
     "end_time": "2021-07-21T23:36:15.652188Z",
     "start_time": "2021-07-21T23:36:15.646154Z"
    }
   },
   "outputs": [],
   "source": [
    "@mark.ipython_pre7\n",
    "def test_parser_handles_smuggle_from_parentheses_multiline_1_onion_2():\n",
    "    line = \"\"\"from foo smuggle (bar, \n",
    "                                baz as spam, \n",
    "                                qux)    # pip: foo==0.0.1\"\"\"\n",
    "    expected = expected_parser_output('foo.bar', as_='bar', args_str='foo==0.0.1')\n",
    "    expected += f\"; {expected_parser_output('foo.baz', as_='spam')}\"\n",
    "    expected += f\"; {expected_parser_output('foo.qux', as_='qux')}\"\n",
    "    assert matches_expected_output(expected, _parse_line(line))"
   ]
  },
  {
   "cell_type": "code",
   "execution_count": null,
   "metadata": {
    "ExecuteTime": {
     "end_time": "2021-07-21T23:36:15.660367Z",
     "start_time": "2021-07-21T23:36:15.654909Z"
    }
   },
   "outputs": [],
   "source": [
    "@mark.ipython_pre7\n",
    "def test_parser_handles_smuggle_from_parentheses_multiline_2():\n",
    "    line = \"\"\"from foo smuggle (\n",
    "                  bar, \n",
    "                  baz as spam, \n",
    "                  qux\n",
    "              )\"\"\"\n",
    "    expected = expected_parser_output('foo.bar', as_='bar')\n",
    "    expected += f\"; {expected_parser_output('foo.baz', as_='spam')}\"\n",
    "    expected += f\"; {expected_parser_output('foo.qux', as_='qux')}\"\n",
    "    assert matches_expected_output(expected, _parse_line(line))"
   ]
  },
  {
   "cell_type": "code",
   "execution_count": null,
   "metadata": {
    "ExecuteTime": {
     "end_time": "2021-07-21T23:36:15.668724Z",
     "start_time": "2021-07-21T23:36:15.663200Z"
    }
   },
   "outputs": [],
   "source": [
    "@mark.ipython_pre7\n",
    "def test_parser_handles_smuggle_from_parentheses_multiline_2_onion_1():\n",
    "    line = \"\"\"from foo smuggle (    # pip: foo==0.0.1\n",
    "                  bar, \n",
    "                  baz as spam, \n",
    "                  qux\n",
    "              )\"\"\"\n",
    "    expected = expected_parser_output('foo.bar', as_='bar', args_str='foo==0.0.1')\n",
    "    expected += f\"; {expected_parser_output('foo.baz', as_='spam')}\"\n",
    "    expected += f\"; {expected_parser_output('foo.qux', as_='qux')}\"\n",
    "    assert matches_expected_output(expected, _parse_line(line))"
   ]
  },
  {
   "cell_type": "code",
   "execution_count": null,
   "metadata": {
    "ExecuteTime": {
     "end_time": "2021-07-21T23:36:15.679009Z",
     "start_time": "2021-07-21T23:36:15.672400Z"
    }
   },
   "outputs": [],
   "source": [
    "@mark.ipython_pre7\n",
    "def test_parser_handles_smuggle_from_parentheses_multiline_2_onion_2():\n",
    "    line = \"\"\"from foo smuggle (\n",
    "                  bar, \n",
    "                  baz as spam, \n",
    "                  qux\n",
    "              )    # pip: foo==0.0.1\"\"\"\n",
    "    expected = expected_parser_output('foo.bar', as_='bar', args_str='foo==0.0.1')\n",
    "    expected += f\"; {expected_parser_output('foo.baz', as_='spam')}\"\n",
    "    expected += f\"; {expected_parser_output('foo.qux', as_='qux')}\"\n",
    "    assert matches_expected_output(expected, _parse_line(line))"
   ]
  },
  {
   "cell_type": "code",
   "execution_count": null,
   "metadata": {
    "ExecuteTime": {
     "end_time": "2021-07-21T23:36:15.692354Z",
     "start_time": "2021-07-21T23:36:15.683305Z"
    }
   },
   "outputs": [],
   "source": [
    "@mark.ipython_pre7\n",
    "def test_parser_handles_smuggle_from_parentheses_multiline_2_onion_2_comments():\n",
    "    line = \"\"\"from foo smuggle (    # unrelated comment on first line\n",
    "                  bar,    # unrelated comment on package name line\n",
    "                  baz as spam, \n",
    "                  # unrelated comment on its own line\n",
    "                  qux\n",
    "              )    # pip: foo==0.0.1    # unrelated comment after onion\"\"\"\n",
    "    expected = expected_parser_output('foo.bar', as_='bar', args_str='foo==0.0.1')\n",
    "    expected += f\"; {expected_parser_output('foo.baz', as_='spam')}\"\n",
    "    expected += f\"; {expected_parser_output('foo.qux', as_='qux')}\"\n",
    "    expected += \"    # unrelated comment after onion\"\n",
    "    assert matches_expected_output(expected, _parse_line(line))"
   ]
  },
  {
   "cell_type": "code",
   "execution_count": null,
   "metadata": {
    "ExecuteTime": {
     "end_time": "2021-07-21T23:36:15.699832Z",
     "start_time": "2021-07-21T23:36:15.694935Z"
    }
   },
   "outputs": [],
   "source": [
    "@mark.ipython_pre7\n",
    "def test_parser_handles_smuggle_semicolons():\n",
    "    \"\"\"also combines multiple elements from prior tests\"\"\"\n",
    "    line = \"\"\"smuggle foo; smuggle bar as baz; \\\n",
    "              from spam smuggle eggs; \\\n",
    "              from qux smuggle quux as corge    # pip: qux-package==0.0.1\"\"\"\n",
    "    expected = expected_parser_output('foo')\n",
    "    expected += f\"; {expected_parser_output('bar', as_='baz')}\"\n",
    "    expected += f\"; {expected_parser_output('spam.eggs', as_='eggs')}\"\n",
    "    expected += f\"; {expected_parser_output('qux.quux', as_='corge', args_str='qux-package==0.0.1')}\"\n",
    "    assert matches_expected_output(expected, _parse_line(line))"
   ]
  },
  {
   "cell_type": "code",
   "execution_count": null,
   "metadata": {
    "ExecuteTime": {
     "end_time": "2021-07-21T23:36:15.707658Z",
     "start_time": "2021-07-21T23:36:15.702100Z"
    }
   },
   "outputs": [],
   "source": [
    "def test_prompt_input_yes():\n",
    "    \"\"\"mock user input of 'yes'\"\"\"\n",
    "    prompt_text = ''\n",
    "    \n",
    "    def _mock_input(prompt=None):\n",
    "        nonlocal prompt_text\n",
    "        prompt_text = prompt\n",
    "        return 'yes'\n",
    "    \n",
    "    try:\n",
    "        davos.core.core.input = _mock_input\n",
    "        result = davos.core.core.prompt_input('prompt question?')\n",
    "        assert result is True, f\"Expected: True\\nFound: {result}\"\n",
    "        assert prompt_text.strip().endswith('[y/n]'), (\n",
    "            f\"Expected prompt to end with '[y/n]'\\nFound: {prompt_text}\"\n",
    "        )\n",
    "    finally:\n",
    "        davos.core.core.input = builtins.input"
   ]
  },
  {
   "cell_type": "code",
   "execution_count": null,
   "metadata": {
    "ExecuteTime": {
     "end_time": "2021-07-21T23:36:15.716927Z",
     "start_time": "2021-07-21T23:36:15.710716Z"
    }
   },
   "outputs": [],
   "source": [
    "def test_prompt_input_no():\n",
    "    \"\"\"mock user input of 'no'\"\"\"\n",
    "    prompt_text = ''\n",
    "    \n",
    "    def _mock_input(prompt=None):\n",
    "        nonlocal prompt_text\n",
    "        prompt_text = prompt\n",
    "        return 'no'\n",
    "    \n",
    "    try:\n",
    "        davos.core.core.input = _mock_input\n",
    "        result = davos.core.core.prompt_input('prompt question?')\n",
    "        assert result is False, f\"Expected: False\\nFound: {result}\"\n",
    "        assert prompt_text.strip().endswith('[y/n]'), (\n",
    "            f\"Expected prompt to end with '[y/n]'\\nFound: {prompt_text}\"\n",
    "        )\n",
    "    finally:\n",
    "        davos.core.core.input = builtins.input"
   ]
  },
  {
   "cell_type": "code",
   "execution_count": null,
   "metadata": {
    "ExecuteTime": {
     "end_time": "2021-07-21T23:36:15.724106Z",
     "start_time": "2021-07-21T23:36:15.719239Z"
    }
   },
   "outputs": [],
   "source": [
    "def test_prompt_input_default_accept():\n",
    "    \"\"\"\n",
    "    mock user pressing return without entering any text when default \n",
    "    value *IS* set\n",
    "    \"\"\"\n",
    "    prompt_text = ''\n",
    "    \n",
    "    def _mock_input(prompt=None):\n",
    "        nonlocal prompt_text\n",
    "        prompt_text = prompt\n",
    "        return ''\n",
    "    \n",
    "    try:\n",
    "        davos.core.core.input = _mock_input\n",
    "        result = davos.core.core.prompt_input('prompt question?', default='y')\n",
    "        assert result is True, f\"Expected: True\\nFound: {result}\"\n",
    "        assert prompt_text.strip().endswith('[Y/n]'), (\n",
    "            f\"Expected prompt to end with '[Y/n]'\\nFound: {prompt_text}\"\n",
    "        )\n",
    "    finally:\n",
    "        davos.core.core.input = builtins.input"
   ]
  },
  {
   "cell_type": "code",
   "execution_count": null,
   "metadata": {
    "ExecuteTime": {
     "end_time": "2021-07-21T23:36:15.732855Z",
     "start_time": "2021-07-21T23:36:15.726089Z"
    }
   },
   "outputs": [],
   "source": [
    "def test_prompt_input_default_reject():\n",
    "    \"\"\"\n",
    "    mock user pressing return without entering any text, when default \n",
    "    value *IS NOT* set\n",
    "    \"\"\"\n",
    "    prompt_text = ''\n",
    "    inputs = ['', '', '', 'y']\n",
    "    input_ix = -1\n",
    "    \n",
    "    def _mock_input(prompt=None):\n",
    "        nonlocal prompt_text, input_ix\n",
    "        prompt_text = prompt\n",
    "        input_ix += 1\n",
    "        return inputs[input_ix]\n",
    "    \n",
    "    try:\n",
    "        davos.core.core.input = _mock_input\n",
    "        result = davos.core.core.prompt_input('prompt question?', default=None)\n",
    "        assert result is True, f\"Expected: True\\nFound: {result}\"\n",
    "        assert prompt_text.strip().endswith('[y/n]'), (\n",
    "            f\"Expected prompt to end with '[y/n]'\\nFound: {prompt_text}\"\n",
    "        )\n",
    "        assert input_ix == 3, (\n",
    "            \"Expected to cycle through empty inputs until reaching non-empty \"\n",
    "            f\"string. Input was accepted when input_ix=={input_ix}\"\n",
    "        )\n",
    "    finally:\n",
    "        davos.core.core.input = builtins.input"
   ]
  },
  {
   "cell_type": "code",
   "execution_count": null,
   "metadata": {
    "ExecuteTime": {
     "end_time": "2021-07-21T23:36:15.739943Z",
     "start_time": "2021-07-21T23:36:15.735232Z"
    }
   },
   "outputs": [],
   "source": [
    "def test_prompt_input_default_invalid():\n",
    "    \"\"\"\n",
    "    should raise ValueError if the value passed to 'default' is not \n",
    "    valid\n",
    "    \"\"\"\n",
    "    def _mock_input(prompt=None):\n",
    "        return 'y'\n",
    "    try:\n",
    "        davos.core.core.input = _mock_input\n",
    "        with raises(ValueError):\n",
    "            davos.core.core.prompt_input('prompt question?', default='Q')\n",
    "    finally:\n",
    "        davos.core.core.input = builtins.input"
   ]
  },
  {
   "cell_type": "code",
   "execution_count": null,
   "metadata": {
    "ExecuteTime": {
     "end_time": "2021-07-21T23:36:15.748221Z",
     "start_time": "2021-07-21T23:36:15.742316Z"
    }
   },
   "outputs": [],
   "source": [
    "def test_prompt_input_interrupt_accept():\n",
    "    \"\"\"\n",
    "    mock user pressing raising KeyboardInterrupt when interrupt value \n",
    "    *IS* set\n",
    "    \"\"\"\n",
    "    prompt_text = ''\n",
    "    \n",
    "    def _mock_input(prompt=None):\n",
    "        nonlocal prompt_text\n",
    "        prompt_text = prompt\n",
    "        raise KeyboardInterrupt()\n",
    "    \n",
    "    try:\n",
    "        davos.core.core.input = _mock_input\n",
    "        result = davos.core.core.prompt_input('prompt question?', \n",
    "                                              default='no', \n",
    "                                              interrupt='y')\n",
    "        assert result is True, f\"Expected: True\\nFound: {result}\"\n",
    "        assert prompt_text.strip().endswith('[y/N]'), (\n",
    "            f\"Expected prompt to end with '[y/N]'\\nFound: {prompt_text}\"\n",
    "        )\n",
    "    finally:\n",
    "        davos.core.core.input = builtins.input"
   ]
  },
  {
   "cell_type": "code",
   "execution_count": null,
   "metadata": {
    "ExecuteTime": {
     "end_time": "2021-07-21T23:36:15.756514Z",
     "start_time": "2021-07-21T23:36:15.750767Z"
    }
   },
   "outputs": [],
   "source": [
    "def test_prompt_input_interrupt_raise():\n",
    "    \"\"\"\n",
    "    mock user pressing raising KeyboardInterrupt when interrupt value \n",
    "    *IS NOT* set\n",
    "    \"\"\"\n",
    "    prompt_text = ''\n",
    "    \n",
    "    def _mock_input(prompt=None):\n",
    "        nonlocal prompt_text\n",
    "        prompt_text = prompt\n",
    "        raise KeyboardInterrupt()\n",
    "    \n",
    "    try:\n",
    "        davos.core.core.input = _mock_input\n",
    "        with raises(KeyboardInterrupt):\n",
    "            result = davos.core.core.prompt_input('prompt question?', \n",
    "                                                  default='yes')\n",
    "        assert prompt_text.strip().endswith('[Y/n]'), (\n",
    "            f\"Expected prompt to end with '[Y/n]'\\nFound: {prompt_text}\"\n",
    "        )\n",
    "    finally:\n",
    "        davos.core.core.input = builtins.input"
   ]
  },
  {
   "cell_type": "code",
   "execution_count": null,
   "metadata": {
    "ExecuteTime": {
     "end_time": "2021-07-21T23:36:15.763331Z",
     "start_time": "2021-07-21T23:36:15.758525Z"
    }
   },
   "outputs": [],
   "source": [
    "def test_prompt_input_interrupt_invalid():\n",
    "    \"\"\"\n",
    "    should raise ValueError if the value passed to 'interrupt' is not \n",
    "    valid\n",
    "    \"\"\"\n",
    "    def _mock_input(prompt=None):\n",
    "        return 'y'\n",
    "    try:\n",
    "        davos.core.core.input = _mock_input\n",
    "        with raises(ValueError):\n",
    "            davos.core.core.prompt_input('prompt question?', interrupt='Z')\n",
    "    finally:\n",
    "        davos.core.core.input = builtins.input"
   ]
  },
  {
   "cell_type": "code",
   "execution_count": null,
   "metadata": {
    "ExecuteTime": {
     "end_time": "2021-07-21T23:36:15.769121Z",
     "start_time": "2021-07-21T23:36:15.765525Z"
    }
   },
   "outputs": [],
   "source": [
    "def test_run_shell_command_simple():\n",
    "    stdout = davos.core.core.run_shell_command('echo \"hello world!\"', \n",
    "                                               live_stdout=False)\n",
    "    stdout = stdout.strip()\n",
    "    assert stdout == 'hello world!', f\"Expected: hello world!\\nFound: {stdout}\""
   ]
  },
  {
   "cell_type": "code",
   "execution_count": null,
   "metadata": {
    "ExecuteTime": {
     "end_time": "2021-07-21T23:36:15.775948Z",
     "start_time": "2021-07-21T23:36:15.771583Z"
    }
   },
   "outputs": [],
   "source": [
    "def test_run_shell_command_multiword():\n",
    "    quote = (\"Strictly speaking, I didn't do the theiving. That would be the \"\n",
    "             \"pirates. I just moved what they stole from one place to another\")\n",
    "    stdout = davos.core.core.run_shell_command(f'echo \"{quote}\"', \n",
    "                                               live_stdout=False)\n",
    "    stdout = stdout.strip()\n",
    "    assert stdout == quote, f'Expected:\\n\"{quote}\"\\nFound:\\n\"{stdout}\"'"
   ]
  },
  {
   "cell_type": "code",
   "execution_count": null,
   "metadata": {
    "ExecuteTime": {
     "end_time": "2021-07-21T23:36:15.783098Z",
     "start_time": "2021-07-21T23:36:15.778081Z"
    }
   },
   "outputs": [],
   "source": [
    "def test_run_shell_command_failure():\n",
    "    expected_output = '/bin/bash: blahblahblah: command not found'\n",
    "    with raises(CalledProcessError) as excinfo:\n",
    "        davos.core.core.run_shell_command('/bin/bash -c \"blahblahblah\"', \n",
    "                                          live_stdout=True)\n",
    "    retcode = excinfo.value.returncode\n",
    "    output = excinfo.value.output.strip()\n",
    "    assert retcode == 127, f\"Expected return code 127, found {retcode}\"\n",
    "    assert output == expected_output, (\n",
    "        f'Expected output: \"{expected_output}\"\\nFound: \"{output}\"'\n",
    "    )"
   ]
  },
  {
   "cell_type": "code",
   "execution_count": null,
   "metadata": {},
   "outputs": [],
   "source": [
    "def test_smuggle_davos_raises():\n",
    "    \"\"\"trying to smuggle davos itself should raise an error\"\"\"\n",
    "    with raises(davos.core.exceptions.TheNightIsDarkAndFullOfTerrors):\n",
    "        smuggle davos"
   ]
  },
  {
   "cell_type": "code",
   "execution_count": null,
   "metadata": {
    "ExecuteTime": {
     "end_time": "2021-07-21T23:36:15.794623Z",
     "start_time": "2021-07-21T23:36:15.785593Z"
    }
   },
   "outputs": [],
   "source": [
    "@mark.timeout(30)\n",
    "def test_smuggle_pip_new():\n",
    "    \"\"\"\n",
    "    smuggle a package that does't exist locally, using 'pip' as the \n",
    "    installer program\n",
    "    \"\"\"\n",
    "    assert not is_installed('ppca')\n",
    "    smuggle ppca    # pip: ppca>=0.0.4\n",
    "    assert isinstance(ppca, types.ModuleType), (\n",
    "        \"Expected smuggled 'ppca' object to be a module. type(ppca) is \"\n",
    "        f\"{type(ppca)}\"\n",
    "    )\n",
    "    assert hasattr(ppca, 'PPCA')\n",
    "    assert is_installed('ppca>=0.0.4'), (\n",
    "        \"installed 'ppca' version does not match version specified in onion \"\n",
    "        \"comment\"\n",
    "    )\n",
    "    assert davos.config.smuggled['ppca'] == 'pip;ppca>=0.0.4', (\n",
    "        f\"Expected: 'pip;ppca>=0.0.4'\\nFound: {davos.config.smuggled['ppca']}\"\n",
    "    )"
   ]
  },
  {
   "cell_type": "code",
   "execution_count": null,
   "metadata": {
    "ExecuteTime": {
     "end_time": "2021-07-21T23:36:15.806486Z",
     "start_time": "2021-07-21T23:36:15.797133Z"
    }
   },
   "outputs": [],
   "source": [
    "@mark.timeout(30)\n",
    "def test_smuggle_from_pip_new():\n",
    "    \"\"\"\n",
    "    smuggle a single name from a package that doesn't exist locally, \n",
    "    using 'pip' as the installer program\n",
    "    \"\"\"\n",
    "    assert not is_installed('paramiko')\n",
    "    from paramiko smuggle SSHClient    # pip: paramiko==2.7.2\n",
    "    assert inspect.isclass(SSHClient), (\n",
    "        \"Expected 'paramiko.SSHClient' object to be a class. \"\n",
    "        f\"type(SSHClient) is {type(SSHClient)}\"\n",
    "    )\n",
    "    assert is_installed('paramiko==2.7.2'), (\n",
    "        \"installed 'paramiko' version does not match version specified in \"\n",
    "        \"onion comment\"\n",
    "    )\n",
    "    assert davos.config.smuggled['paramiko'] == 'pip;paramiko==2.7.2', (\n",
    "        \"Expected: 'pip;paramiko==2.7.2'\\nFound: \"\n",
    "        f\"{davos.config.smuggled['paramiko']}\"\n",
    "    )"
   ]
  },
  {
   "cell_type": "code",
   "execution_count": null,
   "metadata": {
    "ExecuteTime": {
     "end_time": "2021-07-21T23:36:15.817423Z",
     "start_time": "2021-07-21T23:36:15.808825Z"
    }
   },
   "outputs": [],
   "source": [
    "@mark.timeout(30)\n",
    "def test_smuggle_previously_installed():\n",
    "    \"\"\"\n",
    "    smuggle a package that was already installed locally, but whose \n",
    "    local version does not match the requested version\n",
    "    \"\"\"\n",
    "    assert is_installed('fastdtw==0.3.4')\n",
    "    assert not is_imported('fastdtw')\n",
    "    smuggle fastdtw    # pip: fastdtw==0.3.2\n",
    "    assert isinstance(fastdtw, types.ModuleType), (\n",
    "        \"Expected smuggled 'fastdtw' object to be a module. type(fastdtw) is \"\n",
    "        f\"{type(fastdtw)}\"\n",
    "    )\n",
    "    assert is_installed('fastdtw==0.3.2')\n",
    "    assert is_imported('fastdtw')\n",
    "    assert davos.config.smuggled['fastdtw'] == 'pip;fastdtw==0.3.2', (\n",
    "        \"Expected: 'pip;fastdtw==0.3.2'\\nFound: \"\n",
    "        f\"{davos.config.smuggled['fastdtw']}\"\n",
    "    )"
   ]
  },
  {
   "cell_type": "code",
   "execution_count": null,
   "metadata": {
    "ExecuteTime": {
     "end_time": "2021-07-21T23:36:15.826353Z",
     "start_time": "2021-07-21T23:36:15.819450Z"
    }
   },
   "outputs": [],
   "source": [
    "@mark.timeout(30)\n",
    "def test_smuggle_previously_imported():\n",
    "    \"\"\"\n",
    "    smuggle a new version of a package that was already imported during \n",
    "    the current interpreter session\n",
    "    \"\"\"\n",
    "    import tqdm\n",
    "    assert tqdm.__version__ == '4.41.1'\n",
    "    smuggle tqdm    # pip: tqdm==4.45.0\n",
    "    assert is_installed('tqdm==4.45.0')\n",
    "    assert tqdm is sys.modules['tqdm']\n",
    "    assert tqdm.__version__ == '4.45.0'\n",
    "    assert davos.config.smuggled['tqdm'] == 'pip;tqdm==4.45.0', (\n",
    "        f\"Expected: 'pip;tqdm==4.45.0'\\nFound: {davos.config.smuggled['tqdm']}\"\n",
    "    )"
   ]
  },
  {
   "cell_type": "code",
   "execution_count": null,
   "metadata": {
    "ExecuteTime": {
     "end_time": "2021-07-21T23:36:15.840858Z",
     "start_time": "2021-07-21T23:36:15.829349Z"
    }
   },
   "outputs": [],
   "source": [
    "@mark.timeout(60)\n",
    "def test_smuggle_github_ref():\n",
    "    \"\"\"smuggle a specific VCS revision of a package from GitHub\"\"\"\n",
    "    assert not is_installed('hypertools')\n",
    "    smuggle hypertools as hyp    # pip: git+https://github.com/ContextLab/hypertools.git@36c12fd#egg=hypertools\n",
    "    assert is_installed('hypertools==0.6.3')\n",
    "    assert hyp is sys.modules['hypertools']\n",
    "    assert isinstance(hyp, types.ModuleType)\n",
    "    assert hyp is sys.modules['hypertools']\n",
    "    assert hasattr(hyp, 'DataGeometry')\n",
    "    assert hyp.__version__ == '0.6.3'\n",
    "    expected_cache_key = 'pip;git+https://github.com/ContextLab/hypertools.git@36c12fd#egg=hypertools'\n",
    "    assert davos.config.smuggled['hypertools'] == expected_cache_key, (\n",
    "        f\"Expected: '{expected_cache_key}'\\nFound: \"\n",
    "        f\"{davos.config.smuggled['hypertools']}\"\n",
    "    )"
   ]
  },
  {
   "cell_type": "code",
   "execution_count": null,
   "metadata": {
    "ExecuteTime": {
     "end_time": "2021-07-21T23:36:15.855074Z",
     "start_time": "2021-07-21T23:36:15.842939Z"
    }
   },
   "outputs": [],
   "source": [
    "@mark.timeout(30)\n",
    "def test_smuggle_github_editable():\n",
    "    \"\"\"\n",
    "    smuggle a package from a VCS URL in 'editable' mode, installing its \n",
    "    source into $PWD/gh_clones\n",
    "    \"\"\"\n",
    "    assert not is_installed('quail')\n",
    "    dest_path = Path('gh_clones/quail').resolve()\n",
    "    assert not dest_path.is_dir()\n",
    "    smuggle quail    # pip: -e git+https://github.com/ContextLab/quail.git@v0.2.0#egg=quail --src gh_clones\n",
    "    assert dest_path.is_dir()\n",
    "    assert str(dest_path) in sys.path\n",
    "    assert isinstance(quail, types.ModuleType)\n",
    "    assert hasattr(quail, 'Egg')\n",
    "    assert is_installed('quail==0.2.0')\n",
    "    assert is_imported('quail')\n",
    "    expected_cache_key = 'pip;-e;git+https://github.com/ContextLab/quail.git@v0.2.0#egg=quail;--src;gh_clones'\n",
    "    assert davos.config.smuggled['quail'] == expected_cache_key, (\n",
    "        f\"Expected: '{expected_cache_key}'\\nFound: \"\n",
    "        f\"{davos.config.smuggled['quail']}\"\n",
    "    )"
   ]
  },
  {
   "cell_type": "code",
   "execution_count": null,
   "metadata": {
    "ExecuteTime": {
     "end_time": "2021-07-21T23:36:15.867224Z",
     "start_time": "2021-07-21T23:36:15.858069Z"
    }
   },
   "outputs": [],
   "source": [
    "@mark.timeout(300)\n",
    "def test_smuggle_github_subdirectory():\n",
    "    \"\"\"\n",
    "    smuggle a package tthat exists as a subdirectory of a larger GitHub \n",
    "    repository\n",
    "    \"\"\"\n",
    "    assert not is_installed('sherlock_helpers')\n",
    "    with capture_ipython_display():\n",
    "        # displays an IPython object on import, which \n",
    "        # contextlib.redirect_stdout doesn't catch\n",
    "        smuggle sherlock_helpers    # pip: git+https://github.com/ContextLab/sherlock-topic-model-paper.git@v1.0#subdirectory=code/sherlock_helpers\n",
    "    assert isinstance(sherlock_helpers, types.ModuleType)\n",
    "    assert hasattr(sherlock_helpers, 'github_url')\n",
    "    assert sherlock_helpers.__version__ == '0.0.1'\n",
    "    assert is_installed('sherlock_helpers==0.0.1')\n",
    "    assert is_imported('sherlock_helpers')\n",
    "    expected_cache_key = 'pip;git+https://github.com/ContextLab/sherlock-topic-model-paper.git@v1.0#subdirectory=code/sherlock_helpers'\n",
    "    assert davos.config.smuggled['sherlock_helpers'] == expected_cache_key, (\n",
    "        f\"Expected: '{expected_cache_key}'\\nFound: \"\n",
    "        f\"{davos.config.smuggled['sherlock_helpers']}\"\n",
    "    )"
   ]
  },
  {
   "cell_type": "code",
   "execution_count": null,
   "metadata": {},
   "outputs": [],
   "source": [
    "@mark.timeout(30)\n",
    "def test_smuggle_confirm_install_yes():\n",
    "    \"\"\"\n",
    "    enable confirm_install and ensure user input is prompted before \n",
    "    installing a smuggled package\n",
    "    \"\"\"\n",
    "    prompt_input_called = False\n",
    "    \n",
    "    def _mock_prompt_input(prompt, default=None, interrupt=None):\n",
    "        nonlocal prompt_input_called\n",
    "        prompt_input_called = True\n",
    "        return True\n",
    "    \n",
    "    old_prompt_input = davos.core.core.prompt_input\n",
    "    assert not is_installed('spur')\n",
    "\n",
    "    try:\n",
    "        davos.config.confirm_install = True\n",
    "        davos.core.core.prompt_input = _mock_prompt_input\n",
    "        \n",
    "        smuggle spur\n",
    "        \n",
    "        assert prompt_input_called, \"mocked prompt_input function not called\"\n",
    "        assert is_installed('spur')\n",
    "        assert is_imported('spur')\n",
    "        assert spur is sys.modules['spur']\n",
    "        \n",
    "    finally:\n",
    "        davos.config.confirm_install = False\n",
    "        davos.core.core.prompt_input = old_prompt_input"
   ]
  },
  {
   "cell_type": "code",
   "execution_count": null,
   "metadata": {},
   "outputs": [],
   "source": [
    "@mark.timeout(30)\n",
    "def test_smuggle_confirm_install_no_raises():\n",
    "    \"\"\"\n",
    "    when confirm_install is enabled, \"no\" response should raise an error \n",
    "    and *not* install or import the package\n",
    "    \"\"\"\n",
    "    prompt_input_called = False\n",
    "    \n",
    "    def _mock_prompt_input(prompt, default=None, interrupt=None):\n",
    "        nonlocal prompt_input_called\n",
    "        prompt_input_called = True\n",
    "        return False\n",
    "    \n",
    "    old_prompt_input = davos.core.core.prompt_input\n",
    "    assert not is_installed('spurplus')\n",
    "\n",
    "    try:\n",
    "        davos.config.confirm_install = True\n",
    "        davos.core.core.prompt_input = _mock_prompt_input\n",
    "        \n",
    "        with raises(davos.core.exceptions.SmugglerError):\n",
    "            smuggle spurplus\n",
    "        \n",
    "        assert prompt_input_called, \"mocked prompt_input function not called\"\n",
    "        assert not is_installed('spurplus')\n",
    "        \n",
    "    finally:\n",
    "        davos.config.confirm_install = False\n",
    "        davos.core.core.prompt_input = old_prompt_input"
   ]
  },
  {
   "cell_type": "code",
   "execution_count": null,
   "metadata": {
    "ExecuteTime": {
     "end_time": "2021-07-21T23:36:29.346578Z",
     "start_time": "2021-07-21T23:36:15.871668Z"
    },
    "scrolled": false
   },
   "outputs": [],
   "source": [
    "run_tests()"
   ]
  }
 ],
 "metadata": {
  "kernelspec": {
   "display_name": "kernel-env",
   "language": "python",
   "name": "kernel-env"
  },
  "language_info": {
   "codemirror_mode": {
    "name": "ipython",
    "version": 3
   },
   "file_extension": ".py",
   "mimetype": "text/x-python",
   "name": "python",
   "nbconvert_exporter": "python",
   "pygments_lexer": "ipython3",
   "version": "3.8.10"
  }
 },
 "nbformat": 4,
 "nbformat_minor": 2
}
